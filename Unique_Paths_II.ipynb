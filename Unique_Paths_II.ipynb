{
 "cells": [
  {
   "cell_type": "code",
   "execution_count": 1,
   "id": "2e3bc561-6674-4512-8a04-c6f765db2a96",
   "metadata": {},
   "outputs": [],
   "source": [
    "from typing import List"
   ]
  },
  {
   "cell_type": "code",
   "execution_count": 28,
   "id": "2aa271ad-eeb9-4884-aaf5-d7e18f4ddcb9",
   "metadata": {},
   "outputs": [],
   "source": [
    "class Solution:\n",
    "    def uniquePathsWithObstacles(self, obstacleGrid: List[List[int]]) -> int:\n",
    "        grid = obstacleGrid\n",
    "        for row in range(len(grid)):\n",
    "            for column in range(len(grid[0])):\n",
    "                if grid[row][column] == 1:\n",
    "                    grid[row][column] = -1\n",
    "    \n",
    "        # First row = 1\n",
    "        col_val = 1\n",
    "        for column in range(len(grid[0])):\n",
    "            if grid[0][column] == -1:\n",
    "                col_val = 0\n",
    "                continue\n",
    "            grid[0][column] = col_val\n",
    "        \n",
    "        # First col = 1\n",
    "        row_val = 1\n",
    "        for row in range(len(grid)):\n",
    "            if grid[row][0] == -1:\n",
    "                row_val = 0\n",
    "                continue\n",
    "            grid[row][0] = row_val\n",
    "        \n",
    "        for row in range(1, len(grid)):\n",
    "            for column in range(1, len(grid[0])):\n",
    "                if grid[row][column] == -1:\n",
    "                    continue\n",
    "                elif grid[row -1][column] == -1 or grid[row][column - 1] == -1:\n",
    "                    grid[row][column] = max(grid[row -1][column], grid[row][column - 1])\n",
    "                else:\n",
    "                    grid[row][column] = (grid[row -1][column] + grid[row][column - 1]) \n",
    "        return grid[-1][-1]\n",
    "        return max(0, grid[-1][-1])"
   ]
  },
  {
   "cell_type": "code",
   "execution_count": 29,
   "id": "50f18b80-495c-4937-94b8-094f4ebdcebc",
   "metadata": {},
   "outputs": [
    {
     "data": {
      "text/plain": [
       "[[-1]]"
      ]
     },
     "execution_count": 29,
     "metadata": {},
     "output_type": "execute_result"
    }
   ],
   "source": [
    "s = Solution()\n",
    "s.uniquePathsWithObstacles(obstacleGrid = [[1]])"
   ]
  },
  {
   "cell_type": "code",
   "execution_count": 4,
   "id": "acc25d8c-8a5a-463f-871e-d5faabfa65fe",
   "metadata": {},
   "outputs": [
    {
     "data": {
      "text/plain": [
       "1"
      ]
     },
     "execution_count": 4,
     "metadata": {},
     "output_type": "execute_result"
    }
   ],
   "source": []
  },
  {
   "cell_type": "code",
   "execution_count": null,
   "id": "5f414909-f524-4a09-af27-c8be3024cbae",
   "metadata": {},
   "outputs": [],
   "source": []
  }
 ],
 "metadata": {
  "kernelspec": {
   "display_name": "Python 3 (ipykernel)",
   "language": "python",
   "name": "python3"
  },
  "language_info": {
   "codemirror_mode": {
    "name": "ipython",
    "version": 3
   },
   "file_extension": ".py",
   "mimetype": "text/x-python",
   "name": "python",
   "nbconvert_exporter": "python",
   "pygments_lexer": "ipython3",
   "version": "3.9.7"
  }
 },
 "nbformat": 4,
 "nbformat_minor": 5
}
