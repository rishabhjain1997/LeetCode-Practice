{
 "cells": [
  {
   "cell_type": "code",
   "execution_count": 45,
   "id": "f7e8cb88-3255-4cdb-bba2-828f003888ce",
   "metadata": {},
   "outputs": [],
   "source": [
    "from typing import List, Dict\n",
    "from collections import Counter"
   ]
  },
  {
   "cell_type": "code",
   "execution_count": null,
   "id": "d65c9e04-d86c-4852-b79d-681a44b6ed4f",
   "metadata": {},
   "outputs": [],
   "source": []
  },
  {
   "cell_type": "code",
   "execution_count": 48,
   "id": "9b87bf36-1a46-4a34-bb12-b9aef90f0f75",
   "metadata": {},
   "outputs": [],
   "source": [
    "class Solution:\n",
    "    def intersect(self, nums1: List[int], nums2: List[int]) -> List[int]:\n",
    "        def create_counter(nums: List[int]) -> Dict[int,int]:\n",
    "            counter = dict()\n",
    "            for num in nums:\n",
    "                if num in counter:\n",
    "                    counter[num] = counter[num] + 1\n",
    "                else:\n",
    "                    counter[num] = 1\n",
    "            return counter\n",
    "        \n",
    "        nums1_counter = create_counter(nums1)\n",
    "        nums2_counter = create_counter(nums2)\n",
    "        intersection = []\n",
    "        #print(nums1_counter)\n",
    "        #print(nums2_counter)\n",
    "        for num1 in nums1_counter:\n",
    "            #print(num1)\n",
    "            if num1 in nums2_counter:\n",
    "                intersection = intersection + [num1] * min(nums1_counter[num1],nums2_counter[num1])\n",
    "        return(intersection)"
   ]
  },
  {
   "cell_type": "code",
   "execution_count": 49,
   "id": "efad21b6-77ae-4da6-9015-ee3fbd6b1f66",
   "metadata": {},
   "outputs": [
    {
     "data": {
      "text/plain": [
       "[2, 2, 3]"
      ]
     },
     "execution_count": 49,
     "metadata": {},
     "output_type": "execute_result"
    }
   ],
   "source": [
    "s = Solution()\n",
    "s.intersect(nums1 = [1,2,2,1,3], nums2 = [2,2,3])"
   ]
  },
  {
   "cell_type": "code",
   "execution_count": 44,
   "id": "1213f3de-4482-40f9-b333-fa149208c3a9",
   "metadata": {},
   "outputs": [],
   "source": [
    "        "
   ]
  },
  {
   "cell_type": "code",
   "execution_count": null,
   "id": "1cccbb26-56c1-44c6-a202-3c9dc668085c",
   "metadata": {},
   "outputs": [],
   "source": []
  }
 ],
 "metadata": {
  "kernelspec": {
   "display_name": "Python 3 (ipykernel)",
   "language": "python",
   "name": "python3"
  },
  "language_info": {
   "codemirror_mode": {
    "name": "ipython",
    "version": 3
   },
   "file_extension": ".py",
   "mimetype": "text/x-python",
   "name": "python",
   "nbconvert_exporter": "python",
   "pygments_lexer": "ipython3",
   "version": "3.9.7"
  }
 },
 "nbformat": 4,
 "nbformat_minor": 5
}
