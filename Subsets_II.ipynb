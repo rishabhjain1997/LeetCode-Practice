{
 "cells": [
  {
   "cell_type": "code",
   "execution_count": 23,
   "id": "cb20538c-e718-4770-8239-af30d744c047",
   "metadata": {},
   "outputs": [],
   "source": [
    "from typing import List"
   ]
  },
  {
   "cell_type": "code",
   "execution_count": 35,
   "id": "ba91d9c6-f113-47d6-a335-145c5ec24464",
   "metadata": {},
   "outputs": [],
   "source": [
    "class Solution:\n",
    "    def subsetsWithDup(self, nums: List[int]) -> List[List[int]]:\n",
    "        solutions = list()\n",
    "        state = []\n",
    "        self.search(state,solutions, nums)\n",
    "        return solutions\n",
    "    \n",
    "    def is_valid_state(self, state, nums, solutions):\n",
    "    # check if it is a valid solution\n",
    "        return len(state) <= len(nums) and sorted(state) not in solutions\n",
    "\n",
    "    def get_candidates(self,state, nums):\n",
    "        from collections import Counter\n",
    "        return list(Counter(nums) - Counter(state))\n",
    "\n",
    "    def search(self, state, solutions, nums):\n",
    "        if self.is_valid_state(state, nums, solutions):\n",
    "            solutions.append(sorted(state.copy()))\n",
    "        else:\n",
    "            return\n",
    "        # return\n",
    "\n",
    "        for candidate in self.get_candidates(state, nums):\n",
    "            state.append(candidate)\n",
    "            self.search(state, solutions, nums)\n",
    "            state.pop()\n",
    "\n",
    "\n"
   ]
  },
  {
   "cell_type": "code",
   "execution_count": 36,
   "id": "fe8e4ba9-3d55-4e29-8618-21c48e496677",
   "metadata": {},
   "outputs": [
    {
     "data": {
      "text/plain": [
       "[[], [4], [1, 4], [0, 1, 4], [0, 4], [1], [0, 1], [0]]"
      ]
     },
     "execution_count": 36,
     "metadata": {},
     "output_type": "execute_result"
    }
   ],
   "source": [
    "s = Solution()\n",
    "s.subsetsWithDup(nums = [4,1,0])"
   ]
  },
  {
   "cell_type": "code",
   "execution_count": null,
   "id": "e7a7b85a-95ac-4261-aa0e-8a86e64e0040",
   "metadata": {},
   "outputs": [],
   "source": []
  }
 ],
 "metadata": {
  "kernelspec": {
   "display_name": "Python 3 (ipykernel)",
   "language": "python",
   "name": "python3"
  },
  "language_info": {
   "codemirror_mode": {
    "name": "ipython",
    "version": 3
   },
   "file_extension": ".py",
   "mimetype": "text/x-python",
   "name": "python",
   "nbconvert_exporter": "python",
   "pygments_lexer": "ipython3",
   "version": "3.9.7"
  }
 },
 "nbformat": 4,
 "nbformat_minor": 5
}
