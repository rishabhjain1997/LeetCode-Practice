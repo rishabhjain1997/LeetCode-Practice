{
 "cells": [
  {
   "cell_type": "code",
   "execution_count": 105,
   "id": "6c8a8676-88fb-4590-bba3-5f41599fb1d6",
   "metadata": {},
   "outputs": [],
   "source": [
    "from collections import deque\n",
    "class Stack:\n",
    "    def __init__(self, l=[]):\n",
    "        self.stack = deque(l)\n",
    "    def push(self,a):\n",
    "        self.stack.append(a)\n",
    "    def pop(self):\n",
    "        return self.stack.pop()\n",
    "    def __repr__(self):\n",
    "        return self.stack\n",
    "    def __len__(self):\n",
    "        return len(self.stack)\n",
    "    def __contains__(self, item):\n",
    "        if item in self.stack:\n",
    "            return True\n",
    "        else:\n",
    "            return False"
   ]
  },
  {
   "cell_type": "code",
   "execution_count": 106,
   "id": "0f797bdb-cc3b-4424-af5d-dc48175b401b",
   "metadata": {},
   "outputs": [],
   "source": [
    "class Solution:\n",
    "    def isValid(self, s: str) -> bool:\n",
    "        opening = {\"{\": \"}\", \"(\": \")\", \"[\": \"]\"}\n",
    "        closing = { v: k for k,v in opening.items()}\n",
    "        valid = Stack()\n",
    "        for letter in s:\n",
    "            if letter in opening:\n",
    "                valid.push(letter)\n",
    "            elif letter in closing:\n",
    "                if not len(valid) or valid.pop() != closing[letter]:\n",
    "                    return False\n",
    "            else:\n",
    "                return False\n",
    "        if len(valid):\n",
    "            return False\n",
    "        return True\n",
    "        #for letter in s:"
   ]
  },
  {
   "cell_type": "code",
   "execution_count": 107,
   "id": "9bd0b7a1-8f5e-4cbd-81fc-a1fe24ebae99",
   "metadata": {},
   "outputs": [
    {
     "data": {
      "text/plain": [
       "False"
      ]
     },
     "execution_count": 107,
     "metadata": {},
     "output_type": "execute_result"
    }
   ],
   "source": [
    "s = Solution()\n",
    "s.isValid(\"]\")"
   ]
  },
  {
   "cell_type": "code",
   "execution_count": 103,
   "id": "5badfd7e-b517-4b2a-9096-e48999f3943d",
   "metadata": {},
   "outputs": [],
   "source": [
    "a = Stack([])\n",
    "a.push(3)"
   ]
  },
  {
   "cell_type": "code",
   "execution_count": 88,
   "id": "83dfb3e1-636d-44e7-9c68-8ce97007ce9e",
   "metadata": {},
   "outputs": [
    {
     "data": {
      "text/plain": [
       "True"
      ]
     },
     "execution_count": 88,
     "metadata": {},
     "output_type": "execute_result"
    }
   ],
   "source": [
    "3 in a"
   ]
  },
  {
   "cell_type": "code",
   "execution_count": 89,
   "id": "89fc02a0-84e9-4dfb-b6d5-2079bfb884a3",
   "metadata": {},
   "outputs": [
    {
     "data": {
      "text/plain": [
       "1"
      ]
     },
     "execution_count": 89,
     "metadata": {},
     "output_type": "execute_result"
    }
   ],
   "source": [
    "len(a)"
   ]
  },
  {
   "cell_type": "code",
   "execution_count": null,
   "id": "78e3d03d-a0d4-4281-b9ca-0749dfdd5606",
   "metadata": {},
   "outputs": [],
   "source": []
  }
 ],
 "metadata": {
  "kernelspec": {
   "display_name": "Python 3 (ipykernel)",
   "language": "python",
   "name": "python3"
  },
  "language_info": {
   "codemirror_mode": {
    "name": "ipython",
    "version": 3
   },
   "file_extension": ".py",
   "mimetype": "text/x-python",
   "name": "python",
   "nbconvert_exporter": "python",
   "pygments_lexer": "ipython3",
   "version": "3.9.7"
  }
 },
 "nbformat": 4,
 "nbformat_minor": 5
}
