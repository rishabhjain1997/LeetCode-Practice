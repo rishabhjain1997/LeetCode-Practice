{
 "cells": [
  {
   "cell_type": "code",
   "execution_count": 8,
   "id": "81116794-bd7c-4cc9-90ff-c21e8a3457da",
   "metadata": {},
   "outputs": [],
   "source": [
    "from typing import List, Dict"
   ]
  },
  {
   "cell_type": "code",
   "execution_count": 23,
   "id": "2536250d-92c2-410e-a275-5674ac2e7582",
   "metadata": {},
   "outputs": [],
   "source": [
    "class Solution:\n",
    "    def maxProfit(self, prices: List[int]) -> int:\n",
    "        profit = 0\n",
    "        sub = prices[0]\n",
    "        for i in range(1, len(prices)):\n",
    "            price = prices[i]\n",
    "            profit = max(profit, price - sub)\n",
    "            #print(price, sub, profit)\n",
    "            if price < sub:\n",
    "                sub = price\n",
    "        return profit"
   ]
  },
  {
   "cell_type": "code",
   "execution_count": 24,
   "id": "1a3aa16f-e67f-42cf-8793-7750423ecd57",
   "metadata": {},
   "outputs": [
    {
     "name": "stdout",
     "output_type": "stream",
     "text": [
      "2 1 1\n"
     ]
    },
    {
     "data": {
      "text/plain": [
       "1"
      ]
     },
     "execution_count": 24,
     "metadata": {},
     "output_type": "execute_result"
    }
   ],
   "source": [
    "s = Solution()\n",
    "s.maxProfit(prices = [1,2])"
   ]
  }
 ],
 "metadata": {
  "kernelspec": {
   "display_name": "Python 3 (ipykernel)",
   "language": "python",
   "name": "python3"
  },
  "language_info": {
   "codemirror_mode": {
    "name": "ipython",
    "version": 3
   },
   "file_extension": ".py",
   "mimetype": "text/x-python",
   "name": "python",
   "nbconvert_exporter": "python",
   "pygments_lexer": "ipython3",
   "version": "3.9.7"
  }
 },
 "nbformat": 4,
 "nbformat_minor": 5
}
