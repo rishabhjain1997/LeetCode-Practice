{
 "cells": [
  {
   "cell_type": "code",
   "execution_count": 28,
   "id": "3648ede7-4693-489b-9b50-a9c12b0f4d70",
   "metadata": {},
   "outputs": [],
   "source": [
    "class Solution:\n",
    "    def strStr(self, haystack: str, needle: str) -> int:\n",
    "        if not len(needle):\n",
    "            return 0\n",
    "        try:\n",
    "            return haystack.index(needle)\n",
    "        except ValueError as e:\n",
    "            return -1"
   ]
  },
  {
   "cell_type": "code",
   "execution_count": 29,
   "id": "4b8c7062-ecd0-47de-a388-6f71722a2177",
   "metadata": {},
   "outputs": [
    {
     "data": {
      "text/plain": [
       "-1"
      ]
     },
     "execution_count": 29,
     "metadata": {},
     "output_type": "execute_result"
    }
   ],
   "source": [
    "s = Solution()\n",
    "s.strStr(haystack = \"mississippi\", needle = \"issipi\")"
   ]
  },
  {
   "cell_type": "code",
   "execution_count": null,
   "id": "2c1fddf2-94c2-40ff-99a0-661b4d934886",
   "metadata": {},
   "outputs": [],
   "source": []
  }
 ],
 "metadata": {
  "kernelspec": {
   "display_name": "Python 3 (ipykernel)",
   "language": "python",
   "name": "python3"
  },
  "language_info": {
   "codemirror_mode": {
    "name": "ipython",
    "version": 3
   },
   "file_extension": ".py",
   "mimetype": "text/x-python",
   "name": "python",
   "nbconvert_exporter": "python",
   "pygments_lexer": "ipython3",
   "version": "3.9.7"
  }
 },
 "nbformat": 4,
 "nbformat_minor": 5
}
