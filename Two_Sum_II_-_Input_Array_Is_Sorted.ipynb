{
 "cells": [
  {
   "cell_type": "code",
   "execution_count": 1,
   "id": "b579e74b-6ef7-46c9-abad-121abbe8f3bf",
   "metadata": {},
   "outputs": [],
   "source": [
    "from typing import List, Dict"
   ]
  },
  {
   "cell_type": "code",
   "execution_count": 3,
   "id": "ac92faf2-1440-49a5-881a-cb8a78c9d477",
   "metadata": {},
   "outputs": [],
   "source": [
    "class Solution:\n",
    "    def twoSum(self, numbers: List[int], target: int) -> List[int]:\n",
    "        lo = 0\n",
    "        hi = len(numbers) - 1\n",
    "        while lo < hi:\n",
    "            if (numbers[lo] + numbers[hi]) > target:\n",
    "                hi = hi - 1\n",
    "            elif (numbers[lo] + numbers[hi]) < target:\n",
    "                lo = lo + 1\n",
    "            elif (numbers[lo] + numbers[hi]) == target:\n",
    "                return [lo+1,hi+1]\n",
    "        "
   ]
  },
  {
   "cell_type": "code",
   "execution_count": 6,
   "id": "65c76108-d7e6-47bd-a712-f650347e2dce",
   "metadata": {},
   "outputs": [
    {
     "name": "stdout",
     "output_type": "stream",
     "text": [
      "0 3\n"
     ]
    }
   ],
   "source": [
    "s = Solution()\n",
    "s.twoSum(numbers = [2,7,11,15], target = 9)"
   ]
  },
  {
   "cell_type": "code",
   "execution_count": null,
   "id": "8f122b27-458f-49a3-8f2a-9dc2378c8bd5",
   "metadata": {},
   "outputs": [],
   "source": []
  }
 ],
 "metadata": {
  "kernelspec": {
   "display_name": "Python 3 (ipykernel)",
   "language": "python",
   "name": "python3"
  },
  "language_info": {
   "codemirror_mode": {
    "name": "ipython",
    "version": 3
   },
   "file_extension": ".py",
   "mimetype": "text/x-python",
   "name": "python",
   "nbconvert_exporter": "python",
   "pygments_lexer": "ipython3",
   "version": "3.9.7"
  }
 },
 "nbformat": 4,
 "nbformat_minor": 5
}
