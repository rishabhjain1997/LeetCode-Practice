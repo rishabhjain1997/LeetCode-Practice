{
 "cells": [
  {
   "cell_type": "code",
   "execution_count": 1,
   "id": "50346c88-c43f-4fdb-ad4d-6e271c0e1fac",
   "metadata": {},
   "outputs": [],
   "source": [
    "from typing import List"
   ]
  },
  {
   "cell_type": "code",
   "execution_count": 29,
   "id": "6714ed9f-5548-4118-ac88-7383378df4ab",
   "metadata": {},
   "outputs": [],
   "source": [
    "class Solution:\n",
    "    def productExceptSelf(self, nums: List[int]) -> List[int]:\n",
    "        def build_array(arr, how='left'):\n",
    "            build_arr = [1]\n",
    "            x = range(len(arr) -1) if how == 'left' else range(len(arr)-1,0,-1)\n",
    "            for i in x:\n",
    "                build_arr.append(build_arr[-1] * arr[i])\n",
    "            if how != 'left':\n",
    "                build_arr = build_arr[::-1]\n",
    "            return build_arr\n",
    "        \n",
    "        left = build_array(nums, how='left')\n",
    "        \n",
    "        right = build_array(nums, how='right')\n",
    "        \n",
    "        answer = []\n",
    "        for index in range(len(nums)):\n",
    "            answer.append(left[index] * right[index])\n",
    "        return answer"
   ]
  },
  {
   "cell_type": "code",
   "execution_count": 31,
   "id": "5de35639-438b-4d95-9aec-caa9349accee",
   "metadata": {},
   "outputs": [
    {
     "data": {
      "text/plain": [
       "[24, 12, 8, 6]"
      ]
     },
     "execution_count": 31,
     "metadata": {},
     "output_type": "execute_result"
    }
   ],
   "source": [
    "s = Solution()\n",
    "s.productExceptSelf(nums = [1,2,3,4])"
   ]
  },
  {
   "cell_type": "code",
   "execution_count": null,
   "id": "0631a8f5-381c-4787-a27e-24f086748cf0",
   "metadata": {},
   "outputs": [],
   "source": []
  }
 ],
 "metadata": {
  "kernelspec": {
   "display_name": "Python 3 (ipykernel)",
   "language": "python",
   "name": "python3"
  },
  "language_info": {
   "codemirror_mode": {
    "name": "ipython",
    "version": 3
   },
   "file_extension": ".py",
   "mimetype": "text/x-python",
   "name": "python",
   "nbconvert_exporter": "python",
   "pygments_lexer": "ipython3",
   "version": "3.9.7"
  }
 },
 "nbformat": 4,
 "nbformat_minor": 5
}
