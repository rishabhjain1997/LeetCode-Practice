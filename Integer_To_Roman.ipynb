{
 "cells": [
  {
   "cell_type": "code",
   "execution_count": 14,
   "metadata": {},
   "outputs": [],
   "source": [
    "class Solution:\n",
    "    def intToRoman(self, num: int) -> str:\n",
    "        int_to_roman = {\n",
    "        1: 'I',\n",
    "        4: 'IV',\n",
    "        5: 'V',\n",
    "        9: 'IX',\n",
    "        10: 'X',\n",
    "        40: 'XL',\n",
    "        50: 'L',\n",
    "        90: 'XC',\n",
    "        100: 'C',\n",
    "        400: 'CD',\n",
    "        500:'D',\n",
    "        900:'CM',\n",
    "        1000: 'M'\n",
    "        }\n",
    "\n",
    "        divisors = list(int_to_roman.keys())[::-1]\n",
    "        roman = ''\n",
    "        for divisor in divisors:\n",
    "            while num >= divisor:\n",
    "                num = num - divisor\n",
    "                roman += int_to_roman[divisor]\n",
    "            continue\n",
    "        return(roman)"
   ]
  },
  {
   "cell_type": "code",
   "execution_count": 15,
   "metadata": {},
   "outputs": [
    {
     "data": {
      "text/plain": [
       "'D'"
      ]
     },
     "execution_count": 15,
     "metadata": {},
     "output_type": "execute_result"
    }
   ],
   "source": [
    "s = Solution()\n",
    "s.intToRoman(500)"
   ]
  },
  {
   "cell_type": "code",
   "execution_count": 11,
   "metadata": {},
   "outputs": [
    {
     "name": "stdout",
     "output_type": "stream",
     "text": [
      "XLIX\n"
     ]
    }
   ],
   "source": [
    "num = 49\n"
   ]
  },
  {
   "cell_type": "markdown",
   "metadata": {},
   "source": [
    "I can be placed before V (5) and X (10) to make 4 and 9. \n",
    "X can be placed before L (50) and C (100) to make 40 and 90. \n",
    "C can be placed before D (500) and M (1000) to make 400 and 900.\n",
    "I             1\n",
    "V             5\n",
    "X             10\n",
    "L             50\n",
    "C             100\n",
    "D             500\n",
    "M             1000"
   ]
  }
 ],
 "metadata": {
  "kernelspec": {
   "display_name": "Python 3",
   "language": "python",
   "name": "python3"
  },
  "language_info": {
   "codemirror_mode": {
    "name": "ipython",
    "version": 3
   },
   "file_extension": ".py",
   "mimetype": "text/x-python",
   "name": "python",
   "nbconvert_exporter": "python",
   "pygments_lexer": "ipython3",
   "version": "3.8.5"
  }
 },
 "nbformat": 4,
 "nbformat_minor": 4
}
