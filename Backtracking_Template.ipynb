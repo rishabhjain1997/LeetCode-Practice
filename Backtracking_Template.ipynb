{
 "cells": [
  {
   "cell_type": "code",
   "execution_count": 1,
   "id": "6310ac35-1cfa-488e-a74d-af72b8bcae23",
   "metadata": {},
   "outputs": [],
   "source": [
    "def is_valid_state(state):\n",
    "    # check if it is a valid solution\n",
    "    return True\n",
    "\n",
    "def get_candidates(state):\n",
    "    return []\n",
    "\n",
    "def search(state, solutions):\n",
    "    if is_valid_state(state):\n",
    "        solutions.append(state.copy())\n",
    "        # return\n",
    "\n",
    "    for candidate in get_candidates(state):\n",
    "        state.add(candidate)\n",
    "        search(state, solutions)\n",
    "        state.remove(candidate)\n",
    "\n",
    "def solve():\n",
    "    solutions = []\n",
    "    state = set()\n",
    "    search(state, solutions)\n",
    "    return solutions\n",
    "\n",
    "## https://gist.github.com/RuolinZheng08/cdd880ee748e27ed28e0be3916f56fa6#file-backtracking_template-py-L1\n"
   ]
  },
  {
   "cell_type": "code",
   "execution_count": null,
   "id": "f9d6b975-4eb4-4d9a-a669-4a386b15a326",
   "metadata": {},
   "outputs": [],
   "source": []
  }
 ],
 "metadata": {
  "kernelspec": {
   "display_name": "Python 3 (ipykernel)",
   "language": "python",
   "name": "python3"
  },
  "language_info": {
   "codemirror_mode": {
    "name": "ipython",
    "version": 3
   },
   "file_extension": ".py",
   "mimetype": "text/x-python",
   "name": "python",
   "nbconvert_exporter": "python",
   "pygments_lexer": "ipython3",
   "version": "3.9.7"
  }
 },
 "nbformat": 4,
 "nbformat_minor": 5
}
