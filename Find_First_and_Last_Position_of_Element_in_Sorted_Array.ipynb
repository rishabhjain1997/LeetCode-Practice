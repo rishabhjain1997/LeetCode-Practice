{
 "cells": [
  {
   "cell_type": "code",
   "execution_count": 2,
   "id": "69429282-7b89-42c3-8853-28827c186983",
   "metadata": {},
   "outputs": [],
   "source": [
    "from typing import List"
   ]
  },
  {
   "cell_type": "code",
   "execution_count": 21,
   "id": "c6378923-64a6-41ff-ac19-3edac82ee126",
   "metadata": {},
   "outputs": [],
   "source": [
    "class Solution:\n",
    "    def searchRange(self, nums: List[int], target: int) -> List[int]:\n",
    "        def binarySearch(self, arr, target):\n",
    "            lo = 0\n",
    "            hi = len(arr) - 1\n",
    "            while lo <= hi :\n",
    "                mid = (lo + hi) // 2\n",
    "                if arr[mid] == target:\n",
    "                    return mid\n",
    "                elif arr[mid] > target:\n",
    "                    hi = mid - 1\n",
    "                elif arr[mid] < target:\n",
    "                    lo = mid + 1\n",
    "            return -1\n",
    "        first = binarySearch(self, nums, target)\n",
    "        print(first)\n",
    "        if first == -1:\n",
    "            return ([-1,-1])\n",
    "        lo = first\n",
    "        hi = first\n",
    "        while lo-1 >= 0 and nums[lo-1] == target:\n",
    "            lo = lo - 1\n",
    "        \n",
    "        while hi+1<=len(nums)-1 and nums[hi+1] == target:\n",
    "            hi = hi + 1\n",
    "        \n",
    "        return [lo,hi]"
   ]
  },
  {
   "cell_type": "code",
   "execution_count": 22,
   "id": "78fe1495-ec3f-480a-b876-8d97351567c6",
   "metadata": {},
   "outputs": [
    {
     "name": "stdout",
     "output_type": "stream",
     "text": [
      "0\n"
     ]
    },
    {
     "data": {
      "text/plain": [
       "[0, 1]"
      ]
     },
     "execution_count": 22,
     "metadata": {},
     "output_type": "execute_result"
    }
   ],
   "source": [
    "s = Solution()\n",
    "s.searchRange(nums = [2,2], target = 2)"
   ]
  },
  {
   "cell_type": "code",
   "execution_count": null,
   "id": "e02c884d-7a2f-409f-a073-b5307cff149c",
   "metadata": {},
   "outputs": [],
   "source": []
  }
 ],
 "metadata": {
  "kernelspec": {
   "display_name": "Python 3 (ipykernel)",
   "language": "python",
   "name": "python3"
  },
  "language_info": {
   "codemirror_mode": {
    "name": "ipython",
    "version": 3
   },
   "file_extension": ".py",
   "mimetype": "text/x-python",
   "name": "python",
   "nbconvert_exporter": "python",
   "pygments_lexer": "ipython3",
   "version": "3.9.7"
  }
 },
 "nbformat": 4,
 "nbformat_minor": 5
}
