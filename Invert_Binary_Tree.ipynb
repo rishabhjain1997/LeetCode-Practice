{
 "cells": [
  {
   "cell_type": "code",
   "execution_count": 7,
   "id": "e66066f1-9832-4d5f-a8da-960fa0ecb520",
   "metadata": {},
   "outputs": [],
   "source": [
    "from typing import Optional, List\n",
    "class TreeNode:\n",
    "    def __init__(self, val=0, left=None, right=None):\n",
    "        self.val = val\n",
    "        self.left = left\n",
    "        self.right = right\n",
    "#seven = TreeNode(7)\n",
    "#fifteen = TreeNode(15)\n",
    "#twenty = TreeNode(20,fifteen, seven)\n",
    "one = TreeNode(1)\n",
    "three = TreeNode(3)\n",
    "nine = TreeNode(9)\n",
    "six = TreeNode(6)\n",
    "two = TreeNode(2,one, three)\n",
    "seven = TreeNode(7,six,nine)\n",
    "four = TreeNode(4,two,seven)"
   ]
  },
  {
   "cell_type": "code",
   "execution_count": 14,
   "id": "37dfe871-a2e9-49d8-ac20-e6c0e85c2438",
   "metadata": {},
   "outputs": [],
   "source": [
    "class Solution:\n",
    "    def invertTree(self, root: Optional[TreeNode]) -> Optional[TreeNode]:\n",
    "        \n",
    "        def invert(node = None):\n",
    "            if not node or (not node.left and not node.right):\n",
    "                return\n",
    "            placeholder = node.left\n",
    "            node.left = node.right\n",
    "            node.right = placeholder\n",
    "            if node.left:\n",
    "                invert(node.left)\n",
    "            if node.right:\n",
    "                invert(node.right)\n",
    "        invert(root)\n",
    "        return root"
   ]
  },
  {
   "cell_type": "code",
   "execution_count": 15,
   "id": "54392cab-7386-4d7a-96f2-0bb472308c74",
   "metadata": {},
   "outputs": [
    {
     "data": {
      "text/plain": [
       "<__main__.TreeNode at 0x7f75c83510a0>"
      ]
     },
     "execution_count": 15,
     "metadata": {},
     "output_type": "execute_result"
    }
   ],
   "source": [
    "s = Solution()\n",
    "s.invertTree(four)"
   ]
  },
  {
   "cell_type": "code",
   "execution_count": 16,
   "id": "315cddd4-0f92-4374-88b1-61265cfbf25f",
   "metadata": {},
   "outputs": [],
   "source": []
  },
  {
   "cell_type": "code",
   "execution_count": 17,
   "id": "d2f2030b-6239-4d51-9829-eee9b85271c6",
   "metadata": {},
   "outputs": [
    {
     "data": {
      "text/plain": [
       "1"
      ]
     },
     "execution_count": 17,
     "metadata": {},
     "output_type": "execute_result"
    }
   ],
   "source": []
  },
  {
   "cell_type": "code",
   "execution_count": null,
   "id": "f1aa948b-2004-4f8d-b51e-102cb95509be",
   "metadata": {},
   "outputs": [],
   "source": []
  }
 ],
 "metadata": {
  "kernelspec": {
   "display_name": "Python 3 (ipykernel)",
   "language": "python",
   "name": "python3"
  },
  "language_info": {
   "codemirror_mode": {
    "name": "ipython",
    "version": 3
   },
   "file_extension": ".py",
   "mimetype": "text/x-python",
   "name": "python",
   "nbconvert_exporter": "python",
   "pygments_lexer": "ipython3",
   "version": "3.9.7"
  }
 },
 "nbformat": 4,
 "nbformat_minor": 5
}
