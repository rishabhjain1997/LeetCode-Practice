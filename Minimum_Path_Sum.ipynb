{
 "cells": [
  {
   "cell_type": "code",
   "execution_count": 1,
   "id": "3c6ea1ca-d343-4cc4-9567-d080c07efe8d",
   "metadata": {},
   "outputs": [],
   "source": [
    "from typing import List"
   ]
  },
  {
   "cell_type": "code",
   "execution_count": 12,
   "id": "b3e2c164-74f7-4a72-be38-dfd0b60f1a4c",
   "metadata": {},
   "outputs": [],
   "source": [
    "class Solution:\n",
    "    def minPathSum(self, grid: List[List[int]]) -> int:\n",
    "        distance = [[0 for _ in range(len(grid[0]))] for _ in range(len(grid))]\n",
    "        for row in range(len(distance)):\n",
    "            for column in range(len(distance[0])):\n",
    "                if row == 0 and column == 0:\n",
    "                    distance[row][column] = grid[row][column]\n",
    "                elif row == 0:\n",
    "                    distance[row][column] = grid[row][column] + distance[row][column - 1]\n",
    "                elif column == 0:\n",
    "                    distance[row][column] = grid[row][column] + distance[row - 1][column]\n",
    "                else:\n",
    "                    distance[row][column] = grid[row][column] + \\\n",
    "                    min(distance[row - 1][column], distance[row][column - 1])\n",
    "        return distance[-1][-1]"
   ]
  },
  {
   "cell_type": "code",
   "execution_count": 13,
   "id": "85e87815-de5e-47da-94e9-426e3cfa40ad",
   "metadata": {},
   "outputs": [
    {
     "data": {
      "text/plain": [
       "7"
      ]
     },
     "execution_count": 13,
     "metadata": {},
     "output_type": "execute_result"
    }
   ],
   "source": [
    "s = Solution()\n",
    "s.minPathSum(grid = [[1,3,1],[1,5,1],[4,2,1]])"
   ]
  },
  {
   "cell_type": "code",
   "execution_count": null,
   "id": "2c86cb6d-3543-4962-b403-cc6e80197def",
   "metadata": {},
   "outputs": [],
   "source": []
  }
 ],
 "metadata": {
  "kernelspec": {
   "display_name": "Python 3 (ipykernel)",
   "language": "python",
   "name": "python3"
  },
  "language_info": {
   "codemirror_mode": {
    "name": "ipython",
    "version": 3
   },
   "file_extension": ".py",
   "mimetype": "text/x-python",
   "name": "python",
   "nbconvert_exporter": "python",
   "pygments_lexer": "ipython3",
   "version": "3.9.7"
  }
 },
 "nbformat": 4,
 "nbformat_minor": 5
}
