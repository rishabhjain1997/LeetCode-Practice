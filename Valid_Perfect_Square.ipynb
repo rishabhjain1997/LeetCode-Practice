{
 "cells": [
  {
   "cell_type": "code",
   "execution_count": 10,
   "id": "e7d85983-a6ef-4584-9aad-c2bd824f21b3",
   "metadata": {},
   "outputs": [],
   "source": [
    "class Solution:\n",
    "    def isPerfectSquare(self, num: int) -> bool:\n",
    "        if num == 1:\n",
    "            return True\n",
    "        lo = 1\n",
    "        hi = num//2\n",
    "        \n",
    "        while lo<=hi:\n",
    "            mid = (lo + hi)//2\n",
    "            sq = mid ** 2\n",
    "            if sq == num:\n",
    "                return True\n",
    "            elif sq < num:\n",
    "                lo = mid + 1\n",
    "            else:\n",
    "                hi = mid - 1\n",
    "        return False"
   ]
  },
  {
   "cell_type": "code",
   "execution_count": 11,
   "id": "7dd79faa-1e14-4e63-8112-7b8e84b9eb3f",
   "metadata": {},
   "outputs": [
    {
     "data": {
      "text/plain": [
       "True"
      ]
     },
     "execution_count": 11,
     "metadata": {},
     "output_type": "execute_result"
    }
   ],
   "source": [
    "s = Solution()\n",
    "s.isPerfectSquare(num=16)"
   ]
  },
  {
   "cell_type": "code",
   "execution_count": null,
   "id": "06758dae-6441-4dce-b157-600f1a2b1243",
   "metadata": {},
   "outputs": [],
   "source": []
  }
 ],
 "metadata": {
  "kernelspec": {
   "display_name": "Python 3 (ipykernel)",
   "language": "python",
   "name": "python3"
  },
  "language_info": {
   "codemirror_mode": {
    "name": "ipython",
    "version": 3
   },
   "file_extension": ".py",
   "mimetype": "text/x-python",
   "name": "python",
   "nbconvert_exporter": "python",
   "pygments_lexer": "ipython3",
   "version": "3.9.7"
  }
 },
 "nbformat": 4,
 "nbformat_minor": 5
}
