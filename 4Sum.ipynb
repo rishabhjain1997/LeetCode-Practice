{
 "cells": [
  {
   "cell_type": "code",
   "execution_count": 1,
   "id": "0826325b-fe33-49fd-9a46-1e2e49e650cc",
   "metadata": {},
   "outputs": [],
   "source": [
    "from typing import List"
   ]
  },
  {
   "cell_type": "code",
   "execution_count": 6,
   "id": "5ecdf0df-722b-461c-b24d-2fb63cc610d4",
   "metadata": {},
   "outputs": [],
   "source": [
    "class Solution:\n",
    "    def fourSum(self, nums: List[int], target: int) -> List[List[int]]:\n",
    "        nums = sorted(nums)\n",
    "        #print(nums)\n",
    "        four_sums = []\n",
    "        def threeSum(nums:List[int], target:int) -> List[List[int]]:\n",
    "            three_sums = []\n",
    "            for second_index, second in enumerate(nums[:-2]):\n",
    "                if second_index > 0 and nums[second_index] == nums[second_index - 1]:\n",
    "                    continue\n",
    "                temp_target = target - second\n",
    "                lo = second_index + 1\n",
    "                hi = len(nums) - 1\n",
    "                \n",
    "                while lo<hi:\n",
    "                    if (lo > second_index + 1 and nums[lo] == nums[lo - 1]) or (nums[lo] + nums [hi] < temp_target):\n",
    "                        lo = lo + 1\n",
    "                        continue\n",
    "                    elif (hi < len(nums) - 1 and nums[hi] == nums[hi + 1]) or (nums[lo] + nums [hi] > temp_target):\n",
    "                        hi = hi - 1\n",
    "                    elif nums[lo] + nums [hi] == temp_target:\n",
    "                        three_sums.append([second, nums[lo], nums[hi]])\n",
    "                        lo = lo + 1\n",
    "                        hi = hi - 1\n",
    "                    \n",
    "            return three_sums\n",
    "            \n",
    "            \n",
    "        for first_index, first in enumerate(nums[:-3]):\n",
    "            if first_index == 0 or (first_index > 0 and nums[first_index] != nums[first_index - 1] ):\n",
    "                three_sums = threeSum(nums = nums[first_index+1:] , target = target - first)\n",
    "                if len(three_sums):\n",
    "                    four_sums.extend(list(map(lambda x:x+[first], three_sums)))\n",
    "        return four_sums"
   ]
  },
  {
   "cell_type": "code",
   "execution_count": 7,
   "id": "8a033028-c1c9-40f4-ae1c-bd3926053f40",
   "metadata": {},
   "outputs": [
    {
     "data": {
      "text/plain": [
       "[[-1, 1, 2, -2], [-1, 1, 1, -1]]"
      ]
     },
     "execution_count": 7,
     "metadata": {},
     "output_type": "execute_result"
    }
   ],
   "source": [
    "s = Solution()\n",
    "s.fourSum(nums = [-2,-1,-1,1,1,2,2], target = 0)"
   ]
  },
  {
   "cell_type": "code",
   "execution_count": null,
   "id": "f65f7534-b4a4-4543-8eca-fc004aa99cf8",
   "metadata": {},
   "outputs": [],
   "source": []
  }
 ],
 "metadata": {
  "kernelspec": {
   "display_name": "Python 3 (ipykernel)",
   "language": "python",
   "name": "python3"
  },
  "language_info": {
   "codemirror_mode": {
    "name": "ipython",
    "version": 3
   },
   "file_extension": ".py",
   "mimetype": "text/x-python",
   "name": "python",
   "nbconvert_exporter": "python",
   "pygments_lexer": "ipython3",
   "version": "3.9.7"
  }
 },
 "nbformat": 4,
 "nbformat_minor": 5
}
