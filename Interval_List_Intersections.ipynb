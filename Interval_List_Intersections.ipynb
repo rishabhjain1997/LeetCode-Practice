{
 "cells": [
  {
   "cell_type": "code",
   "execution_count": 2,
   "id": "a2118cde-055d-4cd3-9cf0-6d1d5a2a1526",
   "metadata": {},
   "outputs": [],
   "source": [
    "from typing import List"
   ]
  },
  {
   "cell_type": "code",
   "execution_count": 11,
   "id": "f1575104-4829-4b51-b85f-2960659f13f8",
   "metadata": {},
   "outputs": [],
   "source": [
    "class Solution:\n",
    "    def intervalIntersection(self, firstList: List[List[int]], secondList: List[List[int]]) -> List[List[int]]:\n",
    "        l_index = 0\n",
    "        r_index = 0\n",
    "        intersections = []\n",
    "        while l_index<len(firstList) and r_index<len(secondList):\n",
    "            l = firstList[l_index]\n",
    "            r = secondList[r_index]\n",
    "            intersection = [max(l[0],r[0]), min(l[1],r[1])]\n",
    "            if intersection[0] <= intersection[1]:\n",
    "                intersections.append(intersection)\n",
    "            if r[1] > l[1]:\n",
    "                l_index = l_index + 1\n",
    "            else:\n",
    "                r_index = r_index + 1\n",
    "        return intersections"
   ]
  },
  {
   "cell_type": "code",
   "execution_count": 12,
   "id": "0511d37c-ea24-4ba4-832d-f177e8717dc6",
   "metadata": {},
   "outputs": [
    {
     "data": {
      "text/plain": [
       "[[1, 2], [5, 5], [8, 10], [15, 23], [24, 24], [25, 25]]"
      ]
     },
     "execution_count": 12,
     "metadata": {},
     "output_type": "execute_result"
    }
   ],
   "source": [
    "s = Solution()\n",
    "s.intervalIntersection(firstList = [[0,2],[5,10],[13,23],[24,25]],\n",
    "                       secondList = [[1,5],[8,12],[15,24],[25,26]])"
   ]
  },
  {
   "cell_type": "code",
   "execution_count": null,
   "id": "e17ad64e-7d5b-4203-bbe7-637f19619869",
   "metadata": {},
   "outputs": [],
   "source": []
  }
 ],
 "metadata": {
  "kernelspec": {
   "display_name": "Python 3 (ipykernel)",
   "language": "python",
   "name": "python3"
  },
  "language_info": {
   "codemirror_mode": {
    "name": "ipython",
    "version": 3
   },
   "file_extension": ".py",
   "mimetype": "text/x-python",
   "name": "python",
   "nbconvert_exporter": "python",
   "pygments_lexer": "ipython3",
   "version": "3.9.7"
  }
 },
 "nbformat": 4,
 "nbformat_minor": 5
}
