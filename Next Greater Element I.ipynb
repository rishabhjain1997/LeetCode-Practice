{
 "cells": [
  {
   "cell_type": "code",
   "execution_count": 1,
   "id": "8232f7e4-350d-4408-8b66-073fd14e0c79",
   "metadata": {},
   "outputs": [],
   "source": [
    "from typing import List"
   ]
  },
  {
   "cell_type": "code",
   "execution_count": 7,
   "id": "6a8f2d9e-bebc-4cea-b30b-3909a5bfda2f",
   "metadata": {},
   "outputs": [],
   "source": [
    "class Solution:\n",
    "    def nextGreaterElement(self, nums1: List[int], nums2: List[int]) -> List[int]:\n",
    "        output = []\n",
    "        for num1 in nums1:\n",
    "            nums2_index = nums2.index(num1)\n",
    "            next_arr = nums2[nums2_index+1:]\n",
    "            next_val = -1\n",
    "            for next_num in next_arr:\n",
    "                if next_num > num1:\n",
    "                    next_val = next_num\n",
    "                    break\n",
    "            output.append(next_val)\n",
    "        return(output)"
   ]
  },
  {
   "cell_type": "code",
   "execution_count": 8,
   "id": "98cc3bb4-5e8d-4748-82f2-e2a4e912fa3a",
   "metadata": {},
   "outputs": [
    {
     "data": {
      "text/plain": [
       "[-1, 3, -1]"
      ]
     },
     "execution_count": 8,
     "metadata": {},
     "output_type": "execute_result"
    }
   ],
   "source": [
    "s = Solution()\n",
    "s.nextGreaterElement(nums1 = [4,1,2], nums2 = [1,3,4,2])"
   ]
  },
  {
   "cell_type": "code",
   "execution_count": null,
   "id": "5dec853e-a440-4328-9410-7fe0ad5c8d5e",
   "metadata": {},
   "outputs": [],
   "source": []
  }
 ],
 "metadata": {
  "kernelspec": {
   "display_name": "Python 3 (ipykernel)",
   "language": "python",
   "name": "python3"
  },
  "language_info": {
   "codemirror_mode": {
    "name": "ipython",
    "version": 3
   },
   "file_extension": ".py",
   "mimetype": "text/x-python",
   "name": "python",
   "nbconvert_exporter": "python",
   "pygments_lexer": "ipython3",
   "version": "3.9.7"
  }
 },
 "nbformat": 4,
 "nbformat_minor": 5
}
