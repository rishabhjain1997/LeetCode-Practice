{
 "cells": [
  {
   "cell_type": "code",
   "execution_count": 17,
   "id": "f82fca36-68af-47eb-93fe-7bcd30b88faf",
   "metadata": {},
   "outputs": [],
   "source": [
    "from collections import Counter\n",
    "class Solution:\n",
    "    def firstUniqChar(self, s: str) -> int:\n",
    "        s_hash = Counter(s)\n",
    "        print(s_hash)\n",
    "        for index,letter in enumerate(s):\n",
    "            if s_hash[letter] == 1:\n",
    "                return index\n",
    "        return -1"
   ]
  },
  {
   "cell_type": "code",
   "execution_count": 18,
   "id": "e4a5ad21-e7ee-408d-a4b2-f1a044305ad4",
   "metadata": {},
   "outputs": [
    {
     "name": "stdout",
     "output_type": "stream",
     "text": [
      "Counter({'e': 3, 'l': 1, 't': 1, 'c': 1, 'o': 1, 'd': 1})\n"
     ]
    },
    {
     "data": {
      "text/plain": [
       "0"
      ]
     },
     "execution_count": 18,
     "metadata": {},
     "output_type": "execute_result"
    }
   ],
   "source": [
    "s = Solution()\n",
    "s.firstUniqChar(s = \"leetcode\")"
   ]
  },
  {
   "cell_type": "code",
   "execution_count": null,
   "id": "39aa8b79-ba58-4d77-9e8e-dd391a3a3dbd",
   "metadata": {},
   "outputs": [],
   "source": []
  },
  {
   "cell_type": "code",
   "execution_count": null,
   "id": "05065bad-24af-4db1-8b34-659783159ed7",
   "metadata": {},
   "outputs": [],
   "source": []
  }
 ],
 "metadata": {
  "kernelspec": {
   "display_name": "Python 3 (ipykernel)",
   "language": "python",
   "name": "python3"
  },
  "language_info": {
   "codemirror_mode": {
    "name": "ipython",
    "version": 3
   },
   "file_extension": ".py",
   "mimetype": "text/x-python",
   "name": "python",
   "nbconvert_exporter": "python",
   "pygments_lexer": "ipython3",
   "version": "3.9.7"
  }
 },
 "nbformat": 4,
 "nbformat_minor": 5
}
