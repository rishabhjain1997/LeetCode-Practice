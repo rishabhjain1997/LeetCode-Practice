{
 "cells": [
  {
   "cell_type": "code",
   "execution_count": 1,
   "id": "f6dee4ee-5ff3-4c07-956f-61714f9b179b",
   "metadata": {},
   "outputs": [],
   "source": [
    "from typing import Optional, List\n",
    "class TreeNode:\n",
    "    def __init__(self, val=0, left=None, right=None):\n",
    "        self.val = val\n",
    "        self.left = left\n",
    "        self.right = right\n",
    "#seven = TreeNode(7)\n",
    "#fifteen = TreeNode(15)\n",
    "#twenty = TreeNode(20,fifteen, seven)\n",
    "nine = TreeNode(1)\n",
    "three = TreeNode(3)\n",
    "three_right = TreeNode(3)\n",
    "four = TreeNode(4)\n",
    "four_right = TreeNode(4)\n",
    "two = TreeNode(2,three, four)\n",
    "two_right = TreeNode(2,four_right,three_right)\n",
    "one = TreeNode(1,two,two_right)"
   ]
  },
  {
   "cell_type": "code",
   "execution_count": 13,
   "id": "f576d691-de16-4519-8d75-31be186b29ab",
   "metadata": {},
   "outputs": [],
   "source": [
    "# Definition for a binary tree node.\n",
    "# class TreeNode:\n",
    "#     def __init__(self, val=0, left=None, right=None):\n",
    "#         self.val = val\n",
    "#         self.left = left\n",
    "#         self.right = right\n",
    "class Solution:\n",
    "    \n",
    "    def hasPathSum(self, root: Optional[TreeNode], targetSum: int) -> bool:\n",
    "        self.found = False\n",
    "        if not root:\n",
    "            return self.found\n",
    "        def calcSum(self,node):\n",
    "            #print(h)\n",
    "            if node == root:\n",
    "                node.sum = node.val\n",
    "            #print(node.val,node.sum)\n",
    "            if node.left:\n",
    "                node.left.sum = node.left.val + node.sum\n",
    "                calcSum(self,node.left)\n",
    "            if node.right:\n",
    "                node.right.sum = node.right.val + node.sum\n",
    "                calcSum(self,node.right)\n",
    "            if not node.left and not node.right:\n",
    "                if node.sum == targetSum:\n",
    "                    print('Found', node.val)\n",
    "                    \n",
    "                    self.found = True\n",
    "                    return\n",
    "        \n",
    "        calcSum(self,root)\n",
    "    \n",
    "        return self.found\n",
    "                    "
   ]
  },
  {
   "cell_type": "code",
   "execution_count": 14,
   "id": "9e4e7938-9862-4b72-9086-6f8b4602f938",
   "metadata": {},
   "outputs": [
    {
     "name": "stdout",
     "output_type": "stream",
     "text": [
      "Found 3\n",
      "Found 3\n"
     ]
    },
    {
     "data": {
      "text/plain": [
       "True"
      ]
     },
     "execution_count": 14,
     "metadata": {},
     "output_type": "execute_result"
    }
   ],
   "source": [
    "s = Solution()\n",
    "s.hasPathSum(one,6)"
   ]
  },
  {
   "cell_type": "code",
   "execution_count": null,
   "id": "c9babc2a-b1a9-4276-9481-c3880396c654",
   "metadata": {},
   "outputs": [],
   "source": []
  }
 ],
 "metadata": {
  "kernelspec": {
   "display_name": "Python 3 (ipykernel)",
   "language": "python",
   "name": "python3"
  },
  "language_info": {
   "codemirror_mode": {
    "name": "ipython",
    "version": 3
   },
   "file_extension": ".py",
   "mimetype": "text/x-python",
   "name": "python",
   "nbconvert_exporter": "python",
   "pygments_lexer": "ipython3",
   "version": "3.9.7"
  }
 },
 "nbformat": 4,
 "nbformat_minor": 5
}
