{
 "cells": [
  {
   "cell_type": "code",
   "execution_count": 3,
   "id": "1461b4cc-c880-4081-8e41-78cd9e96d8fa",
   "metadata": {},
   "outputs": [],
   "source": [
    "from typing import List"
   ]
  },
  {
   "cell_type": "code",
   "execution_count": 15,
   "id": "6cf03e43-74e6-468e-8eae-6fb599ed2273",
   "metadata": {},
   "outputs": [],
   "source": [
    "class Solution:\n",
    "    def search(self, nums: List[int], target: int) -> int:\n",
    "        low = 0\n",
    "        high = len(nums)\n",
    "        try:\n",
    "            while low <= high:\n",
    "                mid = int((low + high)/2)\n",
    "                print(low,high, mid)\n",
    "                if nums[mid] > target:\n",
    "                    high = mid - 1\n",
    "                elif nums[mid] < target:\n",
    "                    low = mid + 1\n",
    "                elif nums[mid] == target:\n",
    "                    return mid\n",
    "        except:\n",
    "            return -1\n",
    "        return -1"
   ]
  },
  {
   "cell_type": "code",
   "execution_count": 16,
   "id": "64f6c6e8-382b-4a00-8a2c-7cf2e34393b2",
   "metadata": {},
   "outputs": [
    {
     "name": "stdout",
     "output_type": "stream",
     "text": [
      "0 6 3\n",
      "4 6 5\n",
      "6 6 6\n"
     ]
    },
    {
     "data": {
      "text/plain": [
       "-1"
      ]
     },
     "execution_count": 16,
     "metadata": {},
     "output_type": "execute_result"
    }
   ],
   "source": [
    "s = Solution()\n",
    "s.search(nums = [-1,0,3,5,9,12], target = 13)"
   ]
  },
  {
   "cell_type": "code",
   "execution_count": null,
   "id": "39b3fc1f-087c-4ee0-bae7-f7afc5ab7886",
   "metadata": {},
   "outputs": [],
   "source": []
  }
 ],
 "metadata": {
  "kernelspec": {
   "display_name": "Python 3 (ipykernel)",
   "language": "python",
   "name": "python3"
  },
  "language_info": {
   "codemirror_mode": {
    "name": "ipython",
    "version": 3
   },
   "file_extension": ".py",
   "mimetype": "text/x-python",
   "name": "python",
   "nbconvert_exporter": "python",
   "pygments_lexer": "ipython3",
   "version": "3.9.7"
  }
 },
 "nbformat": 4,
 "nbformat_minor": 5
}
