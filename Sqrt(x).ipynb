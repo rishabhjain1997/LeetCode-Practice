{
 "cells": [
  {
   "cell_type": "code",
   "execution_count": 23,
   "id": "9cfe32b9-1ed9-4ec8-a1c6-10576fb35ec4",
   "metadata": {},
   "outputs": [],
   "source": [
    "class Solution:\n",
    "    def mySqrt(self, x: int) -> int:\n",
    "        lo = 0\n",
    "        hi = x\n",
    "        if x == 1 or x == 0:\n",
    "            return x\n",
    "        while lo + 1 < hi:\n",
    "            mid = (lo + hi) // 2\n",
    "            #print(lo, mid, hi)\n",
    "            sq = mid * mid\n",
    "            if sq == x:\n",
    "                return mid\n",
    "            elif sq < x:\n",
    "                lo = mid \n",
    "            else:\n",
    "                hi = mid \n",
    "        return lo"
   ]
  },
  {
   "cell_type": "code",
   "execution_count": 24,
   "id": "3d250b09-16ce-44ad-b8b1-3b430a82403d",
   "metadata": {},
   "outputs": [
    {
     "data": {
      "text/plain": [
       "2"
      ]
     },
     "execution_count": 24,
     "metadata": {},
     "output_type": "execute_result"
    }
   ],
   "source": [
    "s = Solution()\n",
    "s.mySqrt(x=8)"
   ]
  },
  {
   "cell_type": "code",
   "execution_count": 9,
   "id": "74a2d58c-f178-4577-9f4b-48d923db6395",
   "metadata": {},
   "outputs": [
    {
     "data": {
      "text/plain": [
       "0.0"
      ]
     },
     "execution_count": 9,
     "metadata": {},
     "output_type": "execute_result"
    }
   ],
   "source": [
    "0 ** 0.5"
   ]
  },
  {
   "cell_type": "code",
   "execution_count": null,
   "id": "5e69a200-2564-450a-b39c-127fe2eac1da",
   "metadata": {},
   "outputs": [],
   "source": []
  }
 ],
 "metadata": {
  "kernelspec": {
   "display_name": "Python 3 (ipykernel)",
   "language": "python",
   "name": "python3"
  },
  "language_info": {
   "codemirror_mode": {
    "name": "ipython",
    "version": 3
   },
   "file_extension": ".py",
   "mimetype": "text/x-python",
   "name": "python",
   "nbconvert_exporter": "python",
   "pygments_lexer": "ipython3",
   "version": "3.9.7"
  }
 },
 "nbformat": 4,
 "nbformat_minor": 5
}
