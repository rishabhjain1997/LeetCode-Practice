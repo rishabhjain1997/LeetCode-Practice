{
 "cells": [
  {
   "cell_type": "code",
   "execution_count": 1,
   "id": "f430c90b-ab37-491d-9493-678e920c7c69",
   "metadata": {},
   "outputs": [],
   "source": [
    "from typing import List\n"
   ]
  },
  {
   "cell_type": "code",
   "execution_count": 10,
   "id": "c268fafd-bb7c-4d4f-b47c-63f44c13ee46",
   "metadata": {},
   "outputs": [],
   "source": [
    "class Solution:\n",
    "    def majorityElement(self, nums: List[int]) -> int:\n",
    "        from collections import Counter\n",
    "        c = Counter(nums)\n",
    "        for k, v in c.items():\n",
    "            if v > len(nums)/2:\n",
    "                return k\n",
    "        print(c)"
   ]
  },
  {
   "cell_type": "code",
   "execution_count": 11,
   "id": "664dd18f-a3ba-49f3-906d-7f36630d1157",
   "metadata": {},
   "outputs": [
    {
     "data": {
      "text/plain": [
       "3"
      ]
     },
     "execution_count": 11,
     "metadata": {},
     "output_type": "execute_result"
    }
   ],
   "source": [
    "s = Solution()\n",
    "s.majorityElement([3,2,3])"
   ]
  },
  {
   "cell_type": "code",
   "execution_count": null,
   "id": "80f6a800-e234-4d31-8e94-cae3766b1447",
   "metadata": {},
   "outputs": [],
   "source": []
  }
 ],
 "metadata": {
  "kernelspec": {
   "display_name": "Python 3 (ipykernel)",
   "language": "python",
   "name": "python3"
  },
  "language_info": {
   "codemirror_mode": {
    "name": "ipython",
    "version": 3
   },
   "file_extension": ".py",
   "mimetype": "text/x-python",
   "name": "python",
   "nbconvert_exporter": "python",
   "pygments_lexer": "ipython3",
   "version": "3.9.7"
  }
 },
 "nbformat": 4,
 "nbformat_minor": 5
}
