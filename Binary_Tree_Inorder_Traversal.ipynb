{
 "cells": [
  {
   "cell_type": "code",
   "execution_count": 3,
   "id": "66312d8e-1f18-43f5-bad7-ab94bfc638a9",
   "metadata": {},
   "outputs": [],
   "source": [
    "from typing import Optional, List"
   ]
  },
  {
   "cell_type": "code",
   "execution_count": 4,
   "id": "459a9919-b72f-4393-aa51-0bea2e3000a9",
   "metadata": {},
   "outputs": [],
   "source": [
    "class TreeNode:\n",
    "    def __init__(self, val=0, left=None, right=None):\n",
    "        self.val = val\n",
    "        self.left = left\n",
    "        self.right = right\n",
    "three = TreeNode(3)\n",
    "two = TreeNode(2, three)\n",
    "one = TreeNode(1,None, two)"
   ]
  },
  {
   "cell_type": "code",
   "execution_count": 5,
   "id": "6ea8d3da-5f3c-4aca-b89b-252767a360c8",
   "metadata": {},
   "outputs": [],
   "source": [
    "class Solution:\n",
    "    def inorderTraversal(self, root: Optional[TreeNode]) -> List[int]:\n",
    "        seq = []\n",
    "        if not root:\n",
    "            return seq\n",
    "        \n",
    "        \n",
    "        def traversal(node):\n",
    "            if node.left:\n",
    "                traversal(node.left)\n",
    "            seq.append(node.val)\n",
    "\n",
    "            if node.right:\n",
    "                traversal(node.right)\n",
    "        traversal(root)\n",
    "        return seq"
   ]
  },
  {
   "cell_type": "code",
   "execution_count": 6,
   "id": "6b865744-511c-4b3d-bf79-507c226719d3",
   "metadata": {},
   "outputs": [
    {
     "data": {
      "text/plain": [
       "[]"
      ]
     },
     "execution_count": 6,
     "metadata": {},
     "output_type": "execute_result"
    }
   ],
   "source": [
    "s = Solution()\n",
    "s.inorderTraversal(None)"
   ]
  },
  {
   "cell_type": "code",
   "execution_count": null,
   "id": "31ed43df-c4d8-4eb7-9474-4eb6f6c06ac1",
   "metadata": {},
   "outputs": [],
   "source": []
  }
 ],
 "metadata": {
  "kernelspec": {
   "display_name": "Python 3 (ipykernel)",
   "language": "python",
   "name": "python3"
  },
  "language_info": {
   "codemirror_mode": {
    "name": "ipython",
    "version": 3
   },
   "file_extension": ".py",
   "mimetype": "text/x-python",
   "name": "python",
   "nbconvert_exporter": "python",
   "pygments_lexer": "ipython3",
   "version": "3.9.7"
  }
 },
 "nbformat": 4,
 "nbformat_minor": 5
}
