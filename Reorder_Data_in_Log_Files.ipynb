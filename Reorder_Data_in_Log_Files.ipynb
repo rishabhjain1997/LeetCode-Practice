{
 "cells": [
  {
   "cell_type": "code",
   "execution_count": 2,
   "id": "6c4f3ad2-1031-4958-8163-78f0002c7c5e",
   "metadata": {},
   "outputs": [],
   "source": [
    "from typing import List"
   ]
  },
  {
   "cell_type": "code",
   "execution_count": 65,
   "id": "5ffbbc48-5626-40c3-b028-9e302e62df03",
   "metadata": {},
   "outputs": [],
   "source": [
    "class Solution:\n",
    "    def reorderLogFiles(self, logs: List[str]) -> List[str]:\n",
    "        logs = [[log.split(' ')[0], log.split(' ')[1:]] for log in logs]\n",
    "        #print(logs)\n",
    "        num_log = []\n",
    "        alpha_log = []\n",
    "        for log in logs:\n",
    "            if log[1][0].isnumeric():\n",
    "                num_log.append(log)\n",
    "            else:\n",
    "                alpha_log.append(log)\n",
    "        #print(num_log,'\\n', alpha_log)\n",
    "        \n",
    "        def compare(log1,log2):\n",
    "            if log1[1] == log2[1]:\n",
    "                return -1 if log1[0] < log2[0] else 1\n",
    "            else:\n",
    "                return -1 if log1[1] < log2[1] else 1\n",
    "            return 0\n",
    "        \n",
    "        from functools import cmp_to_key\n",
    "        alpha_log = (sorted(alpha_log, key=cmp_to_key(compare)))\n",
    "        \n",
    "        #print(num_log)\n",
    "        alpha_log.extend(num_log)\n",
    "        print(alpha_log)\n",
    "        alpha_log = list(map(lambda x: ' '.join([x[0], *x[1]]), alpha_log))\n",
    "        #return( alpha_log)"
   ]
  },
  {
   "cell_type": "code",
   "execution_count": 66,
   "id": "c933ff1b-170d-485d-a86f-58aef18c90dd",
   "metadata": {},
   "outputs": [
    {
     "name": "stdout",
     "output_type": "stream",
     "text": [
      "[['let1', ['art', 'can']], ['let3', ['art', 'zero']], ['let2', ['own', 'kit', 'dig']], ['dig1', ['8', '1', '5', '1']], ['dig2', ['3', '6']]]\n"
     ]
    }
   ],
   "source": [
    "s = Solution()\n",
    "s.reorderLogFiles(logs = [\"dig1 8 1 5 1\",\"let1 art can\",\"dig2 3 6\",\"let2 own kit dig\",\"let3 art zero\"])"
   ]
  },
  {
   "cell_type": "code",
   "execution_count": 57,
   "id": "a672aa47-efaa-476d-b7b8-8111e6364949",
   "metadata": {},
   "outputs": [
    {
     "data": {
      "text/plain": [
       "False"
      ]
     },
     "execution_count": 58,
     "metadata": {},
     "output_type": "execute_result"
    }
   ],
   "source": [
    "[]'art', 'zero'] < ['art', 'can']"
   ]
  },
  {
   "cell_type": "code",
   "execution_count": 67,
   "id": "92488b61-167a-41cc-bfa5-aaec6db4e149",
   "metadata": {},
   "outputs": [],
   "source": [
    "alpha_log = [['let1', ['art', 'can']], ['let3', ['art', 'zero']], ['let2', ['own', 'kit', 'dig']], ['dig1', ['8', '1', '5', '1']], ['dig2', ['3', '6']]]"
   ]
  },
  {
   "cell_type": "code",
   "execution_count": 68,
   "id": "c8130318-29f4-4c01-b141-663378f3b86f",
   "metadata": {},
   "outputs": [
    {
     "data": {
      "text/plain": [
       "[['let1', 'art', 'can'],\n",
       " ['let3', 'art', 'zero'],\n",
       " ['let2', 'own', 'kit', 'dig'],\n",
       " ['dig1', '8', '1', '5', '1'],\n",
       " ['dig2', '3', '6']]"
      ]
     },
     "execution_count": 68,
     "metadata": {},
     "output_type": "execute_result"
    }
   ],
   "source": [
    "list(map(lambda x: [x[0], *x[1]], alpha_log))"
   ]
  },
  {
   "cell_type": "code",
   "execution_count": null,
   "id": "6a30459c-eb91-493d-bdbb-edfc1cc0dc15",
   "metadata": {},
   "outputs": [],
   "source": []
  }
 ],
 "metadata": {
  "kernelspec": {
   "display_name": "Python 3 (ipykernel)",
   "language": "python",
   "name": "python3"
  },
  "language_info": {
   "codemirror_mode": {
    "name": "ipython",
    "version": 3
   },
   "file_extension": ".py",
   "mimetype": "text/x-python",
   "name": "python",
   "nbconvert_exporter": "python",
   "pygments_lexer": "ipython3",
   "version": "3.9.7"
  }
 },
 "nbformat": 4,
 "nbformat_minor": 5
}
