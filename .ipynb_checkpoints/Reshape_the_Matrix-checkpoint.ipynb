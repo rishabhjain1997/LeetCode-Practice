{
 "cells": [
  {
   "cell_type": "code",
   "execution_count": 1,
   "id": "c7b2c794-d7cb-4bc1-b28f-c3e8de86ed12",
   "metadata": {},
   "outputs": [],
   "source": [
    "from typing import List, Dict"
   ]
  },
  {
   "cell_type": "code",
   "execution_count": 29,
   "id": "ba207a8c-9fa9-4636-abb2-aa7494a65e9f",
   "metadata": {},
   "outputs": [],
   "source": [
    "class Solution:\n",
    "    def matrixReshape(self, mat: List[List[int]], r: int, c: int) -> List[List[int]]:\n",
    "        mat_r = len(mat)\n",
    "        mat_c = len(mat[0])\n",
    "        if mat_r * mat_c != r * c:\n",
    "            return mat\n",
    "        flat = []\n",
    "        for i in range(mat_r):\n",
    "            for j in range(mat_c):\n",
    "                flat.append(mat[i][j])\n",
    "        print(flat)\n",
    "        count = 1\n",
    "        new_mat = []\n",
    "        row = []\n",
    "        for i in range(r * c):\n",
    "            #print(f'i is {i}, flat i is {flat[i]}')\n",
    "            row.append(flat[i])\n",
    "            #print(row)\n",
    "            if count == c:\n",
    "                new_mat.append(row)\n",
    "                row = []\n",
    "                count = 1\n",
    "            else:\n",
    "                count = count + 1\n",
    "        return(new_mat)"
   ]
  },
  {
   "cell_type": "code",
   "execution_count": 30,
   "id": "01b804a3-c1e2-46a4-a95e-27e2f32b8c21",
   "metadata": {},
   "outputs": [
    {
     "name": "stdout",
     "output_type": "stream",
     "text": [
      "[1, 2, 3, 4]\n",
      "i is 0, flat i is 1\n",
      "[1]\n",
      "i is 1, flat i is 2\n",
      "[2]\n",
      "i is 2, flat i is 3\n",
      "[3]\n",
      "i is 3, flat i is 4\n",
      "[4]\n"
     ]
    },
    {
     "data": {
      "text/plain": [
       "[[1], [2], [3], [4]]"
      ]
     },
     "execution_count": 30,
     "metadata": {},
     "output_type": "execute_result"
    }
   ],
   "source": [
    "s = Solution()\n",
    "s.matrixReshape([[1,2],[3,4]], 4,1)"
   ]
  },
  {
   "cell_type": "code",
   "execution_count": null,
   "id": "aa667dfc-3264-4a79-8dce-3dfbb90674a0",
   "metadata": {},
   "outputs": [],
   "source": []
  }
 ],
 "metadata": {
  "kernelspec": {
   "display_name": "Python 3 (ipykernel)",
   "language": "python",
   "name": "python3"
  },
  "language_info": {
   "codemirror_mode": {
    "name": "ipython",
    "version": 3
   },
   "file_extension": ".py",
   "mimetype": "text/x-python",
   "name": "python",
   "nbconvert_exporter": "python",
   "pygments_lexer": "ipython3",
   "version": "3.9.7"
  }
 },
 "nbformat": 4,
 "nbformat_minor": 5
}
