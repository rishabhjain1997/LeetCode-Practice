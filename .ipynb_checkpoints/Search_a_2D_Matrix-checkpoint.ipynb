{
 "cells": [
  {
   "cell_type": "code",
   "execution_count": 1,
   "id": "56554102-cf96-4334-b8db-4d49351cd18d",
   "metadata": {},
   "outputs": [],
   "source": [
    "from typing import List"
   ]
  },
  {
   "cell_type": "code",
   "execution_count": 13,
   "id": "cef4e5fa-ffc9-4ea7-a04b-87c5d2e839b5",
   "metadata": {},
   "outputs": [],
   "source": [
    "class Solution:\n",
    "    def searchMatrix(self, matrix: List[List[int]], target: int) -> bool:\n",
    "        def binarySearch(array,target):\n",
    "            #print(array)\n",
    "            lo = 0\n",
    "            hi = len(array) - 1\n",
    "            while lo <= hi :\n",
    "                mid = (lo + hi) // 2\n",
    "                #print(lo,mid,hi)\n",
    "                if array[mid] < target:\n",
    "                    lo = mid + 1\n",
    "                elif array[mid] > target:\n",
    "                    hi = mid -1\n",
    "                elif array[mid] == target:\n",
    "                    return True\n",
    "            return False\n",
    "        \n",
    "        m = len(matrix[0])\n",
    "        n = len(matrix)\n",
    "        #print(m,n)\n",
    "        for row in matrix:\n",
    "            if row[m-1] < target:\n",
    "                continue\n",
    "            elif row[m-1] > target:\n",
    "                if row[0] == target:\n",
    "                    return True\n",
    "                elif row[0] < target:\n",
    "                    #print(row)\n",
    "                    return binarySearch(row[1:m-1],target)\n",
    "                else:\n",
    "                    return False\n",
    "            elif row[m-1] == target:\n",
    "                return True"
   ]
  },
  {
   "cell_type": "code",
   "execution_count": 14,
   "id": "de013561-533e-413a-adf8-dfc1fe44d9d5",
   "metadata": {},
   "outputs": [
    {
     "data": {
      "text/plain": [
       "True"
      ]
     },
     "execution_count": 14,
     "metadata": {},
     "output_type": "execute_result"
    }
   ],
   "source": [
    "s = Solution()\n",
    "s.searchMatrix(matrix = [[1,3]], target = 3)"
   ]
  },
  {
   "cell_type": "code",
   "execution_count": null,
   "id": "15092145-d885-4ea1-8b7b-c6312badc500",
   "metadata": {},
   "outputs": [],
   "source": []
  }
 ],
 "metadata": {
  "kernelspec": {
   "display_name": "Python 3 (ipykernel)",
   "language": "python",
   "name": "python3"
  },
  "language_info": {
   "codemirror_mode": {
    "name": "ipython",
    "version": 3
   },
   "file_extension": ".py",
   "mimetype": "text/x-python",
   "name": "python",
   "nbconvert_exporter": "python",
   "pygments_lexer": "ipython3",
   "version": "3.9.7"
  }
 },
 "nbformat": 4,
 "nbformat_minor": 5
}
