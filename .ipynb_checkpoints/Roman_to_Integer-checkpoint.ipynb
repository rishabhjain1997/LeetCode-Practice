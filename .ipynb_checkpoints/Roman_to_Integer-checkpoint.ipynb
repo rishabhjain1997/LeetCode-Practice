{
 "cells": [
  {
   "cell_type": "code",
   "execution_count": 1,
   "id": "46297469-e882-4c49-8a82-612d20000215",
   "metadata": {},
   "outputs": [],
   "source": [
    "class Solution:\n",
    "    def romanToInt(self, s: str) -> int:\n",
    "        values = {\n",
    "            'I': 1,\n",
    "            'IV':4,\n",
    "            'V': 5,\n",
    "            'IX':9,\n",
    "            'X':10,\n",
    "            'XL':40,\n",
    "            'L':50,\n",
    "            'XC':90,\n",
    "            'C':100,\n",
    "            'CD':400,\n",
    "            'D':500,\n",
    "            'CM':900,\n",
    "            'M':1000\n",
    "        }"
   ]
  },
  {
   "cell_type": "code",
   "execution_count": null,
   "id": "e52f7e7e-b5b1-4478-b5a0-369136184299",
   "metadata": {},
   "outputs": [],
   "source": [
    "s = Solution()\n",
    "s.romanToInt(s='LVII')"
   ]
  }
 ],
 "metadata": {
  "kernelspec": {
   "display_name": "Python 3 (ipykernel)",
   "language": "python",
   "name": "python3"
  },
  "language_info": {
   "codemirror_mode": {
    "name": "ipython",
    "version": 3
   },
   "file_extension": ".py",
   "mimetype": "text/x-python",
   "name": "python",
   "nbconvert_exporter": "python",
   "pygments_lexer": "ipython3",
   "version": "3.9.7"
  }
 },
 "nbformat": 4,
 "nbformat_minor": 5
}
