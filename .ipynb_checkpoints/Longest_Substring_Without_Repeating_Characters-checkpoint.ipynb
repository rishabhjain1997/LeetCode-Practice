{
 "cells": [
  {
   "cell_type": "code",
   "execution_count": 10,
   "id": "237297c0-f75f-46df-925c-d0be98757627",
   "metadata": {},
   "outputs": [],
   "source": [
    "class Solution:\n",
    "    def lengthOfLongestSubstring(self, s: str) -> int:\n",
    "        max_substring = 0\n",
    "        curr = []\n",
    "        for letter in s:\n",
    "            if letter in curr:\n",
    "                curr = curr[curr.index(letter)+1:]\n",
    "            curr.append(letter)\n",
    "            if len(curr) > max_substring:\n",
    "                max_substring = len(curr)\n",
    "        return max_substring"
   ]
  },
  {
   "cell_type": "code",
   "execution_count": 11,
   "id": "65006f92-9b47-40b0-ac3e-b687114ac405",
   "metadata": {},
   "outputs": [
    {
     "data": {
      "text/plain": [
       "3"
      ]
     },
     "execution_count": 11,
     "metadata": {},
     "output_type": "execute_result"
    }
   ],
   "source": [
    "s = Solution()\n",
    "s.lengthOfLongestSubstring(s = \"abcabcbb\")"
   ]
  },
  {
   "cell_type": "code",
   "execution_count": null,
   "id": "67b2c368-1ced-4a73-8ee5-2b759be8b680",
   "metadata": {},
   "outputs": [],
   "source": []
  }
 ],
 "metadata": {
  "kernelspec": {
   "display_name": "Python 3 (ipykernel)",
   "language": "python",
   "name": "python3"
  },
  "language_info": {
   "codemirror_mode": {
    "name": "ipython",
    "version": 3
   },
   "file_extension": ".py",
   "mimetype": "text/x-python",
   "name": "python",
   "nbconvert_exporter": "python",
   "pygments_lexer": "ipython3",
   "version": "3.9.7"
  }
 },
 "nbformat": 4,
 "nbformat_minor": 5
}
