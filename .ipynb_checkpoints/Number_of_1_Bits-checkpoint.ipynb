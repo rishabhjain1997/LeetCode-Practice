{
 "cells": [
  {
   "cell_type": "code",
   "execution_count": 19,
   "id": "4777f194-79bf-454a-b448-55f9dc66f0ce",
   "metadata": {},
   "outputs": [],
   "source": [
    "class Solution:\n",
    "    def hammingWeight(self, n: int) -> int:\n",
    "        temp = format(n, \"b\")\n",
    "        return(len(list(filter(lambda x: x=='1',list(temp)))))"
   ]
  },
  {
   "cell_type": "code",
   "execution_count": 20,
   "id": "5f3b6f6c-0840-43c9-8bb9-81201623f6ea",
   "metadata": {},
   "outputs": [
    {
     "data": {
      "text/plain": [
       "3"
      ]
     },
     "execution_count": 20,
     "metadata": {},
     "output_type": "execute_result"
    }
   ],
   "source": [
    "s = Solution()\n",
    "s.hammingWeight(11)"
   ]
  },
  {
   "cell_type": "code",
   "execution_count": null,
   "id": "fb297750-383b-4edc-baa0-a01dac3dd007",
   "metadata": {},
   "outputs": [],
   "source": []
  }
 ],
 "metadata": {
  "kernelspec": {
   "display_name": "Python 3 (ipykernel)",
   "language": "python",
   "name": "python3"
  },
  "language_info": {
   "codemirror_mode": {
    "name": "ipython",
    "version": 3
   },
   "file_extension": ".py",
   "mimetype": "text/x-python",
   "name": "python",
   "nbconvert_exporter": "python",
   "pygments_lexer": "ipython3",
   "version": "3.9.7"
  }
 },
 "nbformat": 4,
 "nbformat_minor": 5
}
