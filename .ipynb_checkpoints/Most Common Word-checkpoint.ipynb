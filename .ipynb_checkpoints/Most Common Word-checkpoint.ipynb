{
 "cells": [
  {
   "cell_type": "code",
   "execution_count": 35,
   "id": "f8dc1a87-f362-44cc-967a-f83e7dbbf6d5",
   "metadata": {},
   "outputs": [],
   "source": [
    "from typing import List\n",
    "import re\n",
    "from collections import Counter"
   ]
  },
  {
   "cell_type": "code",
   "execution_count": 68,
   "id": "939388f7-526f-4997-b29c-9ed3b82fc824",
   "metadata": {},
   "outputs": [],
   "source": [
    "class Solution:\n",
    "    def mostCommonWord(self, paragraph: str, banned: List[str]) -> str:\n",
    "        banned = set(banned)\n",
    "        words = (paragraph.lower())\n",
    "        words = re.sub(r'\\.|,', \"\", words)\n",
    "        words = words.split(' ')\n",
    "        words = Counter(words).items()\n",
    "        words = list(filter(lambda counter: counter[0] not in banned, words))\n",
    "        word = max(words,key = lambda counter: counter[1] )\n",
    "        print(word[0])"
   ]
  },
  {
   "cell_type": "code",
   "execution_count": 69,
   "id": "8c3e0205-c49a-484d-954f-52bce2a11b78",
   "metadata": {},
   "outputs": [
    {
     "name": "stdout",
     "output_type": "stream",
     "text": [
      "ball\n"
     ]
    }
   ],
   "source": [
    "s = Solution()\n",
    "s.mostCommonWord(paragraph = \"Bob hit a ball, the hit BALL flew far after it was hit.\", banned = [\"hit\"])"
   ]
  },
  {
   "cell_type": "code",
   "execution_count": null,
   "id": "5f9e1de5-d0ce-40fb-8117-601a1971c05e",
   "metadata": {},
   "outputs": [],
   "source": []
  }
 ],
 "metadata": {
  "kernelspec": {
   "display_name": "Python 3 (ipykernel)",
   "language": "python",
   "name": "python3"
  },
  "language_info": {
   "codemirror_mode": {
    "name": "ipython",
    "version": 3
   },
   "file_extension": ".py",
   "mimetype": "text/x-python",
   "name": "python",
   "nbconvert_exporter": "python",
   "pygments_lexer": "ipython3",
   "version": "3.9.7"
  }
 },
 "nbformat": 4,
 "nbformat_minor": 5
}
