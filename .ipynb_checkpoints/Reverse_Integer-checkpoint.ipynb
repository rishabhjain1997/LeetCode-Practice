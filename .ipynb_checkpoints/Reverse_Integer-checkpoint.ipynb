{
 "cells": [
  {
   "cell_type": "code",
   "execution_count": 1,
   "id": "b12e0e2e-b1fa-4ff7-867a-df467b7619a2",
   "metadata": {},
   "outputs": [],
   "source": [
    "class Solution:\n",
    "    def reverse(self, x: int) -> int:\n",
    "        s = str(x)\n",
    "        if x<0:\n",
    "            r = int(s[1:][::-1])\n",
    "            r = -1 * r\n",
    "        else:\n",
    "            r = int(s[::-1])\n",
    "        if r >= -2**31 and r <= (2**31 - 1):\n",
    "            return r\n",
    "        return 0"
   ]
  },
  {
   "cell_type": "code",
   "execution_count": 2,
   "id": "294f22ae-15a2-4dcd-aa37-fb30d706adde",
   "metadata": {},
   "outputs": [
    {
     "data": {
      "text/plain": [
       "321"
      ]
     },
     "execution_count": 2,
     "metadata": {},
     "output_type": "execute_result"
    }
   ],
   "source": [
    "s = Solution()\n",
    "s.reverse(x = 123)"
   ]
  },
  {
   "cell_type": "code",
   "execution_count": 16,
   "id": "2c9bec51-263f-46bb-b231-1d44b21b8150",
   "metadata": {},
   "outputs": [],
   "source": [
    "class Solution:\n",
    "    def reverse(self, x: int) -> int:\n",
    "        import math\n",
    "        INT_MAX = 2**31 -1\n",
    "        INT_MIN = -2**31\n",
    "        rev = 0\n",
    "        x_abs = abs(x)\n",
    "        while x_abs != 0:\n",
    "            pop = x_abs % 10\n",
    "            x_abs = x_abs // 10\n",
    "            if rev > INT_MAX//10 or (rev == INT_MAX // 10 and pop > 7):\n",
    "                return 0\n",
    "            if rev < math.ceil(INT_MIN / 10 ) or (rev == math.ceil(INT_MIN / 10) and pop > 8):\n",
    "                return 0\n",
    "            if x < 0:\n",
    "                rev = rev * 10 - pop\n",
    "            else:\n",
    "                rev = rev * 10 + pop\n",
    "            \n",
    "        print(rev)"
   ]
  },
  {
   "cell_type": "code",
   "execution_count": 17,
   "id": "56c06da6-5fd5-4a70-9d0d-5a887a99bd70",
   "metadata": {},
   "outputs": [
    {
     "name": "stdout",
     "output_type": "stream",
     "text": [
      "-321\n"
     ]
    }
   ],
   "source": [
    "s = Solution()\n",
    "s.reverse(x = -123)"
   ]
  },
  {
   "cell_type": "code",
   "execution_count": 8,
   "id": "54c03de6-f5a5-4d3c-a329-cd10dcdb8436",
   "metadata": {},
   "outputs": [],
   "source": [
    "INT_MIN = -2**31"
   ]
  },
  {
   "cell_type": "code",
   "execution_count": 13,
   "id": "9fbce324-e50f-442d-8477-3ce40b2e137e",
   "metadata": {},
   "outputs": [
    {
     "data": {
      "text/plain": [
       "-214748364"
      ]
     },
     "execution_count": 13,
     "metadata": {},
     "output_type": "execute_result"
    }
   ],
   "source": [
    "import math\n",
    "math.ceil(INT_MIN/10)"
   ]
  },
  {
   "cell_type": "code",
   "execution_count": null,
   "id": "eaa6bbba-8220-4f26-a43d-6a8adc69095a",
   "metadata": {},
   "outputs": [],
   "source": []
  }
 ],
 "metadata": {
  "kernelspec": {
   "display_name": "Python 3 (ipykernel)",
   "language": "python",
   "name": "python3"
  },
  "language_info": {
   "codemirror_mode": {
    "name": "ipython",
    "version": 3
   },
   "file_extension": ".py",
   "mimetype": "text/x-python",
   "name": "python",
   "nbconvert_exporter": "python",
   "pygments_lexer": "ipython3",
   "version": "3.9.7"
  }
 },
 "nbformat": 4,
 "nbformat_minor": 5
}
