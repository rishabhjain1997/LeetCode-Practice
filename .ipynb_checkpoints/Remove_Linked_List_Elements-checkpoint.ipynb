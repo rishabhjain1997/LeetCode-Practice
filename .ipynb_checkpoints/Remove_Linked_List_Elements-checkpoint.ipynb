{
 "cells": [
  {
   "cell_type": "code",
   "execution_count": 2,
   "id": "6c5863b4-972e-49a8-b906-2eec79e916cb",
   "metadata": {},
   "outputs": [],
   "source": [
    "from typing import Optional"
   ]
  },
  {
   "cell_type": "code",
   "execution_count": 3,
   "id": "78efad44-155f-4e20-912d-dde52618332f",
   "metadata": {},
   "outputs": [],
   "source": [
    "class ListNode:\n",
    "    def __init__(self, val=0, next=None):\n",
    "        self.val = val\n",
    "        self.next = next\n"
   ]
  },
  {
   "cell_type": "code",
   "execution_count": 4,
   "id": "22640268-46d9-4a01-b7ea-e2391f3e4f86",
   "metadata": {},
   "outputs": [],
   "source": [
    "class Solution:\n",
    "    def removeElements(self, head: Optional[ListNode], val: int) -> Optional[ListNode]:\n",
    "        if not head:\n",
    "            return head\n",
    "        prev = head\n",
    "        while prev and prev.val == val:\n",
    "            head = prev.next\n",
    "            prev = prev.next\n",
    "        if prev and prev.next:\n",
    "            curr = prev.next\n",
    "            while curr:\n",
    "                if curr.val == val:\n",
    "                    prev.next = curr.next\n",
    "                    curr = curr.next\n",
    "                else:\n",
    "                    prev = prev.next\n",
    "                    curr = curr.next\n",
    "        return head"
   ]
  },
  {
   "cell_type": "code",
   "execution_count": null,
   "id": "a1560fd6-1591-4bd0-9075-fbba300dd517",
   "metadata": {},
   "outputs": [],
   "source": []
  }
 ],
 "metadata": {
  "kernelspec": {
   "display_name": "Python 3 (ipykernel)",
   "language": "python",
   "name": "python3"
  },
  "language_info": {
   "codemirror_mode": {
    "name": "ipython",
    "version": 3
   },
   "file_extension": ".py",
   "mimetype": "text/x-python",
   "name": "python",
   "nbconvert_exporter": "python",
   "pygments_lexer": "ipython3",
   "version": "3.9.7"
  }
 },
 "nbformat": 4,
 "nbformat_minor": 5
}
