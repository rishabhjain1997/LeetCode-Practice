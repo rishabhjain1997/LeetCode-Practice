{
 "cells": [
  {
   "cell_type": "code",
   "execution_count": 6,
   "id": "943f9d47-719c-419b-bb4e-8afb0d614159",
   "metadata": {},
   "outputs": [],
   "source": [
    "class MyHashMap:\n",
    "\n",
    "    def __init__(self):\n",
    "        self.l = [-1 for _ in range(10**6 + 1)]\n",
    "\n",
    "    def put(self, key: int, value: int) -> None:\n",
    "        self.l[key] = value\n",
    "\n",
    "    def get(self, key: int) -> int:\n",
    "        return(self.l[key])\n",
    "\n",
    "    def remove(self, key: int) -> None:\n",
    "        self.l[key] = -1"
   ]
  },
  {
   "cell_type": "code",
   "execution_count": 7,
   "id": "96af0288-9ef9-43a4-b3a8-de053e580edd",
   "metadata": {},
   "outputs": [],
   "source": [
    "# Your MyHashMap object will be instantiated and called as such:\n",
    "obj = MyHashMap()\n",
    "obj.put(1,2)\n",
    "param_2 = obj.get(1)\n",
    "obj.remove(2)"
   ]
  },
  {
   "cell_type": "code",
   "execution_count": null,
   "id": "806fa740-f37c-4a3f-9459-34b7394b9d4a",
   "metadata": {},
   "outputs": [],
   "source": []
  }
 ],
 "metadata": {
  "kernelspec": {
   "display_name": "Python 3 (ipykernel)",
   "language": "python",
   "name": "python3"
  },
  "language_info": {
   "codemirror_mode": {
    "name": "ipython",
    "version": 3
   },
   "file_extension": ".py",
   "mimetype": "text/x-python",
   "name": "python",
   "nbconvert_exporter": "python",
   "pygments_lexer": "ipython3",
   "version": "3.9.7"
  }
 },
 "nbformat": 4,
 "nbformat_minor": 5
}
