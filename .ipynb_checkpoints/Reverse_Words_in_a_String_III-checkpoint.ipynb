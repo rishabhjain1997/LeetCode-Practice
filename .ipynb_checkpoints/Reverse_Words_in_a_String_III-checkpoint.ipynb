{
 "cells": [
  {
   "cell_type": "code",
   "execution_count": 5,
   "id": "0c48871a-3bfe-4887-beba-286f6530f4c2",
   "metadata": {},
   "outputs": [],
   "source": [
    "from typing import List"
   ]
  },
  {
   "cell_type": "code",
   "execution_count": 28,
   "id": "1ce9325d-2636-48a8-93cc-24aef4aad631",
   "metadata": {},
   "outputs": [],
   "source": [
    "class Solution:\n",
    "    def reverseWords(self, s: str) -> str:\n",
    "        def reverse(x):\n",
    "            reverse_string = []\n",
    "            hi = len(x) - 1\n",
    "            while hi >= 0:\n",
    "                reverse_string.append(x[hi])\n",
    "                hi = hi - 1\n",
    "            return(\"\".join(reverse_string))\n",
    "        words = s.split(' ')\n",
    "        return \" \".join(list(map(lambda x: reverse(x), words)))"
   ]
  },
  {
   "cell_type": "code",
   "execution_count": 29,
   "id": "40597654-6927-494f-a767-7b46e2110c6c",
   "metadata": {},
   "outputs": [
    {
     "data": {
      "text/plain": [
       "\"s'teL ekat edoCteeL tsetnoc\""
      ]
     },
     "execution_count": 29,
     "metadata": {},
     "output_type": "execute_result"
    }
   ],
   "source": [
    "s = Solution()\n",
    "s.reverseWords(s = \"Let's take LeetCode contest\")"
   ]
  },
  {
   "cell_type": "code",
   "execution_count": null,
   "id": "63178d7e-0fff-4eb7-b867-e4d82090ad9a",
   "metadata": {},
   "outputs": [],
   "source": []
  }
 ],
 "metadata": {
  "kernelspec": {
   "display_name": "Python 3 (ipykernel)",
   "language": "python",
   "name": "python3"
  },
  "language_info": {
   "codemirror_mode": {
    "name": "ipython",
    "version": 3
   },
   "file_extension": ".py",
   "mimetype": "text/x-python",
   "name": "python",
   "nbconvert_exporter": "python",
   "pygments_lexer": "ipython3",
   "version": "3.9.7"
  }
 },
 "nbformat": 4,
 "nbformat_minor": 5
}
