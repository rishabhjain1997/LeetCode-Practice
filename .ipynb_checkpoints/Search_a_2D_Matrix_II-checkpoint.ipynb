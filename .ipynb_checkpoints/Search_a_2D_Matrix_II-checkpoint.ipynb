{
 "cells": [
  {
   "cell_type": "code",
   "execution_count": 1,
   "id": "64774545-55e2-4692-912b-cdb48c79e3d2",
   "metadata": {},
   "outputs": [],
   "source": [
    "from typing import List"
   ]
  },
  {
   "cell_type": "code",
   "execution_count": 8,
   "id": "372bbe72-ea40-4bef-b1de-44a4fea4bf69",
   "metadata": {},
   "outputs": [],
   "source": [
    "class Solution:\n",
    "    def searchMatrix(self, matrix: List[List[int]], target: int) -> bool:\n",
    "        r = 0\n",
    "        c = len(matrix[0]) - 1\n",
    "        while r <= len(matrix) - 1 and c>= 0:\n",
    "            if matrix[r][c] == target:\n",
    "                return True\n",
    "            elif matrix[r][c] > target:\n",
    "                c = c -1\n",
    "            elif matrix[r][c] < target:\n",
    "                r = r + 1\n",
    "        return False"
   ]
  },
  {
   "cell_type": "code",
   "execution_count": 9,
   "id": "57fae8c8-7961-4c5f-a265-04cb6c04a19b",
   "metadata": {},
   "outputs": [
    {
     "data": {
      "text/plain": [
       "True"
      ]
     },
     "execution_count": 9,
     "metadata": {},
     "output_type": "execute_result"
    }
   ],
   "source": [
    "s = Solution()\n",
    "s.searchMatrix(matrix = [[1,4,7,11,15],[2,5,8,12,19],[3,6,9,16,22],[10,13,14,17,24],[18,21,23,26,30]], target = 5)"
   ]
  },
  {
   "cell_type": "code",
   "execution_count": null,
   "id": "f516f03d-1e8b-49a0-96c7-8f3091fe749c",
   "metadata": {},
   "outputs": [],
   "source": []
  }
 ],
 "metadata": {
  "kernelspec": {
   "display_name": "Python 3 (ipykernel)",
   "language": "python",
   "name": "python3"
  },
  "language_info": {
   "codemirror_mode": {
    "name": "ipython",
    "version": 3
   },
   "file_extension": ".py",
   "mimetype": "text/x-python",
   "name": "python",
   "nbconvert_exporter": "python",
   "pygments_lexer": "ipython3",
   "version": "3.9.7"
  }
 },
 "nbformat": 4,
 "nbformat_minor": 5
}
