{
 "cells": [
  {
   "cell_type": "code",
   "execution_count": 1,
   "id": "4b4c1e4a-2442-48f1-9996-7d059e0d55a9",
   "metadata": {},
   "outputs": [],
   "source": [
    "from typing import List"
   ]
  },
  {
   "cell_type": "code",
   "execution_count": 2,
   "id": "2df5f0c2-3df3-413f-b221-c6ce04443b0b",
   "metadata": {},
   "outputs": [],
   "source": [
    "class Solution:\n",
    "    def sortColors(self, nums: List[int]) -> None:\n",
    "        \"\"\"\n",
    "        Do not return anything, modify nums in-place instead.\n",
    "        \"\"\"\n",
    "        l = 0\n",
    "        h = len(nums) - 1\n",
    "        i = l\n",
    "        while l < h and i < h:\n",
    "            if nums[h] == 2:\n",
    "                h = h - 1\n",
    "                continue\n",
    "            if nums[l] == 0:\n",
    "                if i == l:\n",
    "                    i = i + 1\n",
    "                l = l + 1\n",
    "                continue\n",
    "                \n",
    "                    \n",
    "            if nums[i] == 2:\n",
    "                nums[i], nums[h] = nums[h], nums[i]\n",
    "                h = h - 1\n",
    "            if nums[i] == 1:\n",
    "                i = i + 1\n",
    "                \n",
    "            \n",
    "            if nums[i] == 0:\n",
    "                if i == l:\n",
    "                    i = i + 1\n",
    "                else:\n",
    "                    nums[i], nums[l] = nums[l], nums[i]\n",
    "                l = l + 1    \n",
    "        return nums"
   ]
  },
  {
   "cell_type": "code",
   "execution_count": 4,
   "id": "73574d30-d938-4032-9375-761033bd7470",
   "metadata": {},
   "outputs": [
    {
     "data": {
      "text/plain": [
       "[0, 0, 1, 1, 2, 2]"
      ]
     },
     "execution_count": 4,
     "metadata": {},
     "output_type": "execute_result"
    }
   ],
   "source": [
    "s = Solution()\n",
    "s.sortColors([2,0,2,1,1,0])"
   ]
  },
  {
   "cell_type": "code",
   "execution_count": null,
   "id": "1df0744c-78c8-4867-9144-249d8f51f687",
   "metadata": {},
   "outputs": [],
   "source": []
  }
 ],
 "metadata": {
  "kernelspec": {
   "display_name": "Python 3 (ipykernel)",
   "language": "python",
   "name": "python3"
  },
  "language_info": {
   "codemirror_mode": {
    "name": "ipython",
    "version": 3
   },
   "file_extension": ".py",
   "mimetype": "text/x-python",
   "name": "python",
   "nbconvert_exporter": "python",
   "pygments_lexer": "ipython3",
   "version": "3.9.7"
  }
 },
 "nbformat": 4,
 "nbformat_minor": 5
}
