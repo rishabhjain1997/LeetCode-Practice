{
 "cells": [
  {
   "cell_type": "code",
   "execution_count": 5,
   "id": "5e389cc0-c73b-44ca-937a-2bfb7704d558",
   "metadata": {},
   "outputs": [],
   "source": [
    "class Solution:\n",
    "    def climbStairs(self, n: int) -> int:\n",
    "        if n <= 2:\n",
    "            return n\n",
    "        climb = []\n",
    "        for i in range(1, n+1):\n",
    "            if i == 1 or i == 2:\n",
    "                climb.append(i)\n",
    "            else:\n",
    "                climb.append(climb[-1] + climb[-2])\n",
    "        #print(climb)\n",
    "        return(climb[-1])\n",
    "        "
   ]
  },
  {
   "cell_type": "code",
   "execution_count": 4,
   "id": "343b8c52-b676-4175-9c9b-ca62dc1fa48a",
   "metadata": {},
   "outputs": [
    {
     "name": "stdout",
     "output_type": "stream",
     "text": [
      "[1, 2, 3, 5, 8]\n"
     ]
    }
   ],
   "source": [
    "s = Solution()\n",
    "s.climbStairs(5)"
   ]
  },
  {
   "cell_type": "code",
   "execution_count": null,
   "id": "aee82ff5-0449-4801-a649-5acde672e22b",
   "metadata": {},
   "outputs": [],
   "source": []
  }
 ],
 "metadata": {
  "kernelspec": {
   "display_name": "Python 3 (ipykernel)",
   "language": "python",
   "name": "python3"
  },
  "language_info": {
   "codemirror_mode": {
    "name": "ipython",
    "version": 3
   },
   "file_extension": ".py",
   "mimetype": "text/x-python",
   "name": "python",
   "nbconvert_exporter": "python",
   "pygments_lexer": "ipython3",
   "version": "3.9.7"
  }
 },
 "nbformat": 4,
 "nbformat_minor": 5
}
