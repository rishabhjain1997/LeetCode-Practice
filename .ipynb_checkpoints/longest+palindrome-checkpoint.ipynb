{
 "cells": [
  {
   "cell_type": "code",
   "execution_count": 25,
   "metadata": {},
   "outputs": [
    {
     "name": "stdout",
     "output_type": "stream",
     "text": [
      "[['', '', '', '', ''], ['', '', '', '', ''], ['', '', '', '', ''], ['', '', '', '', ''], ['', '', '', '', '']]\n",
      "[['', '', 'b', '', ''], ['', '', 'b', '', ''], ['', '', 'b', '', ''], ['', '', 'b', '', ''], ['', '', 'b', '', '']]\n",
      "babad\n"
     ]
    }
   ],
   "source": [
    "def longestPalindrome( s: str) -> str:\n",
    "    import numpy as np\n",
    "    n = len(s)\n",
    "    matrix = [['']*n]*n\n",
    "    print(matrix)\n",
    "    reverse_string = s[::-1]\n",
    "    for reverse_index, reverse_letter in enumerate(reverse_string):\n",
    "        for straight_index, straight_letter in enumerate(s):\n",
    "                if straight_letter == reverse_letter:\n",
    "                    if (reverse_index > 0 and straight_index > 0 ):\n",
    "                        matrix[reverse_index][straight_index] = matrix[reverse_index -1][straight_index -1] + straight_letter\n",
    "                    else:\n",
    "                        matrix[reverse_index][straight_index] = straight_letter\n",
    "                else:\n",
    "                    matrix[reverse_index][straight_index] = ''\n",
    "    print(matrix)\n",
    "    return s\n",
    "print(longestPalindrome('babad'))"
   ]
  },
  {
   "cell_type": "code",
   "execution_count": null,
   "metadata": {},
   "outputs": [],
   "source": []
  },
  {
   "cell_type": "code",
   "execution_count": null,
   "metadata": {},
   "outputs": [],
   "source": []
  }
 ],
 "metadata": {
  "kernelspec": {
   "display_name": "Python 3",
   "language": "python",
   "name": "python3"
  },
  "language_info": {
   "codemirror_mode": {
    "name": "ipython",
    "version": 3
   },
   "file_extension": ".py",
   "mimetype": "text/x-python",
   "name": "python",
   "nbconvert_exporter": "python",
   "pygments_lexer": "ipython3",
   "version": "3.8.5"
  }
 },
 "nbformat": 4,
 "nbformat_minor": 4
}
