{
 "cells": [
  {
   "cell_type": "code",
   "execution_count": 9,
   "metadata": {},
   "outputs": [],
   "source": [
    "from typing import List\n",
    "class Solution:\n",
    "    def threeSumClosest(self, nums: List[int], target: int) -> int:\n",
    "        nums = sorted(nums)\n",
    "        print(nums)\n",
    "        least_diff = 10000\n",
    "        for index in range(len(nums) -2):\n",
    "            i = index\n",
    "            lo = index + 1\n",
    "            hi = len(nums) - 1\n",
    "            check_sum = target - nums[index]\n",
    "            while lo < hi :\n",
    "                diff = target - (nums[i] + nums[lo] + nums[hi])\n",
    "                if abs(diff) < abs(least_diff):\n",
    "                    least_diff = diff\n",
    "                if nums[lo] + nums[hi] < check_sum:\n",
    "                    lo = lo + 1\n",
    "                elif nums[lo] + nums[hi] > check_sum:\n",
    "                    hi = hi - 1\n",
    "                else: \n",
    "                    break\n",
    "        return target - least_diff "
   ]
  },
  {
   "cell_type": "code",
   "execution_count": 10,
   "metadata": {},
   "outputs": [
    {
     "name": "stdout",
     "output_type": "stream",
     "text": [
      "[-4, -1, 1, 2]\n"
     ]
    },
    {
     "data": {
      "text/plain": [
       "2"
      ]
     },
     "execution_count": 10,
     "metadata": {},
     "output_type": "execute_result"
    }
   ],
   "source": [
    "s = Solution()\n",
    "s.threeSumClosest([-1,2,1,-4], 1)"
   ]
  },
  {
   "cell_type": "code",
   "execution_count": null,
   "metadata": {},
   "outputs": [],
   "source": []
  }
 ],
 "metadata": {
  "kernelspec": {
   "display_name": "Python 3",
   "language": "python",
   "name": "python3"
  },
  "language_info": {
   "codemirror_mode": {
    "name": "ipython",
    "version": 3
   },
   "file_extension": ".py",
   "mimetype": "text/x-python",
   "name": "python",
   "nbconvert_exporter": "python",
   "pygments_lexer": "ipython3",
   "version": "3.8.5"
  }
 },
 "nbformat": 4,
 "nbformat_minor": 4
}
