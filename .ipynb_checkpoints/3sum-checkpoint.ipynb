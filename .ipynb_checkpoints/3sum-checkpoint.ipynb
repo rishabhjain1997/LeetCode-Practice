{
 "cells": [
  {
   "cell_type": "code",
   "execution_count": 79,
   "metadata": {},
   "outputs": [
    {
     "data": {
      "text/plain": [
       "[[0, 0, 0]]"
      ]
     },
     "execution_count": 79,
     "metadata": {},
     "output_type": "execute_result"
    }
   ],
   "source": [
    "from typing import List\n",
    "class Solution:\n",
    "    def threeSum(self, nums: List[int]) -> List[List[int]]:\n",
    "        output = []\n",
    "        nums = sorted(nums)\n",
    "        for index in range(len(nums)-2):\n",
    "            if index == 0 or (index > 0 and nums[index] != nums[index-1]):\n",
    "                lo = index+1\n",
    "                hi = len(nums) - 1\n",
    "                check_sum = -1 * nums[index]\n",
    "                while lo < hi:\n",
    "                    if nums[lo] + nums[hi] == check_sum:\n",
    "                        output.append([nums[index],nums[lo],nums[hi]])\n",
    "                        while lo + 1 < hi and nums[lo] == nums[lo+1]:\n",
    "                            lo = lo + 1\n",
    "                        lo = lo + 1\n",
    "                        hi = hi - 1\n",
    "                    elif nums[lo] + nums[hi] < check_sum:\n",
    "                        lo = lo + 1\n",
    "                    else:\n",
    "                        hi = hi - 1\n",
    "                \n",
    "        return output\n",
    "s = Solution()\n",
    "s.threeSum([0,0,0])"
   ]
  },
  {
   "cell_type": "code",
   "execution_count": 80,
   "metadata": {},
   "outputs": [
    {
     "data": {
      "text/plain": [
       "[[-2, 0, 2]]"
      ]
     },
     "execution_count": 80,
     "metadata": {},
     "output_type": "execute_result"
    }
   ],
   "source": [
    "s = Solution()\n",
    "s.threeSum([-2,0,0,2,2])"
   ]
  },
  {
   "cell_type": "code",
   "execution_count": null,
   "metadata": {},
   "outputs": [],
   "source": []
  }
 ],
 "metadata": {
  "kernelspec": {
   "display_name": "Python 3 (ipykernel)",
   "language": "python",
   "name": "python3"
  },
  "language_info": {
   "codemirror_mode": {
    "name": "ipython",
    "version": 3
   },
   "file_extension": ".py",
   "mimetype": "text/x-python",
   "name": "python",
   "nbconvert_exporter": "python",
   "pygments_lexer": "ipython3",
   "version": "3.9.7"
  }
 },
 "nbformat": 4,
 "nbformat_minor": 4
}
