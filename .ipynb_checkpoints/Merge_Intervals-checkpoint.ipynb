{
 "cells": [
  {
   "cell_type": "code",
   "execution_count": 2,
   "id": "33fed189-11d7-49d4-965e-c060d2b6b993",
   "metadata": {},
   "outputs": [],
   "source": [
    "from typing import List"
   ]
  },
  {
   "cell_type": "code",
   "execution_count": 13,
   "id": "0e2c5209-ccd9-42da-9824-ec1f56362169",
   "metadata": {},
   "outputs": [],
   "source": [
    "class Solution:\n",
    "    def merge(self, intervals: List[List[int]]) -> List[List[int]]:\n",
    "        intervals.sort(key= lambda x: x[0])\n",
    "        output= []\n",
    "        for interval in intervals:\n",
    "            first = interval[0]\n",
    "            second = interval[1]\n",
    "            if not output or output[-1][1] < first :\n",
    "                output.append([first,second])\n",
    "            else:\n",
    "                output[-1] = [output[-1][0],max(second,output[-1][1])]\n",
    "        return(output)\n",
    "        "
   ]
  },
  {
   "cell_type": "code",
   "execution_count": 14,
   "id": "f7862a1b-363a-4011-961c-7a668f36b94c",
   "metadata": {},
   "outputs": [
    {
     "data": {
      "text/plain": [
       "[[1, 6], [8, 10], [15, 18]]"
      ]
     },
     "execution_count": 14,
     "metadata": {},
     "output_type": "execute_result"
    }
   ],
   "source": [
    "s = Solution()\n",
    "s.merge(intervals = [[1,3],[8,10],[15,18],[2,6]])"
   ]
  },
  {
   "cell_type": "code",
   "execution_count": null,
   "id": "4177673b-22f8-4e66-9168-9acc31a89adb",
   "metadata": {},
   "outputs": [],
   "source": []
  }
 ],
 "metadata": {
  "kernelspec": {
   "display_name": "Python 3 (ipykernel)",
   "language": "python",
   "name": "python3"
  },
  "language_info": {
   "codemirror_mode": {
    "name": "ipython",
    "version": 3
   },
   "file_extension": ".py",
   "mimetype": "text/x-python",
   "name": "python",
   "nbconvert_exporter": "python",
   "pygments_lexer": "ipython3",
   "version": "3.9.7"
  }
 },
 "nbformat": 4,
 "nbformat_minor": 5
}
