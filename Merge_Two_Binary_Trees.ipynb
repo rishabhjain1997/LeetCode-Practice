{
 "cells": [
  {
   "cell_type": "code",
   "execution_count": 1,
   "id": "a701cfc3-b6f2-4b48-9680-28c76a54a2ea",
   "metadata": {},
   "outputs": [],
   "source": [
    "from typing import Optional\n",
    "class TreeNode:\n",
    "    def __init__(self, val=0, left=None, right=None):\n",
    "        self.val = val\n",
    "        self.left = left\n",
    "        self.right = right\n",
    "class Solution:\n",
    "    def mergeTrees(self, root1: Optional[TreeNode], root2: Optional[TreeNode]) -> Optional[TreeNode]:\n",
    "        def merge(node1 ,node2 ):\n",
    "            if not node2:\n",
    "                return node1\n",
    "            if not node1:\n",
    "                return node2\n",
    "            \n",
    "            node = TreeNode(val = node1.val + node2.val)\n",
    "            \n",
    "            if node1.left or node2.left:\n",
    "                node.left = merge(node1.left, node2.left)\n",
    "            \n",
    "            if node2.right or node1.right:\n",
    "                node.right = merge(node1.right, node2.right)\n",
    "            return node\n",
    "        return merge(root1,root2)"
   ]
  },
  {
   "cell_type": "code",
   "execution_count": null,
   "id": "9c0c000e-ed6c-4807-b418-f845e05b4aed",
   "metadata": {},
   "outputs": [],
   "source": []
  }
 ],
 "metadata": {
  "kernelspec": {
   "display_name": "Python 3 (ipykernel)",
   "language": "python",
   "name": "python3"
  },
  "language_info": {
   "codemirror_mode": {
    "name": "ipython",
    "version": 3
   },
   "file_extension": ".py",
   "mimetype": "text/x-python",
   "name": "python",
   "nbconvert_exporter": "python",
   "pygments_lexer": "ipython3",
   "version": "3.9.7"
  }
 },
 "nbformat": 4,
 "nbformat_minor": 5
}
