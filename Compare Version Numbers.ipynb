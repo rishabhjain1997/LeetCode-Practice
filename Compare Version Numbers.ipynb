{
 "cells": [
  {
   "cell_type": "code",
   "execution_count": 41,
   "id": "0f0f5aa3-20c7-4d77-84f8-75f7356990da",
   "metadata": {},
   "outputs": [],
   "source": [
    "class Solution:\n",
    "    def compareVersion(self, version1: str, version2: str) -> int:\n",
    "        ver1 = (version1.split(\".\"))\n",
    "        ver2 = (version2.split(\".\"))\n",
    "        ver1 = list(map(lambda x: int(x), ver1))\n",
    "        ver2 = list(map(lambda x: int(x), ver2))\n",
    "        if len(ver1) < len(ver2):\n",
    "            ver1.extend([0]*(len(ver2)-len(ver1)))\n",
    "        if len(ver1) > len(ver2):\n",
    "            ver2.extend([0]*(len(ver1)-len(ver2)))\n",
    "        print(ver1,ver2)\n",
    "        for index in range(len(ver1)):\n",
    "            if ver1[index] > ver2[index]:\n",
    "                return 1\n",
    "            elif ver1[index] < ver2[index]:\n",
    "                return -1\n",
    "        return 0"
   ]
  },
  {
   "cell_type": "code",
   "execution_count": 42,
   "id": "630ab7fb-2227-4605-a87c-506a6160befc",
   "metadata": {},
   "outputs": [
    {
     "name": "stdout",
     "output_type": "stream",
     "text": [
      "[1, 0, 1] [1, 0, 0]\n"
     ]
    },
    {
     "data": {
      "text/plain": [
       "1"
      ]
     },
     "execution_count": 42,
     "metadata": {},
     "output_type": "execute_result"
    }
   ],
   "source": [
    "s = Solution()\n",
    "s.compareVersion(version1 = \"1.0.1\", version2 = \"1\")"
   ]
  },
  {
   "cell_type": "code",
   "execution_count": null,
   "id": "c2e5e9d9-6365-4d8d-a7cd-5365a1956cbc",
   "metadata": {},
   "outputs": [],
   "source": []
  }
 ],
 "metadata": {
  "kernelspec": {
   "display_name": "Python 3 (ipykernel)",
   "language": "python",
   "name": "python3"
  },
  "language_info": {
   "codemirror_mode": {
    "name": "ipython",
    "version": 3
   },
   "file_extension": ".py",
   "mimetype": "text/x-python",
   "name": "python",
   "nbconvert_exporter": "python",
   "pygments_lexer": "ipython3",
   "version": "3.9.7"
  }
 },
 "nbformat": 4,
 "nbformat_minor": 5
}
