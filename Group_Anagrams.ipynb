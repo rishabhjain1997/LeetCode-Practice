{
 "cells": [
  {
   "cell_type": "code",
   "execution_count": 2,
   "id": "15c115fc-0a68-4ba9-9d00-d125dee58ddc",
   "metadata": {},
   "outputs": [],
   "source": [
    "from typing import List"
   ]
  },
  {
   "cell_type": "code",
   "execution_count": 62,
   "id": "cf5191ce-7131-4758-9688-63506c3a6b4b",
   "metadata": {},
   "outputs": [],
   "source": [
    "class Solution:\n",
    "    from collections import Counter, defaultdict\n",
    "    def groupAnagrams(self, strs: List[str]) -> List[List[str]]:\n",
    "        anagrams = defaultdict(list)\n",
    "        for word in strs:\n",
    "            anagrams[tuple(sorted(word))].append(word)\n",
    "        return(list(anagrams.values()))\n",
    "            \n",
    "        "
   ]
  },
  {
   "cell_type": "code",
   "execution_count": 63,
   "id": "c0175b70-6c7d-494a-8ef3-c63cd12aa5f8",
   "metadata": {},
   "outputs": [
    {
     "name": "stdout",
     "output_type": "stream",
     "text": [
      "[['eat', 'tea', 'ate'], ['tan', 'nat'], ['bat']]\n"
     ]
    }
   ],
   "source": [
    "s = Solution()\n",
    "s.groupAnagrams(strs = [\"eat\",\"tea\",\"tan\",\"ate\",\"nat\",\"bat\"])"
   ]
  },
  {
   "cell_type": "code",
   "execution_count": null,
   "id": "272da6fb-64da-4919-84ce-5360226f6128",
   "metadata": {},
   "outputs": [],
   "source": [
    "#         for index in range(len(strs)):\n",
    "#             word = strs[index]\n",
    "#             if index in visited:\n",
    "#                 continue\n",
    "#             visited.add(index)\n",
    "#             anagram = [word]\n",
    "#             for index2 in range(len(strs)):\n",
    "#                 word2 = strs[index2]\n",
    "#                 if index2 in visited:\n",
    "#                     continue\n",
    "                \n",
    "#                 if counts[index] == counts[index2]:\n",
    "#                     anagram.append(word2)\n",
    "#                     visited.add(index2)\n",
    "#             res.append(anagram)"
   ]
  }
 ],
 "metadata": {
  "kernelspec": {
   "display_name": "Python 3 (ipykernel)",
   "language": "python",
   "name": "python3"
  },
  "language_info": {
   "codemirror_mode": {
    "name": "ipython",
    "version": 3
   },
   "file_extension": ".py",
   "mimetype": "text/x-python",
   "name": "python",
   "nbconvert_exporter": "python",
   "pygments_lexer": "ipython3",
   "version": "3.9.7"
  }
 },
 "nbformat": 4,
 "nbformat_minor": 5
}
