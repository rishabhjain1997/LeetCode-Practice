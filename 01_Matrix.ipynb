{
 "cells": [
  {
   "cell_type": "code",
   "execution_count": 2,
   "id": "70888930-221d-4f4d-af29-51ef881c1532",
   "metadata": {},
   "outputs": [],
   "source": [
    "from typing import List"
   ]
  },
  {
   "cell_type": "code",
   "execution_count": 28,
   "id": "5513a01b-8942-4951-afc2-258360c49d0b",
   "metadata": {},
   "outputs": [],
   "source": [
    "class Solution:\n",
    "    def bruteForceUpdateMatrix(self, mat: List[List[int]]) -> List[List[int]]:\n",
    "        rows = len(mat)\n",
    "        columns = len(mat[0])\n",
    "        distance_matrix = [[float('inf') for _ in range(columns)] for _ in range(rows)]\n",
    "        #print(distance_matrix)\n",
    "        def calculate_distance(i,j):\n",
    "            min_distance = distance_matrix[i][j]\n",
    "            if mat[i][j] == 0:\n",
    "                return 0\n",
    "            for r in range(rows):\n",
    "                for c in range(columns):\n",
    "                    if mat[r][c] == 0:\n",
    "                        min_distance = min(min_distance, abs(r-i) + abs(c-j))\n",
    "            return min_distance\n",
    "        for i in range(rows):\n",
    "            for j in range(columns):\n",
    "                distance_matrix[i][j] = calculate_distance(i,j)\n",
    "        return distance_matrix\n",
    "    \n",
    "    def BFSUpdateMatrix(self, mat: List[List[int]]) -> List[List[int]]:\n",
    "        rows = len(mat)\n",
    "        columns = len(mat[0])\n",
    "        from collections import deque\n",
    "        q = deque()\n",
    "        distance_matrix = list()\n",
    "        for i in range(rows):\n",
    "            row_vec = []\n",
    "            for j in range(columns):\n",
    "                if mat[i][j] == 0:\n",
    "                    dis = 0\n",
    "                    q.append((i,j))\n",
    "                else:\n",
    "                    dis = float('inf')\n",
    "                \n",
    "                row_vec.append(dis)\n",
    "            distance_matrix.append(row_vec) \n",
    "        #print(q)\n",
    "        #print(distance_matrix)\n",
    "        \n",
    "        def calculate_dis(i, j , r, c):\n",
    "            if distance_matrix[i][j] > 1 + distance_matrix[r][c]:\n",
    "                distance_matrix[i][j] = 1 + distance_matrix[r][c]\n",
    "                q.append((i,j))\n",
    "                \n",
    "        def updateMatrix(i,j):\n",
    "            if i-1 >= 0:\n",
    "                calculate_dis(i-1,j,i,j)\n",
    "            if i+1 < rows:\n",
    "                calculate_dis(i+1,j,i,j)\n",
    "            if j - 1 >= 0:\n",
    "                calculate_dis(i,j-1,i,j)\n",
    "            if j + 1 < columns:\n",
    "                calculate_dis(i,j+1,i,j)\n",
    "            \n",
    "        while q:\n",
    "            i, j = q.popleft()\n",
    "            updateMatrix(i,j)\n",
    "        return distance_matrix"
   ]
  },
  {
   "cell_type": "code",
   "execution_count": 29,
   "id": "82d157e0-7139-4614-a7a2-677ab029a584",
   "metadata": {},
   "outputs": [
    {
     "name": "stdout",
     "output_type": "stream",
     "text": [
      "deque([(0, 0), (0, 1), (0, 2), (1, 0), (1, 2), (2, 0), (2, 1), (2, 2)])\n",
      "[[0, 0, 0], [0, inf, 0], [0, 0, 0]]\n"
     ]
    },
    {
     "data": {
      "text/plain": [
       "[[0, 0, 0], [0, 1, 0], [0, 0, 0]]"
      ]
     },
     "execution_count": 29,
     "metadata": {},
     "output_type": "execute_result"
    }
   ],
   "source": [
    "s = Solution()\n",
    "s.BFSUpdateMatrix(mat = [[0,0,0],[0,1,0],[0,0,0]])"
   ]
  },
  {
   "cell_type": "code",
   "execution_count": null,
   "id": "df80ef7d-7b3a-47d5-bed2-a7ff7bfde2c1",
   "metadata": {},
   "outputs": [],
   "source": []
  }
 ],
 "metadata": {
  "kernelspec": {
   "display_name": "Python 3 (ipykernel)",
   "language": "python",
   "name": "python3"
  },
  "language_info": {
   "codemirror_mode": {
    "name": "ipython",
    "version": 3
   },
   "file_extension": ".py",
   "mimetype": "text/x-python",
   "name": "python",
   "nbconvert_exporter": "python",
   "pygments_lexer": "ipython3",
   "version": "3.9.7"
  }
 },
 "nbformat": 4,
 "nbformat_minor": 5
}
