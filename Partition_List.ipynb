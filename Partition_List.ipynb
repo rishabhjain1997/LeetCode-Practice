{
 "cells": [
  {
   "cell_type": "code",
   "execution_count": 1,
   "id": "6fc26fd5-6931-4084-9830-f9add6632eea",
   "metadata": {},
   "outputs": [],
   "source": [
    "from typing import Optional"
   ]
  },
  {
   "cell_type": "code",
   "execution_count": 2,
   "id": "bcb36c84-75e4-4638-92d2-f3f3544eba77",
   "metadata": {},
   "outputs": [],
   "source": [
    "class ListNode:\n",
    "    def __init__(self, val=0, next=None):\n",
    "        self.val = val\n",
    "        self.next = next"
   ]
  },
  {
   "cell_type": "code",
   "execution_count": 3,
   "id": "e4b465c0-5f4e-49bd-a743-07e566c5a618",
   "metadata": {},
   "outputs": [],
   "source": [
    "def create_linked_list(arr):\n",
    "    prev = None\n",
    "    for index, element in enumerate(arr[::-1]):\n",
    "        curr = ListNode(element,None)\n",
    "        if prev:\n",
    "            curr.next = prev\n",
    "        prev = curr\n",
    "        if index == len(arr) -1:\n",
    "            return curr\n",
    "        \n",
    "\n",
    "def traverse_linked_list(list1):\n",
    "    iterator = list1\n",
    "    while iterator:\n",
    "        print(iterator.val)\n",
    "        iterator = iterator.next"
   ]
  },
  {
   "cell_type": "code",
   "execution_count": 9,
   "id": "e593af51-7714-4460-b1cf-800c91821a20",
   "metadata": {},
   "outputs": [],
   "source": [
    "class Solution:\n",
    "    def partition(self, head: Optional[ListNode], x: int) -> Optional[ListNode]:\n",
    "        buffer = ListNode(-1,head)\n",
    "        left = buffer\n",
    "        while left.next:\n",
    "            if left.next.val >= x:\n",
    "                break\n",
    "            left = left.next\n",
    "        right = left\n",
    "        #print(left.val)\n",
    "        while right and right.next:\n",
    "            while right.next and right.next.val <x:\n",
    "                temp = right.next\n",
    "                right.next = right.next.next\n",
    "                temp.next = left.next\n",
    "                left.next = temp\n",
    "                left = temp\n",
    "            right = right.next\n",
    "        return buffer.next"
   ]
  },
  {
   "cell_type": "code",
   "execution_count": 10,
   "id": "eab3c300-0904-4d39-a307-75481a2c656a",
   "metadata": {},
   "outputs": [
    {
     "name": "stdout",
     "output_type": "stream",
     "text": [
      "4\n",
      "1\n",
      "0\n",
      "2\n",
      "2\n",
      "2\n",
      "2\n",
      "4\n",
      "0\n",
      "4\n",
      "2\n",
      "3\n",
      "1\n"
     ]
    }
   ],
   "source": [
    "s = Solution()\n",
    "traverse_linked_list(s.partition(head = create_linked_list([4,1,0,2,2,2,2,4,0,4,2,3,1]), x = 5))"
   ]
  },
  {
   "cell_type": "code",
   "execution_count": null,
   "id": "c5caddc9-2b51-4d28-ad59-358b8190023b",
   "metadata": {},
   "outputs": [],
   "source": []
  },
  {
   "cell_type": "code",
   "execution_count": 6,
   "id": "5127b0ae-d654-4010-98d4-97a2aed29b8e",
   "metadata": {},
   "outputs": [],
   "source": [
    "a = create_linked_list([1,4])"
   ]
  },
  {
   "cell_type": "code",
   "execution_count": 7,
   "id": "27ee10a1-d7de-44b2-9564-f80bce86320c",
   "metadata": {},
   "outputs": [
    {
     "data": {
      "text/plain": [
       "4"
      ]
     },
     "execution_count": 7,
     "metadata": {},
     "output_type": "execute_result"
    }
   ],
   "source": [
    "a.next.val"
   ]
  },
  {
   "cell_type": "code",
   "execution_count": null,
   "id": "e789bfe5-f72e-418a-9d9a-e01d4a43c0ed",
   "metadata": {},
   "outputs": [],
   "source": []
  }
 ],
 "metadata": {
  "kernelspec": {
   "display_name": "Python 3 (ipykernel)",
   "language": "python",
   "name": "python3"
  },
  "language_info": {
   "codemirror_mode": {
    "name": "ipython",
    "version": 3
   },
   "file_extension": ".py",
   "mimetype": "text/x-python",
   "name": "python",
   "nbconvert_exporter": "python",
   "pygments_lexer": "ipython3",
   "version": "3.9.7"
  }
 },
 "nbformat": 4,
 "nbformat_minor": 5
}
