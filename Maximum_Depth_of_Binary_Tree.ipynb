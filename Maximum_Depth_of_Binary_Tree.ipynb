{
 "cells": [
  {
   "cell_type": "code",
   "execution_count": 1,
   "id": "71febde5-4ca5-41e8-a85c-38a3e024eefc",
   "metadata": {},
   "outputs": [],
   "source": [
    "from typing import Optional, List"
   ]
  },
  {
   "cell_type": "code",
   "execution_count": 15,
   "id": "2f3fcce5-29bb-4214-9adf-a6ac4f5f0c8b",
   "metadata": {},
   "outputs": [],
   "source": [
    "class TreeNode:\n",
    "    def __init__(self, val=0, left=None, right=None):\n",
    "        self.val = val\n",
    "        self.left = left\n",
    "        self.right = right\n",
    "#seven = TreeNode(7)\n",
    "#fifteen = TreeNode(15)\n",
    "#twenty = TreeNode(20,fifteen, seven)\n",
    "nine = TreeNode(9)\n",
    "three = TreeNode(3,nine, None)"
   ]
  },
  {
   "cell_type": "code",
   "execution_count": 18,
   "id": "feecc424-0f95-495b-93a1-d044605cbfd4",
   "metadata": {},
   "outputs": [],
   "source": [
    "class Solution:\n",
    "    def maxDepth(self, root: Optional[TreeNode]) -> int:\n",
    "        if not root:\n",
    "            return 0\n",
    "        def depth(node):\n",
    "            if not node.left and not node.right:\n",
    "                return 1\n",
    "            elif not node.left:\n",
    "                return 1 + depth(node.right)\n",
    "            elif not node.right:\n",
    "                return 1 + depth(node.left)\n",
    "            else:\n",
    "                return 1 + max( depth(node.left) , depth(node.right))\n",
    "        return depth(root)"
   ]
  },
  {
   "cell_type": "code",
   "execution_count": 19,
   "id": "b9654211-8c9a-4943-9384-e54df3d3ac34",
   "metadata": {},
   "outputs": [
    {
     "data": {
      "text/plain": [
       "2"
      ]
     },
     "execution_count": 19,
     "metadata": {},
     "output_type": "execute_result"
    }
   ],
   "source": [
    "s = Solution()\n",
    "s.maxDepth(three)"
   ]
  },
  {
   "cell_type": "code",
   "execution_count": null,
   "id": "abaa4438-8423-4e89-9e4a-5faa89065a2c",
   "metadata": {},
   "outputs": [],
   "source": []
  }
 ],
 "metadata": {
  "kernelspec": {
   "display_name": "Python 3 (ipykernel)",
   "language": "python",
   "name": "python3"
  },
  "language_info": {
   "codemirror_mode": {
    "name": "ipython",
    "version": 3
   },
   "file_extension": ".py",
   "mimetype": "text/x-python",
   "name": "python",
   "nbconvert_exporter": "python",
   "pygments_lexer": "ipython3",
   "version": "3.9.7"
  }
 },
 "nbformat": 4,
 "nbformat_minor": 5
}
