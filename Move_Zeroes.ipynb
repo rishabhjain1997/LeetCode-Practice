{
 "cells": [
  {
   "cell_type": "code",
   "execution_count": 1,
   "id": "e995fde7-76d7-47e5-b45f-2425181d2fe9",
   "metadata": {},
   "outputs": [],
   "source": [
    "from typing import List, Dict"
   ]
  },
  {
   "cell_type": "code",
   "execution_count": 21,
   "id": "b555d1a2-3a6d-4a82-91c9-c69c92ef839d",
   "metadata": {},
   "outputs": [],
   "source": [
    "class Solution:\n",
    "    def moveZeroes(self, nums: List[int]) -> None:\n",
    "        \"\"\"\n",
    "        Do not return anything, modify nums in-place instead.\n",
    "        \"\"\"\n",
    "        count = 0\n",
    "        for index, num in enumerate(nums):\n",
    "            if num == 0:\n",
    "                count = count + 1\n",
    "            elif count > 0:\n",
    "                nums[index - count] = num\n",
    "        #print(nums)\n",
    "        for i in range(1, count+1):\n",
    "            nums[(len(nums) - i)] = 0"
   ]
  },
  {
   "cell_type": "code",
   "execution_count": 22,
   "id": "3e921a4d-f923-44fc-a3db-a0cad074266e",
   "metadata": {},
   "outputs": [],
   "source": [
    "s = Solution()\n",
    "s.moveZeroes(nums = [0,1,0,3,12])"
   ]
  },
  {
   "cell_type": "code",
   "execution_count": null,
   "id": "181e2b6d-3ff3-4425-9fc8-3611fc839a0b",
   "metadata": {},
   "outputs": [],
   "source": []
  }
 ],
 "metadata": {
  "kernelspec": {
   "display_name": "Python 3 (ipykernel)",
   "language": "python",
   "name": "python3"
  },
  "language_info": {
   "codemirror_mode": {
    "name": "ipython",
    "version": 3
   },
   "file_extension": ".py",
   "mimetype": "text/x-python",
   "name": "python",
   "nbconvert_exporter": "python",
   "pygments_lexer": "ipython3",
   "version": "3.9.7"
  }
 },
 "nbformat": 4,
 "nbformat_minor": 5
}
