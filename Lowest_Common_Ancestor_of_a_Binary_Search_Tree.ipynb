{
 "cells": [
  {
   "cell_type": "code",
   "execution_count": 3,
   "id": "1a2fdb22-fcf4-411a-b1d5-19bf1f1c84eb",
   "metadata": {},
   "outputs": [],
   "source": [
    "from typing import Optional"
   ]
  },
  {
   "cell_type": "code",
   "execution_count": 4,
   "id": "544ae348-c44f-4316-a3d5-b20307008f00",
   "metadata": {},
   "outputs": [],
   "source": [
    "class TreeNode:\n",
    "    def __init__(self, val=0, left=None, right=None):\n",
    "        self.val = val\n",
    "        self.left = left\n",
    "        self.right = right"
   ]
  },
  {
   "cell_type": "code",
   "execution_count": 5,
   "id": "db0482ac-de1a-4b97-9493-16d940748fbb",
   "metadata": {},
   "outputs": [],
   "source": [
    "one = TreeNode(1)\n",
    "three = TreeNode(3)\n",
    "nine = TreeNode(9)\n",
    "six = TreeNode(6)\n",
    "two = TreeNode(2,one, three)\n",
    "seven = TreeNode(7,six,nine)\n",
    "root = TreeNode(4,two,seven)"
   ]
  },
  {
   "cell_type": "code",
   "execution_count": 6,
   "id": "b76f3ba3-af72-42a0-be55-a14405969446",
   "metadata": {},
   "outputs": [],
   "source": [
    "class Solution:\n",
    "    def lowestCommonAncestor(self, root: 'TreeNode', p: 'TreeNode', q: 'TreeNode') -> 'TreeNode':\n",
    "        curr = root\n",
    "        while curr:\n",
    "            if p.val < curr.val and q.val < curr.val:\n",
    "                curr = curr.left\n",
    "            elif p.val > curr.val and q.val > curr.val:\n",
    "                curr = curr.right\n",
    "            else:\n",
    "                return curr"
   ]
  },
  {
   "cell_type": "code",
   "execution_count": 7,
   "id": "54602714-260b-4331-af1c-af576ec069de",
   "metadata": {},
   "outputs": [
    {
     "data": {
      "text/plain": [
       "<__main__.TreeNode at 0x7ff3304cb9a0>"
      ]
     },
     "execution_count": 7,
     "metadata": {},
     "output_type": "execute_result"
    }
   ],
   "source": [
    "s = Solution()\n",
    "s.lowestCommonAncestor(root,two,seven)"
   ]
  },
  {
   "cell_type": "code",
   "execution_count": null,
   "id": "09e15bf6-5ada-41fa-b6fd-f5741a8e90ba",
   "metadata": {},
   "outputs": [],
   "source": []
  },
  {
   "cell_type": "code",
   "execution_count": null,
   "id": "60bede58-a112-481c-bf53-21bfb9660b87",
   "metadata": {},
   "outputs": [],
   "source": []
  }
 ],
 "metadata": {
  "kernelspec": {
   "display_name": "Python 3 (ipykernel)",
   "language": "python",
   "name": "python3"
  },
  "language_info": {
   "codemirror_mode": {
    "name": "ipython",
    "version": 3
   },
   "file_extension": ".py",
   "mimetype": "text/x-python",
   "name": "python",
   "nbconvert_exporter": "python",
   "pygments_lexer": "ipython3",
   "version": "3.9.7"
  }
 },
 "nbformat": 4,
 "nbformat_minor": 5
}
