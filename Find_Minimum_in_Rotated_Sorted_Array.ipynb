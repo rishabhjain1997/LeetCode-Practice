{
 "cells": [
  {
   "cell_type": "code",
   "execution_count": 1,
   "id": "ab53cf8e-3507-4ba1-ae34-1a243f7d5548",
   "metadata": {},
   "outputs": [],
   "source": [
    "from typing import List"
   ]
  },
  {
   "cell_type": "code",
   "execution_count": 2,
   "id": "e663f183-4929-437f-8017-186ea5c7da32",
   "metadata": {},
   "outputs": [],
   "source": [
    "class Solution:\n",
    "    def findMin(self, nums: List[int]) -> int:\n",
    "        if len(nums) == 1:\n",
    "            return nums[0]\n",
    "        l = 0\n",
    "        r = len(nums) -1\n",
    "        least = float('inf')\n",
    "        while l<=r:\n",
    "            if nums[l] < nums[r]:\n",
    "                least = min(least, nums[l])\n",
    "                break\n",
    "            \n",
    "            m = (l + r) // 2\n",
    "            least = min(least, nums[m])\n",
    "            if nums[m] >= nums[l]:\n",
    "                l = m + 1\n",
    "            else:\n",
    "                r = m - 1\n",
    "        return least"
   ]
  },
  {
   "cell_type": "code",
   "execution_count": null,
   "id": "3dd04d02-5e4d-4ee2-9a93-d0940c6d51d5",
   "metadata": {},
   "outputs": [],
   "source": [
    "s = Solution()\n",
    "s.findMin(nums = [3,1,2])"
   ]
  },
  {
   "cell_type": "code",
   "execution_count": null,
   "id": "931ed219-2911-4d6d-83dc-099b7ad738e2",
   "metadata": {},
   "outputs": [],
   "source": []
  }
 ],
 "metadata": {
  "kernelspec": {
   "display_name": "Python 3 (ipykernel)",
   "language": "python",
   "name": "python3"
  },
  "language_info": {
   "codemirror_mode": {
    "name": "ipython",
    "version": 3
   },
   "file_extension": ".py",
   "mimetype": "text/x-python",
   "name": "python",
   "nbconvert_exporter": "python",
   "pygments_lexer": "ipython3",
   "version": "3.9.7"
  }
 },
 "nbformat": 4,
 "nbformat_minor": 5
}
