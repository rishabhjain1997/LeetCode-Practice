{
 "cells": [
  {
   "cell_type": "code",
   "execution_count": 1,
   "id": "6965b792-84cb-41d1-915a-2739c8f02ae8",
   "metadata": {},
   "outputs": [],
   "source": [
    "from typing import List, Dict"
   ]
  },
  {
   "cell_type": "code",
   "execution_count": 49,
   "id": "d5a6a4d4-74f9-4a2b-a152-5350f9069768",
   "metadata": {},
   "outputs": [],
   "source": [
    "class Solution:\n",
    "    def generate(self, numRows: int) -> List[List[int]]:\n",
    "        triangle = []\n",
    "        for row in range(0, numRows):\n",
    "            \n",
    "            row_length = row + 1\n",
    "            row_arr = []\n",
    "            #print(row, row_length)\n",
    "            for i in range(row_length):\n",
    "                #print(i)\n",
    "                if i == row_length -1:    \n",
    "                    row_arr.append(1)\n",
    "                    triangle.append(row_arr)\n",
    "                    #print(triangle)\n",
    "                elif i == 0:\n",
    "                    row_arr.append(1)\n",
    "                else:\n",
    "                    row_arr.append(triangle[-1][i] + triangle[-1][i -1])\n",
    "        return(triangle)\n",
    "                    \n",
    "            "
   ]
  },
  {
   "cell_type": "code",
   "execution_count": 52,
   "id": "cc6e1a55-f0c7-40e1-9706-f2791230d0a5",
   "metadata": {},
   "outputs": [
    {
     "name": "stdout",
     "output_type": "stream",
     "text": [
      "[[1], [1, 1], [1, 2, 1], [1, 3, 3, 1], [1, 4, 6, 4, 1], [1, 5, 10, 10, 5, 1]]\n"
     ]
    }
   ],
   "source": [
    "s = Solution()\n",
    "s.generate(numRows = 6)"
   ]
  },
  {
   "cell_type": "code",
   "execution_count": 16,
   "id": "759badbc-868b-41d7-9eb4-bd63a0f8d77e",
   "metadata": {},
   "outputs": [
    {
     "data": {
      "text/plain": [
       "[1, 1]"
      ]
     },
     "execution_count": 16,
     "metadata": {},
     "output_type": "execute_result"
    }
   ],
   "source": [
    "a = 11\n",
    "list(map(lambda x: int(x),list(str(11))))"
   ]
  },
  {
   "cell_type": "code",
   "execution_count": null,
   "id": "7b040266-ed7f-430f-96e5-44b49323c683",
   "metadata": {},
   "outputs": [],
   "source": []
  }
 ],
 "metadata": {
  "kernelspec": {
   "display_name": "Python 3 (ipykernel)",
   "language": "python",
   "name": "python3"
  },
  "language_info": {
   "codemirror_mode": {
    "name": "ipython",
    "version": 3
   },
   "file_extension": ".py",
   "mimetype": "text/x-python",
   "name": "python",
   "nbconvert_exporter": "python",
   "pygments_lexer": "ipython3",
   "version": "3.9.7"
  }
 },
 "nbformat": 4,
 "nbformat_minor": 5
}
