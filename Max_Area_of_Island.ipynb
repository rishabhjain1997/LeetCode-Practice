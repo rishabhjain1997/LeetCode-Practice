{
 "cells": [
  {
   "cell_type": "code",
   "execution_count": 1,
   "id": "187ada85-ace8-48fa-b74a-337372bebfcf",
   "metadata": {},
   "outputs": [],
   "source": [
    "from typing import List"
   ]
  },
  {
   "cell_type": "code",
   "execution_count": 6,
   "id": "3f9769dd-3a25-48de-92dd-b4fc09d563b3",
   "metadata": {},
   "outputs": [],
   "source": [
    "class Solution:\n",
    "    def maxAreaOfIsland(self, grid: List[List[int]]) -> int:\n",
    "        def calculate_max(i,j):\n",
    "            \n",
    "            if i < 0 or j < 0 or j >= columns or i >= rows or j >= columns or (i,j) in visited or grid[i][j] == 0:\n",
    "                return 0\n",
    "            visited.add((i,j))\n",
    "            area = (1+ calculate_max(i, j+1)+ calculate_max(i, j-1)+ calculate_max(i+1, j) + calculate_max(i-1, j))\n",
    "            #max_area = max(max_area, area)\n",
    "            return area\n",
    "        \n",
    "        max_area = 0\n",
    "        rows = len(grid)\n",
    "        columns = len(grid[0])\n",
    "        #hi = 1\n",
    "        visited = set()\n",
    "        \n",
    "\n",
    "        \n",
    "        for i in range(rows):\n",
    "            for j in range(columns):\n",
    "                if grid[i][j] == 1:\n",
    "                    #calculate_max(i,j, max_area)\n",
    "                    max_area = max(max_area, calculate_max(i,j) )\n",
    "        #print(visited)\n",
    "        return max_area"
   ]
  },
  {
   "cell_type": "code",
   "execution_count": 7,
   "id": "a81f50d0-cab4-4273-b805-1175a6f7b2a6",
   "metadata": {},
   "outputs": [
    {
     "data": {
      "text/plain": [
       "6"
      ]
     },
     "execution_count": 7,
     "metadata": {},
     "output_type": "execute_result"
    }
   ],
   "source": [
    "s = Solution()\n",
    "s.maxAreaOfIsland(grid = [[0,0,1,0,0,0,0,1,0,0,0,0,0],[0,0,0,0,0,0,0,1,1,1,0,0,0],[0,1,1,0,1,0,0,0,0,0,0,0,0],[0,1,0,0,1,1,0,0,1,0,1,0,0],[0,1,0,0,1,1,0,0,1,1,1,0,0],[0,0,0,0,0,0,0,0,0,0,1,0,0],[0,0,0,0,0,0,0,1,1,1,0,0,0],[0,0,0,0,0,0,0,1,1,0,0,0,0]])\n",
    "#6"
   ]
  },
  {
   "cell_type": "code",
   "execution_count": null,
   "id": "f443ab09-10da-4af2-9031-95c53703c92e",
   "metadata": {},
   "outputs": [],
   "source": []
  }
 ],
 "metadata": {
  "kernelspec": {
   "display_name": "Python 3 (ipykernel)",
   "language": "python",
   "name": "python3"
  },
  "language_info": {
   "codemirror_mode": {
    "name": "ipython",
    "version": 3
   },
   "file_extension": ".py",
   "mimetype": "text/x-python",
   "name": "python",
   "nbconvert_exporter": "python",
   "pygments_lexer": "ipython3",
   "version": "3.9.7"
  }
 },
 "nbformat": 4,
 "nbformat_minor": 5
}
