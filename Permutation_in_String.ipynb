{
 "cells": [
  {
   "cell_type": "code",
   "execution_count": 26,
   "id": "a1803d3f-1ae0-4ec1-acc3-fd67836c07e9",
   "metadata": {},
   "outputs": [],
   "source": [
    "from collections import Counter\n",
    "class Solution:\n",
    "    def checkInclusion(self, s1: str, s2: str) -> bool:\n",
    "        def checkPermutation(s):\n",
    "            #print(s,s1)\n",
    "            return(Counter(s) == Counter(s1))\n",
    "        for index,letter in enumerate(s2):\n",
    "            if len(s2) - index < len(s1):\n",
    "                return False\n",
    "            if letter in s1:\n",
    "                if checkPermutation(s2[index:index+len(s1)]):\n",
    "                    return True\n",
    "        return False"
   ]
  },
  {
   "cell_type": "code",
   "execution_count": 27,
   "id": "247395cf-fa0f-45ca-a6d7-b136684f8194",
   "metadata": {},
   "outputs": [
    {
     "data": {
      "text/plain": [
       "False"
      ]
     },
     "execution_count": 27,
     "metadata": {},
     "output_type": "execute_result"
    }
   ],
   "source": [
    "s = Solution()\n",
    "s.checkInclusion(s1 = \"hello\", s2 = \"ooolleoooleh\")"
   ]
  },
  {
   "cell_type": "code",
   "execution_count": null,
   "id": "dc62c530-a5f0-4405-b76f-25505abdfdc7",
   "metadata": {},
   "outputs": [],
   "source": []
  }
 ],
 "metadata": {
  "kernelspec": {
   "display_name": "Python 3 (ipykernel)",
   "language": "python",
   "name": "python3"
  },
  "language_info": {
   "codemirror_mode": {
    "name": "ipython",
    "version": 3
   },
   "file_extension": ".py",
   "mimetype": "text/x-python",
   "name": "python",
   "nbconvert_exporter": "python",
   "pygments_lexer": "ipython3",
   "version": "3.9.7"
  }
 },
 "nbformat": 4,
 "nbformat_minor": 5
}
