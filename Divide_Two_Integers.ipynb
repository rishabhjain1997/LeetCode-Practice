{
 "cells": [
  {
   "cell_type": "code",
   "execution_count": 1,
   "id": "5cfc18aa-f011-4688-8b44-c788aa1d49e8",
   "metadata": {},
   "outputs": [],
   "source": [
    "class Solution:\n",
    "    def divide(self, dividend: int, divisor: int) -> int:\n",
    "        def computeSign(dividend:int, divisor:int) -> int:\n",
    "            if (dividend > 0 and divisor > 0) or (dividend < 0 and divisor < 0):\n",
    "                return 1\n",
    "            return -1\n",
    "    \n",
    "        sign = computeSign(dividend, divisor)\n",
    "        dividend = abs(dividend)\n",
    "        divisor = abs(divisor)\n",
    "        \n",
    "        count = 0\n",
    "        quotient = 0 \n",
    "        if divisor == 1:\n",
    "            return dividend * sign\n",
    "        while count <= dividend:\n",
    "            count = count + divisor\n",
    "            quotient += 1\n",
    "            print(dividend, '/', divisor, 'quotient:',quotient, 'count:',count)\n",
    "        \n",
    "        return (quotient-1) * sign"
   ]
  },
  {
   "cell_type": "code",
   "execution_count": 2,
   "id": "0c52308f-de6b-4f00-9ea2-7fcc3b64aa97",
   "metadata": {},
   "outputs": [
    {
     "data": {
      "text/plain": [
       "2147483648"
      ]
     },
     "execution_count": 2,
     "metadata": {},
     "output_type": "execute_result"
    }
   ],
   "source": [
    "s = Solution()\n",
    "s.divide(dividend = -2147483648, divisor = -1)"
   ]
  },
  {
   "cell_type": "code",
   "execution_count": null,
   "id": "e15878a1-9a7d-45a8-8340-4909b04c68bc",
   "metadata": {},
   "outputs": [],
   "source": []
  },
  {
   "cell_type": "code",
   "execution_count": null,
   "id": "0d609b40-55d9-4ccd-9e29-3c4182d4288f",
   "metadata": {},
   "outputs": [],
   "source": []
  }
 ],
 "metadata": {
  "kernelspec": {
   "display_name": "Python 3 (ipykernel)",
   "language": "python",
   "name": "python3"
  },
  "language_info": {
   "codemirror_mode": {
    "name": "ipython",
    "version": 3
   },
   "file_extension": ".py",
   "mimetype": "text/x-python",
   "name": "python",
   "nbconvert_exporter": "python",
   "pygments_lexer": "ipython3",
   "version": "3.9.7"
  }
 },
 "nbformat": 4,
 "nbformat_minor": 5
}
