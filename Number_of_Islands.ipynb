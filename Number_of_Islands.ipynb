{
 "cells": [
  {
   "cell_type": "code",
   "execution_count": 1,
   "id": "07f61727-01eb-42ea-b164-9065c27a47a1",
   "metadata": {},
   "outputs": [],
   "source": [
    "from typing import List"
   ]
  },
  {
   "cell_type": "code",
   "execution_count": 25,
   "id": "5dd00272-fbe6-4d49-8138-6d0247b46b9b",
   "metadata": {},
   "outputs": [],
   "source": [
    "class Solution:\n",
    "    def numIslands(self, grid: List[List[str]]) -> int:\n",
    "        count = 0\n",
    "        visited = set()\n",
    "        def dfs(row,col):\n",
    "            if (row,col) in visited or row < 0 or col < 0 or row >= len(grid) or col >= len(grid[0]) or grid[row][col] !=\"1\":\n",
    "                return\n",
    "            else:\n",
    "                visited.add((row,col))\n",
    "                dfs(row+1,col)\n",
    "                dfs(row-1,col)\n",
    "                dfs(row,col+1)\n",
    "                dfs(row,col-1)\n",
    "            \n",
    "        for row in range(len(grid)):\n",
    "            for col in range(len(grid[row])):\n",
    "                if grid[row][col] == \"1\" and (row,col) not in visited:\n",
    "                    #print(visited)\n",
    "                    dfs(row,col)\n",
    "                    count +=1\n",
    "        #print(visited)\n",
    "        return count"
   ]
  },
  {
   "cell_type": "code",
   "execution_count": 26,
   "id": "de677d7f-01a9-4959-8f99-777793cb25a6",
   "metadata": {},
   "outputs": [
    {
     "data": {
      "text/plain": [
       "3"
      ]
     },
     "execution_count": 26,
     "metadata": {},
     "output_type": "execute_result"
    }
   ],
   "source": [
    "s = Solution()\n",
    "s.numIslands(grid = [\n",
    "  [\"1\",\"1\",\"0\",\"0\",\"0\"],\n",
    "  [\"1\",\"1\",\"0\",\"0\",\"0\"],\n",
    "  [\"0\",\"0\",\"1\",\"0\",\"0\"],\n",
    "  [\"0\",\"0\",\"0\",\"1\",\"1\"]\n",
    "])"
   ]
  },
  {
   "cell_type": "code",
   "execution_count": 18,
   "id": "10c92245-6166-49f6-9e26-f31ce78af792",
   "metadata": {},
   "outputs": [
    {
     "data": {
      "text/plain": [
       "{(1, 2)}"
      ]
     },
     "execution_count": 18,
     "metadata": {},
     "output_type": "execute_result"
    }
   ],
   "source": [
    "a = set()\n",
    "a.add((1,2))\n",
    "a"
   ]
  },
  {
   "cell_type": "code",
   "execution_count": 19,
   "id": "f61b4ac8-0e52-41d4-9f7d-3267a8d7be03",
   "metadata": {},
   "outputs": [
    {
     "data": {
      "text/plain": [
       "True"
      ]
     },
     "execution_count": 19,
     "metadata": {},
     "output_type": "execute_result"
    }
   ],
   "source": [
    "(1,2) in a"
   ]
  },
  {
   "cell_type": "code",
   "execution_count": null,
   "id": "6e5bbb87-cad6-4ea6-ac85-42497a1176c1",
   "metadata": {},
   "outputs": [],
   "source": []
  }
 ],
 "metadata": {
  "kernelspec": {
   "display_name": "Python 3 (ipykernel)",
   "language": "python",
   "name": "python3"
  },
  "language_info": {
   "codemirror_mode": {
    "name": "ipython",
    "version": 3
   },
   "file_extension": ".py",
   "mimetype": "text/x-python",
   "name": "python",
   "nbconvert_exporter": "python",
   "pygments_lexer": "ipython3",
   "version": "3.9.7"
  }
 },
 "nbformat": 4,
 "nbformat_minor": 5
}
