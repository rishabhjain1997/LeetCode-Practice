{
 "cells": [
  {
   "cell_type": "code",
   "execution_count": 1,
   "id": "738b14e3-61d9-43f6-8c6d-0164f9667027",
   "metadata": {},
   "outputs": [],
   "source": [
    "from typing import List"
   ]
  },
  {
   "cell_type": "code",
   "execution_count": 2,
   "id": "cffc7fcc-2c92-4098-b6e7-a8d7d60a4184",
   "metadata": {},
   "outputs": [],
   "source": [
    "# class Solution:\n",
    "#     def combinationSum2(self, candidates: List[int], target: int) -> List[List[int]]:\n",
    "#         solutions = set()\n",
    "#         combinations = set()\n",
    "#         for candidate in candidates:\n",
    "            \n",
    "#             if candidate > target:\n",
    "#                 continue\n",
    "#             else:\n",
    "#                 intermediate = set()\n",
    "#                 for solution in solutions:\n",
    "#                     if target - sum(solution) - candidate < 0:\n",
    "#                         continue\n",
    "#                     elif target - sum(solution) - candidate > 0:\n",
    "#                         intermediate.add(tuple(sorted(solution + (candidate,))))\n",
    "#                     else:\n",
    "#                         #print(solution)\n",
    "#                         #print(candidate)\n",
    "#                         combinations.add(tuple(sorted(solution + (candidate,))))\n",
    "#                 if target - candidate > 0:\n",
    "#                     intermediate.add(tuple([candidate]))\n",
    "#                 else:\n",
    "#                     combinations.add(tuple([candidate]))\n",
    "#                 solutions = set.union(solutions , intermediate)\n",
    "#                 #print(solutions)\n",
    "                \n",
    "#         return list(map(lambda x:list(x),combinations))\n",
    "        "
   ]
  },
  {
   "cell_type": "code",
   "execution_count": 5,
   "id": "93615180-4bad-4d24-8179-78f52cef6b66",
   "metadata": {},
   "outputs": [],
   "source": [
    "class Solution:\n",
    "    def combinationSum2(self, candidates: List[int], target: int) -> List[List[int]]:\n",
    "        candidates.sort()\n",
    "        res = []\n",
    "        def backtrack(cur, pos , target):\n",
    "            if target == 0:\n",
    "                res.append(cur.copy())\n",
    "            if target <= 0:\n",
    "                return\n",
    "            prev = -1\n",
    "            for i in range(pos, len(candidates)):\n",
    "                if candidates[i] == prev:\n",
    "                    continue\n",
    "                cur.append(candidates[i])\n",
    "                backtrack(cur, i + 1, target - candidates[i])\n",
    "                cur.pop()\n",
    "                \n",
    "                prev = candidates[i]\n",
    "        backtrack([],0, target)\n",
    "        return res\n",
    "        "
   ]
  },
  {
   "cell_type": "code",
   "execution_count": null,
   "id": "e3cd0a70-b015-48dd-805b-255646a8b092",
   "metadata": {},
   "outputs": [],
   "source": [
    "s = Solution()\n",
    "s.combinationSum2(candidates = [10,1,2,7,6,1,5], target = 8)"
   ]
  },
  {
   "cell_type": "code",
   "execution_count": null,
   "id": "85301801-5f18-4d3a-b996-eb03910a0e32",
   "metadata": {},
   "outputs": [],
   "source": []
  }
 ],
 "metadata": {
  "kernelspec": {
   "display_name": "Python 3 (ipykernel)",
   "language": "python",
   "name": "python3"
  },
  "language_info": {
   "codemirror_mode": {
    "name": "ipython",
    "version": 3
   },
   "file_extension": ".py",
   "mimetype": "text/x-python",
   "name": "python",
   "nbconvert_exporter": "python",
   "pygments_lexer": "ipython3",
   "version": "3.9.7"
  }
 },
 "nbformat": 4,
 "nbformat_minor": 5
}
