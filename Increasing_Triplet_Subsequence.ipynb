{
 "cells": [
  {
   "cell_type": "code",
   "execution_count": 1,
   "id": "206f6395-b258-442a-90ed-0bbadd595bad",
   "metadata": {},
   "outputs": [],
   "source": [
    "from typing import List"
   ]
  },
  {
   "cell_type": "code",
   "execution_count": 10,
   "id": "9a367484-cad1-41b2-8e36-4346b875445f",
   "metadata": {},
   "outputs": [],
   "source": [
    "class Solution:\n",
    "    def increasingTriplet(self, nums: List[int]) -> bool:\n",
    "        first = float('inf')\n",
    "        second = float('inf')\n",
    "        for num in nums:\n",
    "            if num > second:\n",
    "                return True\n",
    "            elif num < first:\n",
    "                first = num\n",
    "            elif num < second and num > first:\n",
    "                second = num\n",
    "            print(\"Num: \",num,\" First: \",first,\" Second: \",second)\n",
    "        return False"
   ]
  },
  {
   "cell_type": "code",
   "execution_count": 11,
   "id": "33c6ff1f-1a2b-48f4-9bc9-dd313077dcec",
   "metadata": {},
   "outputs": [
    {
     "name": "stdout",
     "output_type": "stream",
     "text": [
      "Num:  10  First:  10  Second:  inf\n",
      "Num:  20  First:  10  Second:  20\n",
      "Num:  3  First:  3  Second:  20\n",
      "Num:  2  First:  2  Second:  20\n",
      "Num:  1  First:  1  Second:  20\n",
      "Num:  1  First:  1  Second:  20\n",
      "Num:  2  First:  1  Second:  2\n",
      "Num:  0  First:  0  Second:  2\n"
     ]
    },
    {
     "data": {
      "text/plain": [
       "True"
      ]
     },
     "execution_count": 11,
     "metadata": {},
     "output_type": "execute_result"
    }
   ],
   "source": [
    "s = Solution()\n",
    "s.increasingTriplet([10,20,3,2,1,1,2,0,4])"
   ]
  },
  {
   "cell_type": "code",
   "execution_count": null,
   "id": "4656a55f-79f0-4b34-907e-698f744344a8",
   "metadata": {},
   "outputs": [],
   "source": []
  }
 ],
 "metadata": {
  "kernelspec": {
   "display_name": "Python 3 (ipykernel)",
   "language": "python",
   "name": "python3"
  },
  "language_info": {
   "codemirror_mode": {
    "name": "ipython",
    "version": 3
   },
   "file_extension": ".py",
   "mimetype": "text/x-python",
   "name": "python",
   "nbconvert_exporter": "python",
   "pygments_lexer": "ipython3",
   "version": "3.9.7"
  }
 },
 "nbformat": 4,
 "nbformat_minor": 5
}
