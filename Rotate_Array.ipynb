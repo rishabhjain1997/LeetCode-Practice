{
 "cells": [
  {
   "cell_type": "code",
   "execution_count": 3,
   "id": "e5c303ca-c88f-4396-845d-4f5654d3223f",
   "metadata": {},
   "outputs": [],
   "source": [
    "from typing import List"
   ]
  },
  {
   "cell_type": "code",
   "execution_count": 18,
   "id": "109b28cf-f586-4720-b7b0-61e2eb840969",
   "metadata": {},
   "outputs": [],
   "source": [
    "class Solution:\n",
    "    def rotate(self, nums: List[int], k: int) -> None:\n",
    "        \"\"\"\n",
    "        Do not return anything, modify nums in-place instead.\n",
    "        \"\"\"\n",
    "        k = k % len(nums)\n",
    "        def replace(a,b):\n",
    "            placeholder = nums[a]\n",
    "            nums[a] = nums[b]\n",
    "            nums[b] = placeholder\n",
    "        \n",
    "        low = 0\n",
    "        high = len(nums) - 1\n",
    "        right = len(nums) - k\n",
    "        left = right - 1\n",
    "        while low < left:\n",
    "            replace(low,left)\n",
    "            low = low + 1\n",
    "            left = left - 1\n",
    "        #print(nums)\n",
    "        while right < high:\n",
    "            replace(right, high)\n",
    "            right = right + 1\n",
    "            high = high - 1\n",
    "        #print(nums)\n",
    "        low = 0 \n",
    "        high = len(nums) - 1\n",
    "        while low < high:\n",
    "            replace(low,high)\n",
    "            low = low + 1\n",
    "            high = high - 1\n",
    "        #print(nums)\n",
    "            "
   ]
  },
  {
   "cell_type": "code",
   "execution_count": 20,
   "id": "9e59d2f2-d723-4e50-a618-3773206a8e4b",
   "metadata": {},
   "outputs": [
    {
     "name": "stdout",
     "output_type": "stream",
     "text": [
      "[2, 3, 4, 5, 6, 1]\n"
     ]
    }
   ],
   "source": [
    "s = Solution()\n",
    "s.rotate(nums = [1,2,3,4,5,6], k = 11)"
   ]
  },
  {
   "cell_type": "code",
   "execution_count": 15,
   "id": "37751f8e-5dac-487f-9abd-c8a5bcde54f6",
   "metadata": {},
   "outputs": [
    {
     "data": {
      "text/plain": [
       "5"
      ]
     },
     "execution_count": 15,
     "metadata": {},
     "output_type": "execute_result"
    }
   ],
   "source": []
  },
  {
   "cell_type": "code",
   "execution_count": null,
   "id": "3aec74fe-e6ba-4f74-9f7b-fce8f8031eee",
   "metadata": {},
   "outputs": [],
   "source": []
  }
 ],
 "metadata": {
  "kernelspec": {
   "display_name": "Python 3 (ipykernel)",
   "language": "python",
   "name": "python3"
  },
  "language_info": {
   "codemirror_mode": {
    "name": "ipython",
    "version": 3
   },
   "file_extension": ".py",
   "mimetype": "text/x-python",
   "name": "python",
   "nbconvert_exporter": "python",
   "pygments_lexer": "ipython3",
   "version": "3.9.7"
  }
 },
 "nbformat": 4,
 "nbformat_minor": 5
}
