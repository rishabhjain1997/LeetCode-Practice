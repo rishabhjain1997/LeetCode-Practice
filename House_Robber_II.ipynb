{
 "cells": [
  {
   "cell_type": "code",
   "execution_count": 2,
   "id": "c19f2c39-5371-4a39-949e-ea76141bb62f",
   "metadata": {},
   "outputs": [],
   "source": [
    "from typing import List"
   ]
  },
  {
   "cell_type": "code",
   "execution_count": 21,
   "id": "c549cfb3-99f6-4a4a-a23d-d607bcb87462",
   "metadata": {},
   "outputs": [],
   "source": [
    "class Solution:\n",
    "    def rob(self, nums: List[int]) -> int:\n",
    "        if len(nums) == 1:\n",
    "            return nums[0]\n",
    "        def house_rob1(arr):\n",
    "            theft = []\n",
    "            for i, num in enumerate(arr):\n",
    "                if i == 0:\n",
    "                    theft.append(num)\n",
    "                elif i == 1:\n",
    "                    theft.append(max(num, theft[-1]))\n",
    "                else:\n",
    "                    theft.append(max(theft[-1],theft[-2]+num))\n",
    "            \n",
    "            return theft[-1]\n",
    "        return max(house_rob1(nums[:-1]),house_rob1(nums[1:]))"
   ]
  },
  {
   "cell_type": "code",
   "execution_count": 22,
   "id": "f75d87b0-a50a-4f2b-b058-597e89af7c8a",
   "metadata": {},
   "outputs": [
    {
     "data": {
      "text/plain": [
       "4"
      ]
     },
     "execution_count": 22,
     "metadata": {},
     "output_type": "execute_result"
    }
   ],
   "source": [
    "s = Solution()\n",
    "s.rob([1,2,3,1])"
   ]
  },
  {
   "cell_type": "code",
   "execution_count": null,
   "id": "9dd4c942-713f-4605-84a4-f19d4ab64898",
   "metadata": {},
   "outputs": [],
   "source": []
  }
 ],
 "metadata": {
  "kernelspec": {
   "display_name": "Python 3 (ipykernel)",
   "language": "python",
   "name": "python3"
  },
  "language_info": {
   "codemirror_mode": {
    "name": "ipython",
    "version": 3
   },
   "file_extension": ".py",
   "mimetype": "text/x-python",
   "name": "python",
   "nbconvert_exporter": "python",
   "pygments_lexer": "ipython3",
   "version": "3.9.7"
  }
 },
 "nbformat": 4,
 "nbformat_minor": 5
}
