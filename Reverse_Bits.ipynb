{
 "cells": [
  {
   "cell_type": "code",
   "execution_count": 28,
   "id": "4777f194-79bf-454a-b448-55f9dc66f0ce",
   "metadata": {},
   "outputs": [],
   "source": [
    "class Solution:\n",
    "    def reverseBits(self, n: int) -> int:\n",
    "        temp = '{:032b}'.format(n)\n",
    "        #print(temp)\n",
    "        temp = temp[::-1]\n",
    "        temp = int(temp,2)\n",
    "        return(temp)\n",
    "        \n",
    "        "
   ]
  },
  {
   "cell_type": "code",
   "execution_count": 29,
   "id": "5f3b6f6c-0840-43c9-8bb9-81201623f6ea",
   "metadata": {},
   "outputs": [
    {
     "data": {
      "text/plain": [
       "964176192"
      ]
     },
     "execution_count": 29,
     "metadata": {},
     "output_type": "execute_result"
    }
   ],
   "source": [
    "s = Solution()\n",
    "s.reverseBits(43261596)"
   ]
  },
  {
   "cell_type": "code",
   "execution_count": 19,
   "id": "fb297750-383b-4edc-baa0-a01dac3dd007",
   "metadata": {},
   "outputs": [
    {
     "data": {
      "text/plain": [
       "32"
      ]
     },
     "execution_count": 19,
     "metadata": {},
     "output_type": "execute_result"
    }
   ],
   "source": [
    "len(\"00111001011110000010100101000000\")"
   ]
  },
  {
   "cell_type": "code",
   "execution_count": null,
   "id": "533d8ee1-64b1-436e-8f6c-d0bbce560222",
   "metadata": {},
   "outputs": [],
   "source": []
  }
 ],
 "metadata": {
  "kernelspec": {
   "display_name": "Python 3 (ipykernel)",
   "language": "python",
   "name": "python3"
  },
  "language_info": {
   "codemirror_mode": {
    "name": "ipython",
    "version": 3
   },
   "file_extension": ".py",
   "mimetype": "text/x-python",
   "name": "python",
   "nbconvert_exporter": "python",
   "pygments_lexer": "ipython3",
   "version": "3.9.7"
  }
 },
 "nbformat": 4,
 "nbformat_minor": 5
}
