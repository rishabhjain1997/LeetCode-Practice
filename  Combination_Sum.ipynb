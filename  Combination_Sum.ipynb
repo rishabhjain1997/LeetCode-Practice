{
 "cells": [
  {
   "cell_type": "code",
   "execution_count": 1,
   "id": "a30f27cc-fd09-4e78-8a00-feb734a3943c",
   "metadata": {},
   "outputs": [],
   "source": [
    "from typing import List"
   ]
  },
  {
   "cell_type": "code",
   "execution_count": 23,
   "id": "04e7ee7f-570f-4dcd-8de5-72d48a28e100",
   "metadata": {},
   "outputs": [],
   "source": [
    "class Solution:\n",
    "    def combinationSum(self, candidates: List[int], target: int) -> List[List[int]]:\n",
    "        A = list()\n",
    "        def dfs(i, cur):\n",
    "            if sum(cur) == target:\n",
    "                A.append(cur.copy())\n",
    "                return\n",
    "            if sum(cur) > target or i>=len(candidates):\n",
    "                return\n",
    "            dfs(i+1, cur)\n",
    "            cur.append(candidates[i])\n",
    "            dfs(i,cur)\n",
    "            cur.pop()\n",
    "        dfs(i=0,cur=[])\n",
    "        return A"
   ]
  },
  {
   "cell_type": "code",
   "execution_count": 24,
   "id": "512f2087-e722-4a46-8ebd-2ce540e69cc5",
   "metadata": {},
   "outputs": [
    {
     "data": {
      "text/plain": [
       "[[7], [2, 2, 3]]"
      ]
     },
     "execution_count": 24,
     "metadata": {},
     "output_type": "execute_result"
    }
   ],
   "source": [
    "s = Solution()\n",
    "s.combinationSum(candidates = [2,3,6,7], target = 7)"
   ]
  },
  {
   "cell_type": "code",
   "execution_count": null,
   "id": "d74ff2d5-c409-455d-8be3-f2f45a413133",
   "metadata": {},
   "outputs": [],
   "source": []
  }
 ],
 "metadata": {
  "kernelspec": {
   "display_name": "Python 3 (ipykernel)",
   "language": "python",
   "name": "python3"
  },
  "language_info": {
   "codemirror_mode": {
    "name": "ipython",
    "version": 3
   },
   "file_extension": ".py",
   "mimetype": "text/x-python",
   "name": "python",
   "nbconvert_exporter": "python",
   "pygments_lexer": "ipython3",
   "version": "3.9.7"
  }
 },
 "nbformat": 4,
 "nbformat_minor": 5
}
