{
 "cells": [
  {
   "cell_type": "code",
   "execution_count": 27,
   "id": "d4a62a24-7273-4694-a3b3-9cf89b6ae54c",
   "metadata": {},
   "outputs": [],
   "source": [
    "class Solution:\n",
    "    def addStrings(self, num1: str, num2: str) -> str:\n",
    "        if len(num1)< len(num2):\n",
    "            rev1 = num1[::-1]\n",
    "            rev2 = num2[::-1]\n",
    "        else:\n",
    "            rev2 = num1[::-1]\n",
    "            rev1 = num2[::-1]\n",
    "            \n",
    "        cum = []\n",
    "        carry = 0\n",
    "        \n",
    "        for index in range(len(rev2)):\n",
    "            try:\n",
    "                add = int(rev1[index])  + int(rev2[index]) + carry\n",
    "            except IndexError as e:\n",
    "                add = int(rev2[index]) + carry\n",
    "            #print(add)\n",
    "            if add >= 10:\n",
    "                carry = 1\n",
    "                add = add - 10\n",
    "            else:\n",
    "                carry = 0\n",
    "            cum.append(str(add))\n",
    "        cum = cum[::-1]\n",
    "        return(''.join(cum))"
   ]
  },
  {
   "cell_type": "code",
   "execution_count": 28,
   "id": "3df94485-a737-46a1-a716-3b5b148ee733",
   "metadata": {},
   "outputs": [
    {
     "name": "stdout",
     "output_type": "stream",
     "text": [
      "4\n",
      "3\n",
      "1\n"
     ]
    },
    {
     "data": {
      "text/plain": [
       "'134'"
      ]
     },
     "execution_count": 28,
     "metadata": {},
     "output_type": "execute_result"
    }
   ],
   "source": [
    "s = Solution()\n",
    "s.addStrings(num1 = \"11\", num2 = \"123\")"
   ]
  },
  {
   "cell_type": "code",
   "execution_count": null,
   "id": "fbf2ff25-c2d6-41e8-9a73-274965aff264",
   "metadata": {},
   "outputs": [],
   "source": [
    "if index == len(rev1) and index < len(rev2):\n",
    "                add = int(rev2[index]) + carry\n",
    "            else:\n",
    "                add = int(rev1[index])  + int(rev2[index]) + carry\n",
    "                print(add)\n",
    "                if add >= 10:\n",
    "                    carry = 1\n",
    "                    add = add - 10\n",
    "\n",
    "                else:\n",
    "                    carry = 0\n",
    "                cum.append(add)\n",
    "        if len(rev2) > len(rev1)+1:\n",
    "            cum.append(rev2[index+1:])\n",
    "        print(cum)\n",
    "            "
   ]
  }
 ],
 "metadata": {
  "kernelspec": {
   "display_name": "Python 3 (ipykernel)",
   "language": "python",
   "name": "python3"
  },
  "language_info": {
   "codemirror_mode": {
    "name": "ipython",
    "version": 3
   },
   "file_extension": ".py",
   "mimetype": "text/x-python",
   "name": "python",
   "nbconvert_exporter": "python",
   "pygments_lexer": "ipython3",
   "version": "3.9.7"
  }
 },
 "nbformat": 4,
 "nbformat_minor": 5
}
