{
 "cells": [
  {
   "cell_type": "code",
   "execution_count": 1,
   "id": "f1cc7efd-c06d-47d8-8dfc-ea71d9462a8a",
   "metadata": {},
   "outputs": [],
   "source": [
    "from typing import List"
   ]
  },
  {
   "cell_type": "code",
   "execution_count": 25,
   "id": "3219797e-0c80-47a7-acf2-3df0d16ff223",
   "metadata": {},
   "outputs": [],
   "source": [
    "class Solution:\n",
    "    def merge(self, nums1: List[int], m: int, nums2: List[int], n: int) -> None:\n",
    "        \"\"\"\n",
    "        Do not return anything, modify nums1 in-place instead.\n",
    "        \"\"\"\n",
    "        nums1_current = nums1[:m].copy()\n",
    "        nums2_current = nums2\n",
    "        for i in range(m+n-1, -1, -1):\n",
    "            if len(nums1_current) and len(nums2_current): \n",
    "                nums1_max = nums1_current[-1]\n",
    "                nums2_max = nums2_current[-1]\n",
    "                max_current = max(nums1_max, nums2_max)\n",
    "                if max_current == nums1_current[-1]:\n",
    "                    nums1_current = nums1_current[:-1]\n",
    "                else:\n",
    "                    nums2_current = nums2_current[:-1]\n",
    "                nums1[i] = max_current\n",
    "            elif len(nums1_current) == 0:\n",
    "                nums1[i] = nums2_current[-1]\n",
    "                nums2_current = nums2_current[:-1]\n",
    "            elif len(nums2_current) == 0:\n",
    "                nums1[i] = nums1_current[-1]\n",
    "                nums1_current = nums1_current[:-1]\n",
    "        return nums1"
   ]
  },
  {
   "cell_type": "code",
   "execution_count": 26,
   "id": "dd106909-8abc-43b3-9952-c7144e672424",
   "metadata": {},
   "outputs": [
    {
     "data": {
      "text/plain": [
       "[1, 2, 2, 3, 5, 6]"
      ]
     },
     "execution_count": 26,
     "metadata": {},
     "output_type": "execute_result"
    }
   ],
   "source": [
    "s = Solution()\n",
    "s.merge(nums1 = [1,2,3,0,0,0], m = 3, nums2 = [2,5,6], n = 3)"
   ]
  },
  {
   "cell_type": "code",
   "execution_count": null,
   "id": "3fdc8e15-dc25-4d82-b8df-2f9efd7892bc",
   "metadata": {},
   "outputs": [],
   "source": []
  },
  {
   "cell_type": "code",
   "execution_count": null,
   "id": "59c918df-dd4f-41d0-b4cd-7cf2304821b9",
   "metadata": {},
   "outputs": [],
   "source": []
  }
 ],
 "metadata": {
  "kernelspec": {
   "display_name": "Python 3 (ipykernel)",
   "language": "python",
   "name": "python3"
  },
  "language_info": {
   "codemirror_mode": {
    "name": "ipython",
    "version": 3
   },
   "file_extension": ".py",
   "mimetype": "text/x-python",
   "name": "python",
   "nbconvert_exporter": "python",
   "pygments_lexer": "ipython3",
   "version": "3.9.7"
  }
 },
 "nbformat": 4,
 "nbformat_minor": 5
}
