{
 "cells": [
  {
   "cell_type": "code",
   "execution_count": 2,
   "id": "423c4a2e-56c5-490d-be81-090364ca3f85",
   "metadata": {},
   "outputs": [],
   "source": [
    "from typing import List"
   ]
  },
  {
   "cell_type": "code",
   "execution_count": 23,
   "id": "9ffdc867-a748-4f8e-97c7-b639d65ee965",
   "metadata": {},
   "outputs": [],
   "source": [
    "class Solution:\n",
    "    def longestCommonPrefix(self, strs: List[str]) -> str:\n",
    "        def LCP(str1,str2):\n",
    "            prefix_index = -1\n",
    "            for i in range(min(len(str1),len(str2))):\n",
    "                if str1[i] == str2[i]:\n",
    "                    prefix_index = i\n",
    "                else: \n",
    "                    break\n",
    "            return str1[:prefix_index + 1]\n",
    "                \n",
    "            \n",
    "        if not len(strs):\n",
    "            return \"\"\n",
    "        elif len(strs) == 1:\n",
    "                return strs[0]\n",
    "        else:\n",
    "            current_prefix = strs[0]\n",
    "            for new_str in strs[1:]:\n",
    "                current_prefix = LCP(current_prefix,new_str)\n",
    "            return current_prefix"
   ]
  },
  {
   "cell_type": "code",
   "execution_count": 25,
   "id": "3fb4daa9-23fe-461c-90bc-cfec254e0115",
   "metadata": {},
   "outputs": [
    {
     "data": {
      "text/plain": [
       "'fl'"
      ]
     },
     "execution_count": 25,
     "metadata": {},
     "output_type": "execute_result"
    }
   ],
   "source": [
    "s = Solution()\n",
    "s.longestCommonPrefix(strs = [\"flower\",\"flow\",\"flight\"])"
   ]
  },
  {
   "cell_type": "code",
   "execution_count": null,
   "id": "a625958d-b8c4-4ee9-8bb3-51e2f4625cf3",
   "metadata": {},
   "outputs": [],
   "source": []
  }
 ],
 "metadata": {
  "kernelspec": {
   "display_name": "Python 3 (ipykernel)",
   "language": "python",
   "name": "python3"
  },
  "language_info": {
   "codemirror_mode": {
    "name": "ipython",
    "version": 3
   },
   "file_extension": ".py",
   "mimetype": "text/x-python",
   "name": "python",
   "nbconvert_exporter": "python",
   "pygments_lexer": "ipython3",
   "version": "3.9.7"
  }
 },
 "nbformat": 4,
 "nbformat_minor": 5
}
