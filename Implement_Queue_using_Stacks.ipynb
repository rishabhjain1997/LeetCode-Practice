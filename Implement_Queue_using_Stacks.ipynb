{
 "cells": [
  {
   "cell_type": "code",
   "execution_count": 59,
   "id": "c46c8901-29eb-4299-8806-4d04a48163fa",
   "metadata": {},
   "outputs": [],
   "source": [
    "from collections import deque\n",
    "class Stack:\n",
    "    def __init__(self, l=[]):\n",
    "        self.stack = deque(l)\n",
    "    def push(self,a):\n",
    "        self.stack.append(a)\n",
    "    def pop(self):\n",
    "        return self.stack.pop()\n",
    "    def __repr__(self):\n",
    "        return \" \".join(map(str,list(self.stack)))\n",
    "    def __getitem__(self,key):\n",
    "        return self.stack[key]\n",
    "    def __len__(self):\n",
    "        return len(self.stack)\n",
    "    def __contains__(self, item):\n",
    "        if item in self.stack:\n",
    "            return True\n",
    "        else:\n",
    "            return False"
   ]
  },
  {
   "cell_type": "code",
   "execution_count": 60,
   "id": "05c9de2c-a5c7-4b7c-93de-c938e2afcd20",
   "metadata": {},
   "outputs": [],
   "source": [
    "class MyQueue:\n",
    "\n",
    "    def __init__(self):\n",
    "        self.s1 = Stack()\n",
    "        self.s2 = Stack()\n",
    "    \n",
    "    \n",
    "    def push(self, x: int) -> None:\n",
    "        while self.s1:\n",
    "            self.s2.push(self.s1.pop())\n",
    "        self.s1.push(x)\n",
    "        while self.s2:\n",
    "            self.s1.push(self.s2.pop())\n",
    "\n",
    "    def pop(self) -> int:\n",
    "        return self.s1.pop()\n",
    "\n",
    "    def peek(self) -> int:\n",
    "        return self.s1[-1]\n",
    "\n",
    "    def empty(self) -> bool:\n",
    "        return True if not self.s1 else False"
   ]
  },
  {
   "cell_type": "code",
   "execution_count": 61,
   "id": "7b39ff7c-ac89-4a48-a832-47574d203dff",
   "metadata": {},
   "outputs": [
    {
     "data": {
      "text/plain": [
       "1"
      ]
     },
     "execution_count": 61,
     "metadata": {},
     "output_type": "execute_result"
    }
   ],
   "source": [
    "a = MyQueue()\n",
    "a.push(1)\n",
    "a.push(2)\n",
    "a.push(3)\n",
    "a.pop()"
   ]
  },
  {
   "cell_type": "code",
   "execution_count": 62,
   "id": "7b90c686-7f5b-4f8a-ab68-51a33cd76a95",
   "metadata": {},
   "outputs": [
    {
     "data": {
      "text/plain": [
       "False"
      ]
     },
     "execution_count": 62,
     "metadata": {},
     "output_type": "execute_result"
    }
   ],
   "source": [
    "a.empty()"
   ]
  },
  {
   "cell_type": "code",
   "execution_count": 63,
   "id": "c6293a19-6634-4335-9c2b-f1ec37ff410f",
   "metadata": {},
   "outputs": [
    {
     "data": {
      "text/plain": []
     },
     "execution_count": 63,
     "metadata": {},
     "output_type": "execute_result"
    }
   ],
   "source": [
    "a.s2"
   ]
  },
  {
   "cell_type": "code",
   "execution_count": null,
   "id": "67a56a6b-184b-4018-8abe-babae574a8b2",
   "metadata": {},
   "outputs": [],
   "source": []
  },
  {
   "cell_type": "code",
   "execution_count": 64,
   "id": "218833db-70d9-426a-861a-e8a4f744ae38",
   "metadata": {},
   "outputs": [
    {
     "data": {
      "text/plain": [
       "3 2"
      ]
     },
     "execution_count": 64,
     "metadata": {},
     "output_type": "execute_result"
    }
   ],
   "source": [
    "a.s1"
   ]
  },
  {
   "cell_type": "code",
   "execution_count": 65,
   "id": "271dec88-dc62-47d5-9099-66624a77f71d",
   "metadata": {},
   "outputs": [
    {
     "data": {
      "text/plain": [
       "2"
      ]
     },
     "execution_count": 65,
     "metadata": {},
     "output_type": "execute_result"
    }
   ],
   "source": [
    "a.peek()"
   ]
  },
  {
   "cell_type": "code",
   "execution_count": 66,
   "id": "4e979cd5-7e54-402c-84b3-a90b0c5bf871",
   "metadata": {},
   "outputs": [
    {
     "data": {
      "text/plain": [
       "2"
      ]
     },
     "execution_count": 66,
     "metadata": {},
     "output_type": "execute_result"
    }
   ],
   "source": [
    "a.pop()"
   ]
  },
  {
   "cell_type": "code",
   "execution_count": null,
   "id": "2df1e086-bc63-49df-b9ca-da2858e63a06",
   "metadata": {},
   "outputs": [],
   "source": []
  }
 ],
 "metadata": {
  "kernelspec": {
   "display_name": "Python 3 (ipykernel)",
   "language": "python",
   "name": "python3"
  },
  "language_info": {
   "codemirror_mode": {
    "name": "ipython",
    "version": 3
   },
   "file_extension": ".py",
   "mimetype": "text/x-python",
   "name": "python",
   "nbconvert_exporter": "python",
   "pygments_lexer": "ipython3",
   "version": "3.9.7"
  }
 },
 "nbformat": 4,
 "nbformat_minor": 5
}
