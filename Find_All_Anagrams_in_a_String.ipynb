{
 "cells": [
  {
   "cell_type": "code",
   "execution_count": 1,
   "id": "e5e7cceb-be8f-4c36-b2a3-ae84c0f8a3f3",
   "metadata": {},
   "outputs": [],
   "source": [
    "from typing import List"
   ]
  },
  {
   "cell_type": "code",
   "execution_count": 26,
   "id": "be1fa3e8-654c-46cc-9f7d-dfe9f581893f",
   "metadata": {},
   "outputs": [],
   "source": [
    "class Solution:\n",
    "    def findAnagrams(self, s: str, p: str) -> List[int]:\n",
    "        from collections import Counter\n",
    "        p_count = Counter(p)\n",
    "        anagrams = []\n",
    "        for index in range(len(s)-len(p) + 1):\n",
    "            s_count = Counter(s[index: index+len(p)])\n",
    "            #print(index,s[index: index+len(p)], s_count, p_count)\n",
    "            if s_count == p_count:\n",
    "                anagrams.append(index)\n",
    "        return anagrams"
   ]
  },
  {
   "cell_type": "code",
   "execution_count": 27,
   "id": "43e5b826-90c2-453c-b57b-ad59fa203994",
   "metadata": {},
   "outputs": [
    {
     "name": "stdout",
     "output_type": "stream",
     "text": [
      "0 ab Counter({'a': 1, 'b': 1}) Counter({'a': 1, 'b': 1})\n",
      "1 ba Counter({'b': 1, 'a': 1}) Counter({'a': 1, 'b': 1})\n",
      "2 ab Counter({'a': 1, 'b': 1}) Counter({'a': 1, 'b': 1})\n"
     ]
    },
    {
     "data": {
      "text/plain": [
       "[0, 1, 2]"
      ]
     },
     "execution_count": 27,
     "metadata": {},
     "output_type": "execute_result"
    }
   ],
   "source": [
    "s = Solution()\n",
    "s.findAnagrams(s = \"abab\", p = \"ab\")"
   ]
  },
  {
   "cell_type": "code",
   "execution_count": null,
   "id": "4d4330b5-42f3-4707-aebc-7245b5f59174",
   "metadata": {},
   "outputs": [],
   "source": []
  }
 ],
 "metadata": {
  "kernelspec": {
   "display_name": "Python 3 (ipykernel)",
   "language": "python",
   "name": "python3"
  },
  "language_info": {
   "codemirror_mode": {
    "name": "ipython",
    "version": 3
   },
   "file_extension": ".py",
   "mimetype": "text/x-python",
   "name": "python",
   "nbconvert_exporter": "python",
   "pygments_lexer": "ipython3",
   "version": "3.9.7"
  }
 },
 "nbformat": 4,
 "nbformat_minor": 5
}
