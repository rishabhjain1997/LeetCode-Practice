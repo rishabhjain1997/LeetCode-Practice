{
 "cells": [
  {
   "cell_type": "code",
   "execution_count": 1,
   "id": "622991d5-0420-4c04-9085-79363969b989",
   "metadata": {},
   "outputs": [],
   "source": [
    "from typing import List"
   ]
  },
  {
   "cell_type": "code",
   "execution_count": 14,
   "id": "62452674-72e5-493a-806c-98ec3b07112d",
   "metadata": {},
   "outputs": [],
   "source": [
    "class Solution:\n",
    "    def setZeroes(self, matrix: List[List[int]]) -> None:\n",
    "        indexes = {'r':set(), 'c':set()}\n",
    "        for row in range(len(matrix)):\n",
    "            for column in range(len(matrix[0])):\n",
    "                if matrix[row][column] == 0:\n",
    "                    indexes['r'].add(row)\n",
    "                    indexes['c'].add(column)\n",
    "        for row in range(len(matrix)):\n",
    "            for column in range(len(matrix[0])):\n",
    "                if row in indexes['r'] or column in indexes['c']:\n",
    "                    matrix[row][column] = 0"
   ]
  },
  {
   "cell_type": "code",
   "execution_count": 15,
   "id": "d25a154c-5504-42e0-a34c-c9c15909c2f1",
   "metadata": {},
   "outputs": [
    {
     "name": "stdout",
     "output_type": "stream",
     "text": [
      "[[0, 0, 0, 0], [0, 4, 5, 0], [0, 3, 1, 0]]\n"
     ]
    }
   ],
   "source": [
    "s = Solution()\n",
    "s.setZeroes(matrix = [[0,1,2,0],[3,4,5,2],[1,3,1,5]])"
   ]
  },
  {
   "cell_type": "code",
   "execution_count": null,
   "id": "bfa69d26-142c-4b95-a05f-4ce484d7a713",
   "metadata": {},
   "outputs": [],
   "source": []
  }
 ],
 "metadata": {
  "kernelspec": {
   "display_name": "Python 3 (ipykernel)",
   "language": "python",
   "name": "python3"
  },
  "language_info": {
   "codemirror_mode": {
    "name": "ipython",
    "version": 3
   },
   "file_extension": ".py",
   "mimetype": "text/x-python",
   "name": "python",
   "nbconvert_exporter": "python",
   "pygments_lexer": "ipython3",
   "version": "3.9.7"
  }
 },
 "nbformat": 4,
 "nbformat_minor": 5
}
