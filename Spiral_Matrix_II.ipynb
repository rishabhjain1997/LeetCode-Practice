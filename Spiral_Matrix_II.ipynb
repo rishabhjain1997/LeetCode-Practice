{
 "cells": [
  {
   "cell_type": "code",
   "execution_count": 9,
   "id": "4f2af148-3149-4277-bd6a-6909b8754f41",
   "metadata": {},
   "outputs": [],
   "source": [
    "from typing import List"
   ]
  },
  {
   "cell_type": "code",
   "execution_count": 19,
   "id": "64b3b5df-adf6-4665-ab4b-7e6e98bac7d5",
   "metadata": {},
   "outputs": [],
   "source": [
    "class Solution:\n",
    "    def generateMatrix(self, n: int) -> List[List[int]]:\n",
    "        zeroes = [[0 for _ in range(n)] for _ in range(n)]\n",
    "        i, j = 0, 1\n",
    "        curr_i, curr_j = 0, 0\n",
    "        for num in range(1, n**2 + 1):\n",
    "            if curr_i + i >= n or curr_j + j >= n or curr_i + i < 0 or curr_j + j < 0 or zeroes[curr_i + i][curr_j + j] != 0:\n",
    "                temp = i\n",
    "                i = j\n",
    "                j = temp * -1\n",
    "            zeroes[curr_i][curr_j] = num\n",
    "            curr_i = curr_i"
   ]
  },
  {
   "cell_type": "code",
   "execution_count": 18,
   "id": "2559b960-a07d-4e5e-b9b5-f3beb92c8412",
   "metadata": {},
   "outputs": [
    {
     "name": "stdout",
     "output_type": "stream",
     "text": [
      "1\n",
      "2\n",
      "3\n",
      "4\n",
      "5\n",
      "6\n",
      "7\n",
      "8\n",
      "9\n"
     ]
    }
   ],
   "source": [
    "s = Solution()\n",
    "s.generateMatrix(3)"
   ]
  },
  {
   "cell_type": "code",
   "execution_count": 12,
   "id": "8fb392cb-2c9d-4259-99ce-106a9b1a5f5b",
   "metadata": {},
   "outputs": [
    {
     "name": "stdout",
     "output_type": "stream",
     "text": [
      "0 1\n",
      "1 0\n",
      "0 -1\n",
      "-1 0\n",
      "0 1\n"
     ]
    }
   ],
   "source": [
    "count = 0\n",
    "i = 0\n",
    "j = 1\n",
    "while count<5:\n",
    "    print(i,j)\n",
    "    temp = i\n",
    "    i = j\n",
    "    j = temp * -1\n",
    "    count = count + 1"
   ]
  },
  {
   "cell_type": "code",
   "execution_count": null,
   "id": "115fa7fe-39b3-42a7-bacc-530ba99e2a80",
   "metadata": {},
   "outputs": [],
   "source": []
  }
 ],
 "metadata": {
  "kernelspec": {
   "display_name": "Python 3 (ipykernel)",
   "language": "python",
   "name": "python3"
  },
  "language_info": {
   "codemirror_mode": {
    "name": "ipython",
    "version": 3
   },
   "file_extension": ".py",
   "mimetype": "text/x-python",
   "name": "python",
   "nbconvert_exporter": "python",
   "pygments_lexer": "ipython3",
   "version": "3.9.7"
  }
 },
 "nbformat": 4,
 "nbformat_minor": 5
}
