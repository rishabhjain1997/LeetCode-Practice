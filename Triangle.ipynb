{
 "cells": [
  {
   "cell_type": "code",
   "execution_count": 1,
   "id": "f4fdbf26-8df0-4fdf-bf03-05fd2f966eac",
   "metadata": {},
   "outputs": [],
   "source": [
    "from typing import List"
   ]
  },
  {
   "cell_type": "code",
   "execution_count": 8,
   "id": "c7a748ce-b354-424d-975f-350cb334791d",
   "metadata": {},
   "outputs": [],
   "source": [
    "class Solution:\n",
    "    def minimumTotal(self, triangle: List[List[int]]) -> int:\n",
    "        # rows = len(triangle)\n",
    "        cum = []\n",
    "        for row in triangle:\n",
    "            if len(row) == 1:\n",
    "                cum.append(row[:])\n",
    "                #print(cum)\n",
    "            else:\n",
    "                cum_row = []\n",
    "                for index, value in enumerate(row):\n",
    "                    \n",
    "                    #print(index,value)\n",
    "                    if index == 0:\n",
    "                        cum_row.append(cum[-1][0] + value)\n",
    "                    elif index == len(row) -1:\n",
    "                        cum_row.append(cum[-1][index - 1] + value)\n",
    "                    else:\n",
    "                        cum_row.append(min(cum[-1][index] , cum[-1][index -1]) + value)\n",
    "                cum.append(cum_row)\n",
    "        return(min(cum[-1]))"
   ]
  },
  {
   "cell_type": "code",
   "execution_count": 9,
   "id": "5a7be5e1-e74e-44fb-affe-57f55bfdacb4",
   "metadata": {},
   "outputs": [
    {
     "data": {
      "text/plain": [
       "11"
      ]
     },
     "execution_count": 9,
     "metadata": {},
     "output_type": "execute_result"
    }
   ],
   "source": [
    "s = Solution()\n",
    "s.minimumTotal(triangle = [[2],[3,4],[6,5,7],[4,1,8,3]])"
   ]
  },
  {
   "cell_type": "code",
   "execution_count": null,
   "id": "b35ac1c0-f87c-4cf1-a39c-c7fe4570345c",
   "metadata": {},
   "outputs": [],
   "source": []
  },
  {
   "cell_type": "code",
   "execution_count": null,
   "id": "87fda76a-95a6-4e9d-8569-9a690e9324b7",
   "metadata": {},
   "outputs": [],
   "source": []
  }
 ],
 "metadata": {
  "kernelspec": {
   "display_name": "Python 3 (ipykernel)",
   "language": "python",
   "name": "python3"
  },
  "language_info": {
   "codemirror_mode": {
    "name": "ipython",
    "version": 3
   },
   "file_extension": ".py",
   "mimetype": "text/x-python",
   "name": "python",
   "nbconvert_exporter": "python",
   "pygments_lexer": "ipython3",
   "version": "3.9.7"
  }
 },
 "nbformat": 4,
 "nbformat_minor": 5
}
