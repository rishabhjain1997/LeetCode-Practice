{
 "cells": [
  {
   "cell_type": "code",
   "execution_count": 2,
   "id": "2550d71a-16d9-4e9c-9fed-c42128242205",
   "metadata": {},
   "outputs": [],
   "source": [
    "from typing import List"
   ]
  },
  {
   "cell_type": "code",
   "execution_count": 9,
   "id": "fa44b522-6b19-4371-80a5-112e2e543760",
   "metadata": {},
   "outputs": [],
   "source": [
    "class Solution:\n",
    "    def sortedSquares(self, nums: List[int]) -> List[int]:\n",
    "        low = 0\n",
    "        high = len(nums) - 1\n",
    "        dec_squared = []\n",
    "        while low <= high:\n",
    "            #print(low,high)\n",
    "            low_squared = nums[low] ** 2\n",
    "            high_squared = nums[high] ** 2\n",
    "            if low_squared > high_squared:\n",
    "                dec_squared.append(low_squared)\n",
    "                low = low + 1\n",
    "            else: \n",
    "                dec_squared.append(high_squared)\n",
    "                high = high - 1\n",
    "        return dec_squared[::-1]"
   ]
  },
  {
   "cell_type": "code",
   "execution_count": 10,
   "id": "638f04dc-b6c2-4c3b-9602-c6a2a6aaefe6",
   "metadata": {},
   "outputs": [
    {
     "data": {
      "text/plain": [
       "[0, 1, 9, 16, 100]"
      ]
     },
     "execution_count": 10,
     "metadata": {},
     "output_type": "execute_result"
    }
   ],
   "source": [
    "s = Solution()\n",
    "s.sortedSquares(nums = [-4,-1,0,3,10])"
   ]
  },
  {
   "cell_type": "code",
   "execution_count": null,
   "id": "036d83a0-6fe8-4ca3-b447-72ce02c0325a",
   "metadata": {},
   "outputs": [],
   "source": []
  }
 ],
 "metadata": {
  "kernelspec": {
   "display_name": "Python 3 (ipykernel)",
   "language": "python",
   "name": "python3"
  },
  "language_info": {
   "codemirror_mode": {
    "name": "ipython",
    "version": 3
   },
   "file_extension": ".py",
   "mimetype": "text/x-python",
   "name": "python",
   "nbconvert_exporter": "python",
   "pygments_lexer": "ipython3",
   "version": "3.9.7"
  }
 },
 "nbformat": 4,
 "nbformat_minor": 5
}
