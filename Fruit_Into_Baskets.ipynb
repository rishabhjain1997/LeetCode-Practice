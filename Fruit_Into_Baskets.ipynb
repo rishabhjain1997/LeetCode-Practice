{
 "cells": [
  {
   "cell_type": "code",
   "execution_count": 3,
   "id": "e241bcbd-f7f0-47a0-818e-69ab19016e6b",
   "metadata": {},
   "outputs": [],
   "source": [
    "from typing import List"
   ]
  },
  {
   "cell_type": "code",
   "execution_count": 50,
   "id": "0314f3b2-15ea-4e3c-ac1c-a445ceb75755",
   "metadata": {},
   "outputs": [],
   "source": [
    "class Solution:\n",
    "    def totalFruit(self, fruits: List[int]) -> int:\n",
    "        ans = 1\n",
    "        lookup = {}\n",
    "        l = 0\n",
    "        for r in range(len(fruits)):\n",
    "            lookup[fruits[r]] = lookup.get(fruits[r],0)  + 1\n",
    "            \n",
    "            if len(lookup) <= 2:\n",
    "                ans = max(ans, r-l+1)\n",
    "            if len(lookup) > 2:\n",
    "                lookup[fruits[l]] -= 1\n",
    "                if lookup[fruits[l]] == 0:\n",
    "                    lookup.pop(fruits[l])\n",
    "                l = l+1\n",
    "        return ans"
   ]
  },
  {
   "cell_type": "code",
   "execution_count": 51,
   "id": "3f199120-408d-4ce0-83fa-4f0c48e3777a",
   "metadata": {},
   "outputs": [
    {
     "data": {
      "text/plain": [
       "3"
      ]
     },
     "execution_count": 51,
     "metadata": {},
     "output_type": "execute_result"
    }
   ],
   "source": [
    "s = Solution()\n",
    "s.totalFruit([1,2,1])"
   ]
  },
  {
   "cell_type": "code",
   "execution_count": null,
   "id": "159bb7dd-24db-4bd8-bb0e-a04131563919",
   "metadata": {},
   "outputs": [],
   "source": []
  }
 ],
 "metadata": {
  "kernelspec": {
   "display_name": "Python 3 (ipykernel)",
   "language": "python",
   "name": "python3"
  },
  "language_info": {
   "codemirror_mode": {
    "name": "ipython",
    "version": 3
   },
   "file_extension": ".py",
   "mimetype": "text/x-python",
   "name": "python",
   "nbconvert_exporter": "python",
   "pygments_lexer": "ipython3",
   "version": "3.9.7"
  }
 },
 "nbformat": 4,
 "nbformat_minor": 5
}
