{
 "cells": [
  {
   "cell_type": "code",
   "execution_count": 2,
   "id": "1a6da4ce-b7c0-463c-b014-9d4cc0cda9db",
   "metadata": {},
   "outputs": [],
   "source": [
    "from typing import List"
   ]
  },
  {
   "cell_type": "code",
   "execution_count": 3,
   "id": "e4bbb67f-d1f4-4549-b7c5-1f83d2dfabd4",
   "metadata": {},
   "outputs": [],
   "source": [
    "class Solution:\n",
    "    def longestCommonPrefix(self, strs: List[str]) -> str:\n",
    "        i = 0\n",
    "        while i < min(map(lambda x: len(x), strs)):\n",
    "            "
   ]
  },
  {
   "cell_type": "code",
   "execution_count": 5,
   "id": "ed9467b4-fcdf-4ad3-8f5d-abfb7f565c11",
   "metadata": {},
   "outputs": [],
   "source": [
    "s = Solution()\n",
    "s.longestCommonPrefix(strs = [\"flower\",\"flow\",\"flight\"])"
   ]
  },
  {
   "cell_type": "code",
   "execution_count": null,
   "id": "f17a27ff-36a7-4b4c-ae00-e1b62eadfa40",
   "metadata": {},
   "outputs": [],
   "source": []
  }
 ],
 "metadata": {
  "kernelspec": {
   "display_name": "Python 3 (ipykernel)",
   "language": "python",
   "name": "python3"
  },
  "language_info": {
   "codemirror_mode": {
    "name": "ipython",
    "version": 3
   },
   "file_extension": ".py",
   "mimetype": "text/x-python",
   "name": "python",
   "nbconvert_exporter": "python",
   "pygments_lexer": "ipython3",
   "version": "3.9.7"
  }
 },
 "nbformat": 4,
 "nbformat_minor": 5
}
