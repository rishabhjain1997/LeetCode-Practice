{
 "cells": [
  {
   "cell_type": "code",
   "execution_count": 1,
   "id": "7b2cc4f1-49c4-43c2-a610-bec7c41f4c36",
   "metadata": {},
   "outputs": [],
   "source": [
    "from typing import Optional, List"
   ]
  },
  {
   "cell_type": "code",
   "execution_count": 2,
   "id": "56f1fd9a-55b1-4204-ae6b-546bcf4f934c",
   "metadata": {},
   "outputs": [],
   "source": [
    "class TreeNode:\n",
    "    def __init__(self, val=0, left=None, right=None):\n",
    "        self.val = val\n",
    "        self.left = left\n",
    "        self.right = right\n",
    "#seven = TreeNode(7)\n",
    "#fifteen = TreeNode(15)\n",
    "#twenty = TreeNode(20,fifteen, seven)\n",
    "nine = TreeNode(9)\n",
    "three = TreeNode(3,nine, nine)"
   ]
  },
  {
   "cell_type": "code",
   "execution_count": 8,
   "id": "7c68b8e3-4ad2-4693-b0ad-518c2fb1d148",
   "metadata": {},
   "outputs": [],
   "source": [
    "class Solution:\n",
    "    def isSymmetric(self, root: Optional[TreeNode]) -> bool:\n",
    "        \n",
    "        def symmetric(left,right):\n",
    "            if (not left.left and not left.right and not right.left and not right.right):\n",
    "                return True if left.val == right.val else False\n",
    "            if (left.left and right.right) or (left.right and right.left): \n",
    "                return True if symmetric(left.left, right.right) and symmetric(left.right and right.left) else False\n",
    "\n",
    "            return False\n",
    "        return symmetric(root.left,root.right)"
   ]
  },
  {
   "cell_type": "code",
   "execution_count": 9,
   "id": "ca7e1f91-302e-4aa0-b2dc-230eb30d0d17",
   "metadata": {},
   "outputs": [
    {
     "data": {
      "text/plain": [
       "True"
      ]
     },
     "execution_count": 9,
     "metadata": {},
     "output_type": "execute_result"
    }
   ],
   "source": [
    "s = Solution()\n",
    "s.isSymmetric(three)"
   ]
  },
  {
   "cell_type": "code",
   "execution_count": null,
   "id": "2f1988cf-645d-449b-a118-a453afdd5538",
   "metadata": {},
   "outputs": [],
   "source": []
  }
 ],
 "metadata": {
  "kernelspec": {
   "display_name": "Python 3 (ipykernel)",
   "language": "python",
   "name": "python3"
  },
  "language_info": {
   "codemirror_mode": {
    "name": "ipython",
    "version": 3
   },
   "file_extension": ".py",
   "mimetype": "text/x-python",
   "name": "python",
   "nbconvert_exporter": "python",
   "pygments_lexer": "ipython3",
   "version": "3.9.7"
  }
 },
 "nbformat": 4,
 "nbformat_minor": 5
}
