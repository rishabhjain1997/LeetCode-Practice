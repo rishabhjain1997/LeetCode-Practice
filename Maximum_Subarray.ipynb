{
 "cells": [
  {
   "cell_type": "code",
   "execution_count": 4,
   "id": "f54dadac-8bcb-4b82-993d-24317e639b74",
   "metadata": {},
   "outputs": [],
   "source": [
    "from typing import List"
   ]
  },
  {
   "cell_type": "code",
   "execution_count": 38,
   "id": "1ff848c7-2da5-4a94-9a2d-b9f4493b7f96",
   "metadata": {},
   "outputs": [],
   "source": [
    "class Solution:\n",
    "    def maxSubArrayUnoptimisedBruteForce(self, nums: List[int]) -> int:\n",
    "        max_sum = float('-inf')\n",
    "        max_array = []\n",
    "        if len(nums) == 1:\n",
    "            return nums[0]\n",
    "        for i in range(0,len(nums)):\n",
    "            for j in range(i, len(nums)):\n",
    "                new_array = nums[i: j+1]\n",
    "                print(new_array)\n",
    "                sum_new_array = sum(new_array)\n",
    "                if sum_new_array > max_sum:\n",
    "                    max_sum = sum_new_array\n",
    "                    max_array = new_array\n",
    "        return max_sum\n",
    "    \n",
    "    \n",
    "    def maxSubArrayBruteForceOptimized(self, nums: List[int]) -> int:\n",
    "        max_sum = float('-inf')\n",
    "        \n",
    "        for i in range(0,len(nums)):\n",
    "            sum_array = 0\n",
    "            for j in range(i, len(nums)):\n",
    "                sum_array = sum_array + nums[j]\n",
    "                max_sum = max(sum_array, max_sum)\n",
    "        return max_sum\n",
    "    \n",
    "    def maxSubArray(self, nums: List[int]) -> int:\n",
    "        max_subarray = nums[0]\n",
    "        current_subarray = nums[0]\n",
    "        for i in range(1,len(nums)):\n",
    "            num = nums[i]\n",
    "            current_subarray = max(num, num+current_subarray)\n",
    "            max_subarray = max(current_subarray, max_subarray)\n",
    "        return max_subarray"
   ]
  },
  {
   "cell_type": "code",
   "execution_count": 39,
   "id": "381011be-95da-4860-b6f2-3337b9229972",
   "metadata": {},
   "outputs": [
    {
     "data": {
      "text/plain": [
       "1"
      ]
     },
     "execution_count": 39,
     "metadata": {},
     "output_type": "execute_result"
    }
   ],
   "source": [
    "s = Solution()\n",
    "s.maxSubArrayBruteForceOptimized([1])"
   ]
  },
  {
   "cell_type": "code",
   "execution_count": null,
   "id": "c56097c8-87a6-44b2-b08b-dadca0d63dc3",
   "metadata": {},
   "outputs": [],
   "source": []
  },
  {
   "cell_type": "code",
   "execution_count": null,
   "id": "4745a0cf-b2dd-4acc-ac85-0297524422a7",
   "metadata": {},
   "outputs": [],
   "source": []
  }
 ],
 "metadata": {
  "kernelspec": {
   "display_name": "Python 3 (ipykernel)",
   "language": "python",
   "name": "python3"
  },
  "language_info": {
   "codemirror_mode": {
    "name": "ipython",
    "version": 3
   },
   "file_extension": ".py",
   "mimetype": "text/x-python",
   "name": "python",
   "nbconvert_exporter": "python",
   "pygments_lexer": "ipython3",
   "version": "3.9.7"
  }
 },
 "nbformat": 4,
 "nbformat_minor": 5
}
