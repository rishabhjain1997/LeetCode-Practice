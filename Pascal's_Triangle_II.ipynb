{
 "cells": [
  {
   "cell_type": "code",
   "execution_count": 1,
   "id": "6d3e98e0-854e-4e4d-a5e1-e553db2c5f04",
   "metadata": {},
   "outputs": [],
   "source": [
    "from typing import List"
   ]
  },
  {
   "cell_type": "code",
   "execution_count": 11,
   "id": "51739e6e-5a2d-4353-b923-4b1648f6f619",
   "metadata": {},
   "outputs": [],
   "source": [
    "class Solution:\n",
    "    def getRow(self, rowIndex: int) -> List[int]:\n",
    "        if rowIndex == 0 or rowIndex == 1:\n",
    "            return [1]*(rowIndex+1)\n",
    "        else:\n",
    "            output = [1,1]\n",
    "            for row in range(2,rowIndex+1):\n",
    "                a = [-1 for _ in range(row+1)]\n",
    "                a[0] = 1\n",
    "                a[row] = 1\n",
    "                for i in range(1,row):\n",
    "                    a[i] = output[i] + output[i - 1]\n",
    "                #print(a)\n",
    "                output = a\n",
    "            return(output)"
   ]
  },
  {
   "cell_type": "code",
   "execution_count": 13,
   "id": "496ece0b-baf1-407f-98cc-fed48a781137",
   "metadata": {},
   "outputs": [
    {
     "data": {
      "text/plain": [
       "[1, 3, 3, 1]"
      ]
     },
     "execution_count": 13,
     "metadata": {},
     "output_type": "execute_result"
    }
   ],
   "source": [
    "s = Solution()\n",
    "s.getRow(3)"
   ]
  },
  {
   "cell_type": "code",
   "execution_count": null,
   "id": "357e7799-f5b5-442e-baed-56c405185c3b",
   "metadata": {},
   "outputs": [],
   "source": []
  }
 ],
 "metadata": {
  "kernelspec": {
   "display_name": "Python 3 (ipykernel)",
   "language": "python",
   "name": "python3"
  },
  "language_info": {
   "codemirror_mode": {
    "name": "ipython",
    "version": 3
   },
   "file_extension": ".py",
   "mimetype": "text/x-python",
   "name": "python",
   "nbconvert_exporter": "python",
   "pygments_lexer": "ipython3",
   "version": "3.9.7"
  }
 },
 "nbformat": 4,
 "nbformat_minor": 5
}
