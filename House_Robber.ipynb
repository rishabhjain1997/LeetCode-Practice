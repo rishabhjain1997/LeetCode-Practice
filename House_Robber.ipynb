{
 "cells": [
  {
   "cell_type": "code",
   "execution_count": 3,
   "id": "ac623cd4-f98b-47b5-ab9c-02815da2ebe3",
   "metadata": {},
   "outputs": [],
   "source": [
    "from typing import List"
   ]
  },
  {
   "cell_type": "code",
   "execution_count": 18,
   "id": "ff2999fd-c7bf-4ae9-96ba-de8497874e5e",
   "metadata": {},
   "outputs": [],
   "source": [
    "class Solution:\n",
    "    def rob(self, nums: List[int]) -> int:\n",
    "        cum = []\n",
    "        if len(nums) <=2:\n",
    "            return max(nums)\n",
    "        else:\n",
    "            for i in range(len(nums)):\n",
    "                if i == 0:\n",
    "                    cum.append(nums[i])\n",
    "                elif i == 1:\n",
    "                    cum.append(max(nums[0],nums[1]))\n",
    "                else:\n",
    "                    cum.append(max(cum[i-1], cum[i-2]+nums[i]))\n",
    "        #print(cum)\n",
    "        return(cum[-1])"
   ]
  },
  {
   "cell_type": "code",
   "execution_count": 20,
   "id": "ce142431-994f-43b6-b233-1ff0de180a4c",
   "metadata": {},
   "outputs": [
    {
     "name": "stdout",
     "output_type": "stream",
     "text": [
      "[1, 2, 10, 10, 12, 13]\n"
     ]
    }
   ],
   "source": [
    "s = Solution()\n",
    "s.rob(nums = [1,2,9,1,2,3])"
   ]
  },
  {
   "cell_type": "code",
   "execution_count": null,
   "id": "dd298c51-ad0f-4209-8564-932daedfeecf",
   "metadata": {},
   "outputs": [],
   "source": []
  }
 ],
 "metadata": {
  "kernelspec": {
   "display_name": "Python 3 (ipykernel)",
   "language": "python",
   "name": "python3"
  },
  "language_info": {
   "codemirror_mode": {
    "name": "ipython",
    "version": 3
   },
   "file_extension": ".py",
   "mimetype": "text/x-python",
   "name": "python",
   "nbconvert_exporter": "python",
   "pygments_lexer": "ipython3",
   "version": "3.9.7"
  }
 },
 "nbformat": 4,
 "nbformat_minor": 5
}
