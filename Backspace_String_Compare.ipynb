{
 "cells": [
  {
   "cell_type": "code",
   "execution_count": 32,
   "id": "e28e951d-4d1d-48cf-bd51-3acbdf4e6d64",
   "metadata": {},
   "outputs": [],
   "source": [
    "class Solution:\n",
    "    def backspaceCompare(self, s: str, t: str) -> bool:\n",
    "        def create_stack(s):\n",
    "            stack = []\n",
    "            for letter in s:\n",
    "                if letter == '#':\n",
    "                    if stack:\n",
    "                        stack.pop()\n",
    "                else:\n",
    "                    stack.append(letter)\n",
    "            return stack\n",
    "        s_stack = create_stack(s)\n",
    "        t_stack = create_stack(t)\n",
    "        print(s_stack,t_stack)\n",
    "        return s_stack == t_stack"
   ]
  },
  {
   "cell_type": "code",
   "execution_count": 33,
   "id": "0fbc4b74-8af1-4e52-9ce9-97218c5908e7",
   "metadata": {},
   "outputs": [
    {
     "name": "stdout",
     "output_type": "stream",
     "text": [
      "['c'] ['a', 'c']\n"
     ]
    },
    {
     "data": {
      "text/plain": [
       "False"
      ]
     },
     "execution_count": 33,
     "metadata": {},
     "output_type": "execute_result"
    }
   ],
   "source": [
    "s = Solution()\n",
    "s.backspaceCompare(s = \"#a#c\", t = \"ad#c\")"
   ]
  },
  {
   "cell_type": "code",
   "execution_count": null,
   "id": "36be6b36-a3c4-4c3d-911c-c150c8d13087",
   "metadata": {},
   "outputs": [],
   "source": []
  }
 ],
 "metadata": {
  "kernelspec": {
   "display_name": "Python 3 (ipykernel)",
   "language": "python",
   "name": "python3"
  },
  "language_info": {
   "codemirror_mode": {
    "name": "ipython",
    "version": 3
   },
   "file_extension": ".py",
   "mimetype": "text/x-python",
   "name": "python",
   "nbconvert_exporter": "python",
   "pygments_lexer": "ipython3",
   "version": "3.9.7"
  }
 },
 "nbformat": 4,
 "nbformat_minor": 5
}
