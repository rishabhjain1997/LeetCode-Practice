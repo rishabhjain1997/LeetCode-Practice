{
 "cells": [
  {
   "cell_type": "code",
   "execution_count": 1,
   "id": "ff1f8567-656d-4a23-b173-d2a9af4831db",
   "metadata": {},
   "outputs": [],
   "source": [
    "from typing import List"
   ]
  },
  {
   "cell_type": "code",
   "execution_count": 7,
   "id": "ad727724-d397-4b2f-9fd8-dba490dc91e2",
   "metadata": {},
   "outputs": [],
   "source": [
    "class Solution:\n",
    "    def jump(self, nums: List[int]) -> int:\n",
    "        jumps=[float('inf') for _ in nums]\n",
    "        jumps[0] = 0\n",
    "        for index in range(len(nums)):\n",
    "            num = nums[index]\n",
    "            jumps[index+1:index+num+1] = list(map(lambda x: min(x,jumps[index] + 1) ,jumps[index+1:index+num+1]))\n",
    "        return(jumps[-1])"
   ]
  },
  {
   "cell_type": "code",
   "execution_count": 8,
   "id": "bce901e2-2116-422b-af54-5181afdb89c2",
   "metadata": {},
   "outputs": [
    {
     "data": {
      "text/plain": [
       "2"
      ]
     },
     "execution_count": 8,
     "metadata": {},
     "output_type": "execute_result"
    }
   ],
   "source": [
    "s = Solution()\n",
    "s.jump(nums = [2,3,1,1,4])"
   ]
  },
  {
   "cell_type": "code",
   "execution_count": null,
   "id": "bf085427-c622-48f3-b446-469b4f778539",
   "metadata": {},
   "outputs": [],
   "source": []
  }
 ],
 "metadata": {
  "kernelspec": {
   "display_name": "Python 3 (ipykernel)",
   "language": "python",
   "name": "python3"
  },
  "language_info": {
   "codemirror_mode": {
    "name": "ipython",
    "version": 3
   },
   "file_extension": ".py",
   "mimetype": "text/x-python",
   "name": "python",
   "nbconvert_exporter": "python",
   "pygments_lexer": "ipython3",
   "version": "3.9.7"
  }
 },
 "nbformat": 4,
 "nbformat_minor": 5
}
