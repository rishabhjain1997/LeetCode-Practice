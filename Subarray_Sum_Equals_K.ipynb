{
 "cells": [
  {
   "cell_type": "code",
   "execution_count": 1,
   "id": "8e9586f1-2af0-4704-ab37-5d390544c81d",
   "metadata": {},
   "outputs": [],
   "source": [
    "from typing import List"
   ]
  },
  {
   "cell_type": "code",
   "execution_count": 2,
   "id": "59750c79-af5a-4396-88da-f0e556a55007",
   "metadata": {},
   "outputs": [],
   "source": [
    "class Solution:\n",
    "    def subarraySum(self, nums: List[int], k: int) -> int:\n",
    "        cumSum = 0\n",
    "        prefix = dict()\n",
    "        prefix[0] = 1\n",
    "        res = 0\n",
    "        for num in nums:\n",
    "            cumSum =cumSum + num\n",
    "            diff = k - cumSum \n",
    "            res = res + prefix.get(diff, 0)\n",
    "            prefix[cumSum] = prefix.get(cumSum, 0) + 1\n",
    "        return res"
   ]
  },
  {
   "cell_type": "code",
   "execution_count": null,
   "id": "735795a6-59a9-4ddc-a8a8-8de3f8082a1c",
   "metadata": {},
   "outputs": [],
   "source": [
    "s = Solution()\n",
    "s.subarraySum(nums = [1,1,1], k=2)"
   ]
  },
  {
   "cell_type": "code",
   "execution_count": null,
   "id": "8403a1df-b073-44cf-ad2a-1029010338a2",
   "metadata": {},
   "outputs": [],
   "source": []
  }
 ],
 "metadata": {
  "kernelspec": {
   "display_name": "Python 3 (ipykernel)",
   "language": "python",
   "name": "python3"
  },
  "language_info": {
   "codemirror_mode": {
    "name": "ipython",
    "version": 3
   },
   "file_extension": ".py",
   "mimetype": "text/x-python",
   "name": "python",
   "nbconvert_exporter": "python",
   "pygments_lexer": "ipython3",
   "version": "3.9.7"
  }
 },
 "nbformat": 4,
 "nbformat_minor": 5
}
