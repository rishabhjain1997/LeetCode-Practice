{
 "cells": [
  {
   "cell_type": "code",
   "execution_count": 5,
   "id": "daef67ee-3180-4b58-8b23-4fd39d9939ce",
   "metadata": {},
   "outputs": [],
   "source": [
    "class Solution:\n",
    "    def fib(self, n: int) -> int:\n",
    "        if n == 1 or n ==0:\n",
    "            return n\n",
    "        else:\n",
    "            return self.fib(n-1)+ self.fib(n-2)\n",
    "        "
   ]
  },
  {
   "cell_type": "code",
   "execution_count": 7,
   "id": "80d4b3b4-bd16-4e55-8fce-ba21eaa40355",
   "metadata": {},
   "outputs": [
    {
     "data": {
      "text/plain": [
       "2"
      ]
     },
     "execution_count": 7,
     "metadata": {},
     "output_type": "execute_result"
    }
   ],
   "source": [
    "s = Solution()\n",
    "s.fib(n=3)"
   ]
  },
  {
   "cell_type": "code",
   "execution_count": null,
   "id": "5baeef3f-3793-4dde-9f65-0fd9da6c8dfd",
   "metadata": {},
   "outputs": [],
   "source": []
  }
 ],
 "metadata": {
  "kernelspec": {
   "display_name": "Python 3 (ipykernel)",
   "language": "python",
   "name": "python3"
  },
  "language_info": {
   "codemirror_mode": {
    "name": "ipython",
    "version": 3
   },
   "file_extension": ".py",
   "mimetype": "text/x-python",
   "name": "python",
   "nbconvert_exporter": "python",
   "pygments_lexer": "ipython3",
   "version": "3.9.7"
  }
 },
 "nbformat": 4,
 "nbformat_minor": 5
}
