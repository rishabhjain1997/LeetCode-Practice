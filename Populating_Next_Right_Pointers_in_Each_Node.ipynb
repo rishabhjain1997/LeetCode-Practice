{
 "cells": [
  {
   "cell_type": "code",
   "execution_count": null,
   "id": "211618f5-3aa9-4b08-bc83-3cb305970f15",
   "metadata": {},
   "outputs": [],
   "source": [
    "\"\"\"\n",
    "# Definition for a Node.\n",
    "class Node:\n",
    "    def __init__(self, val: int = 0, left: 'Node' = None, right: 'Node' = None, next: 'Node' = None):\n",
    "        self.val = val\n",
    "        self.left = left\n",
    "        self.right = right\n",
    "        self.next = next\n",
    "\"\"\"\n",
    "\n",
    "class Solution:\n",
    "    def connect(self, root: 'Optional[Node]') -> 'Optional[Node]':\n",
    "        leftNode = root\n",
    "        while (leftNode):\n",
    "            head = leftNode\n",
    "            #print(head.val)\n",
    "            while head:\n",
    "                if head.left:\n",
    "                    head.left.next = head.right\n",
    "                #print(head.val)\n",
    "                if head.right and head.next:\n",
    "                    head.right.next = head.next.left\n",
    "                head = head.next\n",
    "                \n",
    "            leftNode = leftNode.left\n",
    "        return root\n",
    "        "
   ]
  }
 ],
 "metadata": {
  "kernelspec": {
   "display_name": "Python 3 (ipykernel)",
   "language": "python",
   "name": "python3"
  },
  "language_info": {
   "codemirror_mode": {
    "name": "ipython",
    "version": 3
   },
   "file_extension": ".py",
   "mimetype": "text/x-python",
   "name": "python",
   "nbconvert_exporter": "python",
   "pygments_lexer": "ipython3",
   "version": "3.9.7"
  }
 },
 "nbformat": 4,
 "nbformat_minor": 5
}
