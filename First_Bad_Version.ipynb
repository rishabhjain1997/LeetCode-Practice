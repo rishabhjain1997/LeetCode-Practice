{
 "cells": [
  {
   "cell_type": "code",
   "execution_count": 25,
   "id": "8d105f43-225b-4a36-8dd1-5e2a43a732e9",
   "metadata": {},
   "outputs": [],
   "source": [
    "from typing import List"
   ]
  },
  {
   "cell_type": "code",
   "execution_count": 26,
   "id": "da126986-8ce6-48d6-bfd8-da1b81573489",
   "metadata": {},
   "outputs": [],
   "source": [
    "def isBadVersion(version: int) -> bool:\n",
    "    if version >= 2:\n",
    "        return True\n",
    "    return False"
   ]
  },
  {
   "cell_type": "code",
   "execution_count": 27,
   "id": "2f3545f1-e65a-4f99-8dba-f0814cb21ba4",
   "metadata": {},
   "outputs": [],
   "source": [
    "class Solution:\n",
    "    def firstBadVersion(self, n: int) -> int:\n",
    "        low = 1\n",
    "        high = n\n",
    "        while low <= high:\n",
    "            \n",
    "            if low + 1 == high or low == high:\n",
    "                if isBadVersion(low) == True:\n",
    "                    return low\n",
    "                else:\n",
    "                    return low + 1\n",
    "            mid = int((low+high)/2)\n",
    "            #print(low,high,mid)\n",
    "            if isBadVersion(mid) == False:\n",
    "                low = mid + 1\n",
    "            elif isBadVersion(mid) == True:\n",
    "                high = mid \n",
    "        return n"
   ]
  },
  {
   "cell_type": "code",
   "execution_count": 28,
   "id": "b2b40632-ef79-4b88-a59d-e4fd6a8c68c7",
   "metadata": {},
   "outputs": [
    {
     "data": {
      "text/plain": [
       "2"
      ]
     },
     "execution_count": 28,
     "metadata": {},
     "output_type": "execute_result"
    }
   ],
   "source": [
    "s = Solution()\n",
    "s.firstBadVersion(3)"
   ]
  },
  {
   "cell_type": "code",
   "execution_count": null,
   "id": "c3bcf706-14b8-41a1-99c8-ab3109b0aceb",
   "metadata": {},
   "outputs": [],
   "source": []
  }
 ],
 "metadata": {
  "kernelspec": {
   "display_name": "Python 3 (ipykernel)",
   "language": "python",
   "name": "python3"
  },
  "language_info": {
   "codemirror_mode": {
    "name": "ipython",
    "version": 3
   },
   "file_extension": ".py",
   "mimetype": "text/x-python",
   "name": "python",
   "nbconvert_exporter": "python",
   "pygments_lexer": "ipython3",
   "version": "3.9.7"
  }
 },
 "nbformat": 4,
 "nbformat_minor": 5
}
