{
 "cells": [
  {
   "cell_type": "code",
   "execution_count": 6,
   "id": "b261fd4e-0fc0-4bbb-86db-2b74d5a04190",
   "metadata": {},
   "outputs": [],
   "source": [
    "class Solution:\n",
    "    def tribonacci(self, n: int) -> int:\n",
    "        A = [0,1,1]\n",
    "        if n > 2:\n",
    "            for i in range(3,n+1):\n",
    "                A.append(A[-1]+A[-2]+A[-3])\n",
    "        return A[n]"
   ]
  },
  {
   "cell_type": "code",
   "execution_count": 7,
   "id": "e44bfbe3-6448-4bd4-a65d-c52743d52f32",
   "metadata": {},
   "outputs": [
    {
     "data": {
      "text/plain": [
       "1389537"
      ]
     },
     "execution_count": 7,
     "metadata": {},
     "output_type": "execute_result"
    }
   ],
   "source": [
    "s = Solution()\n",
    "s.tribonacci(n=25)"
   ]
  },
  {
   "cell_type": "code",
   "execution_count": null,
   "id": "81c1b8cb-97cf-4845-98ad-5665dd2f6631",
   "metadata": {},
   "outputs": [],
   "source": []
  }
 ],
 "metadata": {
  "kernelspec": {
   "display_name": "Python 3 (ipykernel)",
   "language": "python",
   "name": "python3"
  },
  "language_info": {
   "codemirror_mode": {
    "name": "ipython",
    "version": 3
   },
   "file_extension": ".py",
   "mimetype": "text/x-python",
   "name": "python",
   "nbconvert_exporter": "python",
   "pygments_lexer": "ipython3",
   "version": "3.9.7"
  }
 },
 "nbformat": 4,
 "nbformat_minor": 5
}
