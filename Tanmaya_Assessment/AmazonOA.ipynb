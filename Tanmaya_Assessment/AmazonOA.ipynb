{
 "cells": [
  {
   "cell_type": "code",
   "execution_count": 6,
   "id": "a927587e-0d31-4e20-8647-e49a1e8606de",
   "metadata": {},
   "outputs": [],
   "source": [
    "from collections import Counter"
   ]
  },
  {
   "cell_type": "code",
   "execution_count": 15,
   "id": "820217a6-f950-4f36-90ae-17341d19c44e",
   "metadata": {},
   "outputs": [],
   "source": [
    "def max_trips(weights):\n",
    "    counter = Counter(weights)\n",
    "    count = 0\n",
    "    for num, freq in counter.items():\n",
    "        if freq == 1:\n",
    "            return -1\n",
    "        else:\n",
    "            count = count + (freq - 1)//3 + 1\n",
    "    return count\n",
    "    #print(counter)"
   ]
  },
  {
   "cell_type": "code",
   "execution_count": 16,
   "id": "12929421-0cbd-4594-a1bb-cf5804b10c58",
   "metadata": {},
   "outputs": [
    {
     "data": {
      "text/plain": [
       "-1"
      ]
     },
     "execution_count": 16,
     "metadata": {},
     "output_type": "execute_result"
    }
   ],
   "source": [
    "max_trips([3,4,4,3,1])"
   ]
  },
  {
   "cell_type": "code",
   "execution_count": 17,
   "id": "1b71b0dc-e807-4d8e-a29e-304abcb0157e",
   "metadata": {},
   "outputs": [
    {
     "data": {
      "text/plain": [
       "3"
      ]
     },
     "execution_count": 17,
     "metadata": {},
     "output_type": "execute_result"
    }
   ],
   "source": [
    "max_trips([1,8,5,8,5,1,1])"
   ]
  },
  {
   "cell_type": "code",
   "execution_count": null,
   "id": "a9eb0695-c379-4dcc-84e0-8c15d74f952e",
   "metadata": {},
   "outputs": [],
   "source": []
  }
 ],
 "metadata": {
  "kernelspec": {
   "display_name": "Python 3 (ipykernel)",
   "language": "python",
   "name": "python3"
  },
  "language_info": {
   "codemirror_mode": {
    "name": "ipython",
    "version": 3
   },
   "file_extension": ".py",
   "mimetype": "text/x-python",
   "name": "python",
   "nbconvert_exporter": "python",
   "pygments_lexer": "ipython3",
   "version": "3.9.7"
  }
 },
 "nbformat": 4,
 "nbformat_minor": 5
}
