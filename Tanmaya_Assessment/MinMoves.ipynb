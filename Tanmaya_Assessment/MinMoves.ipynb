{
 "cells": [
  {
   "cell_type": "code",
   "execution_count": 37,
   "id": "0724231c-0a39-4926-b6c1-2c51818e07a5",
   "metadata": {},
   "outputs": [],
   "source": [
    "def minMoves(arr):\n",
    "    distance_0 = count_0 = distance_1 = count_1 = 0\n",
    "    \n",
    "    for num in arr:\n",
    "        if num == 1:\n",
    "            # Count number of ones\n",
    "            count_1 = count_1 + 1\n",
    "            # Total number of swaps to get the '1' value to the left = number of zeroes before the '1'\n",
    "            distance_1 = distance_1 + count_0\n",
    "            \n",
    "            \n",
    "        if num == 0:\n",
    "            # Count number of zeroes\n",
    "            count_0 = count_0 + 1\n",
    "            # Total number of swaps to get the '0' value to the left = number of ones before the '0'\n",
    "            distance_0 = distance_0 + count_1  \n",
    "    # Least distance between swapping ones to the left and zeroes to the left  \n",
    "    return min(distance_0, distance_1)"
   ]
  },
  {
   "cell_type": "code",
   "execution_count": 38,
   "id": "4fc52294-b191-4e04-94dd-6b67cb6472fd",
   "metadata": {},
   "outputs": [
    {
     "data": {
      "text/plain": [
       "1"
      ]
     },
     "execution_count": 38,
     "metadata": {},
     "output_type": "execute_result"
    }
   ],
   "source": [
    "minMoves([0,1,0,1])"
   ]
  },
  {
   "cell_type": "code",
   "execution_count": null,
   "id": "fde57e21-b073-46b7-9614-e80bcf218651",
   "metadata": {},
   "outputs": [],
   "source": []
  }
 ],
 "metadata": {
  "kernelspec": {
   "display_name": "Python 3 (ipykernel)",
   "language": "python",
   "name": "python3"
  },
  "language_info": {
   "codemirror_mode": {
    "name": "ipython",
    "version": 3
   },
   "file_extension": ".py",
   "mimetype": "text/x-python",
   "name": "python",
   "nbconvert_exporter": "python",
   "pygments_lexer": "ipython3",
   "version": "3.9.7"
  }
 },
 "nbformat": 4,
 "nbformat_minor": 5
}
