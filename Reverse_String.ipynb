{
 "cells": [
  {
   "cell_type": "code",
   "execution_count": 1,
   "id": "b0d3a765-027e-47bc-8ec3-5b6f233394f5",
   "metadata": {},
   "outputs": [],
   "source": [
    "from typing import List"
   ]
  },
  {
   "cell_type": "code",
   "execution_count": 8,
   "id": "7c8d2a85-8ad0-4828-b3b5-547ebc906ac2",
   "metadata": {},
   "outputs": [],
   "source": [
    "class Solution:\n",
    "    def reverseString(self, s: List[str]) -> None:\n",
    "        \"\"\"\n",
    "        Do not return anything, modify s in-place instead.\n",
    "        \"\"\"\n",
    "        def replace(a,b):\n",
    "            placeholder = s[a]\n",
    "            s[a] = s[b]\n",
    "            s[b] = placeholder\n",
    "        \n",
    "        lo = 0\n",
    "        hi = len(s) - 1\n",
    "        while lo < hi:\n",
    "            replace(lo,hi)\n",
    "            lo = lo + 1\n",
    "            hi = hi - 1\n",
    "        #print(s)"
   ]
  },
  {
   "cell_type": "code",
   "execution_count": 9,
   "id": "4e43eb77-1612-41e0-9ab5-49dfae4ee504",
   "metadata": {},
   "outputs": [
    {
     "name": "stdout",
     "output_type": "stream",
     "text": [
      "['o', 'l', 'l', 'e', 'h']\n"
     ]
    }
   ],
   "source": [
    "s = Solution()\n",
    "s.reverseString(s = [\"h\",\"e\",\"l\",\"l\",\"o\"])"
   ]
  },
  {
   "cell_type": "code",
   "execution_count": null,
   "id": "659af5ca-0b55-4b02-b5e3-324f8cdc7fee",
   "metadata": {},
   "outputs": [],
   "source": []
  }
 ],
 "metadata": {
  "kernelspec": {
   "display_name": "Python 3 (ipykernel)",
   "language": "python",
   "name": "python3"
  },
  "language_info": {
   "codemirror_mode": {
    "name": "ipython",
    "version": 3
   },
   "file_extension": ".py",
   "mimetype": "text/x-python",
   "name": "python",
   "nbconvert_exporter": "python",
   "pygments_lexer": "ipython3",
   "version": "3.9.7"
  }
 },
 "nbformat": 4,
 "nbformat_minor": 5
}
