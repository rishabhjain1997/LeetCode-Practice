{
 "cells": [
  {
   "cell_type": "code",
   "execution_count": 5,
   "id": "57a666f4-ed44-4c9a-9711-ce70abe54d7a",
   "metadata": {},
   "outputs": [],
   "source": [
    "from typing import List"
   ]
  },
  {
   "cell_type": "code",
   "execution_count": 8,
   "id": "ec033f19-5e52-48f5-9bd4-b9ffa902850e",
   "metadata": {},
   "outputs": [],
   "source": [
    "class Solution:\n",
    "    def searchInsert(self, nums: List[int], target: int) -> int:\n",
    "        low = 0\n",
    "        high = len(nums) - 1\n",
    "        while low <= high:\n",
    "            if low == high or low + 1 == high:\n",
    "                #print(low,high)\n",
    "                if target <= nums[low]:\n",
    "                    return low\n",
    "                if target > nums[high]:\n",
    "                    return high + 1\n",
    "                return low + 1\n",
    "            mid = int((low+high)/2)\n",
    "            #print(low, high, mid)\n",
    "            if nums[mid] > target:\n",
    "                high = mid - 1\n",
    "            elif nums[mid] < target:\n",
    "                low = mid + 1\n",
    "            elif nums[mid] == target:\n",
    "                return mid"
   ]
  },
  {
   "cell_type": "code",
   "execution_count": 9,
   "id": "e469ff0f-788d-4858-a95b-93f49589a9c6",
   "metadata": {},
   "outputs": [
    {
     "data": {
      "text/plain": [
       "4"
      ]
     },
     "execution_count": 9,
     "metadata": {},
     "output_type": "execute_result"
    }
   ],
   "source": [
    "s = Solution()\n",
    "s.searchInsert(nums = [1,3,5,6], target = 7)"
   ]
  },
  {
   "cell_type": "code",
   "execution_count": null,
   "id": "8b7b28a3-c782-448e-8657-bf320b870d85",
   "metadata": {},
   "outputs": [],
   "source": []
  }
 ],
 "metadata": {
  "kernelspec": {
   "display_name": "Python 3 (ipykernel)",
   "language": "python",
   "name": "python3"
  },
  "language_info": {
   "codemirror_mode": {
    "name": "ipython",
    "version": 3
   },
   "file_extension": ".py",
   "mimetype": "text/x-python",
   "name": "python",
   "nbconvert_exporter": "python",
   "pygments_lexer": "ipython3",
   "version": "3.9.7"
  }
 },
 "nbformat": 4,
 "nbformat_minor": 5
}
