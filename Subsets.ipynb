{
 "cells": [
  {
   "cell_type": "code",
   "execution_count": 1,
   "id": "c7d2e719-8b5e-4f84-92ed-aa0bd3994592",
   "metadata": {},
   "outputs": [],
   "source": [
    "from typing import List"
   ]
  },
  {
   "cell_type": "code",
   "execution_count": 2,
   "id": "7f9b62f5-92a4-4a01-8eb7-897c285b7912",
   "metadata": {},
   "outputs": [],
   "source": [
    "class Solution:\n",
    "    def subsets(self, nums: List[int]) -> List[List[int]]:\n",
    "        res = []\n",
    "        def recursive(cur, arr):\n",
    "            if len(arr) == 0:\n",
    "                res.append(cur)\n",
    "                return\n",
    "            if len(arr) > 1:\n",
    "                recursive(cur+[arr[0]],arr[1:])\n",
    "                recursive(cur, arr[1:])\n",
    "            else:\n",
    "                recursive(cur+[arr[0]],[])\n",
    "                recursive(cur, [])\n",
    "        recursive([],nums)\n",
    "        return res"
   ]
  },
  {
   "cell_type": "code",
   "execution_count": 3,
   "id": "a3adae37-4f76-472d-a1b7-fb9705ba7a1c",
   "metadata": {},
   "outputs": [
    {
     "data": {
      "text/plain": [
       "[[1, 2, 3], [1, 2], [1, 3], [1], [2, 3], [2], [3], []]"
      ]
     },
     "execution_count": 3,
     "metadata": {},
     "output_type": "execute_result"
    }
   ],
   "source": [
    "s = Solution()\n",
    "s.subsets(nums = [1,2,3])"
   ]
  },
  {
   "cell_type": "code",
   "execution_count": null,
   "id": "77c43854-b612-414b-a37c-fe3c245c4bd5",
   "metadata": {},
   "outputs": [],
   "source": []
  }
 ],
 "metadata": {
  "kernelspec": {
   "display_name": "Python 3 (ipykernel)",
   "language": "python",
   "name": "python3"
  },
  "language_info": {
   "codemirror_mode": {
    "name": "ipython",
    "version": 3
   },
   "file_extension": ".py",
   "mimetype": "text/x-python",
   "name": "python",
   "nbconvert_exporter": "python",
   "pygments_lexer": "ipython3",
   "version": "3.9.7"
  }
 },
 "nbformat": 4,
 "nbformat_minor": 5
}
