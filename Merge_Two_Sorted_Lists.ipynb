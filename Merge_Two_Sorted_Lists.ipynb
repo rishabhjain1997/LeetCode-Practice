{
 "cells": [
  {
   "cell_type": "code",
   "execution_count": 1,
   "id": "0c688c0a-01fa-4c13-982f-db2aaed53d19",
   "metadata": {},
   "outputs": [],
   "source": [
    "class ListNode:\n",
    "    def __init__(self, val=0, next=None):\n",
    "        self.val = val\n",
    "        self.next = next\n"
   ]
  },
  {
   "cell_type": "code",
   "execution_count": 2,
   "id": "e3e706af-62e2-4054-94bc-61b28cc35635",
   "metadata": {},
   "outputs": [],
   "source": [
    "from typing import Optional"
   ]
  },
  {
   "cell_type": "code",
   "execution_count": 3,
   "id": "fb773ca9-351b-4ac4-ae57-093685cc418b",
   "metadata": {},
   "outputs": [],
   "source": [
    "class Solution:\n",
    "    def mergeTwoLists(self, list1: Optional[ListNode], list2: Optional[ListNode]) -> Optional[ListNode]:\n",
    "        head = None\n",
    "        curr = None\n",
    "        iterator1 = list1\n",
    "        iterator2 = list2\n",
    "        while iterator1 or iterator2:\n",
    "            if iterator1 and iterator2:\n",
    "                if iterator1.val <= iterator2.val:\n",
    "                    if head == None:\n",
    "                        head = curr = iterator1\n",
    "\n",
    "                    else:\n",
    "                        curr.next = iterator1\n",
    "                        curr = curr.next\n",
    "                    iterator1 = iterator1.next    \n",
    "                else:\n",
    "                    if head == None:\n",
    "                        head = curr = iterator2\n",
    "                    else:\n",
    "                        curr.next = iterator2\n",
    "                        curr = curr.next\n",
    "                    iterator2 = iterator2.next\n",
    "            elif iterator1:\n",
    "                curr.next = iterator1\n",
    "                curr = curr.next\n",
    "                iterator1 = iterator1.next\n",
    "            else:\n",
    "                curr.next = iterator2\n",
    "                curr = curr.next\n",
    "                iterator2 = iterator2.next\n",
    "        return head"
   ]
  },
  {
   "cell_type": "code",
   "execution_count": 4,
   "id": "9606fda9-ebf5-4b42-a986-626ff5a881ce",
   "metadata": {},
   "outputs": [],
   "source": [
    "def create_linked_list(arr):\n",
    "    prev = None\n",
    "    for index, element in enumerate(arr[::-1]):\n",
    "        curr = ListNode(element,None)\n",
    "        if prev:\n",
    "            curr.next = prev\n",
    "        prev = curr\n",
    "        if index == len(arr) -1:\n",
    "            return curr\n",
    "        \n",
    "\n",
    "def traverse_linked_list(list1):\n",
    "    iterator = list1\n",
    "    while iterator:\n",
    "        print(iterator.val)\n",
    "        iterator = iterator.next"
   ]
  },
  {
   "cell_type": "code",
   "execution_count": 5,
   "id": "b259a81d-ae3f-4965-93f6-f472b6311f5a",
   "metadata": {},
   "outputs": [],
   "source": [
    "list1 = create_linked_list([1,2,4])\n",
    "list2 = create_linked_list([1,3,4])"
   ]
  },
  {
   "cell_type": "code",
   "execution_count": null,
   "id": "16cae91a-5ca7-4922-86f0-5e36e4c654a9",
   "metadata": {},
   "outputs": [],
   "source": [
    "s = Solution()\n",
    "s.mergeTwoLists(list1,list2)"
   ]
  },
  {
   "cell_type": "code",
   "execution_count": null,
   "id": "173f4d40-2f0b-406a-b305-138b9f6e062f",
   "metadata": {},
   "outputs": [],
   "source": []
  }
 ],
 "metadata": {
  "kernelspec": {
   "display_name": "Python 3 (ipykernel)",
   "language": "python",
   "name": "python3"
  },
  "language_info": {
   "codemirror_mode": {
    "name": "ipython",
    "version": 3
   },
   "file_extension": ".py",
   "mimetype": "text/x-python",
   "name": "python",
   "nbconvert_exporter": "python",
   "pygments_lexer": "ipython3",
   "version": "3.9.7"
  }
 },
 "nbformat": 4,
 "nbformat_minor": 5
}
