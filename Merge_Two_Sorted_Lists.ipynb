{
 "cells": [
  {
   "cell_type": "code",
   "execution_count": null,
   "id": "0c688c0a-01fa-4c13-982f-db2aaed53d19",
   "metadata": {},
   "outputs": [],
   "source": [
    "# Definition for singly-linked list.\n",
    "# class ListNode:\n",
    "#     def __init__(self, val=0, next=None):\n",
    "#         self.val = val\n",
    "#         self.next = next\n",
    "class Solution:\n",
    "    def mergeTwoLists(self, list1: Optional[ListNode], list2: Optional[ListNode]) -> Optional[ListNode]:\n",
    "        head = None\n",
    "        curr = None\n",
    "        iterator1 = list1\n",
    "        iterator2 = list2\n",
    "        while iterator1 or iterator2:\n",
    "            if iterator1.val <= iterator2.val:\n",
    "                if head == None:\n",
    "                    head = curr = iterator1\n",
    "                    \n",
    "                else:\n",
    "                    curr.next = iterator2\n",
    "                    curr = curr.next\n",
    "                iterator1 = iterator1.next    \n",
    "            else:\n",
    "                if head == None:\n",
    "                    head = curr = iterator2\n",
    "                else:\n",
    "                    curr.next = iterator2\n",
    "                    curr = curr.next\n",
    "                iterator2 = iterator2.next"
   ]
  }
 ],
 "metadata": {
  "kernelspec": {
   "display_name": "Python 3 (ipykernel)",
   "language": "python",
   "name": "python3"
  },
  "language_info": {
   "codemirror_mode": {
    "name": "ipython",
    "version": 3
   },
   "file_extension": ".py",
   "mimetype": "text/x-python",
   "name": "python",
   "nbconvert_exporter": "python",
   "pygments_lexer": "ipython3",
   "version": "3.9.7"
  }
 },
 "nbformat": 4,
 "nbformat_minor": 5
}
