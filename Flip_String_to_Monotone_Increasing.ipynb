{
 "cells": [
  {
   "cell_type": "code",
   "execution_count": 30,
   "id": "7e3ae6b7-86bf-456d-b2c5-29f115b55a33",
   "metadata": {},
   "outputs": [],
   "source": [
    "class Solution:\n",
    "    def minFlipsMonoIncr(self, s: str) -> int:\n",
    "        s = list(map(lambda x: int(x),list(s)))\n",
    "        flips = float('inf')\n",
    "        for index in range(len(s)+1):\n",
    "            right, left = 0,0\n",
    "            if index != len(s):\n",
    "                right = len(list(filter(lambda x: x==0 ,s[0:])))\n",
    "            if index != 0:\n",
    "                left = len(list(filter(lambda x: x==1 ,s[:index])))\n",
    "            if right + left < flips:\n",
    "                flips = right+left\n",
    "            print(left, right)\n",
    "        return(flips)"
   ]
  },
  {
   "cell_type": "code",
   "execution_count": 34,
   "id": "0fbf391f-7efc-497a-80a8-e2fc399e4dfb",
   "metadata": {},
   "outputs": [
    {
     "ename": "IndexError",
     "evalue": "list index out of range",
     "output_type": "error",
     "traceback": [
      "\u001b[0;31m---------------------------------------------------------------------------\u001b[0m",
      "\u001b[0;31mIndexError\u001b[0m                                Traceback (most recent call last)",
      "\u001b[0;32m/tmp/ipykernel_204818/3448187816.py\u001b[0m in \u001b[0;36m<module>\u001b[0;34m\u001b[0m\n\u001b[1;32m      1\u001b[0m \u001b[0ms\u001b[0m \u001b[0;34m=\u001b[0m \u001b[0mSolution\u001b[0m\u001b[0;34m(\u001b[0m\u001b[0;34m)\u001b[0m\u001b[0;34m\u001b[0m\u001b[0;34m\u001b[0m\u001b[0m\n\u001b[0;32m----> 2\u001b[0;31m \u001b[0ms\u001b[0m\u001b[0;34m.\u001b[0m\u001b[0mminFlipsMonoIncr\u001b[0m\u001b[0;34m(\u001b[0m\u001b[0ms\u001b[0m \u001b[0;34m=\u001b[0m \u001b[0;34m\"00110\"\u001b[0m\u001b[0;34m)\u001b[0m\u001b[0;34m\u001b[0m\u001b[0;34m\u001b[0m\u001b[0m\n\u001b[0m",
      "\u001b[0;32m/tmp/ipykernel_204818/1863284619.py\u001b[0m in \u001b[0;36mminFlipsMonoIncr\u001b[0;34m(self, s)\u001b[0m\n\u001b[1;32m      4\u001b[0m         \u001b[0mleft\u001b[0m \u001b[0;34m=\u001b[0m \u001b[0;34m[\u001b[0m\u001b[0;36m0\u001b[0m\u001b[0;34m]\u001b[0m\u001b[0;34m\u001b[0m\u001b[0;34m\u001b[0m\u001b[0m\n\u001b[1;32m      5\u001b[0m         \u001b[0;32mfor\u001b[0m \u001b[0mindex\u001b[0m \u001b[0;32min\u001b[0m \u001b[0mrange\u001b[0m\u001b[0;34m(\u001b[0m\u001b[0mlen\u001b[0m\u001b[0;34m(\u001b[0m\u001b[0ms\u001b[0m\u001b[0;34m)\u001b[0m\u001b[0;34m+\u001b[0m\u001b[0;36m1\u001b[0m\u001b[0;34m)\u001b[0m\u001b[0;34m:\u001b[0m\u001b[0;34m\u001b[0m\u001b[0;34m\u001b[0m\u001b[0m\n\u001b[0;32m----> 6\u001b[0;31m             \u001b[0;32mif\u001b[0m \u001b[0ms\u001b[0m\u001b[0;34m[\u001b[0m\u001b[0mindex\u001b[0m\u001b[0;34m]\u001b[0m \u001b[0;34m==\u001b[0m \u001b[0;36m1\u001b[0m\u001b[0;34m:\u001b[0m\u001b[0;34m\u001b[0m\u001b[0;34m\u001b[0m\u001b[0m\n\u001b[0m\u001b[1;32m      7\u001b[0m                 \u001b[0mleft\u001b[0m\u001b[0;34m.\u001b[0m\u001b[0mappend\u001b[0m\u001b[0;34m(\u001b[0m\u001b[0;36m1\u001b[0m\u001b[0;34m+\u001b[0m\u001b[0mleft\u001b[0m\u001b[0;34m[\u001b[0m\u001b[0;34m-\u001b[0m\u001b[0;36m1\u001b[0m\u001b[0;34m]\u001b[0m\u001b[0;34m)\u001b[0m\u001b[0;34m\u001b[0m\u001b[0;34m\u001b[0m\u001b[0m\n\u001b[1;32m      8\u001b[0m         \u001b[0mprint\u001b[0m\u001b[0;34m(\u001b[0m\u001b[0mleft\u001b[0m\u001b[0;34m)\u001b[0m\u001b[0;34m\u001b[0m\u001b[0;34m\u001b[0m\u001b[0m\n",
      "\u001b[0;31mIndexError\u001b[0m: list index out of range"
     ]
    }
   ],
   "source": [
    "s = Solution()\n",
    "s.minFlipsMonoIncr(s = \"00110\")"
   ]
  },
  {
   "cell_type": "code",
   "execution_count": 45,
   "id": "b24ab9f4-fdd5-4806-a2d6-e98c743b8aa4",
   "metadata": {},
   "outputs": [],
   "source": [
    "class Solution:\n",
    "    def minFlipsMonoIncr(self, s: str) -> int:\n",
    "        s = list(map(lambda x: int(x),list(s)))\n",
    "        left = [0]\n",
    "        right = [0]\n",
    "        for index in range(len(s)):\n",
    "            if s[index] == 1:\n",
    "                left.append(1+left[-1])\n",
    "            else:\n",
    "                left.append(left[-1])\n",
    "        for index in range(len(s)-1, -1, -1):\n",
    "            if s[index] == 0:\n",
    "                right.append(1+right[-1])\n",
    "            else:\n",
    "                right.append(right[-1])\n",
    "        right = right[::-1]\n",
    "        print(right)\n",
    "        print(left)\n",
    "        flips = []\n",
    "        for index in range(len(left)):\n",
    "            flips.append(left[index] + right[index])\n",
    "        return min(flips)"
   ]
  },
  {
   "cell_type": "code",
   "execution_count": 46,
   "id": "c7448e79-ef23-43a5-85c8-7946b8b2298f",
   "metadata": {},
   "outputs": [
    {
     "name": "stdout",
     "output_type": "stream",
     "text": [
      "[3, 2, 1, 1, 1, 0]\n",
      "[0, 0, 0, 1, 2, 2]\n"
     ]
    },
    {
     "data": {
      "text/plain": [
       "1"
      ]
     },
     "execution_count": 46,
     "metadata": {},
     "output_type": "execute_result"
    }
   ],
   "source": [
    "s = Solution()\n",
    "s.minFlipsMonoIncr(s = \"00110\")"
   ]
  },
  {
   "cell_type": "code",
   "execution_count": null,
   "id": "f4d1e2d7-91a1-469b-853b-7f70c7fb7ec4",
   "metadata": {},
   "outputs": [],
   "source": []
  }
 ],
 "metadata": {
  "kernelspec": {
   "display_name": "Python 3 (ipykernel)",
   "language": "python",
   "name": "python3"
  },
  "language_info": {
   "codemirror_mode": {
    "name": "ipython",
    "version": 3
   },
   "file_extension": ".py",
   "mimetype": "text/x-python",
   "name": "python",
   "nbconvert_exporter": "python",
   "pygments_lexer": "ipython3",
   "version": "3.9.7"
  }
 },
 "nbformat": 4,
 "nbformat_minor": 5
}
