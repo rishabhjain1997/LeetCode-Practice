{
 "cells": [
  {
   "cell_type": "code",
   "execution_count": 88,
   "metadata": {},
   "outputs": [
    {
     "name": "stdout",
     "output_type": "stream",
     "text": [
      "xaabacxcabaax\n"
     ]
    }
   ],
   "source": [
    "def longestPalindrome( s: str) -> str:\n",
    "    import numpy as np\n",
    "    n = len(s)\n",
    "    \n",
    "    matrix = np.zeros((n,n), 'U1000')\n",
    "    reverse_string = s[::-1]\n",
    "    max_string = ''\n",
    "    for reverse_index, reverse_letter in enumerate(reverse_string):\n",
    "        for straight_index, straight_letter in enumerate(s):\n",
    "                if straight_letter == reverse_letter:\n",
    "            \n",
    "                    element ='' \n",
    "                    if (reverse_index > 0 and straight_index > 0 ):\n",
    "                        \n",
    "                        element = str(matrix[reverse_index -1][straight_index -1])+ str(straight_letter)\n",
    "                    else:\n",
    "                        element = straight_letter\n",
    "                        \n",
    "                    matrix[reverse_index][straight_index] = element\n",
    "                    if len(element) > len(max_string) and s.index(element) == s.index(element[::-1]):\n",
    "                            max_string = element      \n",
    "    return(max_string)\n",
    "    \n",
    "print(longestPalindrome(\"xaabacxcabaaxcabaax\"))"
   ]
  },
  {
   "cell_type": "code",
   "execution_count": 65,
   "metadata": {},
   "outputs": [
    {
     "data": {
      "text/plain": [
       "0"
      ]
     },
     "execution_count": 65,
     "metadata": {},
     "output_type": "execute_result"
    }
   ],
   "source": [
    "s = 'abacdgfdcaba'\n",
    "substring = 'abacd'\n",
    "s.index(substring)"
   ]
  },
  {
   "cell_type": "code",
   "execution_count": 66,
   "metadata": {},
   "outputs": [
    {
     "data": {
      "text/plain": [
       "7"
      ]
     },
     "execution_count": 66,
     "metadata": {},
     "output_type": "execute_result"
    }
   ],
   "source": [
    "s.index(substring[::-1])"
   ]
  },
  {
   "cell_type": "code",
   "execution_count": null,
   "metadata": {},
   "outputs": [],
   "source": []
  }
 ],
 "metadata": {
  "kernelspec": {
   "display_name": "Python 3",
   "language": "python",
   "name": "python3"
  },
  "language_info": {
   "codemirror_mode": {
    "name": "ipython",
    "version": 3
   },
   "file_extension": ".py",
   "mimetype": "text/x-python",
   "name": "python",
   "nbconvert_exporter": "python",
   "pygments_lexer": "ipython3",
   "version": "3.8.5"
  }
 },
 "nbformat": 4,
 "nbformat_minor": 4
}
