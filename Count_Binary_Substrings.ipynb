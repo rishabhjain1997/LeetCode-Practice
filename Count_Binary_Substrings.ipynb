{
 "cells": [
  {
   "cell_type": "code",
   "execution_count": 9,
   "id": "5551e009-9904-4751-b596-8fc064179f6f",
   "metadata": {},
   "outputs": [],
   "source": [
    "class Solution:\n",
    "    def countBinarySubstrings(self, s: str) -> int:\n",
    "        group = [1]\n",
    "        for index in range(1,len(s)):\n",
    "            if s[index] != s[index-1]:\n",
    "                group.append(1)\n",
    "            else:\n",
    "                group[-1] = group[-1] + 1\n",
    "        count = 0\n",
    "        for index in range(len(group)-1):\n",
    "            count = count + min(group[index], group[index+1])\n",
    "        return count"
   ]
  },
  {
   "cell_type": "code",
   "execution_count": 10,
   "id": "9d64ab6f-802c-491f-906f-8278f1bba4f9",
   "metadata": {},
   "outputs": [
    {
     "data": {
      "text/plain": [
       "6"
      ]
     },
     "execution_count": 10,
     "metadata": {},
     "output_type": "execute_result"
    }
   ],
   "source": [
    "s = Solution()\n",
    "s.countBinarySubstrings(s = \"00110011\")"
   ]
  },
  {
   "cell_type": "code",
   "execution_count": null,
   "id": "a0e8b333-5afd-4dad-a016-62bc42f4d618",
   "metadata": {},
   "outputs": [],
   "source": []
  }
 ],
 "metadata": {
  "kernelspec": {
   "display_name": "Python 3 (ipykernel)",
   "language": "python",
   "name": "python3"
  },
  "language_info": {
   "codemirror_mode": {
    "name": "ipython",
    "version": 3
   },
   "file_extension": ".py",
   "mimetype": "text/x-python",
   "name": "python",
   "nbconvert_exporter": "python",
   "pygments_lexer": "ipython3",
   "version": "3.9.7"
  }
 },
 "nbformat": 4,
 "nbformat_minor": 5
}
