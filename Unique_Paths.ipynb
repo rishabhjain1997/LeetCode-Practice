{
 "cells": [
  {
   "cell_type": "code",
   "execution_count": 12,
   "id": "d04afbbc-e922-444a-89a0-117beb1e959a",
   "metadata": {},
   "outputs": [],
   "source": [
    "class Solution:\n",
    "    def uniquePaths(self, m: int, n: int) -> int:\n",
    "        paths = [[0 for _ in range(n)] for _ in range(m)]\n",
    "        for row in range(m):\n",
    "            for column in range(n):\n",
    "                if (row == 0 or column == 0):\n",
    "                    paths[row][column] = 1\n",
    "                else:\n",
    "                    paths[row][column] = paths[row - 1][column] + paths[row][column - 1]\n",
    "        return paths[m-1][n-1]"
   ]
  },
  {
   "cell_type": "code",
   "execution_count": 13,
   "id": "131ae9fe-1c4c-425c-9247-3509cd80551c",
   "metadata": {},
   "outputs": [
    {
     "data": {
      "text/plain": [
       "1"
      ]
     },
     "execution_count": 13,
     "metadata": {},
     "output_type": "execute_result"
    }
   ],
   "source": [
    "s = Solution()\n",
    "s.uniquePaths(m = 1, n = 1)"
   ]
  },
  {
   "cell_type": "code",
   "execution_count": null,
   "id": "2b471ecb-5dc3-4564-aebc-f70d552633a1",
   "metadata": {},
   "outputs": [],
   "source": []
  }
 ],
 "metadata": {
  "kernelspec": {
   "display_name": "Python 3 (ipykernel)",
   "language": "python",
   "name": "python3"
  },
  "language_info": {
   "codemirror_mode": {
    "name": "ipython",
    "version": 3
   },
   "file_extension": ".py",
   "mimetype": "text/x-python",
   "name": "python",
   "nbconvert_exporter": "python",
   "pygments_lexer": "ipython3",
   "version": "3.9.7"
  }
 },
 "nbformat": 4,
 "nbformat_minor": 5
}
