{
 "cells": [
  {
   "cell_type": "code",
   "execution_count": 5,
   "id": "ad0a6f0d-97bd-4a7b-b109-270f6cc07c1d",
   "metadata": {},
   "outputs": [],
   "source": [
    "from collections import Counter\n",
    "class Solution:\n",
    "    def canConstruct(self, ransomNote: str, magazine: str) -> bool:\n",
    "        ransomCounter = Counter(ransomNote)\n",
    "        magazineCounter = Counter(magazine)\n",
    "        for letter in ransomCounter:\n",
    "            if ransomCounter[letter] > magazineCounter[letter]:\n",
    "                return False\n",
    "        return True"
   ]
  },
  {
   "cell_type": "code",
   "execution_count": 7,
   "id": "36595282-8a72-4d95-acb1-3ebb54565d2e",
   "metadata": {},
   "outputs": [
    {
     "data": {
      "text/plain": [
       "False"
      ]
     },
     "execution_count": 7,
     "metadata": {},
     "output_type": "execute_result"
    }
   ],
   "source": [
    "s = Solution()\n",
    "s.canConstruct(ransomNote = \"aa\", magazine = \"ab\")"
   ]
  },
  {
   "cell_type": "code",
   "execution_count": null,
   "id": "5a4da5cd-1c1c-4d6a-9ea2-e1c513b0f102",
   "metadata": {},
   "outputs": [],
   "source": []
  }
 ],
 "metadata": {
  "kernelspec": {
   "display_name": "Python 3 (ipykernel)",
   "language": "python",
   "name": "python3"
  },
  "language_info": {
   "codemirror_mode": {
    "name": "ipython",
    "version": 3
   },
   "file_extension": ".py",
   "mimetype": "text/x-python",
   "name": "python",
   "nbconvert_exporter": "python",
   "pygments_lexer": "ipython3",
   "version": "3.9.7"
  }
 },
 "nbformat": 4,
 "nbformat_minor": 5
}
