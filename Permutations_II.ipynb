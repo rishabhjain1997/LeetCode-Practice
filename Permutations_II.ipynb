{
 "cells": [
  {
   "cell_type": "code",
   "execution_count": 1,
   "id": "422fc044-5b7e-4119-ba10-b7fd6c3e8ea8",
   "metadata": {},
   "outputs": [],
   "source": [
    "from typing import List"
   ]
  },
  {
   "cell_type": "code",
   "execution_count": 34,
   "id": "b2ed8974-4a29-41ac-9997-0e8cac671fe2",
   "metadata": {},
   "outputs": [],
   "source": [
    "class Solution:\n",
    "    def is_valid_state(self,state, nums):\n",
    "        # check if it is a valid solution\n",
    "        return len(state) == len(nums)\n",
    "\n",
    "    def get_candidates(self,state, nums):\n",
    "        from collections import Counter\n",
    "        return list(Counter(nums)-Counter(state)) \n",
    "\n",
    "    def search(self,state, solutions, nums):\n",
    "        if self.is_valid_state(state, nums):\n",
    "            solutions.append(state.copy())\n",
    "            # return\n",
    "        candidates = self.get_candidates(state, nums)\n",
    "        for candidate in candidates:\n",
    "            state.append(candidate)\n",
    "            self.search(state, solutions, nums)\n",
    "            state.pop()\n",
    "\n",
    "    def permuteUnique(self, nums: List[int]) -> List[List[int]]:\n",
    "        solutions = list()\n",
    "        state = []\n",
    "        self.search(state, solutions, nums)\n",
    "        return (solutions)\n",
    "    "
   ]
  },
  {
   "cell_type": "code",
   "execution_count": 36,
   "id": "bff0650a-997c-472f-a37f-e1c57d7ab2e5",
   "metadata": {},
   "outputs": [
    {
     "data": {
      "text/plain": [
       "[[1]]"
      ]
     },
     "execution_count": 36,
     "metadata": {},
     "output_type": "execute_result"
    }
   ],
   "source": [
    "s = Solution()\n",
    "s.permuteUnique(nums = [1])"
   ]
  }
 ],
 "metadata": {
  "kernelspec": {
   "display_name": "Python 3 (ipykernel)",
   "language": "python",
   "name": "python3"
  },
  "language_info": {
   "codemirror_mode": {
    "name": "ipython",
    "version": 3
   },
   "file_extension": ".py",
   "mimetype": "text/x-python",
   "name": "python",
   "nbconvert_exporter": "python",
   "pygments_lexer": "ipython3",
   "version": "3.9.7"
  }
 },
 "nbformat": 4,
 "nbformat_minor": 5
}
