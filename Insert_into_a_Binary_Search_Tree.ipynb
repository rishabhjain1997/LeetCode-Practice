{
 "cells": [
  {
   "cell_type": "code",
   "execution_count": 3,
   "id": "0c2bc97b-3948-45a8-b3dc-6e8ab84df2bd",
   "metadata": {},
   "outputs": [],
   "source": [
    "from typing import Optional"
   ]
  },
  {
   "cell_type": "code",
   "execution_count": 4,
   "id": "b8a8f132-00dd-4368-950e-3ab925460b98",
   "metadata": {},
   "outputs": [],
   "source": [
    "class TreeNode:\n",
    "    def __init__(self, val=0, left=None, right=None):\n",
    "        self.val = val\n",
    "        self.left = left\n",
    "        self.right = right"
   ]
  },
  {
   "cell_type": "code",
   "execution_count": 5,
   "id": "8d8095e6-4b19-4588-8f3d-a17410474a1c",
   "metadata": {},
   "outputs": [],
   "source": [
    "one = TreeNode(1)\n",
    "three = TreeNode(3)\n",
    "nine = TreeNode(9)\n",
    "six = TreeNode(6)\n",
    "two = TreeNode(2,one, three)\n",
    "seven = TreeNode(7,six,nine)\n",
    "root = TreeNode(4,two,seven)"
   ]
  },
  {
   "cell_type": "code",
   "execution_count": 10,
   "id": "44f9f6e8-338d-446d-92dc-ec276260ba9c",
   "metadata": {},
   "outputs": [],
   "source": [
    "class Solution:\n",
    "    def insertIntoBST(self, root: Optional[TreeNode], val: int) -> Optional[TreeNode]:\n",
    "        if not root:\n",
    "            return TreeNode(val)\n",
    "        def insert(node):\n",
    "            if val < node.val:\n",
    "                if not node.left:\n",
    "                    node.left = TreeNode(val)\n",
    "                else:\n",
    "                    insert(node.left)\n",
    "            if val > node.val:\n",
    "                if not node.right:\n",
    "                    node.right = TreeNode(val)\n",
    "                else:\n",
    "                    insert(node.right)\n",
    "        insert(root)\n",
    "        return root"
   ]
  },
  {
   "cell_type": "code",
   "execution_count": 11,
   "id": "3b4597d0-3e78-44ab-a95f-55b2bac4fb23",
   "metadata": {},
   "outputs": [
    {
     "data": {
      "text/plain": [
       "<__main__.TreeNode at 0x7f0d3e639700>"
      ]
     },
     "execution_count": 11,
     "metadata": {},
     "output_type": "execute_result"
    }
   ],
   "source": [
    "s = Solution()\n",
    "s.insertIntoBST(root,5)"
   ]
  },
  {
   "cell_type": "code",
   "execution_count": null,
   "id": "00ce266e-1e33-4b73-b87f-04a10744e49c",
   "metadata": {},
   "outputs": [],
   "source": []
  },
  {
   "cell_type": "code",
   "execution_count": null,
   "id": "826c64ec-79df-4de2-8f90-5d855eb322f6",
   "metadata": {},
   "outputs": [],
   "source": []
  }
 ],
 "metadata": {
  "kernelspec": {
   "display_name": "Python 3 (ipykernel)",
   "language": "python",
   "name": "python3"
  },
  "language_info": {
   "codemirror_mode": {
    "name": "ipython",
    "version": 3
   },
   "file_extension": ".py",
   "mimetype": "text/x-python",
   "name": "python",
   "nbconvert_exporter": "python",
   "pygments_lexer": "ipython3",
   "version": "3.9.7"
  }
 },
 "nbformat": 4,
 "nbformat_minor": 5
}
