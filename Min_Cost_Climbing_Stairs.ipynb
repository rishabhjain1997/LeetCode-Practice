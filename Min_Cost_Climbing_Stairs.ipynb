{
 "cells": [
  {
   "cell_type": "code",
   "execution_count": 2,
   "id": "aecec582-8d0f-474b-8a64-987ee1710b6d",
   "metadata": {},
   "outputs": [],
   "source": [
    "from typing import List"
   ]
  },
  {
   "cell_type": "code",
   "execution_count": 4,
   "id": "03507ed1-8440-46ff-937e-79976f4a7544",
   "metadata": {},
   "outputs": [],
   "source": [
    "class Solution:\n",
    "    def minCostClimbingStairs(self, cost: List[int]) -> int:\n",
    "        if len(cost) <= 2:\n",
    "            return min(cost)\n",
    "        else:\n",
    "            A = []\n",
    "            cost.append(0)\n",
    "            for index, val in enumerate(cost):\n",
    "                if index == 0 or index == 1:\n",
    "                    A.append(cost[index])\n",
    "                else:\n",
    "                    A.append(min(A[-1],A[-2])+cost[index])\n",
    "            return A[-1]"
   ]
  },
  {
   "cell_type": "code",
   "execution_count": 6,
   "id": "7a13b11b-a596-4c1b-9ccf-1cadeba01653",
   "metadata": {},
   "outputs": [
    {
     "data": {
      "text/plain": [
       "6"
      ]
     },
     "execution_count": 6,
     "metadata": {},
     "output_type": "execute_result"
    }
   ],
   "source": [
    "s = Solution()\n",
    "s.minCostClimbingStairs(cost = [1,100,1,1,1,100,1,1,100,1])"
   ]
  },
  {
   "cell_type": "code",
   "execution_count": null,
   "id": "41de5664-3b31-4425-a224-c956c33e1480",
   "metadata": {},
   "outputs": [],
   "source": []
  }
 ],
 "metadata": {
  "kernelspec": {
   "display_name": "Python 3 (ipykernel)",
   "language": "python",
   "name": "python3"
  },
  "language_info": {
   "codemirror_mode": {
    "name": "ipython",
    "version": 3
   },
   "file_extension": ".py",
   "mimetype": "text/x-python",
   "name": "python",
   "nbconvert_exporter": "python",
   "pygments_lexer": "ipython3",
   "version": "3.9.7"
  }
 },
 "nbformat": 4,
 "nbformat_minor": 5
}
