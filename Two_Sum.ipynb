{
 "cells": [
  {
   "cell_type": "code",
   "execution_count": 3,
   "id": "22d1be8a-b85e-4463-9afe-71c513b5d171",
   "metadata": {},
   "outputs": [],
   "source": [
    "from typing import List"
   ]
  },
  {
   "cell_type": "code",
   "execution_count": 40,
   "id": "50836d3a-514a-4a67-bad3-9e40eef14788",
   "metadata": {},
   "outputs": [],
   "source": [
    "class Solution:\n",
    "    def twoSum(self, nums: List[int], target: int) -> List[int]:\n",
    "        hashmap = dict(map(lambda x: (x[1],x[0]),set(enumerate(nums))))\n",
    "        #print(hashmap)\n",
    "        for index, num in enumerate(nums):\n",
    "            complement = target - num\n",
    "            #print(complement)\n",
    "            if complement in hashmap and hashmap[complement] != index:\n",
    "                return(index, hashmap[complement])\n",
    "            #if (target - num) in set_num and "
   ]
  },
  {
   "cell_type": "code",
   "execution_count": 41,
   "id": "9e8f99e2-d273-499a-b2c5-583f66e30315",
   "metadata": {},
   "outputs": [
    {
     "name": "stdout",
     "output_type": "stream",
     "text": [
      "0 1\n"
     ]
    }
   ],
   "source": [
    "s = Solution()\n",
    "s.twoSum([3,3], 6)"
   ]
  },
  {
   "cell_type": "code",
   "execution_count": null,
   "id": "30ad6fb9-046d-430e-bc65-504d1565a138",
   "metadata": {},
   "outputs": [],
   "source": []
  }
 ],
 "metadata": {
  "kernelspec": {
   "display_name": "Python 3 (ipykernel)",
   "language": "python",
   "name": "python3"
  },
  "language_info": {
   "codemirror_mode": {
    "name": "ipython",
    "version": 3
   },
   "file_extension": ".py",
   "mimetype": "text/x-python",
   "name": "python",
   "nbconvert_exporter": "python",
   "pygments_lexer": "ipython3",
   "version": "3.9.7"
  }
 },
 "nbformat": 4,
 "nbformat_minor": 5
}
