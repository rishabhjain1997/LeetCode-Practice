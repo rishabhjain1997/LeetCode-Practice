{
 "cells": [
  {
   "cell_type": "code",
   "execution_count": 11,
   "id": "08e4e730-cbf3-49d4-a7a4-81c1bc397a9d",
   "metadata": {},
   "outputs": [],
   "source": [
    "class Solution:\n",
    "    def totalNQueens(self, n: int) -> int:\n",
    "        '''\n",
    "        left: [1,3,0,2]\n",
    "        right: [2,0,3,1]\n",
    "        '''\n",
    "        \n",
    "        solutions = []\n",
    "        state = []\n",
    "        self.search(state, solutions, n)\n",
    "        return len(solutions)\n",
    "        \n",
    "    def is_valid_state(self,state, n):\n",
    "        return len(state) == n\n",
    "\n",
    "    def get_candidates(self,state, n):\n",
    "        if len(state) == 0:\n",
    "            return [i for i in range(n)]\n",
    "        else:\n",
    "            candidates = set([i for i in range(n)]) - set(state)\n",
    "            # Remove diagnols\n",
    "            position = len(state)\n",
    "            for row, column in enumerate(state):\n",
    "                distance = position - row\n",
    "                candidates.discard(distance + column)\n",
    "                candidates.discard(column - distance)\n",
    "            return list(candidates)\n",
    "\n",
    "    def search(self,state, solutions, n):\n",
    "        if self.is_valid_state(state, n):\n",
    "            solutions.append(state.copy())\n",
    "            # return\n",
    "\n",
    "        for candidate in self.get_candidates(state, n):\n",
    "            state.append(candidate)\n",
    "            self.search(state, solutions, n)\n",
    "            state.pop()"
   ]
  },
  {
   "cell_type": "code",
   "execution_count": 12,
   "id": "f94ad74b-ede3-4ebf-b033-5efec99575f8",
   "metadata": {},
   "outputs": [
    {
     "data": {
      "text/plain": [
       "2"
      ]
     },
     "execution_count": 12,
     "metadata": {},
     "output_type": "execute_result"
    }
   ],
   "source": [
    "s = Solution()\n",
    "s.totalNQueens(n = 4)"
   ]
  },
  {
   "cell_type": "code",
   "execution_count": null,
   "id": "7ee08daf-7a00-4434-af9e-32ac8716c566",
   "metadata": {},
   "outputs": [],
   "source": []
  }
 ],
 "metadata": {
  "kernelspec": {
   "display_name": "Python 3 (ipykernel)",
   "language": "python",
   "name": "python3"
  },
  "language_info": {
   "codemirror_mode": {
    "name": "ipython",
    "version": 3
   },
   "file_extension": ".py",
   "mimetype": "text/x-python",
   "name": "python",
   "nbconvert_exporter": "python",
   "pygments_lexer": "ipython3",
   "version": "3.9.7"
  }
 },
 "nbformat": 4,
 "nbformat_minor": 5
}
