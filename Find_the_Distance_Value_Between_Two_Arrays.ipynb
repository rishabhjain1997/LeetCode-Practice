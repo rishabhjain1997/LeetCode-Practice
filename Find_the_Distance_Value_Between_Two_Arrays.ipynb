{
 "cells": [
  {
   "cell_type": "code",
   "execution_count": 1,
   "id": "c19a06be-8836-4701-b5cb-a6c5b5ba8783",
   "metadata": {},
   "outputs": [],
   "source": [
    "from typing import List"
   ]
  },
  {
   "cell_type": "code",
   "execution_count": 9,
   "id": "ecb422e8-9c82-46a1-9fb8-92314cb211cb",
   "metadata": {},
   "outputs": [],
   "source": [
    "class Solution:\n",
    "    def findTheDistanceValue(self, arr1: List[int], arr2: List[int], d: int) -> int:\n",
    "        count = 0\n",
    "        for elem1 in arr1:\n",
    "            distance = list(map(lambda x: abs(x-elem1)>d, arr2))\n",
    "            if all(distance):\n",
    "                count += 1\n",
    "        return count"
   ]
  },
  {
   "cell_type": "code",
   "execution_count": 16,
   "id": "77821291-0fda-4a5e-8638-be5c1551c6a9",
   "metadata": {},
   "outputs": [],
   "source": [
    "class Solution:\n",
    "    def findTheDistanceValue(self, arr1: List[int], arr2: List[int], d: int) -> int:\n",
    "        arr2.sort()\n",
    "        count = len(arr1)\n",
    "        for elem1 in arr1:\n",
    "            lo = 0\n",
    "            hi = len(arr2) -1\n",
    "            while lo<=hi:\n",
    "                mid = (lo+hi)//2\n",
    "                if abs(arr2[mid]-elem1) <=d:\n",
    "                    count = count -1\n",
    "                    break\n",
    "                else:\n",
    "                    if arr2[mid] > elem1:\n",
    "                        hi = mid - 1\n",
    "                    elif arr2[mid] < elem1:\n",
    "                        lo = mid + 1\n",
    "        return count"
   ]
  },
  {
   "cell_type": "code",
   "execution_count": 17,
   "id": "c9780949-6b3b-4bc9-832b-b691510ad594",
   "metadata": {},
   "outputs": [
    {
     "data": {
      "text/plain": [
       "2"
      ]
     },
     "execution_count": 17,
     "metadata": {},
     "output_type": "execute_result"
    }
   ],
   "source": [
    "s = Solution()\n",
    "s.findTheDistanceValue(arr1 = [4,5,8], arr2 = [10,9,1,8], d = 2)"
   ]
  },
  {
   "cell_type": "code",
   "execution_count": null,
   "id": "2bd3693f-0e88-4949-9d34-3bbc9fbc77d1",
   "metadata": {},
   "outputs": [],
   "source": []
  }
 ],
 "metadata": {
  "kernelspec": {
   "display_name": "Python 3 (ipykernel)",
   "language": "python",
   "name": "python3"
  },
  "language_info": {
   "codemirror_mode": {
    "name": "ipython",
    "version": 3
   },
   "file_extension": ".py",
   "mimetype": "text/x-python",
   "name": "python",
   "nbconvert_exporter": "python",
   "pygments_lexer": "ipython3",
   "version": "3.9.7"
  }
 },
 "nbformat": 4,
 "nbformat_minor": 5
}
