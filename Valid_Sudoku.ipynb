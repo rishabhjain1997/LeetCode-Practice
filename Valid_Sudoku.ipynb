{
 "cells": [
  {
   "cell_type": "code",
   "execution_count": 3,
   "id": "a9b03e3f-6995-4022-883e-a62faec74f1d",
   "metadata": {},
   "outputs": [],
   "source": [
    "from typing import List"
   ]
  },
  {
   "cell_type": "code",
   "execution_count": 57,
   "id": "56ad8308-ceb0-4489-b43b-e062fe2c481c",
   "metadata": {},
   "outputs": [],
   "source": [
    "class Solution:\n",
    "    def isValidSudoku(self, board: List[List[str]]) -> bool:\n",
    "        def convert_to_integer(number: str) -> int:\n",
    "            try:\n",
    "                return (int(number))\n",
    "            except ValueError:\n",
    "                return 0\n",
    "            \n",
    "        row_hash = [set() for _ in range(9)] \n",
    "        column_hash = [set() for _ in range(9)]\n",
    "        submatrix_hash = [[set() for _ in range(3)] for _ in range(3)]\n",
    "        \n",
    "        for i in range(0,9):\n",
    "            for j in range(0,9):\n",
    "                if board[i][j] == \".\":\n",
    "                    continue\n",
    "                element = convert_to_integer(board[i][j])\n",
    "                submatrix_row = i // 3\n",
    "                submatrix_column = j // 3\n",
    "                \n",
    "                if element in row_hash[i] or element in column_hash[j] or element in submatrix_hash[submatrix_row][submatrix_column]:\n",
    "                    return False\n",
    "                else:\n",
    "                    row_hash[i].add(element)\n",
    "                    column_hash[j].add(element)\n",
    "                    submatrix_hash[submatrix_row][submatrix_column].add(element)\n",
    "        #print(submatrix_hash)\n",
    "        return True\n",
    "                \n",
    "                    \n",
    "                "
   ]
  },
  {
   "cell_type": "code",
   "execution_count": 58,
   "id": "6bca609e-ff74-4246-baef-c06e0cf00e56",
   "metadata": {},
   "outputs": [
    {
     "name": "stdout",
     "output_type": "stream",
     "text": [
      "[[{3, 5, 6, 8, 9}, {1, 5, 9, 7}, {6}], [{8, 4, 7}, {8, 2, 3, 6}, {1, 3, 6}], [{6}, {8, 1, 4, 9}, {2, 5, 7, 8, 9}]]\n"
     ]
    }
   ],
   "source": [
    "s = Solution()\n",
    "s.isValidSudoku(board = \n",
    "[[\"5\",\"3\",\".\",\".\",\"7\",\".\",\".\",\".\",\".\"]\n",
    ",[\"6\",\".\",\".\",\"1\",\"9\",\"5\",\".\",\".\",\".\"]\n",
    ",[\".\",\"9\",\"8\",\".\",\".\",\".\",\".\",\"6\",\".\"]\n",
    ",[\"8\",\".\",\".\",\".\",\"6\",\".\",\".\",\".\",\"3\"]\n",
    ",[\"4\",\".\",\".\",\"8\",\".\",\"3\",\".\",\".\",\"1\"]\n",
    ",[\"7\",\".\",\".\",\".\",\"2\",\".\",\".\",\".\",\"6\"]\n",
    ",[\".\",\"6\",\".\",\".\",\".\",\".\",\"2\",\"8\",\".\"]\n",
    ",[\".\",\".\",\".\",\"4\",\"1\",\"9\",\".\",\".\",\"5\"]\n",
    ",[\".\",\".\",\".\",\".\",\"8\",\".\",\".\",\"7\",\"9\"]])"
   ]
  },
  {
   "cell_type": "code",
   "execution_count": 53,
   "id": "22ead3e4-25fa-4eb2-b184-2ed521ee4f05",
   "metadata": {},
   "outputs": [
    {
     "data": {
      "text/plain": [
       "[[set(), set(), set()], [set(), set(), set()], [set(), set(), set()]]"
      ]
     },
     "execution_count": 53,
     "metadata": {},
     "output_type": "execute_result"
    }
   ],
   "source": [
    "submatrix_hash = [[set() for _ in range(3)] for _ in range(3)]\n",
    "submatrix_hash"
   ]
  },
  {
   "cell_type": "code",
   "execution_count": 35,
   "id": "bb97e6a4-cd26-4c7e-a97c-51225972f8c8",
   "metadata": {},
   "outputs": [],
   "source": [
    "row_hash = \n",
    "#row_hash[0][0] = {0,1}"
   ]
  },
  {
   "cell_type": "code",
   "execution_count": 40,
   "id": "97801901-9c04-4a34-be73-de9d23964d17",
   "metadata": {},
   "outputs": [
    {
     "data": {
      "text/plain": [
       "[[{0, 1}, set(), set()], [set(), set(), set()], [set(), set(), {0, 1}]]"
      ]
     },
     "execution_count": 40,
     "metadata": {},
     "output_type": "execute_result"
    }
   ],
   "source": [
    "row_hash"
   ]
  },
  {
   "cell_type": "code",
   "execution_count": 39,
   "id": "666aff19-a32a-408e-ad58-1e3bb24ef1ae",
   "metadata": {},
   "outputs": [],
   "source": [
    "row_hash[2][2] = {0,1}"
   ]
  },
  {
   "cell_type": "code",
   "execution_count": null,
   "id": "03888605-0e8a-482d-8ec2-c40dfa7303c5",
   "metadata": {},
   "outputs": [],
   "source": []
  }
 ],
 "metadata": {
  "kernelspec": {
   "display_name": "Python 3 (ipykernel)",
   "language": "python",
   "name": "python3"
  },
  "language_info": {
   "codemirror_mode": {
    "name": "ipython",
    "version": 3
   },
   "file_extension": ".py",
   "mimetype": "text/x-python",
   "name": "python",
   "nbconvert_exporter": "python",
   "pygments_lexer": "ipython3",
   "version": "3.9.7"
  }
 },
 "nbformat": 4,
 "nbformat_minor": 5
}
