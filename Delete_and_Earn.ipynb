{
 "cells": [
  {
   "cell_type": "code",
   "execution_count": 5,
   "id": "bd961689-5118-413c-b129-060d86846bd9",
   "metadata": {},
   "outputs": [],
   "source": [
    "from typing import List"
   ]
  },
  {
   "cell_type": "code",
   "execution_count": 6,
   "id": "b8ca2663-7a70-4c1b-95e1-30a2e8accfc8",
   "metadata": {},
   "outputs": [],
   "source": [
    "class Solution:\n",
    "    def deleteAndEarn(self, nums: List[int]) -> int:\n",
    "        from collections import Counter\n",
    "        counts = dict(Counter(nums))\n",
    "        values = {key: key * val for key,val in counts.items()}\n",
    "        #print(values)\n",
    "        points = []\n",
    "        keys = sorted(list(counts.keys()))\n",
    "        for index in range(len(keys)):\n",
    "            if len(points) == 0:\n",
    "                points.append(values[keys[index]])\n",
    "            elif len(points) == 1:\n",
    "                if keys[index] == keys[index-1] + 1:\n",
    "                    points.append(max(values[keys[index]], values[keys[index-1]]))\n",
    "                else:\n",
    "                    points.append(sum([values[keys[index]], values[keys[index-1]]]))\n",
    "            else:\n",
    "                if keys[index] == keys[index-1] + 1:\n",
    "                    points.append(max(values[keys[index]] + points[-2], points[-1]))\n",
    "                else:\n",
    "                    points.append(sum([values[keys[index]], points[-1]]))\n",
    "        return points[-1]"
   ]
  },
  {
   "cell_type": "code",
   "execution_count": 7,
   "id": "18b68995-c8aa-4f00-8d36-247ecb8222e3",
   "metadata": {},
   "outputs": [
    {
     "data": {
      "text/plain": [
       "4"
      ]
     },
     "execution_count": 7,
     "metadata": {},
     "output_type": "execute_result"
    }
   ],
   "source": [
    "s = Solution()\n",
    "s.deleteAndEarn(nums = [3,1])"
   ]
  },
  {
   "cell_type": "code",
   "execution_count": 2,
   "id": "7af997cc-f5ae-46fa-8a81-114734b06947",
   "metadata": {},
   "outputs": [
    {
     "data": {
      "text/plain": [
       "3"
      ]
     },
     "execution_count": 2,
     "metadata": {},
     "output_type": "execute_result"
    }
   ],
   "source": [
    "sum([1,2])"
   ]
  },
  {
   "cell_type": "code",
   "execution_count": null,
   "id": "e4624fce-fbf2-4252-b01a-f13b4044bdac",
   "metadata": {},
   "outputs": [],
   "source": []
  }
 ],
 "metadata": {
  "kernelspec": {
   "display_name": "Python 3 (ipykernel)",
   "language": "python",
   "name": "python3"
  },
  "language_info": {
   "codemirror_mode": {
    "name": "ipython",
    "version": 3
   },
   "file_extension": ".py",
   "mimetype": "text/x-python",
   "name": "python",
   "nbconvert_exporter": "python",
   "pygments_lexer": "ipython3",
   "version": "3.9.7"
  }
 },
 "nbformat": 4,
 "nbformat_minor": 5
}
