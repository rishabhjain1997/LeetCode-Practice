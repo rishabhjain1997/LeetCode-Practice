{
 "cells": [
  {
   "cell_type": "code",
   "execution_count": 39,
   "id": "65121914-f384-4f2b-9c14-919eb27d9c47",
   "metadata": {},
   "outputs": [],
   "source": [
    "class Solution:\n",
    "    def numDecodings(self, s: str) -> int:\n",
    "        dp = {len(s):1}\n",
    "        def dfs(index):\n",
    "            if index in dp:\n",
    "                return dp[index]\n",
    "            if int(s[index]) == 0:\n",
    "                return 0\n",
    "            res = dfs(index + 1)\n",
    "            if index + 1 < len(s) and int(s[index:index+2]) <= 26 and int(s[index:index+2]) >= 10:\n",
    "                res += dfs(index + 2)\n",
    "            dp[index] = res\n",
    "            return res\n",
    "        return dfs(0)"
   ]
  },
  {
   "cell_type": "code",
   "execution_count": 40,
   "id": "35b34c58-da21-4b90-873d-23a12a0a5133",
   "metadata": {},
   "outputs": [
    {
     "data": {
      "text/plain": [
       "0"
      ]
     },
     "execution_count": 40,
     "metadata": {},
     "output_type": "execute_result"
    }
   ],
   "source": [
    "s = Solution()\n",
    "s.numDecodings(s = \"06\")"
   ]
  },
  {
   "cell_type": "code",
   "execution_count": null,
   "id": "30010ba4-de79-48c2-93da-ea875507f0b1",
   "metadata": {},
   "outputs": [],
   "source": []
  }
 ],
 "metadata": {
  "kernelspec": {
   "display_name": "Python 3 (ipykernel)",
   "language": "python",
   "name": "python3"
  },
  "language_info": {
   "codemirror_mode": {
    "name": "ipython",
    "version": 3
   },
   "file_extension": ".py",
   "mimetype": "text/x-python",
   "name": "python",
   "nbconvert_exporter": "python",
   "pygments_lexer": "ipython3",
   "version": "3.9.7"
  }
 },
 "nbformat": 4,
 "nbformat_minor": 5
}
