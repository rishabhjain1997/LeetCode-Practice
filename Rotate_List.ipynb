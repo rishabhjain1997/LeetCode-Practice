{
 "cells": [
  {
   "cell_type": "code",
   "execution_count": 1,
   "id": "63f7ce37-7286-4819-987f-e0b505eefd73",
   "metadata": {},
   "outputs": [],
   "source": [
    "from typing import Optional"
   ]
  },
  {
   "cell_type": "code",
   "execution_count": 2,
   "id": "50a940d4-8be2-4faa-94ee-1542f223b9f3",
   "metadata": {},
   "outputs": [],
   "source": [
    "class ListNode:\n",
    "    def __init__(self, val=0, next=None):\n",
    "        self.val = val\n",
    "        self.next = next"
   ]
  },
  {
   "cell_type": "code",
   "execution_count": 9,
   "id": "12f9a976-e600-4b0f-bcac-d700e35e7732",
   "metadata": {},
   "outputs": [],
   "source": [
    "def create_linked_list(arr):\n",
    "    prev = None\n",
    "    for index, element in enumerate(arr[::-1]):\n",
    "        curr = ListNode(element,None)\n",
    "        if prev:\n",
    "            curr.next = prev\n",
    "        prev = curr\n",
    "        if index == len(arr) -1:\n",
    "            return curr\n",
    "        \n",
    "\n",
    "def traverse_linked_list(list1):\n",
    "    iterator = list1\n",
    "    while iterator:\n",
    "        print(iterator.val)\n",
    "        iterator = iterator.next\n",
    "\n",
    "def len_linked_list(head):\n",
    "    iterator = head\n",
    "    length = 0\n",
    "    while iterator:\n",
    "        iterator = iterator.next\n",
    "        length = length + 1\n",
    "    return length"
   ]
  },
  {
   "cell_type": "code",
   "execution_count": 40,
   "id": "1cb0bb2c-9f5a-490a-b317-aa8fd40bd58a",
   "metadata": {},
   "outputs": [],
   "source": [
    "class Solution:\n",
    "    def len_linked_list(self,head):\n",
    "        iterator = head\n",
    "        length = 0\n",
    "        while iterator:\n",
    "            iterator = iterator.next\n",
    "            length = length + 1\n",
    "        return length\n",
    "\n",
    "    def rotateRight(self, head: Optional[ListNode], k: int) -> Optional[ListNode]:\n",
    "        if not head:\n",
    "            return head\n",
    "        list_length = self.len_linked_list(head)\n",
    "        k = k % list_length\n",
    "        if k == 0:\n",
    "            return head\n",
    "        traverse = list_length - k - 1\n",
    "        iterator = head\n",
    "        while iterator and traverse:\n",
    "            iterator = iterator.next\n",
    "            traverse = traverse - 1\n",
    "        delete_link = iterator\n",
    "        iterator = iterator.next\n",
    "        new_head = iterator\n",
    "        delete_link.next = None\n",
    "        while iterator.next:\n",
    "            iterator = iterator.next\n",
    "        iterator.next = head\n",
    "        return new_head"
   ]
  },
  {
   "cell_type": "code",
   "execution_count": 41,
   "id": "b0bdb2f7-6303-4afb-855a-e6e4aacaf417",
   "metadata": {},
   "outputs": [
    {
     "name": "stdout",
     "output_type": "stream",
     "text": [
      "2\n",
      "0\n",
      "1\n"
     ]
    }
   ],
   "source": [
    "s = Solution()\n",
    "traverse_linked_list(s.rotateRight(create_linked_list([0,1,2]), k = 4))"
   ]
  },
  {
   "cell_type": "code",
   "execution_count": 15,
   "id": "288d0f34-76c4-43d0-a132-14e47ec67388",
   "metadata": {},
   "outputs": [
    {
     "data": {
      "text/plain": [
       "5"
      ]
     },
     "execution_count": 15,
     "metadata": {},
     "output_type": "execute_result"
    }
   ],
   "source": []
  },
  {
   "cell_type": "code",
   "execution_count": null,
   "id": "e8165b07-965e-43a8-aab9-0476c38f5101",
   "metadata": {},
   "outputs": [],
   "source": []
  }
 ],
 "metadata": {
  "kernelspec": {
   "display_name": "Python 3 (ipykernel)",
   "language": "python",
   "name": "python3"
  },
  "language_info": {
   "codemirror_mode": {
    "name": "ipython",
    "version": 3
   },
   "file_extension": ".py",
   "mimetype": "text/x-python",
   "name": "python",
   "nbconvert_exporter": "python",
   "pygments_lexer": "ipython3",
   "version": "3.9.7"
  }
 },
 "nbformat": 4,
 "nbformat_minor": 5
}
