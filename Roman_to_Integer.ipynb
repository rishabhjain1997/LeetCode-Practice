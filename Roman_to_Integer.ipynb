{
 "cells": [
  {
   "cell_type": "code",
   "execution_count": 9,
   "id": "46297469-e882-4c49-8a82-612d20000215",
   "metadata": {},
   "outputs": [],
   "source": [
    "class Solution:\n",
    "    def romanToInt(self, s: str) -> int:\n",
    "        values = {\n",
    "            'I': 1,\n",
    "            'IV':4,\n",
    "            'V': 5,\n",
    "            'IX':9,\n",
    "            'X':10,\n",
    "            'XL':40,\n",
    "            'L':50,\n",
    "            'XC':90,\n",
    "            'C':100,\n",
    "            'CD':400,\n",
    "            'D':500,\n",
    "            'CM':900,\n",
    "            'M':1000\n",
    "        }\n",
    "        \n",
    "        compute = 0\n",
    "        letter_index = 0\n",
    "        while letter_index<len(s):\n",
    "            if letter_index != len(s) - 1 and (s[letter_index: letter_index+2] in values):\n",
    "                compute += values[s[letter_index: letter_index+2]]\n",
    "                letter_index +=2\n",
    "            else:\n",
    "                compute += values[s[letter_index]]\n",
    "                letter_index += 1\n",
    "        return compute"
   ]
  },
  {
   "cell_type": "code",
   "execution_count": 10,
   "id": "e52f7e7e-b5b1-4478-b5a0-369136184299",
   "metadata": {},
   "outputs": [
    {
     "data": {
      "text/plain": [
       "57"
      ]
     },
     "execution_count": 10,
     "metadata": {},
     "output_type": "execute_result"
    }
   ],
   "source": [
    "s = Solution()\n",
    "s.romanToInt(s='LVII')"
   ]
  },
  {
   "cell_type": "code",
   "execution_count": 4,
   "id": "30ad6b63-d829-4896-ab9b-060dbc028eb9",
   "metadata": {},
   "outputs": [
    {
     "data": {
      "text/plain": [
       "'ER'"
      ]
     },
     "execution_count": 4,
     "metadata": {},
     "output_type": "execute_result"
    }
   ],
   "source": [
    "s = 'QWER'\n",
    "s[2:4]"
   ]
  },
  {
   "cell_type": "code",
   "execution_count": null,
   "id": "f7619011-c53c-4376-8475-e9d9043fb76a",
   "metadata": {},
   "outputs": [],
   "source": []
  }
 ],
 "metadata": {
  "kernelspec": {
   "display_name": "Python 3 (ipykernel)",
   "language": "python",
   "name": "python3"
  },
  "language_info": {
   "codemirror_mode": {
    "name": "ipython",
    "version": 3
   },
   "file_extension": ".py",
   "mimetype": "text/x-python",
   "name": "python",
   "nbconvert_exporter": "python",
   "pygments_lexer": "ipython3",
   "version": "3.9.7"
  }
 },
 "nbformat": 4,
 "nbformat_minor": 5
}
