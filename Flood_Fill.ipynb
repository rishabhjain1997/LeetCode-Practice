{
 "cells": [
  {
   "cell_type": "code",
   "execution_count": 17,
   "id": "0db672d8-3bdc-44aa-96ef-2510e2a9401f",
   "metadata": {},
   "outputs": [],
   "source": [
    "from typing import List\n",
    "class Solution:\n",
    "    def floodFill(self, image: List[List[int]], sr: int, sc: int, newColor: int) -> List[List[int]]:\n",
    "        def fill(image, sr, sc, currentColor, newColor):\n",
    "            if sr < 0 or sc < 0 or sr >= len(image) or sc >= len(image[0]) or image[sr][sc] != currentColor:\n",
    "                return\n",
    "            print(sr,sc)\n",
    "            image[sr][sc] = newColor\n",
    "            fill(image, sr+1, sc, currentColor, newColor)\n",
    "            fill(image, sr-1, sc, currentColor, newColor)\n",
    "            fill(image, sr, sc+1, currentColor, newColor)\n",
    "            fill(image, sr, sc-1, currentColor, newColor)\n",
    "        \n",
    "        if image[sr][sc] == newColor:\n",
    "            return image\n",
    "        currentColor = image[sr][sc]\n",
    "        \n",
    "        fill(image, sr, sc, currentColor, newColor)\n",
    "        return image\n",
    "        \n",
    "        "
   ]
  },
  {
   "cell_type": "code",
   "execution_count": 18,
   "id": "73f8b83c-3149-4e1f-93f5-c464cb8f30c7",
   "metadata": {},
   "outputs": [
    {
     "name": "stdout",
     "output_type": "stream",
     "text": [
      "1 1\n",
      "0 1\n",
      "0 2\n",
      "0 0\n",
      "1 0\n",
      "2 0\n"
     ]
    },
    {
     "data": {
      "text/plain": [
       "[[2, 2, 2], [2, 2, 0], [2, 0, 1]]"
      ]
     },
     "execution_count": 18,
     "metadata": {},
     "output_type": "execute_result"
    }
   ],
   "source": [
    "s = Solution()\n",
    "s.floodFill(image = [[1,1,1],[1,1,0],[1,0,1]], sr = 1, sc = 1, newColor = 2)\n",
    "#[[2,2,2],[2,2,0],[2,0,1]]"
   ]
  },
  {
   "cell_type": "code",
   "execution_count": null,
   "id": "bdd3ae98-ea59-4c99-9f42-89e00697edda",
   "metadata": {},
   "outputs": [],
   "source": []
  }
 ],
 "metadata": {
  "kernelspec": {
   "display_name": "Python 3 (ipykernel)",
   "language": "python",
   "name": "python3"
  },
  "language_info": {
   "codemirror_mode": {
    "name": "ipython",
    "version": 3
   },
   "file_extension": ".py",
   "mimetype": "text/x-python",
   "name": "python",
   "nbconvert_exporter": "python",
   "pygments_lexer": "ipython3",
   "version": "3.9.7"
  }
 },
 "nbformat": 4,
 "nbformat_minor": 5
}
