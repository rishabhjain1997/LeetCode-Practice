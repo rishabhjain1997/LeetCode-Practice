{
 "cells": [
  {
   "cell_type": "code",
   "execution_count": 1,
   "id": "56ad9c49-c6be-4aaf-ab22-9c86b68f1620",
   "metadata": {},
   "outputs": [],
   "source": [
    "from typing import Optional"
   ]
  },
  {
   "cell_type": "code",
   "execution_count": 2,
   "id": "51a51ee0-464c-4932-9e08-e8467cba8526",
   "metadata": {},
   "outputs": [],
   "source": [
    "class ListNode:\n",
    "    def __init__(self, val=0, next=None):\n",
    "        self.val = val\n",
    "        self.next = next"
   ]
  },
  {
   "cell_type": "code",
   "execution_count": 3,
   "id": "b053f0ea-7f04-48e9-b75c-08662bee41e0",
   "metadata": {},
   "outputs": [],
   "source": [
    "def create_linked_list(arr):\n",
    "    prev = None\n",
    "    for index, element in enumerate(arr[::-1]):\n",
    "        curr = ListNode(element,None)\n",
    "        if prev:\n",
    "            curr.next = prev\n",
    "        prev = curr\n",
    "        if index == len(arr) -1:\n",
    "            return curr\n",
    "        \n",
    "\n",
    "def traverse_linked_list(list1):\n",
    "    iterator = list1\n",
    "    while iterator:\n",
    "        print(iterator.val)\n",
    "        iterator = iterator.next"
   ]
  },
  {
   "cell_type": "code",
   "execution_count": 4,
   "id": "27dbfe8a-dca0-4bdf-89e0-7e06bf3d76a7",
   "metadata": {},
   "outputs": [],
   "source": [
    "head = create_linked_list([1,1,1,2,3])"
   ]
  },
  {
   "cell_type": "code",
   "execution_count": 5,
   "id": "f1b2f48a-38d5-4107-a431-17bbb6657522",
   "metadata": {},
   "outputs": [],
   "source": [
    "class Solution:\n",
    "    def deleteDuplicates(self, head: Optional[ListNode]) -> Optional[ListNode]:\n",
    "        sentinel = ListNode(0, head)\n",
    "        prev = sentinel\n",
    "        curr = None\n",
    "        if sentinel.next:\n",
    "            curr = sentinel.next\n",
    "        else:\n",
    "            return sentinel.next\n",
    "        while curr:\n",
    "            if curr.next and curr.next.val == curr.val:\n",
    "                while curr.next.val == curr.val:\n",
    "                    curr = curr.next\n",
    "                prev.next = curr.next\n",
    "                \n",
    "            else:\n",
    "                prev = prev.next\n",
    "            curr = curr.next\n",
    "        return sentinel.next"
   ]
  },
  {
   "cell_type": "code",
   "execution_count": null,
   "id": "70b226c5-eaa1-467d-a2f5-3f386435338e",
   "metadata": {},
   "outputs": [],
   "source": [
    "s = Solution()\n",
    "s.deleteDuplicates(head)"
   ]
  },
  {
   "cell_type": "code",
   "execution_count": null,
   "id": "294e70b8-08a3-46d9-8097-222f01eb9e73",
   "metadata": {},
   "outputs": [],
   "source": [
    "traverse_linked_list(s.deleteDuplicates(head))"
   ]
  },
  {
   "cell_type": "code",
   "execution_count": null,
   "id": "4fc27604-cab9-408f-a025-a94805d78422",
   "metadata": {},
   "outputs": [],
   "source": []
  }
 ],
 "metadata": {
  "kernelspec": {
   "display_name": "Python 3 (ipykernel)",
   "language": "python",
   "name": "python3"
  },
  "language_info": {
   "codemirror_mode": {
    "name": "ipython",
    "version": 3
   },
   "file_extension": ".py",
   "mimetype": "text/x-python",
   "name": "python",
   "nbconvert_exporter": "python",
   "pygments_lexer": "ipython3",
   "version": "3.9.7"
  }
 },
 "nbformat": 4,
 "nbformat_minor": 5
}
