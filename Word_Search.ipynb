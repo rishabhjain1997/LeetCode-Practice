{
 "cells": [
  {
   "cell_type": "code",
   "execution_count": 1,
   "id": "5c70707b-2082-4e7b-adf2-141109884e32",
   "metadata": {},
   "outputs": [],
   "source": [
    "from typing import List"
   ]
  },
  {
   "cell_type": "code",
   "execution_count": 34,
   "id": "c752da57-4ddc-43f7-82cd-174025a34e9f",
   "metadata": {},
   "outputs": [],
   "source": [
    "class Solution:\n",
    "    def exist(self, board: List[List[str]], word: str) -> bool:\n",
    "        def dfs(row, column, word):\n",
    "            if len(word) == 0:\n",
    "                return True\n",
    "            if row < 0 or column < 0 or row >= len(board) \\\n",
    "            or column >= len(board[0]) or board[row][column] != word[0]:\n",
    "                return False\n",
    "            \n",
    "            temp = word[0]\n",
    "            board[row][column] = '#'\n",
    "            res = dfs(row,column+1, word[1:]) or \\\n",
    "                dfs(row,column-1, word[1:]) or \\\n",
    "                dfs(row+1,column, word[1:]) or \\\n",
    "                dfs(row-1,column, word[1:])\n",
    "            board[row][column] = temp\n",
    "            return res\n",
    "            \n",
    "        for row in range(len(board)):\n",
    "            for column in range(len(board[0])):\n",
    "                if dfs(row,column, word):\n",
    "                    return True\n",
    "        return False"
   ]
  },
  {
   "cell_type": "code",
   "execution_count": 35,
   "id": "06df56ec-dbac-471c-81e2-05feb6583740",
   "metadata": {},
   "outputs": [
    {
     "data": {
      "text/plain": [
       "False"
      ]
     },
     "execution_count": 35,
     "metadata": {},
     "output_type": "execute_result"
    }
   ],
   "source": [
    "s = Solution()\n",
    "s.exist(board = [[\"A\",\"B\",\"C\",\"E\"],[\"S\",\"F\",\"C\",\"S\"],[\"A\",\"D\",\"E\",\"E\"]]\n",
    "        , word = \"ABCB\")"
   ]
  },
  {
   "cell_type": "code",
   "execution_count": 22,
   "id": "32bde425-5dbe-4376-a2ce-2d767e751e6c",
   "metadata": {},
   "outputs": [],
   "source": []
  },
  {
   "cell_type": "code",
   "execution_count": null,
   "id": "8d0314b0-d0b1-48ce-b8d0-75a2788accf6",
   "metadata": {},
   "outputs": [],
   "source": []
  }
 ],
 "metadata": {
  "kernelspec": {
   "display_name": "Python 3 (ipykernel)",
   "language": "python",
   "name": "python3"
  },
  "language_info": {
   "codemirror_mode": {
    "name": "ipython",
    "version": 3
   },
   "file_extension": ".py",
   "mimetype": "text/x-python",
   "name": "python",
   "nbconvert_exporter": "python",
   "pygments_lexer": "ipython3",
   "version": "3.9.7"
  }
 },
 "nbformat": 4,
 "nbformat_minor": 5
}
