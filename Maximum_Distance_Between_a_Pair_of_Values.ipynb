{
 "cells": [
  {
   "cell_type": "code",
   "execution_count": 1,
   "id": "957b49a6-88cc-4370-b644-c34c2d6d3c26",
   "metadata": {},
   "outputs": [],
   "source": [
    "from typing import List"
   ]
  },
  {
   "cell_type": "code",
   "execution_count": 28,
   "id": "a9a95038-0837-4788-bb6c-ba25cf2674c1",
   "metadata": {},
   "outputs": [],
   "source": [
    "class Solution:\n",
    "    def maxDistance(self, nums1: List[int], nums2: List[int]) -> int:\n",
    "        i = 0\n",
    "        j = 0\n",
    "        dis = []\n",
    "        for j in range(len(nums2)):\n",
    "            while i < len(nums1) and nums1[i] > nums2[j]:\n",
    "                i = i + 1\n",
    "            \n",
    "            c = i\n",
    "            while c < len(nums1) and nums1[c] <= nums2[j] and c<=j:\n",
    "                dis.append((c,j))\n",
    "                c = c + 1\n",
    "                break\n",
    "        # print(dis)\n",
    "        if not len(dis):\n",
    "            return len(dis)\n",
    "        max_dis = (max(dis, key=lambda x: x[1] - x[0]))\n",
    "        return max_dis[1] - max_dis[0]"
   ]
  },
  {
   "cell_type": "code",
   "execution_count": 31,
   "id": "0eee9d45-9638-4d16-b7c9-f6001281e916",
   "metadata": {},
   "outputs": [
    {
     "data": {
      "text/plain": [
       "2"
      ]
     },
     "execution_count": 31,
     "metadata": {},
     "output_type": "execute_result"
    }
   ],
   "source": [
    "s = Solution()\n",
    "s.maxDistance(nums1 = [30,29,19,5], nums2 = [25,25,25,25,25])"
   ]
  },
  {
   "cell_type": "code",
   "execution_count": null,
   "id": "f217fc69-9ef7-4bf6-9071-7fc6a4a9cb05",
   "metadata": {},
   "outputs": [],
   "source": []
  }
 ],
 "metadata": {
  "kernelspec": {
   "display_name": "Python 3 (ipykernel)",
   "language": "python",
   "name": "python3"
  },
  "language_info": {
   "codemirror_mode": {
    "name": "ipython",
    "version": 3
   },
   "file_extension": ".py",
   "mimetype": "text/x-python",
   "name": "python",
   "nbconvert_exporter": "python",
   "pygments_lexer": "ipython3",
   "version": "3.9.7"
  }
 },
 "nbformat": 4,
 "nbformat_minor": 5
}
