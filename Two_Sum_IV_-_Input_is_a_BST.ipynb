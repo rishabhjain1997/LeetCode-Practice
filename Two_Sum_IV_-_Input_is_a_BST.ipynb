{
 "cells": [
  {
   "cell_type": "code",
   "execution_count": 3,
   "id": "1a2fdb22-fcf4-411a-b1d5-19bf1f1c84eb",
   "metadata": {},
   "outputs": [],
   "source": [
    "from typing import Optional"
   ]
  },
  {
   "cell_type": "code",
   "execution_count": 4,
   "id": "544ae348-c44f-4316-a3d5-b20307008f00",
   "metadata": {},
   "outputs": [],
   "source": [
    "class TreeNode:\n",
    "    def __init__(self, val=0, left=None, right=None):\n",
    "        self.val = val\n",
    "        self.left = left\n",
    "        self.right = right"
   ]
  },
  {
   "cell_type": "code",
   "execution_count": 5,
   "id": "db0482ac-de1a-4b97-9493-16d940748fbb",
   "metadata": {},
   "outputs": [],
   "source": [
    "one = TreeNode(1)\n",
    "three = TreeNode(3)\n",
    "nine = TreeNode(9)\n",
    "six = TreeNode(6)\n",
    "two = TreeNode(2,one, three)\n",
    "seven = TreeNode(7,six,nine)\n",
    "root = TreeNode(4,two,seven)"
   ]
  },
  {
   "cell_type": "code",
   "execution_count": 10,
   "id": "b76f3ba3-af72-42a0-be55-a14405969446",
   "metadata": {},
   "outputs": [],
   "source": [
    "class Solution:\n",
    "    def findTarget(self, root: Optional[TreeNode], k: int) -> bool:\n",
    "        self.hashset = set()\n",
    "        self.found = False\n",
    "        def traverse(self,node):\n",
    "            val = node.val\n",
    "            if (k - val) in self.hashset:\n",
    "                self.found = True\n",
    "                return\n",
    "            else:\n",
    "                self.hashset.add(val)\n",
    "            if not node.left and not node.right:\n",
    "                return\n",
    "            if node.left:\n",
    "                traverse(self,node.left)\n",
    "            if node.right:\n",
    "                traverse(self,node.right)\n",
    "        traverse(self,root)\n",
    "        return self.found"
   ]
  },
  {
   "cell_type": "code",
   "execution_count": 11,
   "id": "54602714-260b-4331-af1c-af576ec069de",
   "metadata": {},
   "outputs": [
    {
     "data": {
      "text/plain": [
       "True"
      ]
     },
     "execution_count": 11,
     "metadata": {},
     "output_type": "execute_result"
    }
   ],
   "source": [
    "s = Solution()\n",
    "s.findTarget(root,9)"
   ]
  },
  {
   "cell_type": "code",
   "execution_count": null,
   "id": "09e15bf6-5ada-41fa-b6fd-f5741a8e90ba",
   "metadata": {},
   "outputs": [],
   "source": []
  }
 ],
 "metadata": {
  "kernelspec": {
   "display_name": "Python 3 (ipykernel)",
   "language": "python",
   "name": "python3"
  },
  "language_info": {
   "codemirror_mode": {
    "name": "ipython",
    "version": 3
   },
   "file_extension": ".py",
   "mimetype": "text/x-python",
   "name": "python",
   "nbconvert_exporter": "python",
   "pygments_lexer": "ipython3",
   "version": "3.9.7"
  }
 },
 "nbformat": 4,
 "nbformat_minor": 5
}
