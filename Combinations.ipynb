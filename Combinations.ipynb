{
 "cells": [
  {
   "cell_type": "code",
   "execution_count": 5,
   "id": "a24b6d51-9c76-49f1-8994-066db01d231a",
   "metadata": {},
   "outputs": [],
   "source": [
    "from typing import List"
   ]
  },
  {
   "cell_type": "code",
   "execution_count": 19,
   "id": "98b8448f-8c6e-4e36-9cfc-daf2a5add38f",
   "metadata": {},
   "outputs": [],
   "source": [
    "class Solution:\n",
    "    def combine(self, n: int, k: int) -> List[List[int]]:\n",
    "        output = []\n",
    "        def backtrack(first = 1, curr = []):\n",
    "            if len(curr) == k:\n",
    "                #print(curr)\n",
    "                output.append(curr[:])\n",
    "                return\n",
    "            for i in range(first, n+1):\n",
    "                curr.append(i)\n",
    "                backtrack(i+1,curr)\n",
    "                curr.pop()\n",
    "        backtrack()\n",
    "        return output"
   ]
  },
  {
   "cell_type": "code",
   "execution_count": 20,
   "id": "08842476-63b6-4797-b66b-45db7bd9bdb0",
   "metadata": {},
   "outputs": [
    {
     "data": {
      "text/plain": [
       "[[1, 2], [1, 3], [1, 4], [2, 3], [2, 4], [3, 4]]"
      ]
     },
     "execution_count": 20,
     "metadata": {},
     "output_type": "execute_result"
    }
   ],
   "source": [
    "s = Solution()\n",
    "s.combine(n=4, k=2)"
   ]
  },
  {
   "cell_type": "code",
   "execution_count": null,
   "id": "ada592a0-a58d-477c-bc90-c2dc324c573d",
   "metadata": {},
   "outputs": [],
   "source": []
  }
 ],
 "metadata": {
  "kernelspec": {
   "display_name": "Python 3 (ipykernel)",
   "language": "python",
   "name": "python3"
  },
  "language_info": {
   "codemirror_mode": {
    "name": "ipython",
    "version": 3
   },
   "file_extension": ".py",
   "mimetype": "text/x-python",
   "name": "python",
   "nbconvert_exporter": "python",
   "pygments_lexer": "ipython3",
   "version": "3.9.7"
  }
 },
 "nbformat": 4,
 "nbformat_minor": 5
}
