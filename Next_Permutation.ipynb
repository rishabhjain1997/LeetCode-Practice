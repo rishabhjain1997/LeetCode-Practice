{
 "cells": [
  {
   "cell_type": "code",
   "execution_count": 1,
   "id": "9fdd3ea8-72c2-49a4-a8ae-03c68814eda9",
   "metadata": {},
   "outputs": [],
   "source": [
    "from typing import List"
   ]
  },
  {
   "cell_type": "code",
   "execution_count": 28,
   "id": "20835cbc-808a-4449-8cb0-da41f3754d7f",
   "metadata": {},
   "outputs": [],
   "source": [
    "class Solution:\n",
    "    def nextPermutation(self, nums: List[int]) -> None:\n",
    "        \"\"\"\n",
    "        Do not return anything, modify nums in-place instead.\n",
    "        \"\"\"\n",
    "        def swap(index,j):\n",
    "            temp = nums[index]\n",
    "            nums[index] = nums[j]\n",
    "            nums[j] = temp\n",
    "            \n",
    "        def reverse(index):\n",
    "            left = index\n",
    "            right = len(nums) -1\n",
    "            while left <= right:\n",
    "                swap(left,right)\n",
    "                left = left + 1\n",
    "                right = right - 1\n",
    "                \n",
    "        index = len(nums)-2\n",
    "        j = len(nums)-1\n",
    "        for index in range(len(nums)-2, -2, -1):\n",
    "            if nums[index] < nums[index + 1]:\n",
    "                break\n",
    "                \n",
    "        if index == -1:\n",
    "            reverse(0)\n",
    "            #print(nums)\n",
    "            return\n",
    "        \n",
    "        for j in range(len(nums)-1,-1,-1):\n",
    "            if nums[j] > nums[index]:\n",
    "                break\n",
    "       \n",
    "        \n",
    "        swap(index,j)\n",
    "        \n",
    "        \n",
    "        reverse(index+1)\n",
    "        \n",
    "        #print(nums)"
   ]
  },
  {
   "cell_type": "code",
   "execution_count": 30,
   "id": "26b0559c-9858-491c-a58f-1e17f4e8f7b8",
   "metadata": {},
   "outputs": [
    {
     "name": "stdout",
     "output_type": "stream",
     "text": [
      "[1, 5, 1]\n"
     ]
    }
   ],
   "source": [
    "s = Solution()\n",
    "s.nextPermutation([1,1,5])"
   ]
  },
  {
   "cell_type": "code",
   "execution_count": null,
   "id": "9fac46d5-9592-4f89-af64-730bb42f4815",
   "metadata": {},
   "outputs": [],
   "source": []
  }
 ],
 "metadata": {
  "kernelspec": {
   "display_name": "Python 3 (ipykernel)",
   "language": "python",
   "name": "python3"
  },
  "language_info": {
   "codemirror_mode": {
    "name": "ipython",
    "version": 3
   },
   "file_extension": ".py",
   "mimetype": "text/x-python",
   "name": "python",
   "nbconvert_exporter": "python",
   "pygments_lexer": "ipython3",
   "version": "3.9.7"
  }
 },
 "nbformat": 4,
 "nbformat_minor": 5
}
