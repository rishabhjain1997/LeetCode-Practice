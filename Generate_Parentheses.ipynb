{
 "cells": [
  {
   "cell_type": "code",
   "execution_count": 1,
   "id": "d08486d9-8ae0-40a9-8394-02d60f756b3d",
   "metadata": {},
   "outputs": [],
   "source": [
    "from typing import List"
   ]
  },
  {
   "cell_type": "code",
   "execution_count": 31,
   "id": "dc915b9c-2f25-441a-9468-8cebf67679ed",
   "metadata": {},
   "outputs": [],
   "source": [
    "class Solution:\n",
    "    def generateParenthesis(self, n: int) -> List[str]:\n",
    "        A = []\n",
    "        def backtrack(S = [],left = 0, right = 0):\n",
    "\n",
    "            if len(S) == 2*n:\n",
    "                A.append(\"\".join(S))\n",
    "                return\n",
    "            if left < n:\n",
    "                S.append('(')\n",
    "                backtrack( S, left+1, right)\n",
    "                S.pop()\n",
    "            if right < left:\n",
    "                S.append(')')\n",
    "                backtrack(S,left, right+1)\n",
    "                S.pop()\n",
    "        backtrack()\n",
    "        return A"
   ]
  },
  {
   "cell_type": "code",
   "execution_count": 32,
   "id": "8e41a44c-1ee2-4d04-9c65-d060e1a718ea",
   "metadata": {},
   "outputs": [
    {
     "data": {
      "text/plain": [
       "['((()))', '(()())', '(())()', '()(())', '()()()']"
      ]
     },
     "execution_count": 32,
     "metadata": {},
     "output_type": "execute_result"
    }
   ],
   "source": [
    "s = Solution()\n",
    "s.generateParenthesis(n=3)"
   ]
  },
  {
   "cell_type": "code",
   "execution_count": null,
   "id": "20aa1047-5323-42d0-a381-ccf3894795c3",
   "metadata": {},
   "outputs": [],
   "source": []
  }
 ],
 "metadata": {
  "kernelspec": {
   "display_name": "Python 3 (ipykernel)",
   "language": "python",
   "name": "python3"
  },
  "language_info": {
   "codemirror_mode": {
    "name": "ipython",
    "version": 3
   },
   "file_extension": ".py",
   "mimetype": "text/x-python",
   "name": "python",
   "nbconvert_exporter": "python",
   "pygments_lexer": "ipython3",
   "version": "3.9.7"
  }
 },
 "nbformat": 4,
 "nbformat_minor": 5
}
