{
 "cells": [
  {
   "cell_type": "code",
   "execution_count": 1,
   "id": "2e0c94a2-4e0b-4e4e-925e-6e8913f5ae8a",
   "metadata": {},
   "outputs": [],
   "source": [
    "class Solution:\n",
    "    def climbStairs(self, n: int) -> int:\n",
    "        A = [0,1,2]\n",
    "        if n > 2:\n",
    "            for i in range(3,n+1):\n",
    "                A.append(A[-1]+A[-2])\n",
    "        return A[n]"
   ]
  },
  {
   "cell_type": "code",
   "execution_count": 2,
   "id": "76fd3646-5ae5-4859-9f36-d6b622b4028c",
   "metadata": {},
   "outputs": [
    {
     "data": {
      "text/plain": [
       "3"
      ]
     },
     "execution_count": 2,
     "metadata": {},
     "output_type": "execute_result"
    }
   ],
   "source": [
    "s = Solution()\n",
    "s.climbStairs(n=3)"
   ]
  },
  {
   "cell_type": "code",
   "execution_count": null,
   "id": "e23ac78d-f63f-45db-890f-b5f535a1726f",
   "metadata": {},
   "outputs": [],
   "source": []
  }
 ],
 "metadata": {
  "kernelspec": {
   "display_name": "Python 3 (ipykernel)",
   "language": "python",
   "name": "python3"
  },
  "language_info": {
   "codemirror_mode": {
    "name": "ipython",
    "version": 3
   },
   "file_extension": ".py",
   "mimetype": "text/x-python",
   "name": "python",
   "nbconvert_exporter": "python",
   "pygments_lexer": "ipython3",
   "version": "3.9.7"
  }
 },
 "nbformat": 4,
 "nbformat_minor": 5
}
