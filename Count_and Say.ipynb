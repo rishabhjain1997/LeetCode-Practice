{
 "cells": [
  {
   "cell_type": "code",
   "execution_count": 26,
   "id": "6e1881a2-53a1-47ba-bba2-6030d2aab5b0",
   "metadata": {},
   "outputs": [],
   "source": [
    "class Solution:\n",
    "    def countAndSay(self, n: int) -> str:\n",
    "        def countFreq(section):\n",
    "            return str(len(section)) + str(section[0])\n",
    "        if n == 1:\n",
    "            return \"1\"\n",
    "        else:\n",
    "            digits = self.countAndSay(n - 1)\n",
    "            say = \"\"\n",
    "            section = []\n",
    "            for digit in digits:\n",
    "                if len(section) > 0 and section[-1] != digit:\n",
    "                    print(section)\n",
    "                    say = say + countFreq(section)\n",
    "                    section = []\n",
    "                section.append(digit)\n",
    "            say = say + countFreq(section)\n",
    "            return say\n",
    "                "
   ]
  },
  {
   "cell_type": "code",
   "execution_count": 27,
   "id": "2f428e1d-3f33-4109-b7e2-fafd202d164c",
   "metadata": {},
   "outputs": [
    {
     "name": "stdout",
     "output_type": "stream",
     "text": [
      "['2']\n",
      "['1']\n",
      "['2']\n",
      "['1', '1', '1']\n",
      "['2', '2']\n"
     ]
    },
    {
     "data": {
      "text/plain": [
       "'312211'"
      ]
     },
     "execution_count": 27,
     "metadata": {},
     "output_type": "execute_result"
    }
   ],
   "source": [
    "s = Solution()\n",
    "s.countAndSay(6)"
   ]
  },
  {
   "cell_type": "code",
   "execution_count": null,
   "id": "0572e09b-7442-4b45-a754-b5a174fc2b4d",
   "metadata": {},
   "outputs": [],
   "source": []
  }
 ],
 "metadata": {
  "kernelspec": {
   "display_name": "Python 3 (ipykernel)",
   "language": "python",
   "name": "python3"
  },
  "language_info": {
   "codemirror_mode": {
    "name": "ipython",
    "version": 3
   },
   "file_extension": ".py",
   "mimetype": "text/x-python",
   "name": "python",
   "nbconvert_exporter": "python",
   "pygments_lexer": "ipython3",
   "version": "3.9.7"
  }
 },
 "nbformat": 4,
 "nbformat_minor": 5
}
