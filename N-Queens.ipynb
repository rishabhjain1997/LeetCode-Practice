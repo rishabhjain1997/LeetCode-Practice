{
 "cells": [
  {
   "cell_type": "code",
   "execution_count": 1,
   "id": "c77e12dc-793c-4a0f-a1b5-4c0b0f966b7e",
   "metadata": {},
   "outputs": [],
   "source": [
    "from typing import List"
   ]
  },
  {
   "cell_type": "code",
   "execution_count": 19,
   "id": "f3ed2aad-0fd6-4a22-85a1-40d17500a9de",
   "metadata": {},
   "outputs": [],
   "source": [
    "class Solution:\n",
    "    def solveNQueens(self, n: int) -> List[List[str]]:\n",
    "        '''\n",
    "        left: [1,3,0,2]\n",
    "        right: [2,0,3,1]\n",
    "        '''\n",
    "        solutions = []\n",
    "        state = []\n",
    "        self.search(state, solutions, n)\n",
    "        return solutions\n",
    "\n",
    "    def is_valid_state(self,state, n):\n",
    "        return len(state) == n\n",
    "\n",
    "    def get_candidates(self,state, n):\n",
    "        if len(state) == 0:\n",
    "            return list(range(n))\n",
    "        else:\n",
    "            candidates = set(range(n))\n",
    "            position = len(state)\n",
    "            for row, column in enumerate(state):\n",
    "                # Remove column\n",
    "                candidates.discard(column)\n",
    "                # Remove diagnol\n",
    "                distance = position - row\n",
    "                candidates.discard(column + distance)\n",
    "                candidates.discard(column - distance)\n",
    "            return list(candidates)\n",
    "        \n",
    "    def state_to_string(self,state, n):\n",
    "        converted = []\n",
    "        for column in state:\n",
    "            string = ['.'] * n\n",
    "            string[column] = 'Q'\n",
    "            converted.append(''.join(string))\n",
    "        return converted\n",
    "        \n",
    "    def search(self,state, solutions, n):\n",
    "        if self.is_valid_state(state, n):\n",
    "            solutions.append(self.state_to_string(state.copy(),n))\n",
    "\n",
    "        for candidate in self.get_candidates(state, n):\n",
    "            state.append(candidate)\n",
    "            self.search(state, solutions, n)\n",
    "            state.pop()     "
   ]
  },
  {
   "cell_type": "code",
   "execution_count": 21,
   "id": "5cc8f087-3bf3-4c4e-8585-3602c6177e50",
   "metadata": {},
   "outputs": [
    {
     "data": {
      "text/plain": [
       "[['Q']]"
      ]
     },
     "execution_count": 21,
     "metadata": {},
     "output_type": "execute_result"
    }
   ],
   "source": [
    "s = Solution()\n",
    "s.solveNQueens(1)"
   ]
  }
 ],
 "metadata": {
  "kernelspec": {
   "display_name": "Python 3 (ipykernel)",
   "language": "python",
   "name": "python3"
  },
  "language_info": {
   "codemirror_mode": {
    "name": "ipython",
    "version": 3
   },
   "file_extension": ".py",
   "mimetype": "text/x-python",
   "name": "python",
   "nbconvert_exporter": "python",
   "pygments_lexer": "ipython3",
   "version": "3.9.7"
  }
 },
 "nbformat": 4,
 "nbformat_minor": 5
}
