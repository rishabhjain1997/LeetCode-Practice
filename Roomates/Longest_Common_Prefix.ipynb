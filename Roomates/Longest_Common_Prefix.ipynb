{
 "cells": [
  {
   "cell_type": "code",
   "execution_count": 15,
   "id": "e0b90252-dd49-42b3-9567-fd1b9eda74f9",
   "metadata": {},
   "outputs": [],
   "source": [
    "from typing import List"
   ]
  },
  {
   "cell_type": "code",
   "execution_count": 16,
   "id": "8eb05281-5e7e-4fbd-974e-3257dea4f53c",
   "metadata": {},
   "outputs": [],
   "source": [
    "class Solution:\n",
    "    def longestCommonPrefix(self, strs: List[str]) -> str:\n",
    "        from functools import reduce\n",
    "        \n",
    "        def intersect(left, right):\n",
    "            if not left or not right:\n",
    "                return \"\"\n",
    "            for index in range(min(len(left), len(right))):\n",
    "                if left[index] == right[index]:\n",
    "                    index = index + 1\n",
    "                else:\n",
    "                    break\n",
    "            return left[:index]\n",
    "        \n",
    "        return reduce(intersect, strs)"
   ]
  },
  {
   "cell_type": "code",
   "execution_count": 17,
   "id": "11bc04ff-7b35-417b-9fd7-3159486664e5",
   "metadata": {},
   "outputs": [
    {
     "data": {
      "text/plain": [
       "''"
      ]
     },
     "execution_count": 17,
     "metadata": {},
     "output_type": "execute_result"
    }
   ],
   "source": [
    "s = Solution()\n",
    "s.longestCommonPrefix(strs = [\"dog\",\"racecar\",\"car\"])"
   ]
  },
  {
   "cell_type": "code",
   "execution_count": null,
   "id": "d589e3d3-ec63-4a58-8c82-01af1a45ea2c",
   "metadata": {},
   "outputs": [],
   "source": []
  },
  {
   "cell_type": "code",
   "execution_count": null,
   "id": "0dff4b34-94ac-4f83-b930-b2a3a386045d",
   "metadata": {},
   "outputs": [],
   "source": []
  }
 ],
 "metadata": {
  "kernelspec": {
   "display_name": "Python 3 (ipykernel)",
   "language": "python",
   "name": "python3"
  },
  "language_info": {
   "codemirror_mode": {
    "name": "ipython",
    "version": 3
   },
   "file_extension": ".py",
   "mimetype": "text/x-python",
   "name": "python",
   "nbconvert_exporter": "python",
   "pygments_lexer": "ipython3",
   "version": "3.9.7"
  }
 },
 "nbformat": 4,
 "nbformat_minor": 5
}
