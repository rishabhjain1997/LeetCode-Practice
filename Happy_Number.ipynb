{
 "cells": [
  {
   "cell_type": "code",
   "execution_count": 7,
   "id": "37d6c51d-0b58-474f-b8b4-d0cc07197918",
   "metadata": {},
   "outputs": [],
   "source": [
    "class Solution:\n",
    "    def isHappy(self, n: int) -> bool:\n",
    "        num = n\n",
    "        results = [num]\n",
    "        while True:\n",
    "            digits = list(map(lambda x:int(x)**2,str(num)))\n",
    "            num = sum(digits)\n",
    "            if num == 1:\n",
    "                return True\n",
    "            if num in results:\n",
    "                return False\n",
    "            else:\n",
    "                results.append(num)"
   ]
  },
  {
   "cell_type": "code",
   "execution_count": 9,
   "id": "df1f289e-58e1-4694-9156-6cc9535f4558",
   "metadata": {},
   "outputs": [
    {
     "data": {
      "text/plain": [
       "False"
      ]
     },
     "execution_count": 9,
     "metadata": {},
     "output_type": "execute_result"
    }
   ],
   "source": [
    "s = Solution()\n",
    "s.isHappy(2)"
   ]
  },
  {
   "cell_type": "code",
   "execution_count": null,
   "id": "3ea7255f-f5f6-4b7c-a681-d02bea606be0",
   "metadata": {},
   "outputs": [],
   "source": []
  }
 ],
 "metadata": {
  "kernelspec": {
   "display_name": "Python 3 (ipykernel)",
   "language": "python",
   "name": "python3"
  },
  "language_info": {
   "codemirror_mode": {
    "name": "ipython",
    "version": 3
   },
   "file_extension": ".py",
   "mimetype": "text/x-python",
   "name": "python",
   "nbconvert_exporter": "python",
   "pygments_lexer": "ipython3",
   "version": "3.9.7"
  }
 },
 "nbformat": 4,
 "nbformat_minor": 5
}
