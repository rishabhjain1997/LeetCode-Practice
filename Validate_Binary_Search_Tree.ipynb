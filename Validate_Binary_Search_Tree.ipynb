{
 "cells": [
  {
   "cell_type": "code",
   "execution_count": 1,
   "id": "fe090b3e-83ff-464f-a257-b3b25c15033e",
   "metadata": {},
   "outputs": [],
   "source": [
    "from typing import Optional"
   ]
  },
  {
   "cell_type": "code",
   "execution_count": 2,
   "id": "7812edec-1487-4b03-be72-70bdbf9358fc",
   "metadata": {},
   "outputs": [],
   "source": [
    "class TreeNode:\n",
    "    def __init__(self, val=0, left=None, right=None):\n",
    "        self.val = val\n",
    "        self.left = left\n",
    "        self.right = right"
   ]
  },
  {
   "cell_type": "code",
   "execution_count": 3,
   "id": "a796d548-a11e-4348-b740-03e8f39ceff5",
   "metadata": {},
   "outputs": [],
   "source": [
    "# one = TreeNode(1)\n",
    "# three = TreeNode(3)\n",
    "# nine = TreeNode(9)\n",
    "# six = TreeNode(6)\n",
    "# two = TreeNode(2,one, three)\n",
    "# seven = TreeNode(7,six,nine)\n",
    "# root = TreeNode(4,two,seven)"
   ]
  },
  {
   "cell_type": "code",
   "execution_count": 4,
   "id": "3cb52bae-bd96-4cba-a134-cbe914fb4162",
   "metadata": {},
   "outputs": [],
   "source": [
    "class Solution:\n",
    "    def isValidBST(self, root: Optional[TreeNode]) -> bool:\n",
    "        self.isValid = True\n",
    "        def valid(self, node):\n",
    "            node.cum = [node.val]\n",
    "            if not node.left and not node.right:\n",
    "                \n",
    "                return node.cum\n",
    "            else:\n",
    "                if node.left:\n",
    "                    left_cum = valid(self,node.left)\n",
    "                    if all(map(lambda x: x < node.val,left_cum)):\n",
    "                        node.cum += left_cum\n",
    "                    else:\n",
    "                        #print(left_cum,node.val)\n",
    "                        self.isValid = False\n",
    "                if node.right:\n",
    "                    right_cum = valid(self,node.right)\n",
    "                    if all(map(lambda x: x > node.val,right_cum)):\n",
    "                        node.cum += right_cum\n",
    "                    else:\n",
    "                        #print(right_cum,node.val)\n",
    "                        self.isValid = False\n",
    "                return node.cum\n",
    "        cum = valid(self,root)\n",
    "        return self.isValid"
   ]
  },
  {
   "cell_type": "code",
   "execution_count": 5,
   "id": "0c76019f-18c1-4b60-b8be-593b9ba4e864",
   "metadata": {},
   "outputs": [],
   "source": [
    "one = TreeNode(1)\n",
    "fourteen = TreeNode(14, one)\n",
    "nine = TreeNode(9, fourteen)\n",
    "# six = TreeNode(6)\n",
    "# two = TreeNode(2,one, three)\n",
    "# seven = TreeNode(7,six,nine)\n",
    "# root = TreeNode(4,two,seven)"
   ]
  },
  {
   "cell_type": "code",
   "execution_count": 6,
   "id": "9e099136-c3cc-40c3-9826-6371bea876f4",
   "metadata": {},
   "outputs": [
    {
     "data": {
      "text/plain": [
       "False"
      ]
     },
     "execution_count": 6,
     "metadata": {},
     "output_type": "execute_result"
    }
   ],
   "source": [
    "s = Solution()\n",
    "s.isValidBST(nine)"
   ]
  },
  {
   "cell_type": "code",
   "execution_count": 7,
   "id": "68ea8315-5eb1-4560-bf76-a2f1b928c8f4",
   "metadata": {},
   "outputs": [
    {
     "data": {
      "text/plain": [
       "True"
      ]
     },
     "execution_count": 7,
     "metadata": {},
     "output_type": "execute_result"
    }
   ],
   "source": [
    "a = [1,3,4]\n",
    "all(map(lambda x: x< 5, a))"
   ]
  },
  {
   "cell_type": "code",
   "execution_count": 8,
   "id": "be1b29c0-db6c-4d96-bd1e-b63ec382d652",
   "metadata": {},
   "outputs": [
    {
     "ename": "NameError",
     "evalue": "name 'null' is not defined",
     "output_type": "error",
     "traceback": [
      "\u001b[0;31m---------------------------------------------------------------------------\u001b[0m",
      "\u001b[0;31mNameError\u001b[0m                                 Traceback (most recent call last)",
      "\u001b[0;32m/tmp/ipykernel_66497/3758773127.py\u001b[0m in \u001b[0;36m<module>\u001b[0;34m\u001b[0m\n\u001b[0;32m----> 1\u001b[0;31m \u001b[0;34m[\u001b[0m\u001b[0;36m5\u001b[0m\u001b[0;34m,\u001b[0m\u001b[0;36m14\u001b[0m\u001b[0;34m,\u001b[0m\u001b[0mnull\u001b[0m\u001b[0;34m,\u001b[0m\u001b[0;36m1\u001b[0m\u001b[0;34m]\u001b[0m\u001b[0;34m\u001b[0m\u001b[0;34m\u001b[0m\u001b[0m\n\u001b[0m",
      "\u001b[0;31mNameError\u001b[0m: name 'null' is not defined"
     ]
    }
   ],
   "source": [
    "[5,14,null,1]\n"
   ]
  }
 ],
 "metadata": {
  "kernelspec": {
   "display_name": "Python 3 (ipykernel)",
   "language": "python",
   "name": "python3"
  },
  "language_info": {
   "codemirror_mode": {
    "name": "ipython",
    "version": 3
   },
   "file_extension": ".py",
   "mimetype": "text/x-python",
   "name": "python",
   "nbconvert_exporter": "python",
   "pygments_lexer": "ipython3",
   "version": "3.9.7"
  }
 },
 "nbformat": 4,
 "nbformat_minor": 5
}
