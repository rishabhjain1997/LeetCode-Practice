{
 "cells": [
  {
   "cell_type": "code",
   "execution_count": 108,
   "id": "b9b7f439-d92e-4631-a9e7-0b43f4685aab",
   "metadata": {
    "tags": []
   },
   "outputs": [],
   "source": [
    "class Solution:\n",
    "    def simplifyPath(self, path: str) -> str:\n",
    "        import re\n",
    "        \n",
    "        # Start with slash\n",
    "        if not re.match(r'^/(.*)', path, re.M):\n",
    "            path = re.sub(r'^(.*)$' , r'/\\1',path)\n",
    "\n",
    "        \n",
    "        # Remove double-slash\n",
    "        while re.search(r'//', path, re.M):\n",
    "                path = re.sub(r'//' , r'/',path, 1)\n",
    "        \n",
    "        # Remove /./\n",
    "        while re.search(r'/\\./', path, re.M):\n",
    "                path = re.sub(r'/\\./' , r'/',path, 1)\n",
    "                \n",
    "        \n",
    "        \n",
    "        # Remove /../ excluding the ones in root directory\n",
    "        while re.search(r'/[^/]+/\\.\\.[/]?', path):\n",
    "            path = re.sub(r'/[^/]+/\\.\\.[/]?', '/',path, 1)\n",
    "        \n",
    "        # Remove /../\n",
    "        while re.match(r'^/\\.\\./(.*)', path, re.M):\n",
    "            path = re.sub(r'^/\\.\\./(.*)$' , r'/\\1',path)\n",
    "            \n",
    "        # Remove trailing slash\n",
    "        if re.match(r'(.+)/$', path, re.M):\n",
    "                path = re.sub(r'(.*)/$' , r'\\1',path)\n",
    "                \n",
    "        # Remove trailing slash-dot\n",
    "        if re.match(r'(.*)/\\.[.]?$', path, re.M):\n",
    "                path = re.sub(r'(.*)/\\.[.]?$' , r'\\1/',path)\n",
    "    \n",
    "        return path"
   ]
  },
  {
   "cell_type": "code",
   "execution_count": 109,
   "id": "3fa62abd-6ec5-4cef-a455-383a68a4b55a",
   "metadata": {},
   "outputs": [
    {
     "data": {
      "text/plain": [
       "'/'"
      ]
     },
     "execution_count": 109,
     "metadata": {},
     "output_type": "execute_result"
    }
   ],
   "source": [
    "s = Solution()\n",
    "s.simplifyPath(path = \"/abc/...\")"
   ]
  },
  {
   "cell_type": "code",
   "execution_count": 25,
   "id": "a0310700-4276-4822-8bcd-90af6b18a318",
   "metadata": {},
   "outputs": [
    {
     "data": {
      "text/plain": [
       "'//home//foo'"
      ]
     },
     "execution_count": 25,
     "metadata": {},
     "output_type": "execute_result"
    }
   ],
   "source": []
  },
  {
   "cell_type": "code",
   "execution_count": null,
   "id": "e8a8d84c-3a90-4f99-94db-92e55ab2c1c2",
   "metadata": {},
   "outputs": [],
   "source": []
  }
 ],
 "metadata": {
  "kernelspec": {
   "display_name": "Python 3 (ipykernel)",
   "language": "python",
   "name": "python3"
  },
  "language_info": {
   "codemirror_mode": {
    "name": "ipython",
    "version": 3
   },
   "file_extension": ".py",
   "mimetype": "text/x-python",
   "name": "python",
   "nbconvert_exporter": "python",
   "pygments_lexer": "ipython3",
   "version": "3.9.7"
  }
 },
 "nbformat": 4,
 "nbformat_minor": 5
}
