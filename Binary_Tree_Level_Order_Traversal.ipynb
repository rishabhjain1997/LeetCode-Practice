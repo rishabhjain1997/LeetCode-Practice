{
 "cells": [
  {
   "cell_type": "code",
   "execution_count": 1,
   "id": "c5d152d5-f582-49b6-a02f-f302d336b3d4",
   "metadata": {},
   "outputs": [],
   "source": [
    "from typing import Optional, List"
   ]
  },
  {
   "cell_type": "code",
   "execution_count": 2,
   "id": "162ff156-db7e-4486-9ff9-f15ba1d4b9eb",
   "metadata": {},
   "outputs": [],
   "source": [
    "class TreeNode:\n",
    "    def __init__(self, val=0, left=None, right=None):\n",
    "        self.val = val\n",
    "        self.left = left\n",
    "        self.right = right\n",
    "seven = TreeNode(7)\n",
    "fifteen = TreeNode(15)\n",
    "twenty = TreeNode(20,fifteen, seven)\n",
    "nine = TreeNode(9)\n",
    "three = TreeNode(3,nine, twenty)"
   ]
  },
  {
   "cell_type": "code",
   "execution_count": 3,
   "id": "53cc17d5-6a55-4589-bf39-9fd94646674a",
   "metadata": {},
   "outputs": [],
   "source": [
    "class Solution:\n",
    "    def levelOrder(self, root: Optional[TreeNode]) -> List[List[int]]:\n",
    "        from collections import deque\n",
    "        q = deque()\n",
    "        if root:\n",
    "            q.append([root])\n",
    "        a = []\n",
    "        while q:\n",
    "            nodes = q.popleft()\n",
    "            next_nodes = []\n",
    "            a.append(list(map(lambda x: x.val, nodes)))\n",
    "            for node in nodes:\n",
    "                if node.left:\n",
    "                    next_nodes.append(node.left)\n",
    "                if node.right:\n",
    "                    next_nodes.append(node.right)\n",
    "            if len(next_nodes):\n",
    "                q.append(next_nodes)\n",
    "        return(a)"
   ]
  },
  {
   "cell_type": "code",
   "execution_count": 4,
   "id": "ada6719f-3c2d-4dd5-b26d-750ee7cde644",
   "metadata": {},
   "outputs": [
    {
     "name": "stdout",
     "output_type": "stream",
     "text": [
      "[[3], [9, 20], [15, 7]]\n"
     ]
    }
   ],
   "source": [
    "s = Solution()\n",
    "s.levelOrder(three)"
   ]
  },
  {
   "cell_type": "code",
   "execution_count": null,
   "id": "a2d763d9-8023-4648-96c8-f6346f1abe54",
   "metadata": {},
   "outputs": [],
   "source": []
  }
 ],
 "metadata": {
  "kernelspec": {
   "display_name": "Python 3 (ipykernel)",
   "language": "python",
   "name": "python3"
  },
  "language_info": {
   "codemirror_mode": {
    "name": "ipython",
    "version": 3
   },
   "file_extension": ".py",
   "mimetype": "text/x-python",
   "name": "python",
   "nbconvert_exporter": "python",
   "pygments_lexer": "ipython3",
   "version": "3.9.7"
  }
 },
 "nbformat": 4,
 "nbformat_minor": 5
}
