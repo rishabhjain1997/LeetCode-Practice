{
 "cells": [
  {
   "cell_type": "code",
   "execution_count": 1,
   "id": "e2a2cd68-a22e-478d-9015-aaf7e122f106",
   "metadata": {},
   "outputs": [],
   "source": [
    "from typing import List"
   ]
  },
  {
   "cell_type": "code",
   "execution_count": 11,
   "id": "2a934c8e-ae1d-4970-a3ca-a67f76bcc5f3",
   "metadata": {},
   "outputs": [],
   "source": [
    "class Solution:\n",
    "    def letterCasePermutation(self, s: str) -> List[str]:\n",
    "        output = []\n",
    "        def backtrack(first = 0 , cum = \"\"):\n",
    "            if first == (len(s)):\n",
    "                if len(cum) == len(s):\n",
    "                    output.append(cum)\n",
    "                    #print(cum)\n",
    "                    return\n",
    "                else:\n",
    "                    print(cum,first)\n",
    "            letter_encountered = False\n",
    "            second = len(s)\n",
    "            for i in range(first, len(s)):\n",
    "                if s[i].isalpha():\n",
    "                    if not letter_encountered:\n",
    "                        letter_encountered = True\n",
    "                    else:\n",
    "                        second = i\n",
    "                        break\n",
    "            backtrack(second,cum + (s[first:second]).upper())\n",
    "            if not s[first:second].isdigit():\n",
    "                backtrack(second,cum + (s[first:second]).lower())\n",
    "            \n",
    "        backtrack()\n",
    "        return output"
   ]
  },
  {
   "cell_type": "code",
   "execution_count": 14,
   "id": "7048866f-b834-4d61-bc78-c99a666a64da",
   "metadata": {},
   "outputs": [
    {
     "data": {
      "text/plain": [
       "['123A45', '123a45']"
      ]
     },
     "execution_count": 14,
     "metadata": {},
     "output_type": "execute_result"
    }
   ],
   "source": [
    "s = Solution()\n",
    "s.letterCasePermutation(s = \"123a45\")"
   ]
  },
  {
   "cell_type": "code",
   "execution_count": 13,
   "id": "89048cfa-f27a-4a29-8796-61b990abb6ea",
   "metadata": {},
   "outputs": [
    {
     "data": {
      "text/plain": [
       "False"
      ]
     },
     "execution_count": 13,
     "metadata": {},
     "output_type": "execute_result"
    }
   ],
   "source": []
  },
  {
   "cell_type": "code",
   "execution_count": null,
   "id": "75f67e86-16f0-4459-91e7-373918804a87",
   "metadata": {},
   "outputs": [],
   "source": []
  }
 ],
 "metadata": {
  "kernelspec": {
   "display_name": "Python 3 (ipykernel)",
   "language": "python",
   "name": "python3"
  },
  "language_info": {
   "codemirror_mode": {
    "name": "ipython",
    "version": 3
   },
   "file_extension": ".py",
   "mimetype": "text/x-python",
   "name": "python",
   "nbconvert_exporter": "python",
   "pygments_lexer": "ipython3",
   "version": "3.9.7"
  }
 },
 "nbformat": 4,
 "nbformat_minor": 5
}
