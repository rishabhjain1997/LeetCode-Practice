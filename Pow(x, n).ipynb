{
 "cells": [
  {
   "cell_type": "code",
   "execution_count": 23,
   "id": "27d8baba-7d54-457e-b297-a88563151905",
   "metadata": {},
   "outputs": [],
   "source": [
    "class Solution:\n",
    "    def myPow(self, x: float, n: int) -> float:\n",
    "        if n == 0:\n",
    "            return 1\n",
    "        if n < 0:\n",
    "            x = 1/x\n",
    "            n = -n\n",
    "        return  self.myPow(x*x, n/2) if (n%2 == 0) else self.myPow(x*x, n//2)*x"
   ]
  },
  {
   "cell_type": "code",
   "execution_count": 24,
   "id": "fa1434e6-71e4-42f3-9ad2-e7415160f491",
   "metadata": {},
   "outputs": [
    {
     "data": {
      "text/plain": [
       "0.25"
      ]
     },
     "execution_count": 24,
     "metadata": {},
     "output_type": "execute_result"
    }
   ],
   "source": [
    "s = Solution()\n",
    "s.myPow(x = 2.00000, n = -2)"
   ]
  },
  {
   "cell_type": "code",
   "execution_count": null,
   "id": "efcd13b3-a189-4f2a-812c-5de36e4f638b",
   "metadata": {},
   "outputs": [],
   "source": []
  }
 ],
 "metadata": {
  "kernelspec": {
   "display_name": "Python 3 (ipykernel)",
   "language": "python",
   "name": "python3"
  },
  "language_info": {
   "codemirror_mode": {
    "name": "ipython",
    "version": 3
   },
   "file_extension": ".py",
   "mimetype": "text/x-python",
   "name": "python",
   "nbconvert_exporter": "python",
   "pygments_lexer": "ipython3",
   "version": "3.9.7"
  }
 },
 "nbformat": 4,
 "nbformat_minor": 5
}
