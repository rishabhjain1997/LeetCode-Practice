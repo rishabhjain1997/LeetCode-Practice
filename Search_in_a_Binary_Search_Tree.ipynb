{
 "cells": [
  {
   "cell_type": "code",
   "execution_count": 5,
   "id": "f47f712d-cb87-4ea2-b7a6-d8deba27b027",
   "metadata": {},
   "outputs": [],
   "source": [
    "from typing import Optional"
   ]
  },
  {
   "cell_type": "code",
   "execution_count": 6,
   "id": "873f1603-bcfc-4aad-952f-deacaab3a1bf",
   "metadata": {},
   "outputs": [],
   "source": [
    "class TreeNode:\n",
    "    def __init__(self, val=0, left=None, right=None):\n",
    "        self.val = val\n",
    "        self.left = left\n",
    "        self.right = right"
   ]
  },
  {
   "cell_type": "code",
   "execution_count": 7,
   "id": "ac5a34c2-5b06-4ea9-80d6-0ae4c65ee201",
   "metadata": {},
   "outputs": [],
   "source": [
    "one = TreeNode(1)\n",
    "three = TreeNode(3)\n",
    "nine = TreeNode(9)\n",
    "six = TreeNode(6)\n",
    "two = TreeNode(2,one, three)\n",
    "seven = TreeNode(7,six,nine)\n",
    "four = TreeNode(4,two,seven)"
   ]
  },
  {
   "cell_type": "code",
   "execution_count": 27,
   "id": "cd335de7-2c4e-4156-83df-89402acac916",
   "metadata": {},
   "outputs": [],
   "source": [
    "class Solution:\n",
    "    def searchBST(self, root: Optional[TreeNode], val: int) -> Optional[TreeNode]:\n",
    "        self.found = None\n",
    "        def search(self,node):\n",
    "            if node.val == val:\n",
    "                #print(node.val)\n",
    "                self.found = node\n",
    "                return\n",
    "            if not node.left and not node.right:\n",
    "                return\n",
    "            if node.left and node.val > val:\n",
    "                search(self,node.left)\n",
    "            if node.right and node.val < val:\n",
    "                search(self,node.right)\n",
    "        search(self,root)\n",
    "        if self.found:\n",
    "            return self.found\n",
    "        else:\n",
    "            return TreeNode(val='')\n",
    "            "
   ]
  },
  {
   "cell_type": "code",
   "execution_count": 28,
   "id": "b6fc3fad-62bc-47aa-a667-fd076cc5b04f",
   "metadata": {},
   "outputs": [
    {
     "data": {
      "text/plain": [
       "<__main__.TreeNode at 0x7fd14459a850>"
      ]
     },
     "execution_count": 28,
     "metadata": {},
     "output_type": "execute_result"
    }
   ],
   "source": [
    "s = Solution()\n",
    "s.searchBST(four,10)"
   ]
  },
  {
   "cell_type": "code",
   "execution_count": null,
   "id": "bf76b411-b6ab-4d40-b25d-f8b7d505f35f",
   "metadata": {},
   "outputs": [],
   "source": []
  }
 ],
 "metadata": {
  "kernelspec": {
   "display_name": "Python 3 (ipykernel)",
   "language": "python",
   "name": "python3"
  },
  "language_info": {
   "codemirror_mode": {
    "name": "ipython",
    "version": 3
   },
   "file_extension": ".py",
   "mimetype": "text/x-python",
   "name": "python",
   "nbconvert_exporter": "python",
   "pygments_lexer": "ipython3",
   "version": "3.9.7"
  }
 },
 "nbformat": 4,
 "nbformat_minor": 5
}
