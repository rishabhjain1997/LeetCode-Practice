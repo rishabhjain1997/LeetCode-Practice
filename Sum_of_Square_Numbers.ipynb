{
 "cells": [
  {
   "cell_type": "code",
   "execution_count": 9,
   "id": "b18ff2f3-9e0d-4c80-81e5-d9b1e8b84f67",
   "metadata": {},
   "outputs": [],
   "source": [
    "class Solution:\n",
    "    def judgeSquareSum(self, c: int) -> bool:\n",
    "        root = int(c ** 0.5)\n",
    "        for a in range(0, root + 1):\n",
    "            b_square = c - a * a\n",
    "            b = b_square ** 0.5\n",
    "            if b == int(b):\n",
    "                return True\n",
    "        return False"
   ]
  },
  {
   "cell_type": "code",
   "execution_count": 10,
   "id": "f226fcc4-0dbd-4cc0-b747-dd5c92fe6f45",
   "metadata": {},
   "outputs": [
    {
     "data": {
      "text/plain": [
       "True"
      ]
     },
     "execution_count": 10,
     "metadata": {},
     "output_type": "execute_result"
    }
   ],
   "source": [
    "s = Solution()\n",
    "s.judgeSquareSum(c=5)"
   ]
  },
  {
   "cell_type": "code",
   "execution_count": null,
   "id": "6e0fe93c-e3b2-4215-935b-53c856c348cb",
   "metadata": {},
   "outputs": [],
   "source": []
  }
 ],
 "metadata": {
  "kernelspec": {
   "display_name": "Python 3 (ipykernel)",
   "language": "python",
   "name": "python3"
  },
  "language_info": {
   "codemirror_mode": {
    "name": "ipython",
    "version": 3
   },
   "file_extension": ".py",
   "mimetype": "text/x-python",
   "name": "python",
   "nbconvert_exporter": "python",
   "pygments_lexer": "ipython3",
   "version": "3.9.7"
  }
 },
 "nbformat": 4,
 "nbformat_minor": 5
}
