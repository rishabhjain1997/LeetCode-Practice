{
 "cells": [
  {
   "cell_type": "code",
   "execution_count": 2,
   "id": "2b8835aa-3976-43ac-bc22-1e93e8f57d24",
   "metadata": {},
   "outputs": [],
   "source": [
    "from typing import List"
   ]
  },
  {
   "cell_type": "code",
   "execution_count": 38,
   "id": "d6476b09-5994-471e-a75c-f344fb2aaece",
   "metadata": {},
   "outputs": [],
   "source": [
    "class Solution:\n",
    "    def orangesRotting(self, grid: List[List[int]]) -> int:\n",
    "        rows = len(grid)\n",
    "        columns = len(grid[0])\n",
    "        distance_matrix = list()\n",
    "        from collections import deque\n",
    "        q = deque()\n",
    "        isFreshOrange = False\n",
    "        for i in range(rows):\n",
    "            row_vector = []\n",
    "            for j in range(columns):\n",
    "                if grid[i][j] == 2:\n",
    "                    row_vector.append(0)\n",
    "                    q.append((i,j))\n",
    "                elif grid[i][j] == 0:\n",
    "                    row_vector.append(-1)\n",
    "                else:\n",
    "                    row_vector.append(float('inf'))\n",
    "                    isFreshOrange = True\n",
    "            distance_matrix.append(row_vector)\n",
    "        #print(distance_matrix)\n",
    "        #print(q)\n",
    "        def calculate_update(i,j,r,c):\n",
    "            if grid[i][j] == 1:\n",
    "                if distance_matrix[i][j] > 1 + distance_matrix[r][c]:\n",
    "                    distance_matrix[i][j] = 1 + distance_matrix[r][c]\n",
    "                    q.append((i,j))\n",
    "       #distance_matrix[i][j] == (-1) or  \n",
    "        if not q:\n",
    "            return -1 if isFreshOrange else 0\n",
    "        while q:\n",
    "            i,j = q.popleft()\n",
    "            if i+1  < rows:\n",
    "                calculate_update(i+1,j,i,j)\n",
    "            if i-1 >= 0:\n",
    "                calculate_update(i-1,j,i,j)\n",
    "            if j+1 < columns:\n",
    "                calculate_update(i,j+1,i,j)\n",
    "            if j-1 >= 0:\n",
    "                calculate_update(i,j-1,i,j)\n",
    "        #print(distance_matrix)\n",
    "        distance = max(max(row) for row in distance_matrix)\n",
    "        return -1 if distance == float('inf') else distance\n",
    "                "
   ]
  },
  {
   "cell_type": "code",
   "execution_count": 40,
   "id": "e83f0c88-be0f-4240-8503-ac6deb90eed0",
   "metadata": {},
   "outputs": [
    {
     "data": {
      "text/plain": [
       "1"
      ]
     },
     "execution_count": 40,
     "metadata": {},
     "output_type": "execute_result"
    }
   ],
   "source": [
    "s = Solution()\n",
    "s.orangesRotting(grid = [[1]])"
   ]
  },
  {
   "cell_type": "code",
   "execution_count": 33,
   "id": "7658ac41-0911-4e05-8ca5-0b8b78694d3d",
   "metadata": {},
   "outputs": [
    {
     "ename": "TypeError",
     "evalue": "'<' not supported between instances of 'int' and 'NoneType'",
     "output_type": "error",
     "traceback": [
      "\u001b[0;31m---------------------------------------------------------------------------\u001b[0m",
      "\u001b[0;31mTypeError\u001b[0m                                 Traceback (most recent call last)",
      "\u001b[0;32m/tmp/ipykernel_34268/2572477210.py\u001b[0m in \u001b[0;36m<module>\u001b[0;34m\u001b[0m\n\u001b[0;32m----> 1\u001b[0;31m \u001b[0mmin\u001b[0m\u001b[0;34m(\u001b[0m\u001b[0;32mNone\u001b[0m\u001b[0;34m,\u001b[0m\u001b[0;36m91\u001b[0m\u001b[0;34m)\u001b[0m\u001b[0;34m\u001b[0m\u001b[0;34m\u001b[0m\u001b[0m\n\u001b[0m",
      "\u001b[0;31mTypeError\u001b[0m: '<' not supported between instances of 'int' and 'NoneType'"
     ]
    }
   ],
   "source": [
    "min(None,91)"
   ]
  },
  {
   "cell_type": "code",
   "execution_count": 30,
   "id": "9342b64e-f85c-4e94-9d98-babea7f222cf",
   "metadata": {},
   "outputs": [
    {
     "data": {
      "text/plain": [
       "True"
      ]
     },
     "execution_count": 30,
     "metadata": {},
     "output_type": "execute_result"
    }
   ],
   "source": [
    "a = float('inf') - 1 \n",
    "a == float('inf')"
   ]
  },
  {
   "cell_type": "code",
   "execution_count": null,
   "id": "d801f833-5c03-4ac1-9ccd-1bb6490260b1",
   "metadata": {},
   "outputs": [],
   "source": []
  },
  {
   "cell_type": "code",
   "execution_count": null,
   "id": "7b3b6d57-9f63-4fa7-bcd3-2cb9348ea9b2",
   "metadata": {},
   "outputs": [],
   "source": []
  }
 ],
 "metadata": {
  "kernelspec": {
   "display_name": "Python 3 (ipykernel)",
   "language": "python",
   "name": "python3"
  },
  "language_info": {
   "codemirror_mode": {
    "name": "ipython",
    "version": 3
   },
   "file_extension": ".py",
   "mimetype": "text/x-python",
   "name": "python",
   "nbconvert_exporter": "python",
   "pygments_lexer": "ipython3",
   "version": "3.9.7"
  }
 },
 "nbformat": 4,
 "nbformat_minor": 5
}
