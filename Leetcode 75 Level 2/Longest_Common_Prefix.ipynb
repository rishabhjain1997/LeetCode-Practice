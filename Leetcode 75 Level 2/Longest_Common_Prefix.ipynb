{
 "cells": [
  {
   "cell_type": "code",
   "execution_count": 1,
   "id": "fd72aa98-4ef4-421f-ada6-f6d6aa112d32",
   "metadata": {},
   "outputs": [],
   "source": [
    "from typing import List"
   ]
  },
  {
   "cell_type": "code",
   "execution_count": 14,
   "id": "e6718330-3a93-4f19-9929-e666abdd5db5",
   "metadata": {},
   "outputs": [],
   "source": [
    "class Solution:\n",
    "    def longestCommonPrefix(self, strs: List[str]) -> str:\n",
    "        def LCP(str1, str2):\n",
    "            n = min(len(str1), len(str2))\n",
    "            for i in range(n):\n",
    "                if str1[i] != str2[i]:\n",
    "                    return str1[:i]\n",
    "            return str1[:n]\n",
    "        if len(strs) == 1:\n",
    "            return strs[0]\n",
    "        else:\n",
    "            curr = strs[0]\n",
    "            for i in range(1,len(strs)):\n",
    "                curr = LCP(curr, strs[i])\n",
    "        return curr"
   ]
  },
  {
   "cell_type": "code",
   "execution_count": 15,
   "id": "c7cecbf8-57d1-491f-b0b3-560130806deb",
   "metadata": {},
   "outputs": [
    {
     "data": {
      "text/plain": [
       "'fl'"
      ]
     },
     "execution_count": 15,
     "metadata": {},
     "output_type": "execute_result"
    }
   ],
   "source": [
    "s = Solution()\n",
    "s.longestCommonPrefix(strs = [\"flower\",\"flow\",\"flight\"])"
   ]
  },
  {
   "cell_type": "code",
   "execution_count": 16,
   "id": "08608e63-6f05-418b-b0ee-81063dbd2bd7",
   "metadata": {},
   "outputs": [
    {
     "data": {
      "text/plain": [
       "'ss'"
      ]
     },
     "execution_count": 16,
     "metadata": {},
     "output_type": "execute_result"
    }
   ],
   "source": [
    "\"sstrs\"[:2]"
   ]
  },
  {
   "cell_type": "code",
   "execution_count": null,
   "id": "3ac4dbee-e55e-4fe9-801f-44cc573bcf7f",
   "metadata": {},
   "outputs": [],
   "source": []
  }
 ],
 "metadata": {
  "kernelspec": {
   "display_name": "Python 3 (ipykernel)",
   "language": "python",
   "name": "python3"
  },
  "language_info": {
   "codemirror_mode": {
    "name": "ipython",
    "version": 3
   },
   "file_extension": ".py",
   "mimetype": "text/x-python",
   "name": "python",
   "nbconvert_exporter": "python",
   "pygments_lexer": "ipython3",
   "version": "3.9.7"
  }
 },
 "nbformat": 4,
 "nbformat_minor": 5
}
