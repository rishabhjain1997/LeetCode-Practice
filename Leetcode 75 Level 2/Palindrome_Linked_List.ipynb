{
 "cells": [
  {
   "cell_type": "code",
   "execution_count": 1,
   "id": "034b948f-fe92-47a5-82dc-b9acca106738",
   "metadata": {},
   "outputs": [],
   "source": [
    "class ListNode:\n",
    "    def __init__(self, val=0, next=None):\n",
    "        self.val = val\n",
    "        self.next = next"
   ]
  },
  {
   "cell_type": "code",
   "execution_count": 2,
   "id": "d2ee8eaa-0e5d-4d02-acb4-acae5c80924b",
   "metadata": {},
   "outputs": [],
   "source": [
    "from typing import Optional"
   ]
  },
  {
   "cell_type": "code",
   "execution_count": 3,
   "id": "716a54d8-d7fd-4408-8c3b-ab1974575cfb",
   "metadata": {},
   "outputs": [],
   "source": [
    "def create_linked_list(arr):\n",
    "    prev = None\n",
    "    for index, element in enumerate(arr[::-1]):\n",
    "        curr = ListNode(element,None)\n",
    "        if prev:\n",
    "            curr.next = prev\n",
    "        prev = curr\n",
    "        if index == len(arr) -1:\n",
    "            return curr\n",
    "        \n",
    "\n",
    "def traverse_linked_list(list1):\n",
    "    iterator = list1\n",
    "    while iterator:\n",
    "        print(iterator.val)\n",
    "        iterator = iterator.next"
   ]
  },
  {
   "cell_type": "code",
   "execution_count": 34,
   "id": "0159f38f-36d0-4f4e-8aca-fd92f664f9be",
   "metadata": {},
   "outputs": [],
   "source": [
    "class Solution:\n",
    "    def get_list_length(self,head):\n",
    "        iterator = head\n",
    "        count = 0\n",
    "        while iterator:\n",
    "            iterator = iterator.next\n",
    "            count += 1\n",
    "        return count\n",
    "    \n",
    "    def get_second_half_node(self,head, second_half_pos):\n",
    "        count = 0\n",
    "        iterator = head\n",
    "        while iterator and count <second_half_pos:\n",
    "            iterator = iterator.next\n",
    "            count = count + 1\n",
    "            \n",
    "        return iterator\n",
    "    def reverse(self,second_half_start):\n",
    "        curr = second_half_start\n",
    "        prev = None\n",
    "        while curr:\n",
    "            temp = curr.next\n",
    "            curr.next = prev\n",
    "            prev = curr\n",
    "            curr = temp\n",
    "        return prev\n",
    "        \n",
    "    def isPalindrome(self, head: Optional[ListNode]) -> bool:\n",
    "        linked_list_size = self.get_list_length(head)\n",
    "        if linked_list_size <= 1:\n",
    "            return True\n",
    "        \n",
    "        second_half_pos = linked_list_size//2 if (linked_list_size)%2 == 0 else (linked_list_size//2 + 1)\n",
    "        second_half_start = (self.get_second_half_node(head, second_half_pos))\n",
    "        #print(traverse_linked_list(head))\n",
    "        \n",
    "        iterator2 = self.reverse(second_half_start)\n",
    "        \n",
    "        iterator1 = head\n",
    "        for _ in range(linked_list_size//2):\n",
    "            if iterator1.val != iterator2.val:\n",
    "                return False\n",
    "            iterator1 = iterator1.next\n",
    "            iterator2 = iterator2.next\n",
    "        return True\n",
    "        \n",
    "    \n",
    "    "
   ]
  },
  {
   "cell_type": "code",
   "execution_count": 35,
   "id": "285d47c2-5055-42cf-8429-201c46be134e",
   "metadata": {},
   "outputs": [
    {
     "data": {
      "text/plain": [
       "False"
      ]
     },
     "execution_count": 35,
     "metadata": {},
     "output_type": "execute_result"
    }
   ],
   "source": [
    "s = Solution()\n",
    "s.isPalindrome(create_linked_list([1,1,2,1]))"
   ]
  },
  {
   "cell_type": "code",
   "execution_count": null,
   "id": "4a42918e-8f3b-4d32-a7c0-cd6b73dec77f",
   "metadata": {},
   "outputs": [],
   "source": []
  }
 ],
 "metadata": {
  "kernelspec": {
   "display_name": "Python 3 (ipykernel)",
   "language": "python",
   "name": "python3"
  },
  "language_info": {
   "codemirror_mode": {
    "name": "ipython",
    "version": 3
   },
   "file_extension": ".py",
   "mimetype": "text/x-python",
   "name": "python",
   "nbconvert_exporter": "python",
   "pygments_lexer": "ipython3",
   "version": "3.9.7"
  }
 },
 "nbformat": 4,
 "nbformat_minor": 5
}
