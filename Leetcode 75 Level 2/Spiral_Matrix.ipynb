{
 "cells": [
  {
   "cell_type": "code",
   "execution_count": 16,
   "id": "951bb044-92e2-4867-ab45-8ccae371a504",
   "metadata": {},
   "outputs": [],
   "source": [
    "from typing import List"
   ]
  },
  {
   "cell_type": "code",
   "execution_count": 22,
   "id": "eaa22b0f-f72e-4424-a6ca-ed62c14ea22d",
   "metadata": {},
   "outputs": [],
   "source": [
    "class Solution:\n",
    "    def spiralOrder(self, matrix: List[List[int]]) -> List[int]:\n",
    "        \n",
    "        row_borders = {\n",
    "            -1: 0,\n",
    "            1: len(matrix) - 1 \n",
    "        }\n",
    "        \n",
    "        column_borders = {\n",
    "            -1: 0,\n",
    "            1: len(matrix[0]) - 1\n",
    "        }\n",
    "        \n",
    "        row_iter = 0\n",
    "        column_iter = 1\n",
    "        output = []\n",
    "        num_elements = (len(matrix)) * (len(matrix[0]))\n",
    " \n",
    "        i = 0\n",
    "        j = 0\n",
    "        while len(output) < num_elements:\n",
    "            output.append(matrix[i][j])\n",
    "            #print(output)\n",
    "            if row_iter == 0 and j == column_borders[column_iter]:\n",
    "                if column_iter == -1:\n",
    "                    row_borders[1] = row_borders [1] - 1\n",
    "                    \n",
    "                else:\n",
    "                    row_borders[-1] = row_borders [-1] + 1\n",
    "                row_iter = column_iter\n",
    "                column_iter = 0\n",
    "                \n",
    "            elif column_iter == 0 and i == row_borders[row_iter]:\n",
    "                \n",
    "                if row_iter == -1:\n",
    "                    column_borders[-1] = column_borders[-1] + 1\n",
    "                else:\n",
    "                    column_borders[1] = column_borders[1] - 1\n",
    "                column_iter = row_iter * -1\n",
    "                row_iter = 0\n",
    "                    \n",
    "            i = i + row_iter\n",
    "            j = j + column_iter\n",
    "            \n",
    "        return output"
   ]
  },
  {
   "cell_type": "code",
   "execution_count": 24,
   "id": "8f81ea0d-0c68-4df9-a5c0-d4cf6364ff26",
   "metadata": {},
   "outputs": [
    {
     "data": {
      "text/plain": [
       "[1, 2, 3, 4, 8, 12, 11, 10, 9, 5, 6, 7]"
      ]
     },
     "execution_count": 24,
     "metadata": {},
     "output_type": "execute_result"
    }
   ],
   "source": [
    "s = Solution()\n",
    "s.spiralOrder(matrix = [[1,2,3,4],[5,6,7,8],[9,10,11,12]])"
   ]
  },
  {
   "cell_type": "code",
   "execution_count": null,
   "id": "b1dd8eab-0adf-4461-bbed-7c7d3cc87c85",
   "metadata": {},
   "outputs": [],
   "source": []
  }
 ],
 "metadata": {
  "kernelspec": {
   "display_name": "Python 3 (ipykernel)",
   "language": "python",
   "name": "python3"
  },
  "language_info": {
   "codemirror_mode": {
    "name": "ipython",
    "version": 3
   },
   "file_extension": ".py",
   "mimetype": "text/x-python",
   "name": "python",
   "nbconvert_exporter": "python",
   "pygments_lexer": "ipython3",
   "version": "3.9.7"
  }
 },
 "nbformat": 4,
 "nbformat_minor": 5
}
