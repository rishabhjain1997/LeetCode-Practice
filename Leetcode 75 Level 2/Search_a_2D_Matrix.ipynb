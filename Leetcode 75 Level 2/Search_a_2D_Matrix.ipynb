{
 "cells": [
  {
   "cell_type": "code",
   "execution_count": 1,
   "id": "3e0e4c01-9be5-486a-bfe6-f0f9fcdfd3b6",
   "metadata": {},
   "outputs": [],
   "source": [
    "from typing import List"
   ]
  },
  {
   "cell_type": "code",
   "execution_count": 15,
   "id": "9197a391-d5a6-4e89-8452-5dcd9401c20f",
   "metadata": {},
   "outputs": [],
   "source": [
    "class Solution:\n",
    "    def searchMatrix(self, matrix: List[List[int]], target: int) -> bool:\n",
    "        m = len(matrix[0])\n",
    "        n = len(matrix)\n",
    "        \n",
    "        def binary_search(arr):\n",
    "            l = 0\n",
    "            r = len(arr) - 1\n",
    "             \n",
    "            while l <= r:\n",
    "                mid = (l + r) // 2\n",
    "                if arr[mid] == target:\n",
    "                    return True\n",
    "                elif arr[mid] < target:\n",
    "                    l = mid + 1\n",
    "                else: \n",
    "                    r = mid - 1\n",
    "            return False\n",
    "        \n",
    "        for arr in matrix:\n",
    "            if arr[0] <= target and arr[m-1] >= target:\n",
    "                return binary_search(arr)\n",
    "            else:\n",
    "                continue\n",
    "        return False"
   ]
  },
  {
   "cell_type": "code",
   "execution_count": 16,
   "id": "4e3e1160-1db4-447d-a06a-9a4feace8dd8",
   "metadata": {},
   "outputs": [
    {
     "data": {
      "text/plain": [
       "True"
      ]
     },
     "execution_count": 16,
     "metadata": {},
     "output_type": "execute_result"
    }
   ],
   "source": [
    "s = Solution()\n",
    "s.searchMatrix(matrix = [[1]], target = 1)"
   ]
  },
  {
   "cell_type": "code",
   "execution_count": null,
   "id": "8b76edd8-21b4-4862-aea1-efcdd1cdd0eb",
   "metadata": {},
   "outputs": [],
   "source": []
  }
 ],
 "metadata": {
  "kernelspec": {
   "display_name": "Python 3 (ipykernel)",
   "language": "python",
   "name": "python3"
  },
  "language_info": {
   "codemirror_mode": {
    "name": "ipython",
    "version": 3
   },
   "file_extension": ".py",
   "mimetype": "text/x-python",
   "name": "python",
   "nbconvert_exporter": "python",
   "pygments_lexer": "ipython3",
   "version": "3.9.7"
  }
 },
 "nbformat": 4,
 "nbformat_minor": 5
}
