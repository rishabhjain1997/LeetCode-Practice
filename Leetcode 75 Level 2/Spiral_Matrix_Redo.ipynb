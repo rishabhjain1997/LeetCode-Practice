{
 "cells": [
  {
   "cell_type": "code",
   "execution_count": 2,
   "id": "951bb044-92e2-4867-ab45-8ccae371a504",
   "metadata": {},
   "outputs": [],
   "source": [
    "from typing import List"
   ]
  },
  {
   "cell_type": "code",
   "execution_count": 3,
   "id": "eaa22b0f-f72e-4424-a6ca-ed62c14ea22d",
   "metadata": {},
   "outputs": [],
   "source": [
    "class Solution:\n",
    "    def spiralOrder(self, matrix: List[List[int]]) -> List[int]:\n",
    "        top = 0\n",
    "        left = 0\n",
    "        right = len(matrix[0])\n",
    "        bottom = len(matrix)\n",
    "        ans = []\n",
    "        while left<right and top<bottom:\n",
    "            for i in range (left, right):\n",
    "                ans.append(matrix[top][i])\n",
    "            top = top + 1\n",
    "            \n",
    "            for i in range(top, bottom):\n",
    "                ans.append(matrix[i][right-1])\n",
    "            right = right - 1\n",
    "            \n",
    "            if not (left<right and top<bottom):\n",
    "                break\n",
    "            \n",
    "            for i in range(right - 1, left - 1, -1):\n",
    "                ans.append(matrix[bottom-1][i])\n",
    "            bottom = bottom - 1\n",
    "            \n",
    "            for i in range(bottom - 1, top - 1, -1):\n",
    "                ans.append(matrix[i][left])\n",
    "            left = left + 1\n",
    "        \n",
    "        return ans"
   ]
  },
  {
   "cell_type": "code",
   "execution_count": null,
   "id": "8f81ea0d-0c68-4df9-a5c0-d4cf6364ff26",
   "metadata": {},
   "outputs": [],
   "source": [
    "s = Solution()\n",
    "s.spiralOrder(matrix = [[1,2,3,4],[5,6,7,8],[9,10,11,12]])"
   ]
  },
  {
   "cell_type": "code",
   "execution_count": null,
   "id": "b1dd8eab-0adf-4461-bbed-7c7d3cc87c85",
   "metadata": {},
   "outputs": [],
   "source": []
  }
 ],
 "metadata": {
  "kernelspec": {
   "display_name": "Python 3 (ipykernel)",
   "language": "python",
   "name": "python3"
  },
  "language_info": {
   "codemirror_mode": {
    "name": "ipython",
    "version": 3
   },
   "file_extension": ".py",
   "mimetype": "text/x-python",
   "name": "python",
   "nbconvert_exporter": "python",
   "pygments_lexer": "ipython3",
   "version": "3.9.7"
  }
 },
 "nbformat": 4,
 "nbformat_minor": 5
}
