{
 "cells": [
  {
   "cell_type": "code",
   "execution_count": 6,
   "id": "736d40f4-d7d8-4d26-ab45-e8bc60d25c99",
   "metadata": {},
   "outputs": [],
   "source": [
    "from typing import Optional"
   ]
  },
  {
   "cell_type": "code",
   "execution_count": 7,
   "id": "691ae6aa-173f-4ebe-bf9a-f2e7ba7b978e",
   "metadata": {},
   "outputs": [],
   "source": [
    "class TreeNode:\n",
    "    def __init__(self, val=0, left=None, right=None):\n",
    "        self.val = val\n",
    "        self.left = left\n",
    "        self.right = right"
   ]
  },
  {
   "cell_type": "code",
   "execution_count": 8,
   "id": "8ab78408-7f82-405b-80fa-9c5b106bbcaa",
   "metadata": {},
   "outputs": [],
   "source": [
    "one = TreeNode(1)\n",
    "three = TreeNode(3)\n",
    "nine = TreeNode(9)\n",
    "six = TreeNode(6)\n",
    "two = TreeNode(2,one, three)\n",
    "seven = TreeNode(7,six,nine)\n",
    "four = TreeNode(4,two,seven)"
   ]
  },
  {
   "cell_type": "code",
   "execution_count": 9,
   "id": "3847df8d-946b-4d30-baf5-ebfa334ad0fa",
   "metadata": {},
   "outputs": [],
   "source": [
    "class Solution:\n",
    "    def rec(self,root):\n",
    "        if not root:\n",
    "            return None\n",
    "        # Base Case\n",
    "        if not root.left and not root.right:\n",
    "            return root\n",
    "        # Change left to right and right to left\n",
    "        root.left, root.right = root.right, root.left\n",
    "        # Call recursive function on both sub-trees\n",
    "        self.rec(root.left)\n",
    "        self.rec(root.right)\n",
    "        return root\n",
    "            \n",
    "    def invertTree(self, root: Optional[TreeNode]) -> Optional[TreeNode]:\n",
    "        return self.rec(root)"
   ]
  },
  {
   "cell_type": "code",
   "execution_count": 10,
   "id": "48bf2b25-a767-40b9-bb41-6a7e40456ffa",
   "metadata": {},
   "outputs": [
    {
     "data": {
      "text/plain": [
       "<__main__.TreeNode at 0x7f006447fc10>"
      ]
     },
     "execution_count": 10,
     "metadata": {},
     "output_type": "execute_result"
    }
   ],
   "source": [
    "s = Solution()\n",
    "s.invertTree(one)"
   ]
  },
  {
   "cell_type": "code",
   "execution_count": null,
   "id": "fb8e50c4-6a25-4a7a-84e3-e235c5cf0ce4",
   "metadata": {},
   "outputs": [],
   "source": []
  }
 ],
 "metadata": {
  "kernelspec": {
   "display_name": "Python 3 (ipykernel)",
   "language": "python",
   "name": "python3"
  },
  "language_info": {
   "codemirror_mode": {
    "name": "ipython",
    "version": 3
   },
   "file_extension": ".py",
   "mimetype": "text/x-python",
   "name": "python",
   "nbconvert_exporter": "python",
   "pygments_lexer": "ipython3",
   "version": "3.9.7"
  }
 },
 "nbformat": 4,
 "nbformat_minor": 5
}
