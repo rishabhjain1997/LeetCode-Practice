{
 "cells": [
  {
   "cell_type": "code",
   "execution_count": 19,
   "id": "8b406ad0-adf2-433e-95eb-de150876e796",
   "metadata": {},
   "outputs": [],
   "source": [
    "class TreeNode:\n",
    "    def __init__(self, val=0, left=None, right=None):\n",
    "        self.val = val\n",
    "        self.left = left\n",
    "        self.right = right"
   ]
  },
  {
   "cell_type": "code",
   "execution_count": 20,
   "id": "cc40989b-53cb-402e-9f6f-96d114495d1b",
   "metadata": {},
   "outputs": [],
   "source": [
    "from typing import Optional"
   ]
  },
  {
   "cell_type": "code",
   "execution_count": 21,
   "id": "37eddabb-9ab3-4fe2-a51c-d6631bbd3d29",
   "metadata": {},
   "outputs": [],
   "source": [
    "four_left = TreeNode(4)\n",
    "four_right = TreeNode(4)\n",
    "three_left = TreeNode(3, four_left, None)\n",
    "three_right = TreeNode(3, None, four_right)\n",
    "two_left = TreeNode(2, three_left, None)\n",
    "two_right = TreeNode(2, None, three_right)\n",
    "one = TreeNode(1, two_left, two_right)"
   ]
  },
  {
   "cell_type": "code",
   "execution_count": 22,
   "id": "d6d874fd-878b-4b8e-813c-543015d9b715",
   "metadata": {},
   "outputs": [],
   "source": [
    "class Solution:\n",
    "    def rec(self,node):\n",
    "        if not node:\n",
    "            return 0\n",
    "        if not node.left and not node.right:\n",
    "            return 1\n",
    "        \n",
    "        left_depth = self.rec(node.left)\n",
    "        right_depth = self.rec(node.right)\n",
    "        if abs(left_depth - right_depth) >=2 or left_depth == -1 or right_depth == -1:\n",
    "            return -1\n",
    "        return 1+max(left_depth,right_depth)\n",
    "        \n",
    "    def isBalanced(self, root: Optional[TreeNode]) -> bool:\n",
    "        if not root:\n",
    "            return True\n",
    "        return (self.rec(root)) > 0"
   ]
  },
  {
   "cell_type": "code",
   "execution_count": 23,
   "id": "a8fb7919-1848-4ef9-a888-6a77efa61108",
   "metadata": {},
   "outputs": [
    {
     "data": {
      "text/plain": [
       "False"
      ]
     },
     "execution_count": 23,
     "metadata": {},
     "output_type": "execute_result"
    }
   ],
   "source": [
    "s = Solution()\n",
    "s.isBalanced(two_left)"
   ]
  },
  {
   "cell_type": "code",
   "execution_count": null,
   "id": "db838cfc-4bf5-4c13-b746-9d9a88e9d487",
   "metadata": {},
   "outputs": [],
   "source": []
  },
  {
   "cell_type": "code",
   "execution_count": null,
   "id": "da74b464-8661-4e33-acd4-2a46adb8f8b7",
   "metadata": {},
   "outputs": [],
   "source": []
  }
 ],
 "metadata": {
  "kernelspec": {
   "display_name": "Python 3 (ipykernel)",
   "language": "python",
   "name": "python3"
  },
  "language_info": {
   "codemirror_mode": {
    "name": "ipython",
    "version": 3
   },
   "file_extension": ".py",
   "mimetype": "text/x-python",
   "name": "python",
   "nbconvert_exporter": "python",
   "pygments_lexer": "ipython3",
   "version": "3.9.7"
  }
 },
 "nbformat": 4,
 "nbformat_minor": 5
}
