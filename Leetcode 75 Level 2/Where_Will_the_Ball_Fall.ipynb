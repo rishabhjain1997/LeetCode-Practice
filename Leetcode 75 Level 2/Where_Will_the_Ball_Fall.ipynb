{
 "cells": [
  {
   "cell_type": "code",
   "execution_count": 1,
   "id": "4d244fc3-e996-4d47-aadd-15d263daf7ab",
   "metadata": {},
   "outputs": [],
   "source": [
    "from typing import List"
   ]
  },
  {
   "cell_type": "code",
   "execution_count": 19,
   "id": "3abf81ce-f131-4f28-9b17-aa2468ab9af7",
   "metadata": {},
   "outputs": [],
   "source": [
    "class Solution:\n",
    "    def findBall(self, grid: List[List[int]]) -> List[int]:\n",
    "        m = len(grid)\n",
    "        n = len(grid[0])\n",
    "        def dfs(i, j):\n",
    "            # Check wall bounds\n",
    "            if j < 0 or j >= n:\n",
    "                return -1\n",
    "            if i == m:\n",
    "                return j\n",
    "            \n",
    "            cur = grid[i][j]\n",
    "            # Check for V\n",
    "            if j+cur>=n or grid[i][j+cur] == -cur:\n",
    "                return -1\n",
    "\n",
    "            else:\n",
    "                return dfs(i+1,j+cur)\n",
    "        \n",
    "        return [dfs(0,j) for j in range(n)]\n",
    "            "
   ]
  },
  {
   "cell_type": "code",
   "execution_count": 21,
   "id": "88c8b364-9741-47f9-ae6a-cb22a0fcc3c4",
   "metadata": {},
   "outputs": [
    {
     "data": {
      "text/plain": [
       "[1, -1, -1, -1, -1]"
      ]
     },
     "execution_count": 21,
     "metadata": {},
     "output_type": "execute_result"
    }
   ],
   "source": [
    "s = Solution()\n",
    "s.findBall(grid = [[1,1,1,-1,-1],[1,1,1,-1,-1],[-1,-1,-1,1,1],[1,1,1,1,-1],[-1,-1,-1,-1,-1]])"
   ]
  },
  {
   "cell_type": "code",
   "execution_count": null,
   "id": "0e3aff5d-755d-41d7-b3d8-0ba748cd9e85",
   "metadata": {},
   "outputs": [],
   "source": []
  }
 ],
 "metadata": {
  "kernelspec": {
   "display_name": "Python 3 (ipykernel)",
   "language": "python",
   "name": "python3"
  },
  "language_info": {
   "codemirror_mode": {
    "name": "ipython",
    "version": 3
   },
   "file_extension": ".py",
   "mimetype": "text/x-python",
   "name": "python",
   "nbconvert_exporter": "python",
   "pygments_lexer": "ipython3",
   "version": "3.9.7"
  }
 },
 "nbformat": 4,
 "nbformat_minor": 5
}
