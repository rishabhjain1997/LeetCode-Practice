{
 "cells": [
  {
   "cell_type": "code",
   "execution_count": 3,
   "id": "cdb73676-85a4-4ed3-8065-5b0f9066e10e",
   "metadata": {},
   "outputs": [],
   "source": [
    "from typing import List"
   ]
  },
  {
   "cell_type": "code",
   "execution_count": 11,
   "id": "c1c52080-619b-4d8f-8ee5-895222900714",
   "metadata": {},
   "outputs": [],
   "source": [
    "class Solution:\n",
    "    def orangesRotting(self, grid: List[List[int]]) -> int:\n",
    "        rows = len(grid)\n",
    "        columns = len(grid[0])\n",
    "        distances = [[float('inf') for _ in range(columns)] for _ in range(rows)]\n",
    "        from collections import deque\n",
    "        q = deque()\n",
    "        for row_index in range(len(grid)):\n",
    "            for col_index in range(len(grid[0])):\n",
    "                if grid[row_index][col_index] == 2:\n",
    "                    distances[row_index][col_index] = 0\n",
    "                    q.append([row_index, col_index])\n",
    "                if grid[row_index][col_index] == 0:\n",
    "                    distances[row_index][col_index] = float('-inf')\n",
    "        print(distances)\n",
    "        print(q)\n",
    "        def update_element(row_index, col_index, val):\n",
    "            if grid[row_index][col_index] == 1:\n",
    "                if distances[row_index][col_index] > val:\n",
    "                    distances[row_index][col_index] = min(distances[row_index][col_index], val)\n",
    "                    q.append([row_index, col_index])\n",
    "        \n",
    "        while len(q):\n",
    "            row_index, col_index = q.popleft()\n",
    "            dis = distances[row_index][col_index]\n",
    "            if row_index > 0:\n",
    "                update_element(row_index-1, col_index, dis+1)\n",
    "            if row_index < len(grid) -1:\n",
    "                update_element(row_index+1, col_index, dis+1)\n",
    "            if col_index > 0:\n",
    "                update_element(row_index, col_index-1, dis+1)\n",
    "            if col_index < len(grid[0]) -1:\n",
    "                update_element(row_index, col_index+1, dis+1)\n",
    "        return -1 if (max([max(row) for row in distances])) == float('inf') else (max([max(row) for row in distances]))\n",
    "        "
   ]
  },
  {
   "cell_type": "code",
   "execution_count": 12,
   "id": "030145e7-462b-4586-9006-6887a9893913",
   "metadata": {},
   "outputs": [
    {
     "name": "stdout",
     "output_type": "stream",
     "text": [
      "[[0, inf, inf], [-inf, inf, inf], [inf, -inf, inf]]\n",
      "deque([[0, 0]])\n"
     ]
    },
    {
     "data": {
      "text/plain": [
       "-1"
      ]
     },
     "execution_count": 12,
     "metadata": {},
     "output_type": "execute_result"
    }
   ],
   "source": [
    "s = Solution()\n",
    "s.orangesRotting(grid = [[2,1,1],[0,1,1],[1,0,1]])"
   ]
  },
  {
   "cell_type": "code",
   "execution_count": null,
   "id": "9706c297-8fa2-4646-a78f-ef8ca249822e",
   "metadata": {},
   "outputs": [],
   "source": [
    "# class Solution:\n",
    "#     def rec(self, grid, distances, visited, row_index, col_index, dis = 0):\n",
    "#         if row_index<0 or col_index<0 or row_index>=len(grid) or col_index>=len(grid[0]) or grid[row_index][col_index] == 0:\n",
    "#             return\n",
    "#         # if [row_index, col_index] in visited:\n",
    "#         #     return\n",
    "#         # else:\n",
    "#         #     visited.append([row_index, col_index])\n",
    "#         distances[row_index][ col_index] = min(dis,distances[row_index][ col_index])\n",
    "#         print(distances)\n",
    "#         self.rec(grid, distances, visited, row_index+1, col_index, dis+1)\n",
    "#         self.rec(grid, distances, visited, row_index-1, col_index, dis+1)\n",
    "#         self.rec(grid, distances, visited, row_index, col_index+1, dis+1)\n",
    "#         self.rec(grid, distances, visited, row_index, col_index-1, dis+1)\n",
    "        \n",
    "        \n",
    "#     def orangesRotting(self, grid: List[List[int]]) -> int:\n",
    "#         rows = len(grid)\n",
    "#         columns = len(grid[0])\n",
    "#         distances = [[float('inf') for _ in range(columns)] for _ in range(rows)]\n",
    "#         for row_index in range(len(grid)):\n",
    "#             for col_index in range(len(grid[0])):\n",
    "#                 visited = list()\n",
    "#                 if grid[row_index][col_index] == 2:\n",
    "#                     self.rec(grid, distances, visited, row_index, col_index)\n",
    "#         print(distances)\n",
    "                "
   ]
  }
 ],
 "metadata": {
  "kernelspec": {
   "display_name": "Python 3 (ipykernel)",
   "language": "python",
   "name": "python3"
  },
  "language_info": {
   "codemirror_mode": {
    "name": "ipython",
    "version": 3
   },
   "file_extension": ".py",
   "mimetype": "text/x-python",
   "name": "python",
   "nbconvert_exporter": "python",
   "pygments_lexer": "ipython3",
   "version": "3.9.7"
  }
 },
 "nbformat": 4,
 "nbformat_minor": 5
}
