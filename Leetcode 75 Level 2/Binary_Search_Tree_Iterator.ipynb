{
 "cells": [
  {
   "cell_type": "code",
   "execution_count": null,
   "id": "f98f1317-dfee-4136-82a6-adffc6a1e078",
   "metadata": {},
   "outputs": [],
   "source": [
    "class TreeNode:\n",
    "    def __init__(self, val=0, left=None, right=None):\n",
    "        self.val = val\n",
    "        self.left = left\n",
    "        self.right = right"
   ]
  },
  {
   "cell_type": "code",
   "execution_count": null,
   "id": "7287da53-be28-4dc8-a06f-25244cf10a5b",
   "metadata": {},
   "outputs": [],
   "source": [
    "\n",
    "class BSTIterator:\n",
    "\n",
    "    def _iterate(self,root):\n",
    "        if not root:\n",
    "            return\n",
    "        self._iterate(root.left)\n",
    "        self.nodes_arr.append(root.val)\n",
    "        self._iterate(root.right)\n",
    "        \n",
    "    def __init__(self, root: Optional[TreeNode]):\n",
    "        self.nodes_arr = []\n",
    "        self.iterator_pos = -1\n",
    "        self._iterate(root)\n",
    "\n",
    "    def next(self) -> int:\n",
    "        self.iterator_pos += 1\n",
    "        return self.nodes_arr[self.iterator_pos]\n",
    "\n",
    "    def hasNext(self) -> bool:\n",
    "        return False if len(self.nodes_arr) <= self.iterator_pos + 1 else True\n",
    "\n",
    "\n",
    "# Your BSTIterator object will be instantiated and called as such:\n",
    "# obj = BSTIterator(root)\n",
    "# param_1 = obj.next()\n",
    "# param_2 = obj.hasNext()"
   ]
  },
  {
   "cell_type": "code",
   "execution_count": null,
   "id": "4a6fcfb6-0379-4492-bd07-9ba49f91c97d",
   "metadata": {},
   "outputs": [],
   "source": [
    "build_tree()"
   ]
  }
 ],
 "metadata": {
  "kernelspec": {
   "display_name": "Python 3 (ipykernel)",
   "language": "python",
   "name": "python3"
  },
  "language_info": {
   "codemirror_mode": {
    "name": "ipython",
    "version": 3
   },
   "file_extension": ".py",
   "mimetype": "text/x-python",
   "name": "python",
   "nbconvert_exporter": "python",
   "pygments_lexer": "ipython3",
   "version": "3.9.7"
  }
 },
 "nbformat": 4,
 "nbformat_minor": 5
}
