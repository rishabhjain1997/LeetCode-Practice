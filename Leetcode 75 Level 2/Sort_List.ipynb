{
 "cells": [
  {
   "cell_type": "code",
   "execution_count": 5,
   "id": "c17487b3-6352-4400-9bc8-207dbb33882b",
   "metadata": {},
   "outputs": [],
   "source": [
    "class ListNode:\n",
    "    def __init__(self, val=0, next=None):\n",
    "        self.val = val\n",
    "        self.next = next"
   ]
  },
  {
   "cell_type": "code",
   "execution_count": 6,
   "id": "e53305e8-d071-4335-beab-ba70a8fbc053",
   "metadata": {},
   "outputs": [],
   "source": [
    "from typing import Optional\n",
    "def create_linked_list(arr):\n",
    "    prev = None\n",
    "    for index, element in enumerate(arr[::-1]):\n",
    "        curr = ListNode(element,None)\n",
    "        if prev:\n",
    "            curr.next = prev\n",
    "        prev = curr\n",
    "        if index == len(arr) -1:\n",
    "            return curr\n",
    "        \n",
    "\n",
    "def traverse_linked_list(list1):\n",
    "    iterator = list1\n",
    "    while iterator:\n",
    "        print(iterator.val)\n",
    "        iterator = iterator.next"
   ]
  },
  {
   "cell_type": "code",
   "execution_count": null,
   "id": "8e2c5609-21c4-4a32-8428-a6ceb179d68b",
   "metadata": {},
   "outputs": [],
   "source": [
    "class Solution:\n",
    "    def sortList(self, head: Optional[ListNode]) -> Optional[ListNode]:\n",
    "        def sort()"
   ]
  },
  {
   "cell_type": "code",
   "execution_count": 23,
   "id": "c42c649b-1024-440a-abdb-7b0f13dc40f5",
   "metadata": {},
   "outputs": [],
   "source": [
    "# class Solution:\n",
    "#     def sortList(self, head: Optional[ListNode]) -> Optional[ListNode]:\n",
    "#         last = None\n",
    "#         dummy = ListNode(None,head)\n",
    "#         if not head or not head.next:\n",
    "#             return head\n",
    "#         while last != dummy.next:\n",
    "#             i1 = dummy\n",
    "#             while i1 and i1.next and i1.next.next and i1.next.next != last:\n",
    "#                 i2 = i1.next\n",
    "#                 i3 = i2.next\n",
    "#                 if i3.val < i2.val:\n",
    "#                     i2.next = i3.next\n",
    "#                     i3.next = i2\n",
    "#                     i1.next = i3\n",
    "#                 i1 = i1.next\n",
    "#             last = i1.next\n",
    "#         return dummy.next"
   ]
  },
  {
   "cell_type": "code",
   "execution_count": 24,
   "id": "f497c723-eaf4-4d33-b2ae-8c0a64f22355",
   "metadata": {},
   "outputs": [],
   "source": [
    "s = Solution()\n",
    "traverse_linked_list(s.sortList(create_linked_list([])))"
   ]
  },
  {
   "cell_type": "code",
   "execution_count": null,
   "id": "c3be64d1-6b1f-4b03-9700-3c2566b41248",
   "metadata": {},
   "outputs": [],
   "source": []
  }
 ],
 "metadata": {
  "kernelspec": {
   "display_name": "Python 3 (ipykernel)",
   "language": "python",
   "name": "python3"
  },
  "language_info": {
   "codemirror_mode": {
    "name": "ipython",
    "version": 3
   },
   "file_extension": ".py",
   "mimetype": "text/x-python",
   "name": "python",
   "nbconvert_exporter": "python",
   "pygments_lexer": "ipython3",
   "version": "3.9.7"
  }
 },
 "nbformat": 4,
 "nbformat_minor": 5
}
