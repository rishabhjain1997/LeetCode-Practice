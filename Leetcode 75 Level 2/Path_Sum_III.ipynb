{
 "cells": [
  {
   "cell_type": "code",
   "execution_count": 1,
   "id": "fa7b0859-9006-48b0-b0f6-87279a59d4c5",
   "metadata": {},
   "outputs": [],
   "source": [
    "from typing import Optional"
   ]
  },
  {
   "cell_type": "code",
   "execution_count": 2,
   "id": "9f3b64a4-ece8-43f4-9c87-e410db320d5a",
   "metadata": {},
   "outputs": [],
   "source": [
    "class TreeNode:\n",
    "    def __init__(self, val=0, left=None, right=None):\n",
    "        self.val = val\n",
    "        self.left = left\n",
    "        self.right = right"
   ]
  },
  {
   "cell_type": "code",
   "execution_count": 35,
   "id": "4ee016ac-9ff4-4ece-ab99-bea644bd0bb9",
   "metadata": {},
   "outputs": [],
   "source": [
    "four = TreeNode(4)\n",
    "five = TreeNode(5)\n",
    "two = TreeNode(2, four, five)\n",
    "three = TreeNode(3)\n",
    "one = TreeNode(1, two , three)"
   ]
  },
  {
   "cell_type": "code",
   "execution_count": 38,
   "id": "c0308c3d-3445-4f9c-b57f-ccba23fed9d3",
   "metadata": {},
   "outputs": [],
   "source": [
    "class Solution:\n",
    "    count = 0\n",
    "    def pathSum(self, root: Optional[TreeNode], targetSum: int) -> int:\n",
    "        if not root:\n",
    "            return 0\n",
    "        def dfs(node, visited={0:1}, prevSum = 0):\n",
    "            currSum = prevSum + node.val\n",
    "            if (currSum - targetSum) in visited:\n",
    "                self.count += visited[currSum - targetSum]\n",
    "            \n",
    "            if currSum in visited:\n",
    "                visited[currSum] += 1\n",
    "            else:\n",
    "                visited[currSum] = 1\n",
    "            \n",
    "            # Evaluate count\n",
    "\n",
    "            #print(visited, currSum - targetSum)\n",
    "            \n",
    "            if node.left:\n",
    "                dfs(node.left, visited.copy(), currSum)\n",
    "            if node.right:\n",
    "                dfs(node.right, visited.copy(), currSum)\n",
    "        dfs(root)\n",
    "        return self.count"
   ]
  },
  {
   "cell_type": "code",
   "execution_count": 40,
   "id": "6701f5e2-0258-442f-8868-ecfada2f4cdf",
   "metadata": {},
   "outputs": [
    {
     "data": {
      "text/plain": [
       "2"
      ]
     },
     "execution_count": 40,
     "metadata": {},
     "output_type": "execute_result"
    }
   ],
   "source": [
    "s = Solution()\n",
    "s.pathSum(one, targetSum = 4)"
   ]
  },
  {
   "cell_type": "code",
   "execution_count": null,
   "id": "11e352ca-5a7a-4c73-8ca3-e0044af39d36",
   "metadata": {},
   "outputs": [],
   "source": [
    "            # requiredSum = targetSum - node.val\n",
    "            # if requiredSum in visited:\n",
    "            #     self.count += visited[requiredSum]"
   ]
  }
 ],
 "metadata": {
  "kernelspec": {
   "display_name": "Python 3 (ipykernel)",
   "language": "python",
   "name": "python3"
  },
  "language_info": {
   "codemirror_mode": {
    "name": "ipython",
    "version": 3
   },
   "file_extension": ".py",
   "mimetype": "text/x-python",
   "name": "python",
   "nbconvert_exporter": "python",
   "pygments_lexer": "ipython3",
   "version": "3.9.7"
  }
 },
 "nbformat": 4,
 "nbformat_minor": 5
}
