{
 "cells": [
  {
   "cell_type": "code",
   "execution_count": 1,
   "id": "e7466abb-07e2-4453-8589-d843bda00958",
   "metadata": {},
   "outputs": [],
   "source": [
    "# create a counter from the list\n",
    "# iterate over list\n",
    "# if the letters in the string aren't the same letter, get the min(string, reverse string),\n",
    "# and add it to the len\n",
    "# if the letters are the same, then we can also add 2 letters for the center position"
   ]
  },
  {
   "cell_type": "code",
   "execution_count": 21,
   "id": "b1b31240-ad51-4577-b230-da6f0cf5d0b0",
   "metadata": {},
   "outputs": [],
   "source": [
    "# lc, cl , gg , lc, cl \n",
    "# Counter: lc:2, cl:2, gg:1"
   ]
  },
  {
   "cell_type": "code",
   "execution_count": 22,
   "id": "ba4d34af-41cb-49b9-89dd-02a930044872",
   "metadata": {},
   "outputs": [],
   "source": [
    "from collections import Counter\n",
    "from typing import List"
   ]
  },
  {
   "cell_type": "code",
   "execution_count": 23,
   "id": "443d377b-5c51-44ef-8959-a856839d6dca",
   "metadata": {},
   "outputs": [],
   "source": [
    "class Solution:\n",
    "    def longestPalindrome(self, words: List[str]) -> int:\n",
    "        from collections import Counter\n",
    "        word_counts = dict(Counter(words))\n",
    "        center = 0\n",
    "        edges = 0\n",
    "        visited = set()\n",
    "        print(word_counts)\n",
    "        for key in word_counts.keys():\n",
    "            if key not in visited:\n",
    "                if key[0] == key[1]:\n",
    "                    if word_counts[key] %2 != 0 and center == 0:\n",
    "                        center += 1\n",
    "                    edges = edges + 2*(word_counts[key]//2)\n",
    "                \n",
    "                    \n",
    "                elif key[::-1] in word_counts and key[::-1] not in visited:\n",
    "                    edges = edges + min(word_counts[key], word_counts[key[::-1]]) * 2\n",
    "                    visited.add(key[::-1])\n",
    "                visited.add(key)    \n",
    "        #print(center)\n",
    "        return (center + edges) * 2"
   ]
  },
  {
   "cell_type": "code",
   "execution_count": 24,
   "id": "8258f475-2a13-4f6e-93b6-93252b1f4ef4",
   "metadata": {},
   "outputs": [
    {
     "name": "stdout",
     "output_type": "stream",
     "text": [
      "{'nn': 4, 'hg': 1, 'gn': 1, 'hh': 1, 'gh': 1, 'nh': 2}\n"
     ]
    },
    {
     "data": {
      "text/plain": [
       "14"
      ]
     },
     "execution_count": 24,
     "metadata": {},
     "output_type": "execute_result"
    }
   ],
   "source": [
    "s = Solution()\n",
    "s.longestPalindrome([\"nn\",\"nn\",\"hg\",\"gn\",\"nn\",\"hh\",\"gh\",\"nn\",\"nh\",\"nh\"])"
   ]
  },
  {
   "cell_type": "code",
   "execution_count": 19,
   "id": "68a721c4-cdcc-4731-b8c9-5f29fc16004f",
   "metadata": {},
   "outputs": [
    {
     "data": {
      "text/plain": [
       "12"
      ]
     },
     "execution_count": 19,
     "metadata": {},
     "output_type": "execute_result"
    }
   ],
   "source": [
    "len(\"hgnnnnhhnnnngh\")"
   ]
  },
  {
   "cell_type": "code",
   "execution_count": null,
   "id": "577b5390-957f-48ff-8168-d8dbecb578d0",
   "metadata": {},
   "outputs": [],
   "source": []
  }
 ],
 "metadata": {
  "kernelspec": {
   "display_name": "Python 3 (ipykernel)",
   "language": "python",
   "name": "python3"
  },
  "language_info": {
   "codemirror_mode": {
    "name": "ipython",
    "version": 3
   },
   "file_extension": ".py",
   "mimetype": "text/x-python",
   "name": "python",
   "nbconvert_exporter": "python",
   "pygments_lexer": "ipython3",
   "version": "3.9.7"
  }
 },
 "nbformat": 4,
 "nbformat_minor": 5
}
