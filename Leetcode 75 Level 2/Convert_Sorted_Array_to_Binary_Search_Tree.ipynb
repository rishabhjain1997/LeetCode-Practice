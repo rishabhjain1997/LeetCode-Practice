{
 "cells": [
  {
   "cell_type": "code",
   "execution_count": 4,
   "id": "c26a1180-e3b9-4429-a6f3-3c93f79f914c",
   "metadata": {},
   "outputs": [],
   "source": [
    "from typing import List, Optional"
   ]
  },
  {
   "cell_type": "code",
   "execution_count": 5,
   "id": "bf382aca-2cd6-4ef3-878b-139990e1d876",
   "metadata": {},
   "outputs": [],
   "source": [
    "# Definition for a binary tree node.\n",
    "class TreeNode:\n",
    "    def __init__(self, val=0, left=None, right=None):\n",
    "        self.val = val\n",
    "        self.left = left\n",
    "        self.right = right\n",
    "        \n",
    "\n",
    "class Solution:\n",
    "    def sortedArrayToBST(self, nums: List[int]) -> Optional[TreeNode]:\n",
    "        def rec(arr):\n",
    "            if not arr:\n",
    "                return None\n",
    "            mid = len(arr)//2\n",
    "            root = TreeNode(arr[mid])\n",
    "            root.left = rec(arr[:mid])\n",
    "            root.right = rec(arr[mid+1:])\n",
    "            return root\n",
    "        return rec(nums)"
   ]
  },
  {
   "cell_type": "code",
   "execution_count": null,
   "id": "89119ba0-0b30-4361-98d9-b2384569711a",
   "metadata": {},
   "outputs": [],
   "source": []
  }
 ],
 "metadata": {
  "kernelspec": {
   "display_name": "Python 3 (ipykernel)",
   "language": "python",
   "name": "python3"
  },
  "language_info": {
   "codemirror_mode": {
    "name": "ipython",
    "version": 3
   },
   "file_extension": ".py",
   "mimetype": "text/x-python",
   "name": "python",
   "nbconvert_exporter": "python",
   "pygments_lexer": "ipython3",
   "version": "3.9.7"
  }
 },
 "nbformat": 4,
 "nbformat_minor": 5
}
