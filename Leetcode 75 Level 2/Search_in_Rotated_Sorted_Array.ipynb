{
 "cells": [
  {
   "cell_type": "code",
   "execution_count": 1,
   "id": "d0324643-e859-4496-9c29-f64c354ad206",
   "metadata": {},
   "outputs": [],
   "source": [
    "from typing import List"
   ]
  },
  {
   "cell_type": "code",
   "execution_count": 2,
   "id": "13d9c88a-34eb-4568-8ac8-144cce3c8f99",
   "metadata": {},
   "outputs": [],
   "source": [
    "class Solution:\n",
    "    def search(self, nums: List[int], target: int) -> int:\n",
    "        l = 0\n",
    "        r = len(nums) - 1\n",
    "        \n",
    "        while l<=r:\n",
    "            mid = (l + r) // 2\n",
    "            if target == nums[mid]:\n",
    "                return mid\n",
    "            if nums[mid] >= nums[l]:\n",
    "                # left portion\n",
    "                if target > nums[mid]:\n",
    "                    l = mid + 1\n",
    "                else:\n",
    "                    if target < nums[l]:\n",
    "                        l = mid + 1\n",
    "                    else:\n",
    "                        r = mid - 1\n",
    "            else:\n",
    "                # right portion\n",
    "                if target < nums[mid]:\n",
    "                    r = mid - 1\n",
    "                else:\n",
    "                    if target > mid[r]:\n",
    "                        r = mid - 1\n",
    "                    else"
   ]
  },
  {
   "cell_type": "code",
   "execution_count": 3,
   "id": "9eaee1a1-a417-4ee5-8710-08969ca1f103",
   "metadata": {},
   "outputs": [],
   "source": [
    "s = Solution()\n",
    "s.search(nums = [4,5,6,7,0,1,2], target = 0)"
   ]
  },
  {
   "cell_type": "code",
   "execution_count": null,
   "id": "3835f375-876f-4b21-ae37-845c89b53244",
   "metadata": {},
   "outputs": [],
   "source": []
  }
 ],
 "metadata": {
  "kernelspec": {
   "display_name": "Python 3 (ipykernel)",
   "language": "python",
   "name": "python3"
  },
  "language_info": {
   "codemirror_mode": {
    "name": "ipython",
    "version": 3
   },
   "file_extension": ".py",
   "mimetype": "text/x-python",
   "name": "python",
   "nbconvert_exporter": "python",
   "pygments_lexer": "ipython3",
   "version": "3.9.7"
  }
 },
 "nbformat": 4,
 "nbformat_minor": 5
}
