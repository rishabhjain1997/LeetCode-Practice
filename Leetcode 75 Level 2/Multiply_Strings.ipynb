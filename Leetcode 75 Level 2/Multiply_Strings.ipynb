{
 "cells": [
  {
   "cell_type": "code",
   "execution_count": 50,
   "id": "f40ed6d3-cec4-40f2-ae65-970c7188af39",
   "metadata": {},
   "outputs": [],
   "source": [
    "class Solution:\n",
    "    def multiply(self, num1: str, num2: str) -> str:\n",
    "        def single_multiply(str1, num2):\n",
    "            num2 = int(num2)\n",
    "            nums1 = list(map(lambda x: int(x)*num2,str1))[::-1]\n",
    "            for i in range(len(nums1)):\n",
    "                nums1[i] = nums1[i] * (10**i)\n",
    "            return sum(nums1)\n",
    "        nums2 = list(map(lambda x: single_multiply(num1,x),num2))[::-1] \n",
    "        #print(nums2)\n",
    "        for i in range(len(nums2)):\n",
    "            nums2[i] = nums2[i] * (10**i)\n",
    "        return str(sum(nums2))"
   ]
  },
  {
   "cell_type": "code",
   "execution_count": 54,
   "id": "12b37ef1-783d-4158-aadb-bae007a6a6c1",
   "metadata": {},
   "outputs": [
    {
     "data": {
      "text/plain": [
       "'56088'"
      ]
     },
     "execution_count": 54,
     "metadata": {},
     "output_type": "execute_result"
    }
   ],
   "source": [
    "s = Solution()\n",
    "s.multiply(num1 = \"123\", num2 = \"456\")"
   ]
  },
  {
   "cell_type": "code",
   "execution_count": null,
   "id": "bd34775d-dada-48b6-868b-aad8760639ef",
   "metadata": {},
   "outputs": [],
   "source": []
  }
 ],
 "metadata": {
  "kernelspec": {
   "display_name": "Python 3 (ipykernel)",
   "language": "python",
   "name": "python3"
  },
  "language_info": {
   "codemirror_mode": {
    "name": "ipython",
    "version": 3
   },
   "file_extension": ".py",
   "mimetype": "text/x-python",
   "name": "python",
   "nbconvert_exporter": "python",
   "pygments_lexer": "ipython3",
   "version": "3.9.7"
  }
 },
 "nbformat": 4,
 "nbformat_minor": 5
}
