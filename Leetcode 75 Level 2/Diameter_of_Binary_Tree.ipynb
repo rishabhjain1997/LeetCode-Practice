{
 "cells": [
  {
   "cell_type": "code",
   "execution_count": 5,
   "id": "693c2bed-9c63-4774-8fbb-055908352951",
   "metadata": {},
   "outputs": [],
   "source": [
    "from typing import Optional"
   ]
  },
  {
   "cell_type": "code",
   "execution_count": 6,
   "id": "2348edeb-f74c-4b07-bd55-f6e17114c76d",
   "metadata": {},
   "outputs": [],
   "source": [
    "class TreeNode:\n",
    "    def __init__(self, val=0, left=None, right=None):\n",
    "        self.val = val\n",
    "        self.left = left\n",
    "        self.right = right"
   ]
  },
  {
   "cell_type": "code",
   "execution_count": 16,
   "id": "811c65b7-e2a5-477a-b020-ed0eb70b79b9",
   "metadata": {},
   "outputs": [],
   "source": [
    "four = TreeNode(4)\n",
    "five = TreeNode(5)\n",
    "two = TreeNode(2, four)\n",
    "three = TreeNode(3)\n",
    "one = TreeNode(1, two , three)"
   ]
  },
  {
   "cell_type": "code",
   "execution_count": 17,
   "id": "2dde197c-83be-499a-a7da-79eb8ed73ae3",
   "metadata": {},
   "outputs": [],
   "source": [
    "class Solution:\n",
    "    diameter = 0\n",
    "    def diameterOfBinaryTree(self, root: Optional[TreeNode]) -> int:\n",
    "        \n",
    "        def dfs(node):\n",
    "            left = 0\n",
    "            right = 0\n",
    "            if node.left:\n",
    "                left = dfs(node.left)\n",
    "            if node.right:\n",
    "                right = dfs(node.right)\n",
    "            if left + right > self.diameter:\n",
    "                self.diameter = left + right\n",
    "            return max(left, right) + 1\n",
    "        dfs(root)\n",
    "        return self.diameter"
   ]
  },
  {
   "cell_type": "code",
   "execution_count": 18,
   "id": "51b98759-ed8e-4e6a-b328-eab0d87d6288",
   "metadata": {},
   "outputs": [
    {
     "data": {
      "text/plain": [
       "1"
      ]
     },
     "execution_count": 18,
     "metadata": {},
     "output_type": "execute_result"
    }
   ],
   "source": [
    "s = Solution()\n",
    "s.diameterOfBinaryTree(two)"
   ]
  },
  {
   "cell_type": "code",
   "execution_count": null,
   "id": "cc2b4b18-a8ba-4619-891e-46a5ec1832b1",
   "metadata": {},
   "outputs": [],
   "source": []
  }
 ],
 "metadata": {
  "kernelspec": {
   "display_name": "Python 3 (ipykernel)",
   "language": "python",
   "name": "python3"
  },
  "language_info": {
   "codemirror_mode": {
    "name": "ipython",
    "version": 3
   },
   "file_extension": ".py",
   "mimetype": "text/x-python",
   "name": "python",
   "nbconvert_exporter": "python",
   "pygments_lexer": "ipython3",
   "version": "3.9.7"
  }
 },
 "nbformat": 4,
 "nbformat_minor": 5
}
