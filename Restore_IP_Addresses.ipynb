{
 "cells": [
  {
   "cell_type": "code",
   "execution_count": 1,
   "id": "2e4b6edf-f862-48fd-83fe-699d4c7a8c44",
   "metadata": {},
   "outputs": [],
   "source": [
    "from typing import List"
   ]
  },
  {
   "cell_type": "code",
   "execution_count": 21,
   "id": "85d8a18d-6d61-4f2a-bfd2-548bae87d40a",
   "metadata": {},
   "outputs": [],
   "source": [
    "class Solution:\n",
    "    '''\n",
    "    left: [2,5,7]\n",
    "    right: [2,5,8]\n",
    "    '''\n",
    "    def restoreIpAddresses(self, s: str) -> List[str]:\n",
    "        solutions = []\n",
    "        state = list()\n",
    "        self.search(state, solutions, s)\n",
    "        return solutions\n",
    "    \n",
    "    def is_valid_state(self,state, s):\n",
    "        # check if it is a valid solution\n",
    "        return len(state) == 3 and len(s) > state[-1]+1 and int(s[state[-1]+1:]) <= 255 and (s[state[-1]+1] != '0' or len(s[state[-1]+1:]) == 1)\n",
    "\n",
    "    def get_candidates(self,state, s):\n",
    "        # Set remaining string\n",
    "        remaining = ''\n",
    "        last_sep = -1\n",
    "        if len(state) == 0:\n",
    "            remaining = s\n",
    "        else:\n",
    "            last_sep = state[-1]\n",
    "            remaining = s[last_sep + 1:]\n",
    "            \n",
    "        \n",
    "        if not len(remaining):\n",
    "            return\n",
    "        # Check if first letter is zero\n",
    "        if remaining[0] == '0' or len(remaining) == 1:\n",
    "            return [last_sep + 1]\n",
    "        \n",
    "        # Check if first three numbers are greater than 255\n",
    "        \n",
    "        if len(remaining) == 2 or int(remaining[:3]) > 255:\n",
    "            return [last_sep+1, last_sep+2]\n",
    "        else:\n",
    "            return [last_sep+1, last_sep+2, last_sep+3]\n",
    "        \n",
    "    def separators_to_string(self,state, s):\n",
    "        return '.'.join([s[0:state[0]+1], s[state[0]+1: state[1]+1],\n",
    "    s[state[1]+1: state[2]+1], s[state[2]+1:]])\n",
    "        \n",
    "    def search(self,state, solutions,s):\n",
    "        if self.is_valid_state(state,s):\n",
    "            solutions.append(self.separators_to_string(state.copy(), s))\n",
    "            # return\n",
    "        if len(state) and state[-1] == len(s) - 1:\n",
    "            return\n",
    "        candidates = self.get_candidates(state, s)\n",
    "        for candidate in candidates:\n",
    "            if len(state) >= 3:\n",
    "                return\n",
    "            state.append(candidate)\n",
    "            self.search(state, solutions,s)\n",
    "            state.pop()\n",
    "        \n"
   ]
  },
  {
   "cell_type": "code",
   "execution_count": 25,
   "id": "bfedad66-7828-4cb1-bf10-91665dbb65bf",
   "metadata": {},
   "outputs": [
    {
     "data": {
      "text/plain": [
       "['1.0.10.23', '1.0.102.3', '10.1.0.23', '10.10.2.3', '101.0.2.3']"
      ]
     },
     "execution_count": 25,
     "metadata": {},
     "output_type": "execute_result"
    }
   ],
   "source": [
    "s = Solution()\n",
    "s.restoreIpAddresses(s = \"101023\")"
   ]
  },
  {
   "cell_type": "code",
   "execution_count": null,
   "id": "efd9d608-ba0e-467a-a8d1-099ad8fb7a99",
   "metadata": {},
   "outputs": [],
   "source": []
  }
 ],
 "metadata": {
  "kernelspec": {
   "display_name": "Python 3 (ipykernel)",
   "language": "python",
   "name": "python3"
  },
  "language_info": {
   "codemirror_mode": {
    "name": "ipython",
    "version": 3
   },
   "file_extension": ".py",
   "mimetype": "text/x-python",
   "name": "python",
   "nbconvert_exporter": "python",
   "pygments_lexer": "ipython3",
   "version": "3.9.7"
  }
 },
 "nbformat": 4,
 "nbformat_minor": 5
}
